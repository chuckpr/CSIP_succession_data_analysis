{
 "metadata": {
  "name": ""
 },
 "nbformat": 3,
 "nbformat_minor": 0,
 "worksheets": [
  {
   "cells": [
    {
     "cell_type": "code",
     "collapsed": false,
     "input": [
      "%load_ext rmagic"
     ],
     "language": "python",
     "metadata": {},
     "outputs": [
      {
       "output_type": "stream",
       "stream": "stderr",
       "text": [
        "/opt/anaconda/lib/python2.7/site-packages/pytz/__init__.py:35: UserWarning: Module argparse was already imported from /opt/anaconda/lib/python2.7/argparse.pyc, but /opt/anaconda/lib/python2.7/site-packages is being added to sys.path\n",
        "  from pkg_resources import resource_stream\n"
       ]
      }
     ],
     "prompt_number": 2
    },
    {
     "cell_type": "code",
     "collapsed": false,
     "input": [
      "%%R\n",
      "library(phyloseq)\n",
      "library(ggplot2)\n",
      "library(plyr)\n",
      "#library(gridExtra)"
     ],
     "language": "python",
     "metadata": {},
     "outputs": [],
     "prompt_number": 3
    },
    {
     "cell_type": "code",
     "collapsed": false,
     "input": [
      "%%R\n",
      "physeq = import_biom(\"data/otu_table.biom\", \"data/otusn.tree\")\n",
      "sample.data = import_qiime_sample_data(\"data/ABCD_combined_reads_mapper.tsv\")\n",
      "physeq = merge_phyloseq(physeq,sample.data)\n",
      "physeq.md = sample_data(physeq)\n",
      "physeq.PS = prune_samples((physeq.md$Treatment %in% c(\"12CCPS\",\"13CCPS\",\"13CXPS\"))&\n",
      "                          !(row.names(physeq.md) %in% grep(\"bulk\", row.names(physeq.md), value=TRUE)), physeq)\n",
      "physeq.PS.snorm = transform_sample_counts(physeq.PS, function(x) x/sum(x))"
     ],
     "language": "python",
     "metadata": {},
     "outputs": [],
     "prompt_number": 4
    },
    {
     "cell_type": "code",
     "collapsed": false,
     "input": [
      "%%R\n",
      "mdf = psmelt(physeq.PS.snorm)\n",
      "print(head(mdf))"
     ],
     "language": "python",
     "metadata": {},
     "outputs": [
      {
       "metadata": {},
       "output_type": "display_data",
       "text": [
        "              Sample   OTU Abundance   X.SampleID BarcodeSequence Day Density\n",
        "1006573  13X.PS.7.12 OTU.1 0.3560308  13X.PS.7.12      TCACTGGTCA   7  1.7177\n",
        "1000337  13X.PS.7.11 OTU.1 0.3398723  13X.PS.7.11      TCACTGGAGA   7  1.7209\n",
        "4730    13C.PS.14.10 OTU.6 0.3324195 13C.PS.14.10      TCAAGGATGC  14  1.7297\n",
        "1012809  13X.PS.7.13 OTU.1 0.3292654  13X.PS.7.13      TCACTGGTGT   7  1.7144\n",
        "888089   13X.PS.3.13 OTU.1 0.3190091  13X.PS.3.13      TCACGTCTAG   3  1.7209\n",
        "526401   13X.PS.1.13 OTU.1 0.3023797  13X.PS.1.13      TCACTCACTC   1  1.7177\n",
        "          LinkerPrimerSequence Treatment  Description\n",
        "1006573 CAGGACTACHVGGGTWTCTAAT    13CXPS  13X.PS.7.12\n",
        "1000337 CAGGACTACHVGGGTWTCTAAT    13CXPS  13X.PS.7.11\n",
        "4730    CAGGACTACHVGGGTWTCTAAT    13CCPS 13C.PS.14.10\n",
        "1012809 CAGGACTACHVGGGTWTCTAAT    13CXPS  13X.PS.7.13\n",
        "888089  CAGGACTACHVGGGTWTCTAAT    13CXPS  13X.PS.3.13\n",
        "526401  CAGGACTACHVGGGTWTCTAAT    13CXPS  13X.PS.1.13\n"
       ]
      }
     ],
     "prompt_number": 5
    },
    {
     "cell_type": "code",
     "collapsed": false,
     "input": [
      "%%R\n",
      "fraction_zeros = function(x) sum(x > 0)  / length(x)\n",
      "zadf = ddply(mdf, \"OTU\", summarize, \n",
      "             nzeros = sum(Abundance == 0), \n",
      "             maxA = max(Abundance),\n",
      "             fnonzeros = fraction_zeros(Abundance))\n",
      "print(head(zadf))"
     ],
     "language": "python",
     "metadata": {},
     "outputs": [
      {
       "metadata": {},
       "output_type": "display_data",
       "text": [
        "       OTU nzeros         maxA fnonzeros\n",
        "1    OTU.1      0 0.3560307956 1.0000000\n",
        "2   OTU.10      3 0.0193826274 0.9891697\n",
        "3  OTU.100     51 0.0100973675 0.8158845\n",
        "4 OTU.1000    196 0.0020380435 0.2924188\n",
        "5 OTU.1001    169 0.0023781213 0.3898917\n",
        "6 OTU.1002    232 0.0008800235 0.1624549\n"
       ]
      }
     ],
     "prompt_number": 6
    },
    {
     "cell_type": "code",
     "collapsed": false,
     "input": [
      "%%R -w 350 -h 350\n",
      "p = ggplot(zadf, aes(x = fnonzeros, y = maxA)) + geom_point(pch = 21)\n",
      "#p = p + geom_point(aes(x = fnonzeros, y = maxA), data = subset(zadf, maxA < 0.002), pcd = 21, color = \"red\")\n",
      "print(p)"
     ],
     "language": "python",
     "metadata": {},
     "outputs": [
      {
       "metadata": {},
       "output_type": "display_data",
       "png": "[encoded data removed]"
      }
     ],
     "prompt_number": 14
    },
    {
     "cell_type": "code",
     "collapsed": false,
     "input": [
      "%%R\n",
      "df = subset(zadf, fnonzeros < 0.25)\n",
      "print(head(with(df, df[order(-maxA),]), n = 10))"
     ],
     "language": "python",
     "metadata": {},
     "outputs": [
      {
       "metadata": {},
       "output_type": "display_data",
       "text": [
        "          OTU nzeros        maxA   fnonzeros\n",
        "2024  OTU.282    225 0.015678980 0.187725632\n",
        "5257  OTU.573    218 0.012504885 0.212996390\n",
        "1357 OTU.2219    272 0.009009009 0.018050542\n",
        "5530 OTU.5976    238 0.009009009 0.140794224\n",
        "3602  OTU.424    225 0.008534645 0.187725632\n",
        "6042  OTU.823    233 0.008403361 0.158844765\n",
        "6020  OTU.803    216 0.008298755 0.220216606\n",
        "1936 OTU.2740    276 0.007847534 0.003610108\n",
        "5872  OTU.670    218 0.007424775 0.212996390\n",
        "4057  OTU.465    215 0.006909381 0.223826715\n"
       ]
      }
     ],
     "prompt_number": 25
    },
    {
     "cell_type": "code",
     "collapsed": false,
     "input": [],
     "language": "python",
     "metadata": {},
     "outputs": []
    }
   ],
   "metadata": {}
  }
 ]
}