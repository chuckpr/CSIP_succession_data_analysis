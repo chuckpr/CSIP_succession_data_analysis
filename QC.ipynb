{
 "metadata": {
  "name": "",
  "signature": "sha256:fc21b56a12ad03fc98a889c67f5949343de1179b278bd76ce9216c4017db1928"
 },
 "nbformat": 3,
 "nbformat_minor": 0,
 "worksheets": [
  {
   "cells": [
    {
     "cell_type": "code",
     "collapsed": false,
     "input": [
      "from screed.fasta import fasta_iter\n",
      "from pandas import DataFrame\n",
      "import os\n",
      "from cogent import DNA\n",
      "from qiime.assign_taxonomy import UclustConsensusTaxonAssigner"
     ],
     "language": "python",
     "metadata": {},
     "outputs": [
      {
       "output_type": "stream",
       "stream": "stderr",
       "text": [
        "/opt/anaconda/lib/python2.7/site-packages/pytz/__init__.py:35: UserWarning: Module argparse was already imported from /opt/anaconda/lib/python2.7/argparse.pyc, but /opt/anaconda/lib/python2.7/site-packages is being added to sys.path\n",
        "  from pkg_resources import resource_stream\n"
       ]
      }
     ],
     "prompt_number": 4
    },
    {
     "cell_type": "code",
     "collapsed": false,
     "input": [
      "%pylab inline"
     ],
     "language": "python",
     "metadata": {},
     "outputs": [
      {
       "output_type": "stream",
       "stream": "stdout",
       "text": [
        "Populating the interactive namespace from numpy and matplotlib\n"
       ]
      }
     ],
     "prompt_number": 5
    },
    {
     "cell_type": "markdown",
     "metadata": {},
     "source": [
      "##We can start by calculating some QC status using USearch."
     ]
    },
    {
     "cell_type": "code",
     "collapsed": false,
     "input": [
      "!usearch -fastq_stats data/ABCD_combined_reads.fastq -log data/fastq_stats.log"
     ],
     "language": "python",
     "metadata": {},
     "outputs": [
      {
       "output_type": "stream",
       "stream": "stdout",
       "text": [
        "usearch v7.0.1090_i86linux32, 4.0Gb RAM (132Gb total), 40 cores\r\n",
        "(C) Copyright 2013 Robert C. Edgar, all rights reserved.\r\n",
        "http://drive5.com/usearch\r\n",
        "\r\n",
        "Licensed to: chuck.peperanney@gmail.com\r\n",
        "\r\n",
        "00:00 2.3Mb    0.0% Reading\r"
       ]
      },
      {
       "output_type": "stream",
       "stream": "stdout",
       "text": [
        "00:00  37Mb    0.0% Reading data/ABCD_combined_reads.fastq\r",
        "00:00  37Mb    0.0% Reading data/ABCD_combined_reads.fastq\r",
        "00:00  37Mb    0.0% Reading data/ABCD_combined_reads.fastq\r",
        "00:00  37Mb    0.0% Reading data/ABCD_combined_reads.fastq\r",
        "00:00  37Mb    0.0% Reading data/ABCD_combined_reads.fastq\r",
        "00:00  37Mb    0.0% Reading data/ABCD_combined_reads.fastq\r",
        "00:00  37Mb    0.0% Reading data/ABCD_combined_reads.fastq\r",
        "00:00  37Mb    0.0% Reading data/ABCD_combined_reads.fastq\r",
        "00:00  37Mb    0.0% Reading data/ABCD_combined_reads.fastq\r",
        "00:00  37Mb    0.0% Reading data/ABCD_combined_reads.fastq\r",
        "00:00  37Mb    0.0% Reading data/ABCD_combined_reads.fastq\r",
        "00:00  37Mb    0.0% Reading data/ABCD_combined_reads.fastq\r",
        "00:00  37Mb    0.0% Reading data/ABCD_combined_reads.fastq\r",
        "00:00  37Mb    0.0% Reading data/ABCD_combined_reads.fastq\r",
        "00:00  37Mb    0.0% Reading data/ABCD_combined_reads.fastq\r",
        "00:00  37Mb    0.0% Reading data/ABCD_combined_reads.fastq\r",
        "00:00  37Mb    0.0% Reading data/ABCD_combined_reads.fastq\r",
        "00:00  37Mb    0.0% Reading data/ABCD_combined_reads.fastq\r"
       ]
      },
      {
       "output_type": "stream",
       "stream": "stdout",
       "text": [
        "00:01  37Mb    0.8% Reading data/ABCD_combined_reads.fastq\r"
       ]
      },
      {
       "output_type": "stream",
       "stream": "stdout",
       "text": [
        "00:02  37Mb    4.7% Reading data/ABCD_combined_reads.fastq\r"
       ]
      },
      {
       "output_type": "stream",
       "stream": "stdout",
       "text": [
        "00:03  37Mb    8.7% Reading data/ABCD_combined_reads.fastq\r"
       ]
      },
      {
       "output_type": "stream",
       "stream": "stdout",
       "text": [
        "00:04  37Mb   12.6% Reading data/ABCD_combined_reads.fastq\r"
       ]
      },
      {
       "output_type": "stream",
       "stream": "stdout",
       "text": [
        "00:05  37Mb   16.6% Reading data/ABCD_combined_reads.fastq\r"
       ]
      },
      {
       "output_type": "stream",
       "stream": "stdout",
       "text": [
        "00:06  37Mb   20.6% Reading data/ABCD_combined_reads.fastq\r"
       ]
      },
      {
       "output_type": "stream",
       "stream": "stdout",
       "text": [
        "00:07  37Mb   24.5% Reading data/ABCD_combined_reads.fastq\r"
       ]
      },
      {
       "output_type": "stream",
       "stream": "stdout",
       "text": [
        "00:08  37Mb   28.5% Reading data/ABCD_combined_reads.fastq\r"
       ]
      },
      {
       "output_type": "stream",
       "stream": "stdout",
       "text": [
        "00:09  37Mb   32.4% Reading data/ABCD_combined_reads.fastq\r"
       ]
      },
      {
       "output_type": "stream",
       "stream": "stdout",
       "text": [
        "00:10  37Mb   36.4% Reading data/ABCD_combined_reads.fastq\r"
       ]
      },
      {
       "output_type": "stream",
       "stream": "stdout",
       "text": [
        "00:11  37Mb   40.4% Reading data/ABCD_combined_reads.fastq\r"
       ]
      },
      {
       "output_type": "stream",
       "stream": "stdout",
       "text": [
        "00:12  37Mb   44.4% Reading data/ABCD_combined_reads.fastq\r"
       ]
      },
      {
       "output_type": "stream",
       "stream": "stdout",
       "text": [
        "00:13  37Mb   48.4% Reading data/ABCD_combined_reads.fastq\r"
       ]
      },
      {
       "output_type": "stream",
       "stream": "stdout",
       "text": [
        "00:14  37Mb   52.4% Reading data/ABCD_combined_reads.fastq\r"
       ]
      },
      {
       "output_type": "stream",
       "stream": "stdout",
       "text": [
        "00:15  37Mb   56.4% Reading data/ABCD_combined_reads.fastq\r"
       ]
      },
      {
       "output_type": "stream",
       "stream": "stdout",
       "text": [
        "00:16  37Mb   60.3% Reading data/ABCD_combined_reads.fastq\r"
       ]
      },
      {
       "output_type": "stream",
       "stream": "stdout",
       "text": [
        "00:17  37Mb   64.3% Reading data/ABCD_combined_reads.fastq\r"
       ]
      },
      {
       "output_type": "stream",
       "stream": "stdout",
       "text": [
        "00:18  37Mb   68.3% Reading data/ABCD_combined_reads.fastq\r"
       ]
      },
      {
       "output_type": "stream",
       "stream": "stdout",
       "text": [
        "00:19  37Mb   72.3% Reading data/ABCD_combined_reads.fastq\r"
       ]
      },
      {
       "output_type": "stream",
       "stream": "stdout",
       "text": [
        "00:20  37Mb   76.3% Reading data/ABCD_combined_reads.fastq\r"
       ]
      },
      {
       "output_type": "stream",
       "stream": "stdout",
       "text": [
        "00:21  37Mb   80.3"
       ]
      },
      {
       "output_type": "stream",
       "stream": "stdout",
       "text": [
        "% Reading data/ABCD_combined_reads.fastq\r"
       ]
      },
      {
       "output_type": "stream",
       "stream": "stdout",
       "text": [
        "00:22  37Mb   84.3% Reading data/ABCD_combined_reads.fastq\r"
       ]
      },
      {
       "output_type": "stream",
       "stream": "stdout",
       "text": [
        "00:23  37Mb   88.2% Reading data/ABCD_combined_reads.fastq\r"
       ]
      },
      {
       "output_type": "stream",
       "stream": "stdout",
       "text": [
        "00:24  37Mb   92.2% Reading data/ABCD_combined_reads.fastq\r"
       ]
      },
      {
       "output_type": "stream",
       "stream": "stdout",
       "text": [
        "00:25  37Mb   96.2% Reading data/ABCD_combined_reads.fastq\r"
       ]
      },
      {
       "output_type": "stream",
       "stream": "stdout",
       "text": [
        "00:25  37Mb  100.0% Reading data/ABCD_combined_reads.fastq\r",
        "\r\n",
        "   1720480  Recs (1.7M), 0 too long                       \r\n",
        "     335.5  Avg length\r\n",
        "    577.3M  Bases\r\n"
       ]
      }
     ],
     "prompt_number": 6
    },
    {
     "cell_type": "markdown",
     "metadata": {},
     "source": [
      "###Here we're parsing/importing the relevant info from the USearch output. We can plot the percentace of sequences exceeding the max expected error rate (1.00, 0.50, 0.25, 0.10) at different truncation lengths."
     ]
    },
    {
     "cell_type": "code",
     "collapsed": false,
     "input": [
      "start = 828\n",
      "end = 1224\n",
      "stats_lines = open(\"data/fastq_stats.log\").readlines()[start:end]\n",
      "print len(stats_lines)\n",
      "keys = [\"L\", \"1.00\", \"0.50\", \"0.25\", \"0.10\"]\n",
      "positions = [0,5,6,7,8]\n",
      "df_dicts = []\n",
      "for line in stats_lines:\n",
      "    if line.startswith(\"---\"):\n",
      "        continue\n",
      "    data = line.replace(\"%\",\"\").strip().split()\n",
      "    d = {}\n",
      "    for key, position in zip(keys, positions):\n",
      "        if key == \"L\":\n",
      "            d[key] = int(data[position])\n",
      "        else:\n",
      "            d[key] = float(data[position])\n",
      "    df_dicts.append(d)\n",
      "df = DataFrame(df_dicts, \n",
      "               columns=keys[1:],\n",
      "               index=[d[\"L\"] for d in df_dicts])\n",
      "ax = df.plot()\n",
      "fig = ax.get_figure()\n",
      "fig.set_size_inches((9,6))\n",
      "yl = ax.set_ylabel(\"% of sequences above maxee threshold\")\n",
      "xl = ax.set_xlabel(\"Truncation Length\")"
     ],
     "language": "python",
     "metadata": {},
     "outputs": [
      {
       "output_type": "stream",
       "stream": "stdout",
       "text": [
        "396\n"
       ]
      },
      {
       "metadata": {},
       "output_type": "display_data",
       "png": "[encoded data removed]",
       "text": [
        "<matplotlib.figure.Figure at 0x45d6050>"
       ]
      }
     ],
     "prompt_number": 7
    },
    {
     "cell_type": "markdown",
     "metadata": {},
     "source": [
      "###If se set the max expected error rate threshold at 0.50 and truncate at 250 characters we will retain ~87% of our reads."
     ]
    },
    {
     "cell_type": "code",
     "collapsed": false,
     "input": [
      "max_ee = \"0.50\"\n",
      "truncation_length = 250\n",
      "pct_retatined = df[max_ee][truncation_length] #this is the actual percentage of reads we \n",
      "                                              #will keep with the above criteria\n",
      "print pct_retatined"
     ],
     "language": "python",
     "metadata": {},
     "outputs": [
      {
       "output_type": "stream",
       "stream": "stdout",
       "text": [
        "86.87\n"
       ]
      }
     ],
     "prompt_number": 8
    },
    {
     "cell_type": "code",
     "collapsed": false,
     "input": [
      "!mkdir -p \"data/tmp\""
     ],
     "language": "python",
     "metadata": {},
     "outputs": [],
     "prompt_number": 9
    },
    {
     "cell_type": "markdown",
     "metadata": {},
     "source": [
      "####This is the usearch command to do our sequence truncation and max expected error thresholding. "
     ]
    },
    {
     "cell_type": "code",
     "collapsed": false,
     "input": [
      "!usearch -fastq_filter data/ABCD_combined_reads.fastq \\\n",
      "-fastq_maxee \"$max_ee\" \\\n",
      "-fastq_trunclen \"$truncation_length\" \\\n",
      "-fastaout \"data/tmp/maxee_trunc.fasta\""
     ],
     "language": "python",
     "metadata": {},
     "outputs": [
      {
       "output_type": "stream",
       "stream": "stdout",
       "text": [
        "usearch v7.0.1090_i86linux32, 4.0Gb RAM (132Gb total), 40 cores\r\n",
        "(C) Copyright 2013 Robert C. Edgar, all rights reserved.\r\n",
        "http://drive5.com/usearch\r\n",
        "\r\n",
        "Licensed to: chuck.peperanney@gmail.com\r\n",
        "\r\n"
       ]
      },
      {
       "output_type": "stream",
       "stream": "stdout",
       "text": [
        "00:00 2.1Mb    0.0% Converting\r",
        "00:00 2.1Mb    0.0% Converting, 0 recs, 0 converted (0.0%)\r",
        "00:00 2.1Mb    0.0% Converting, 1 recs, 0 converted (0.0%)\r",
        "00:00 2.1Mb    0.0% Converting, 2 recs, 0 converted (0.0%)\r",
        "00:00 2.1Mb    0.0% Converting, 3 recs, 0 converted (0.0%)\r",
        "00:00 2.1Mb    0.0% Converting, 4 recs, 0 converted (0.0%)\r",
        "00:00 2.1Mb    0.0% Converting, 5 recs, 0 converted (0.0%)\r",
        "00:00 2.1Mb    0.0% Converting, 6 recs, 0 converted (0.0%)\r",
        "00:00 2.1Mb    0.0% Converting, 7 recs, 0 converted (0.0%)\r",
        "00:00 2.1Mb    0.0% Converting, 8 recs, 0 converted (0.0%)\r",
        "00:00 2.1Mb    0.0% Converting, 9 recs, 0 converted (0.0%)\r",
        "00:00 2.1Mb    0.0% Converting, 10 recs, 0 converted (0.0%)\r",
        "00:00 2.1Mb    0.0% Converting, 11 recs, 0 converted (0.0%)\r",
        "00:00 2.1Mb    0.0% Converting, 12 recs, 1 converted (8.3%)\r",
        "00:00 2.1Mb    0.0% Converting, 13 recs, 2 converted (15.4%)\r",
        "00:00 2.1Mb    0.0% Converting, 14 recs, 2 converted (14.3%)\r",
        "00:00 2.1Mb    0.0% Converting, 15 recs, 3 converted (20.0%)\r",
        "00:00 2.1Mb    0.0% Converting, 16 recs, 4 converted (25.0%)\r",
        "00:00 2.1Mb    0.0% Converting, 17 recs, 5 converted (29.4%)\r"
       ]
      },
      {
       "output_type": "stream",
       "stream": "stdout",
       "text": [
        "00:01 2.1Mb    2.3% Converting, 40.6k recs, 37240 converted (91.8%)\r"
       ]
      },
      {
       "output_type": "stream",
       "stream": "stdout",
       "text": [
        "00:02 2.1Mb    7.9% Converting, 136.5k recs, 127923 converted (93.7%)\r"
       ]
      },
      {
       "output_type": "stream",
       "stream": "stdout",
       "text": [
        "00:03 2.1Mb   13.4% Converting, 232.8k recs, 212239 converted (91.2%)\r"
       ]
      },
      {
       "output_type": "stream",
       "stream": "stdout",
       "text": [
        "00:04 2.1Mb   18.9% Converting, 328.6k recs, 303441 converted (92.3%)\r"
       ]
      },
      {
       "output_type": "stream",
       "stream": "stdout",
       "text": [
        "00:05 2.1Mb   24.5% Converting, 424.6k recs, 391346 converted (92.2%)\r"
       ]
      },
      {
       "output_type": "stream",
       "stream": "stdout",
       "text": [
        "00:06 2.1Mb   30.0% Converting, 520.6k recs, 480424 converted (92.3%)\r"
       ]
      },
      {
       "output_type": "stream",
       "stream": "stdout",
       "text": [
        "00:07 2.1Mb   35.5% Converting, 616.4k recs, 570662 converted (92.6%)\r"
       ]
      },
      {
       "output_type": "stream",
       "stream": "stdout",
       "text": [
        "00:08 2.1Mb   41.1% Converting, 713.1k recs, 641062 converted (89.9%)\r"
       ]
      },
      {
       "output_type": "stream",
       "stream": "stdout",
       "text": [
        "00:09 2.1Mb   46.7% Converting, 808.5k recs, 720257 converted (89.1%)\r"
       ]
      },
      {
       "output_type": "stream",
       "stream": "stdout",
       "text": [
        "00:10 2.1Mb   52.3% Converting, 903.8k recs, 804225 converted (89.0%)\r"
       ]
      },
      {
       "output_type": "stream",
       "stream": "stdout",
       "text": [
        "00:11 2.1Mb   57.8% Converting, 999.1k recs, 888006 converted (88.9%)\r"
       ]
      },
      {
       "output_type": "stream",
       "stream": "stdout",
       "text": [
        "00:12 2.1Mb   63.4% Converting, 1.1M recs, 970858 converted (88.7%)  \r"
       ]
      },
      {
       "output_type": "stream",
       "stream": "stdout",
       "text": [
        "00:13 2.1Mb   69.1% Converting, 1.2M recs, 1048486 converted (87.9%)\r"
       ]
      },
      {
       "output_type": "stream",
       "stream": "stdout",
       "text": [
        "00:14 2.1Mb   74.8% Converting, 1.3M recs, 1129591 converted (87.6%)\r"
       ]
      },
      {
       "output_type": "stream",
       "stream": "stdout",
       "text": [
        "00:15 2.1Mb   80.5% Converting, 1.4M recs, 1215115 converted (87.6%)\r"
       ]
      },
      {
       "output_type": "stream",
       "stream": "stdout",
       "text": [
        "00:16 2.1Mb   86.2% Converting, 1.5M recs, 1300334 converted (87.6%)\r"
       ]
      },
      {
       "output_type": "stream",
       "stream": "stdout",
       "text": [
        "00:17 2.1Mb   91.9% Converting, 1.6M recs, 1383975 converted (87.5%)\r"
       ]
      },
      {
       "output_type": "stream",
       "stream": "stdout",
       "text": [
        "00:18 2.1Mb   97.5% Converting, 1.7M recs, 1464124 converted (87.2%)\r"
       ]
      },
      {
       "output_type": "stream",
       "stream": "stdout",
       "text": [
        "00:18 2.1Mb  100.0% Converting, 1.7M recs, 1493445 converted (86.8%)\r",
        "\r\n"
       ]
      },
      {
       "output_type": "stream",
       "stream": "stdout",
       "text": [
        "   1720480  FASTQ recs (1.7M)                                       \r\n",
        "      2657  Short recs discarded (<250)\r\n",
        "    224378  Low qual recs discarded (expected errs > 0.50)\r\n",
        "   1493445  Converted (1.5M, 86.8%)\r\n"
       ]
      }
     ],
     "prompt_number": 10
    },
    {
     "cell_type": "markdown",
     "metadata": {},
     "source": [
      "###The following cell strips the fw primer and the barcode from our reads."
     ]
    },
    {
     "cell_type": "code",
     "collapsed": false,
     "input": [
      "primerLen = 20\n",
      "bcLen = 10\n",
      "seqFile = open(\"data/tmp/maxee_trunc.fasta\", \"rb\")\n",
      "fa_instance = fasta_iter(seqFile)\n",
      "out = open(\"data/tmp/maxee_trunc.fwprimtrim.fasta\", \"w\")\n",
      "for rec in fa_instance:\n",
      "    s = rec.sequence\n",
      "    n = rec.name\n",
      "    out.write(\">%s\\n%s\\n\"%(n,s[primerLen+bcLen:]))\n",
      "out.close()"
     ],
     "language": "python",
     "metadata": {},
     "outputs": [],
     "prompt_number": 11
    },
    {
     "cell_type": "markdown",
     "metadata": {},
     "source": [
      "###Let's remove archaeal, chloroplast and eukaryal seqs in addition to seqs that are not able to be annotated before further QC steps."
     ]
    },
    {
     "cell_type": "markdown",
     "metadata": {},
     "source": [
      "####First we need to annotate our sequences."
     ]
    },
    {
     "cell_type": "code",
     "collapsed": false,
     "input": [
      "!parallel_assign_taxonomy_uclust.py \\\n",
      "-i data/tmp/maxee_trunc.fwprimtrim.fasta \\\n",
      "-o data/tmp/maxee_trunc.fwprimtrim.fasta.tax \\\n",
      "-O 20 \\\n",
      "-r data/tmp/db/Silva_111_post/no_ambiguous_bases_files/97_Silva_111_rep_set_no_ambig.fasta \\\n",
      "-t data/tmp/db/Silva_111_post/taxonomy/Silva_111_taxa_map_no_ambiguous.txt \\\n",
      "--uclust_similarity=0.85"
     ],
     "language": "python",
     "metadata": {},
     "outputs": [
      {
       "output_type": "stream",
       "stream": "stdout",
       "text": [
        "^CTraceback (most recent call last):\r\n",
        "  File \"/opt/anaconda/bin/parallel_assign_taxonomy_uclust.py\", line 91, in <module>\r\n",
        "    main()\r\n",
        "  File \"/opt/anaconda/bin/parallel_assign_taxonomy_uclust.py\", line 87, in main\r\n",
        "    suppress_submit_jobs=opts.suppress_submit_jobs)\r\n",
        "  File \"/opt/anaconda/lib/python2.7/site-packages/qiime/parallel/util.py\", line 180, in __call__\r\n",
        "    jobs_fp=jobs_fp, job_prefix=job_prefix)\r\n",
        "  File \"/opt/anaconda/lib/python2.7/site-packages/qiime/parallel/util.py\", line 248, in _submit_jobs\r\n",
        "    stdout, stderr, return_value = qiime_system_call(cmd)\r\n",
        "  File \"/opt/anaconda/lib/python2.7/site-packages/qcli/util.py\", line 39, in qcli_system_call\r\n",
        "    stdout, stderr = proc.communicate()\r\n",
        "  File \"/opt/anaconda/lib/python2.7/subprocess.py\", line 806, in communicate\r\n",
        "    return self._communicate(input)\r\n",
        "  File \"/opt/anaconda/lib/python2.7/subprocess.py\", line 1382, in _communicate\r\n",
        "    stdout, stderr = self._communicate_with_poll(input)\r\n",
        "  File \"/opt/anaconda/lib/python2.7/subprocess.py\", line 1436, in _communicate_with_poll\r\n",
        "    ready = poller.poll()\r\n",
        "KeyboardInterrupt\r\n",
        "\r\n"
       ]
      }
     ],
     "prompt_number": 12
    },
    {
     "cell_type": "code",
     "collapsed": false,
     "input": [
      "!egrep \"Chloroplast|Eukaryota|Archaea|Unassigned|mitochondria\" \\\n",
      "data/tmp/maxee_trunc.fwprimtrim.fasta.tax/maxee_trunc.fwprimtrim_tax_assignments.txt \\\n",
      "| awk '{print $1}' > data/to_remove_tax.accnos"
     ],
     "language": "python",
     "metadata": {},
     "outputs": [],
     "prompt_number": 13
    },
    {
     "cell_type": "code",
     "collapsed": false,
     "input": [
      "!wc -l data/to_remove_tax.accnos"
     ],
     "language": "python",
     "metadata": {},
     "outputs": [
      {
       "output_type": "stream",
       "stream": "stdout",
       "text": [
        "28159 data/to_remove_tax.accnos\r\n"
       ]
      }
     ],
     "prompt_number": 14
    },
    {
     "cell_type": "code",
     "collapsed": false,
     "input": [
      "!head data/to_remove_tax.accnos"
     ],
     "language": "python",
     "metadata": {},
     "outputs": [
      {
       "output_type": "stream",
       "stream": "stdout",
       "text": [
        "13C.PS.14.23_322690\r\n",
        "cont.PS.30.17_368789\r\n",
        "13C.PS.14.21_405017\r\n",
        "13C.PS.30.23_336493\r\n",
        "13C.PS.30.23_385190\r\n",
        "13C.PS.30.20_414877\r\n",
        "cont.PS.30.21_395022\r\n",
        "cont.PS.1.23_318780\r\n",
        "cont.PS.30.7_376362\r\n",
        "13C.PS.14.19_378735\r\n"
       ]
      }
     ],
     "prompt_number": 15
    },
    {
     "cell_type": "code",
     "collapsed": false,
     "input": [
      "%%bash\n",
      "mothur \"#remove.seqs(fasta=data/tmp/maxee_trunc.fwprimtrim.fasta, \\\n",
      "accnos=data/to_remove_tax.accnos)\" > /dev/null"
     ],
     "language": "python",
     "metadata": {},
     "outputs": [],
     "prompt_number": 16
    },
    {
     "cell_type": "markdown",
     "metadata": {},
     "source": [
      "###Now we're ready to do some alignment-based QC using mothur."
     ]
    },
    {
     "cell_type": "code",
     "collapsed": false,
     "input": [
      "!mothur \"#unique.seqs(fasta=data/tmp/maxee_trunc.fwprimtrim.pick.fasta)\" > /dev/null"
     ],
     "language": "python",
     "metadata": {},
     "outputs": [],
     "prompt_number": 17
    },
    {
     "cell_type": "markdown",
     "metadata": {},
     "source": [
      "####We'll need a group file for our dataset."
     ]
    },
    {
     "cell_type": "code",
     "collapsed": false,
     "input": [
      "!grep \"^>\" data/tmp/maxee_trunc.fwprimtrim.pick.fasta | \\\n",
      "awk -F\"_\" 'BEGIN{OFS=\"\\t\"}{print $0,$1}' | \\\n",
      "sed 's/>//g' > data/group_file.txt"
     ],
     "language": "python",
     "metadata": {},
     "outputs": [],
     "prompt_number": 18
    },
    {
     "cell_type": "code",
     "collapsed": false,
     "input": [
      "!head -n 2 data/group_file.txt"
     ],
     "language": "python",
     "metadata": {},
     "outputs": [
      {
       "output_type": "stream",
       "stream": "stdout",
       "text": [
        "cont.PS.3.7_308047\tcont.PS.3.7\r\n",
        "13C.PS.14.16_308048\t13C.PS.14.16\r\n"
       ]
      }
     ],
     "prompt_number": 19
    },
    {
     "cell_type": "markdown",
     "metadata": {},
     "source": [
      "###First we'll align our seqs to the Silva reference set from the Mothur website."
     ]
    },
    {
     "cell_type": "code",
     "collapsed": false,
     "input": [
      "!mkdir -p data/tmp/db"
     ],
     "language": "python",
     "metadata": {},
     "outputs": [],
     "prompt_number": 20
    },
    {
     "cell_type": "code",
     "collapsed": false,
     "input": [
      "%%bash\n",
      "if ! [ -e data/silva_ref_aln_mothur.fasta ]; then\n",
      "    curl -o data/tmp/db/silva_B.zip http://www.mothur.org/w/images/9/98/Silva.bacteria.zip && unzip data/tmp/db/silva_B.zip\n",
      "    curl -o data/tmp/db/silva_E.zip http://www.mothur.org/w/images/1/1a/Silva.eukarya.zip && unzip data/tmp/db/silva_E.zip\n",
      "    curl -o data/tmp/db/silva_A.zip http://www.mothur.org/w/images/3/3c/Silva.archaea.zip && unzip data/tmp/db/silva_A.zip\n",
      "fi"
     ],
     "language": "python",
     "metadata": {},
     "outputs": [],
     "prompt_number": 21
    },
    {
     "cell_type": "code",
     "collapsed": false,
     "input": [
      "%%bash\n",
      "if ! [ -e data/silva_ref_aln_mothur.fasta ]; then\n",
      "    cat data/tmp/db/silva.bacteria/silva.bacteria.fasta \\\n",
      "    data/tmp/db/silva.eukarya/silva.eukarya.fasta \\\n",
      "    data/tmp/db/Silva.archaea/silva.archaea.fasta \\\n",
      "    > data/silva_ref_aln_mothur.fasta\n",
      "fi"
     ],
     "language": "python",
     "metadata": {},
     "outputs": [],
     "prompt_number": 22
    },
    {
     "cell_type": "code",
     "collapsed": false,
     "input": [
      "%%bash\n",
      "mothur \"#align.seqs(candidate=data/tmp/maxee_trunc.fwprimtrim.pick.unique.fasta, \\\n",
      "template=data/silva_ref_aln_mothur.fasta, \\\n",
      "processors=25, \\\n",
      "flip=T)\" > /dev/null"
     ],
     "language": "python",
     "metadata": {},
     "outputs": [],
     "prompt_number": 23
    },
    {
     "cell_type": "markdown",
     "metadata": {},
     "source": [
      "####We can filter out vertical gaps..."
     ]
    },
    {
     "cell_type": "code",
     "collapsed": false,
     "input": [
      "%%bash\n",
      "mothur \"#filter.seqs(vertical=t, \\\n",
      "fasta=data/tmp/maxee_trunc.fwprimtrim.pick.unique.align, \\\n",
      "processors=25)\" > /dev/null"
     ],
     "language": "python",
     "metadata": {},
     "outputs": [],
     "prompt_number": 24
    },
    {
     "cell_type": "markdown",
     "metadata": {},
     "source": [
      "###Here is what our seqs look like."
     ]
    },
    {
     "cell_type": "code",
     "collapsed": false,
     "input": [
      "%%bash\n",
      "mothur \"#summary.seqs(fasta=data/tmp/maxee_trunc.fwprimtrim.pick.unique.filter.fasta, \\\n",
      "processors=1, \\\n",
      "name=data/tmp/maxee_trunc.fwprimtrim.names)\""
     ],
     "language": "python",
     "metadata": {},
     "outputs": [
      {
       "output_type": "stream",
       "stream": "stdout",
       "text": [
        "\u001b[H\u001b[2J\n",
        "\n",
        "\n",
        "\n",
        "\n",
        "\n",
        "mothur v.1.32.1\n",
        "Last updated: 10/16/2013\n",
        "\n",
        "by\n",
        "Patrick D. Schloss\n",
        "\n",
        "Department of Microbiology & Immunology\n",
        "University of Michigan\n",
        "pschloss@umich.edu\n",
        "http://www.mothur.org\n",
        "\n",
        "When using, please cite:\n",
        "Schloss, P.D., et al., Introducing mothur: Open-source, platform-independent, community-supported software for describing and comparing microbial communities. Appl Environ Microbiol, 2009. 75(23):7537-41.\n",
        "\n",
        "Distributed under the GNU General Public License\n",
        "\n",
        "Type 'help()' for information on the commands that are available\n",
        "\n",
        "Type 'quit()' to exit program\n",
        "\n",
        "\n",
        "\n",
        "mothur > summary.seqs(fasta=data/tmp/maxee_trunc.fwprimtrim.pick.unique.filter.fasta, processors=1, name=data/tmp/maxee_trunc.fwprimtrim.names)\n",
        "\n",
        "Using 1 processors.\n",
        "\n",
        "\t\tStart\tEnd\tNBases\tAmbigs\tPolymer\tNumSeqs\n",
        "Minimum:\t1\t438\t220\t0\t3\t1\n",
        "2.5%-tile:\t67\t665\t220\t0\t4\t36633\n",
        "25%-tile:\t68\t665\t220\t0\t4\t366322\n",
        "Median: \t68\t665\t220\t0\t4\t732644\n",
        "75%-tile:\t68\t665\t220\t0\t4\t1098965\n",
        "97.5%-tile:\t71\t665\t220\t0\t6\t1428654\n",
        "Maximum:\t132\t700\t220\t0\t31\t1465286\n",
        "Mean:\t68.234\t665.022\t220\t0\t4.22228\n",
        "# of unique seqs:\t266306\n",
        "total # of seqs:\t1465286\n",
        "\n",
        "Output File Names: \n",
        "data/tmp/maxee_trunc.fwprimtrim.pick.unique.filter.summary\n",
        "\n",
        "\n",
        "mothur > quit()\n"
       ]
      }
     ],
     "prompt_number": 25
    },
    {
     "cell_type": "markdown",
     "metadata": {},
     "source": [
      "###Looks like we need to screen out some seqs that don't align to the expected amplicon region. We can also get rid of reads which have a homopolymer longer than 8. Then we trim the remaining reads to the same alignment coordinates and print out a summary to examine the results."
     ]
    },
    {
     "cell_type": "code",
     "collapsed": false,
     "input": [
      "%%bash\n",
      "\n",
      "mothur \"#screen.seqs(fasta=data/tmp/maxee_trunc.fwprimtrim.pick.unique.filter.fasta, \\\n",
      "processors=20, \\\n",
      "name=data/tmp/maxee_trunc.fwprimtrim.pick.names, \\\n",
      "group=data/group_file.txt, \\\n",
      "start=71, \\\n",
      "end=665, \\\n",
      "maxhomop=8)\" > /dev/null\n",
      "\n",
      "mothur \"#filter.seqs(fasta=data/tmp/maxee_trunc.fwprimtrim.pick.unique.filter.good.fasta, \\\n",
      "processors=20, \\\n",
      "trump=.)\" > /dev/null\n",
      "\n",
      "mothur \"#summary.seqs(fasta=data/tmp/maxee_trunc.fwprimtrim.pick.unique.filter.good.filter.fasta, \\\n",
      "name=data/tmp/maxee_trunc.fwprimtrim.good.names)\""
     ],
     "language": "python",
     "metadata": {},
     "outputs": [
      {
       "output_type": "stream",
       "stream": "stdout",
       "text": [
        "\u001b[H\u001b[2J\n",
        "\n",
        "\n",
        "\n",
        "\n",
        "\n",
        "mothur v.1.32.1\n",
        "Last updated: 10/16/2013\n",
        "\n",
        "by\n",
        "Patrick D. Schloss\n",
        "\n",
        "Department of Microbiology & Immunology\n",
        "University of Michigan\n",
        "pschloss@umich.edu\n",
        "http://www.mothur.org\n",
        "\n",
        "When using, please cite:\n",
        "Schloss, P.D., et al., Introducing mothur: Open-source, platform-independent, community-supported software for describing and comparing microbial communities. Appl Environ Microbiol, 2009. 75(23):7537-41.\n",
        "\n",
        "Distributed under the GNU General Public License\n",
        "\n",
        "Type 'help()' for information on the commands that are available\n",
        "\n",
        "Type 'quit()' to exit program\n",
        "\n",
        "\n",
        "\n",
        "mothur > summary.seqs(fasta=data/tmp/maxee_trunc.fwprimtrim.pick.unique.filter.good.filter.fasta, name=data/tmp/maxee_trunc.fwprimtrim.good.names)\n",
        "\n",
        "Using 1 processors.\n",
        "\n",
        "\t\tStart\tEnd\tNBases\tAmbigs\tPolymer\tNumSeqs\n",
        "Minimum:\t1\t595\t199\t0\t3\t1\n",
        "2.5%-tile:\t1\t595\t218\t0\t4\t35503\n",
        "25%-tile:\t1\t595\t219\t0\t4\t355024\n",
        "Median: \t1\t595\t219\t0\t4\t710048\n",
        "75%-tile:\t1\t595\t219\t0\t4\t1065071\n",
        "97.5%-tile:\t1\t595\t220\t0\t6\t1384592\n",
        "Maximum:\t1\t595\t220\t0\t8\t1420094\n",
        "Mean:\t1\t595\t219.012\t0\t4.22255\n",
        "# of unique seqs:\t244579\n",
        "total # of seqs:\t1420094\n",
        "\n",
        "Output File Names: \n",
        "data/tmp/maxee_trunc.fwprimtrim.pick.unique.filter.good.filter.summary\n",
        "\n",
        "\n",
        "mothur > quit()\n"
       ]
      }
     ],
     "prompt_number": 36
    },
    {
     "cell_type": "markdown",
     "metadata": {},
     "source": [
      "###Looks pretty good. Let's see if we see any hint of the reverse primer at the ends of the read."
     ]
    },
    {
     "cell_type": "code",
     "collapsed": false,
     "input": [
      "print \"revcomp reverse primer:\", DNA.makeSequence(\"GGACTACHVGGGTWTCTAAT\").rc(), \"\\n\"\n",
      "!head -n 6 data/tmp/maxee_trunc.fwprimtrim.pick.unique.filter.good.filter.fasta | sed 's/-//g'"
     ],
     "language": "python",
     "metadata": {},
     "outputs": [
      {
       "output_type": "stream",
       "stream": "stdout",
       "text": [
        "revcomp reverse primer: ATTAGAWACCCBDGTAGTCC \n",
        "\n",
        ">cont.PS.3.7_308047\r\n",
        "TTAAAGGGTCCGTAGGCGGTTTAGTAAGTCAGTGGTGAAAGCCCATCGCTCAACGGTGGAACGGCCATTGATACTGCTAGACTTGAATTATTAGGAAGTAACTAGAATATGTAGTGTAGCGGTGAAATGCTTAGAGATTACATGGAATACCAATTGCGAAGGCAGGTTACTACTAATGGATTGACGCTGATGGACGAAAGCGTGGGTAGCGAACAGGAT\r\n",
        ">13C.PS.14.16_308048\r\n",
        "GTAAAGCGCACGTAGGCGGCGATCTAAGTCGGATGTGAAATCCCTCGGCTCAACCGAGGACGTGCATCCGAAACTGGATTGCTCGAGTATGGAAGAGGGTCGCGGAATTCTCGGTGTAGAGGTGAAATTCGTAGATATCGGGAGGAACACCAGTGGCGAAGGCGGCGACCTGGGCCAATACTGACGCTGAGGTGCGAAAGCGTGGGGAGCAAACAGGAT\r\n",
        ">cont.PS.1.27_308050\r\n",
        "GTAAAGGGCGCGTAGGCGGCCTGTCAAGTCAGATGTGAAATCCCCGGGCTTAACCCGGGAACTGCATTTGAAACTGGCGGGCTTGAGGGCAGGAGAGGAAAGCGGAACTCCCAGTGTAGCGGTGAAATGCGTAGATATTGGGAGGAACACCAGTGGCGAAGGCGGCTTTCTGGACTGTCACTGACGCTGAGGCGCGAAAGCCAGGGGAGCGAACGGGAT\r\n"
       ]
      }
     ],
     "prompt_number": 39
    },
    {
     "cell_type": "markdown",
     "metadata": {},
     "source": [
      "####Lots of reads end with AT which may be the beginning of our reverse primer but we'll leave it for now."
     ]
    },
    {
     "cell_type": "code",
     "collapsed": false,
     "input": [
      "!grep -c \">\" data/tmp/maxee_trunc.fwprimtrim.pick.unique.filter.good.filter.fasta\n",
      "!grep -c \"AT$\" data/tmp/maxee_trunc.fwprimtrim.pick.unique.filter.good.filter.fasta"
     ],
     "language": "python",
     "metadata": {},
     "outputs": [
      {
       "output_type": "stream",
       "stream": "stdout",
       "text": [
        "244579\r\n"
       ]
      },
      {
       "output_type": "stream",
       "stream": "stdout",
       "text": [
        "244224\r\n"
       ]
      }
     ],
     "prompt_number": 40
    },
    {
     "cell_type": "markdown",
     "metadata": {},
     "source": [
      "###After alignment based screening we can check for chimeras using UChime via Mothur."
     ]
    },
    {
     "cell_type": "markdown",
     "metadata": {},
     "source": [
      "####TODO: might be nice to try this without mothur using the IPython.parallel module. Seems like IPython does a better job of load balancing. May speed things up a bit."
     ]
    },
    {
     "cell_type": "code",
     "collapsed": false,
     "input": [
      "%%bash\n",
      "mothur \"#chimera.uchime(fasta=data/tmp/maxee_trunc.fwprimtrim.pick.unique.filter.good.filter.fasta, \\\n",
      "reference=self, \\\n",
      "group=data/tmp/group_file.good.txt, \\\n",
      "name=data/tmp/maxee_trunc.fwprimtrim.pick.good.names, \\\n",
      "processors=30, \\\n",
      "dereplicate=t)\" > /dev/null 2>&1 "
     ],
     "language": "python",
     "metadata": {},
     "outputs": [],
     "prompt_number": 41
    },
    {
     "cell_type": "markdown",
     "metadata": {},
     "source": [
      "####Here's how many chimeras were found."
     ]
    },
    {
     "cell_type": "code",
     "collapsed": false,
     "input": [
      "!wc -l data/tmp/maxee_trunc.fwprimtrim.pick.unique.filter.good.filter.uchime.accnos"
     ],
     "language": "python",
     "metadata": {},
     "outputs": [
      {
       "output_type": "stream",
       "stream": "stdout",
       "text": [
        "44086 data/tmp/maxee_trunc.fwprimtrim.pick.unique.filter.good.filter.uchime.accnos\r\n"
       ]
      }
     ],
     "prompt_number": 42
    },
    {
     "cell_type": "markdown",
     "metadata": {},
     "source": [
      "####This is the mothur command to discard chimeras."
     ]
    },
    {
     "cell_type": "code",
     "collapsed": false,
     "input": [
      "%%bash\n",
      "mothur \"#remove.seqs(fasta=data/tmp/maxee_trunc.fwprimtrim.pick.unique.filter.good.filter.fasta, \\\n",
      "name=data/tmp/maxee_trunc.fwprimtrim.pick.good.names, \\\n",
      "accnos=data/tmp/maxee_trunc.fwprimtrim.pick.unique.filter.good.filter.uchime.accnos, \\\n",
      "dups=f)\" > /dev/null"
     ],
     "language": "python",
     "metadata": {},
     "outputs": [],
     "prompt_number": 43
    },
    {
     "cell_type": "markdown",
     "metadata": {},
     "source": [
      "###Now we can expand our data, remove gaps and copy it to the data directory."
     ]
    },
    {
     "cell_type": "code",
     "collapsed": false,
     "input": [
      "%%bash\n",
      "mothur \"#deunique.seqs(fasta=data/tmp/maxee_trunc.fwprimtrim.pick.unique.filter.good.filter.pick.fasta, \\\n",
      "name=data/tmp/maxee_trunc.fwprimtrim.pick.good.pick.names)\" > /dev/null"
     ],
     "language": "python",
     "metadata": {},
     "outputs": [],
     "prompt_number": 44
    },
    {
     "cell_type": "code",
     "collapsed": false,
     "input": [
      "!sed '/>/! s/-//g;/>/! s/\\.//g' data/tmp/maxee_trunc.fwprimtrim.pick.redundant.fasta > data/finalQC.fasta"
     ],
     "language": "python",
     "metadata": {},
     "outputs": [],
     "prompt_number": 45
    },
    {
     "cell_type": "code",
     "collapsed": false,
     "input": [
      "!head data/finalQC.fasta"
     ],
     "language": "python",
     "metadata": {},
     "outputs": [
      {
       "output_type": "stream",
       "stream": "stdout",
       "text": [
        ">cont.PS.3.7_308047\r\n",
        "TTAAAGGGTCCGTAGGCGGTTTAGTAAGTCAGTGGTGAAAGCCCATCGCTCAACGGTGGAACGGCCATTGATACTGCTAGACTTGAATTATTAGGAAGTAACTAGAATATGTAGTGTAGCGGTGAAATGCTTAGAGATTACATGGAATACCAATTGCGAAGGCAGGTTACTACTAATGGATTGACGCTGATGGACGAAAGCGTGGGTAGCGAACAGGAT\r\n",
        ">cont.PS.3.7_164590\r\n",
        "TTAAAGGGTCCGTAGGCGGTTTAGTAAGTCAGTGGTGAAAGCCCATCGCTCAACGGTGGAACGGCCATTGATACTGCTAGACTTGAATTATTAGGAAGTAACTAGAATATGTAGTGTAGCGGTGAAATGCTTAGAGATTACATGGAATACCAATTGCGAAGGCAGGTTACTACTAATGGATTGACGCTGATGGACGAAAGCGTGGGTAGCGAACAGGAT\r\n",
        ">13X.PS.3.3_1050707\r\n",
        "TTAAAGGGTCCGTAGGCGGTTTAGTAAGTCAGTGGTGAAAGCCCATCGCTCAACGGTGGAACGGCCATTGATACTGCTAGACTTGAATTATTAGGAAGTAACTAGAATATGTAGTGTAGCGGTGAAATGCTTAGAGATTACATGGAATACCAATTGCGAAGGCAGGTTACTACTAATGGATTGACGCTGATGGACGAAAGCGTGGGTAGCGAACAGGAT\r\n",
        ">13X.PS.3.4_1066131\r\n",
        "TTAAAGGGTCCGTAGGCGGTTTAGTAAGTCAGTGGTGAAAGCCCATCGCTCAACGGTGGAACGGCCATTGATACTGCTAGACTTGAATTATTAGGAAGTAACTAGAATATGTAGTGTAGCGGTGAAATGCTTAGAGATTACATGGAATACCAATTGCGAAGGCAGGTTACTACTAATGGATTGACGCTGATGGACGAAAGCGTGGGTAGCGAACAGGAT\r\n",
        ">13X.PS.3.4_1075150\r\n",
        "TTAAAGGGTCCGTAGGCGGTTTAGTAAGTCAGTGGTGAAAGCCCATCGCTCAACGGTGGAACGGCCATTGATACTGCTAGACTTGAATTATTAGGAAGTAACTAGAATATGTAGTGTAGCGGTGAAATGCTTAGAGATTACATGGAATACCAATTGCGAAGGCAGGTTACTACTAATGGATTGACGCTGATGGACGAAAGCGTGGGTAGCGAACAGGAT\r\n"
       ]
      }
     ],
     "prompt_number": 46
    },
    {
     "cell_type": "markdown",
     "metadata": {},
     "source": [
      "####Here's the total number of QCed seqs."
     ]
    },
    {
     "cell_type": "code",
     "collapsed": false,
     "input": [
      "after, = !grep -c \">\" data/finalQC.fasta"
     ],
     "language": "python",
     "metadata": {},
     "outputs": [],
     "prompt_number": 16
    },
    {
     "cell_type": "code",
     "collapsed": false,
     "input": [
      "before, = !cat data/ABCD_combined_reads.fastq | echo $((`wc -l`/4))"
     ],
     "language": "python",
     "metadata": {},
     "outputs": [],
     "prompt_number": 17
    },
    {
     "cell_type": "code",
     "collapsed": false,
     "input": [
      "print before, after, int(before) - int(after)"
     ],
     "language": "python",
     "metadata": {},
     "outputs": [
      {
       "output_type": "stream",
       "stream": "stdout",
       "text": [
        "1720480 1376008 344472\n"
       ]
      }
     ],
     "prompt_number": 18
    }
   ],
   "metadata": {}
  }
 ]
}