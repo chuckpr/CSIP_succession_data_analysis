{
 "metadata": {
  "name": "",
  "signature": "sha256:846971cf179dc7febb14ce875173ff0e072a4db86234c6346855cd0b3bcb6482"
 },
 "nbformat": 3,
 "nbformat_minor": 0,
 "worksheets": [
  {
   "cells": [
    {
     "cell_type": "code",
     "collapsed": false,
     "input": [
      "from cogent import LoadSeqs, DNA"
     ],
     "language": "python",
     "metadata": {},
     "outputs": [],
     "prompt_number": 2
    },
    {
     "cell_type": "code",
     "collapsed": false,
     "input": [
      "OTU_ids = [\"OTU.120\", \"OTU.183\"]\n",
      "seqs = LoadSeqs(\"data/otusn.fasta\", moltype=DNA, aligned=False)\n",
      "print seqs.takeSeqs(OTU_ids).toFasta()"
     ],
     "language": "python",
     "metadata": {},
     "outputs": [
      {
       "output_type": "stream",
       "stream": "stdout",
       "text": [
        ">OTU.120\n",
        "GTAAAGAGTTCGTAGGCGGTTGCCTAAGTCTGATGTTAAATACTGGCGCTTAACGCCAGCATGGCATTGGAAACTGGGCGGCTAGAGTGCGGTAGAGGTCTCGGGAATTCCAGGTGTAGCGGTGAAATGCGTAGATATCTGGAGGAACACCGGTGGCGAAAGCGCGAGACTGGGCCGTAACTGACGCTGAGGAACGAAAGCCAGGGGAGCGAAAGGGAT\n",
        ">OTU.183\n",
        "TTAAAGGGAGCGCAGGCGGATTAGTAAGTCAGTGGTGAAAGCCTTGAGCTTAACTCGAGAACTGCCATTGATACTATTAGTCTTGAATGTTGTTGAGGTTTGCGGAATGGGTCATGTAGCGGTGAAATGCATAGATATGACCCGGAACACCTATTGCGAAGGCAGCAGGCTAAACAAATATTGACGCTGAGGCTCGAAAGCGTGGGGATCAAACAGGAT\n"
       ]
      }
     ],
     "prompt_number": 5
    }
   ],
   "metadata": {}
  }
 ]
}