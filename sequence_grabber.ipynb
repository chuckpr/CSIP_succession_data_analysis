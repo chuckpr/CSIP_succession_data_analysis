{
 "metadata": {
  "name": ""
 },
 "nbformat": 3,
 "nbformat_minor": 0,
 "worksheets": [
  {
   "cells": [
    {
     "cell_type": "code",
     "collapsed": false,
     "input": [
      "from cogent import LoadSeqs, DNA"
     ],
     "language": "python",
     "metadata": {},
     "outputs": [],
     "prompt_number": 1
    },
    {
     "cell_type": "code",
     "collapsed": false,
     "input": [
      "OTU_ids = [\"OTU.4332\", \"OTU.6\"]\n",
      "seqs = LoadSeqs(\"data/otusn.fasta\", moltype=DNA, aligned=False)\n",
      "print seqs.takeSeqs(OTU_ids).toFasta()"
     ],
     "language": "python",
     "metadata": {},
     "outputs": [
      {
       "output_type": "stream",
       "stream": "stdout",
       "text": [
        ">OTU.4332\n",
        "GTAAAGCGCGCGTAGGCGGCTTCTCAAGTCAGGGGTGAAATCCTTGGGCTCAACCCAAGAATTGCCTCTGAAACTGTGGAGCTGGAGTACTGGAGGGGATAGCGGAATTCCTAATGTAGAGGTGAAATTCGTAGATATTAGGAGGAACACCGGTGGCGAAGGCGGCTATCTGGACAGTAACTGACGCTGAGGCGCGAAAGCGCGGGGATCAAACAGGAT\n",
        ">OTU.6\n",
        "GTAAAGCGCACGTAGGTGGTTTGTTAAGCCAGCTGTGAAATCCCCGGGCTCAACCTGGGCACTGCAGTTGGAACTGGCAAGCTAGAGTAGGGTAGAGGGGTGTGGAATTCCAGGTGTAGCGGTGAAATGCGTAGATATCTGGAGGAACATCAGTGGCGAAGGCGACACCCTGGACTCATACTGACACTGAGGTGCGAAAGCGTGGGGAGCAAACAGGAT\n"
       ]
      }
     ],
     "prompt_number": 9
    }
   ],
   "metadata": {}
  }
 ]
}