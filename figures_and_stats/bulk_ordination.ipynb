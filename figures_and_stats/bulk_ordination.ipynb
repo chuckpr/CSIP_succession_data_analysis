{
 "metadata": {
  "name": "",
  "signature": "sha256:c4f04c0b64e8e5b20016b7b5afc00d34f8a5f33697c347166a0cab13e0f3091f"
 },
 "nbformat": 3,
 "nbformat_minor": 0,
 "worksheets": [
  {
   "cells": [
    {
     "cell_type": "code",
     "collapsed": false,
     "input": [
      "%load_ext rpy2.ipython"
     ],
     "language": "python",
     "metadata": {},
     "outputs": [],
     "prompt_number": 4
    },
    {
     "cell_type": "code",
     "collapsed": false,
     "input": [
      "from IPython.display import FileLink"
     ],
     "language": "python",
     "metadata": {},
     "outputs": [],
     "prompt_number": 5
    },
    {
     "cell_type": "code",
     "collapsed": false,
     "input": [
      "%%R\n",
      "library(phyloseq)\n",
      "library(ggplot2)\n",
      "library(doParallel)\n",
      "library(gridExtra)\n",
      "library(RColorBrewer)"
     ],
     "language": "python",
     "metadata": {},
     "outputs": [],
     "prompt_number": 6
    },
    {
     "cell_type": "code",
     "collapsed": false,
     "input": [
      "%%R\n",
      "physeq = import_biom(\"../data/otu_table_wtax.biom\", \"../data/otusn.tree\")\n",
      "sample.data = import_qiime_sample_data(\"../data/ABCD_combined_reads_mapper.tsv\")\n",
      "physeq = merge_phyloseq(physeq,sample.data)\n",
      "physeq.md = sample_data(physeq)\n",
      "\n",
      "physeq.PS = prune_samples(physeq.md$Treatment %in% c(\"12CCPS\",\"13CCPS\",\"13CXPS\"), physeq)\n",
      "physeq.PS = transform_sample_counts(physeq.PS, function(x) x/sum(x))\n",
      "physeq.PS = filter_taxa(physeq.PS, function(x) sum(x > 0) > (0.25 * length(x)), TRUE)\n",
      "\n",
      "physeq.PS.bulk = prune_samples((physeq.md$Treatment %in% c(\"12CCPS\",\"13CCPS\",\"13CXPS\"))&\n",
      "                               (row.names(physeq.md) %in% grep(\"bulk\", row.names(physeq.md), value=TRUE)), physeq)   \n",
      "physeq.PS.bulk = transform_sample_counts(physeq.PS.bulk, function(x) x/sum(x))\n",
      "physeq.PS.bulk = filter_taxa(physeq.PS.bulk, function(x) sum(x > 0) > (0.25 * length(x)), TRUE)    \n",
      "    \n",
      "print(physeq.PS)\n",
      "print(physeq.PS.bulk)"
     ],
     "language": "python",
     "metadata": {},
     "outputs": [
      {
       "metadata": {},
       "output_type": "display_data",
       "text": [
        "phyloseq-class experiment-level object\n",
        "otu_table()   OTU Table:         [ 999 taxa and 289 samples ]\n",
        "sample_data() Sample Data:       [ 289 samples by 7 sample variables ]\n",
        "tax_table()   Taxonomy Table:    [ 999 taxa by 8 taxonomic ranks ]\n",
        "phy_tree()    Phylogenetic Tree: [ 999 tips and 998 internal nodes ]\n",
        "phyloseq-class experiment-level object\n",
        "otu_table()   OTU Table:         [ 1168 taxa and 12 samples ]\n",
        "sample_data() Sample Data:       [ 12 samples by 7 sample variables ]\n",
        "tax_table()   Taxonomy Table:    [ 1168 taxa by 8 taxonomic ranks ]\n",
        "phy_tree()    Phylogenetic Tree: [ 1168 tips and 1167 internal nodes ]\n"
       ]
      }
     ],
     "prompt_number": 7
    },
    {
     "cell_type": "code",
     "collapsed": false,
     "input": [
      "%%R\n",
      "registerDoParallel(cores=20)\n",
      "\n",
      "wunif.all = distance(physeq.PS, \n",
      "                     method = \"unifrac\", \n",
      "                     weighted = TRUE,\n",
      "                     fast = TRUE, \n",
      "                     parallel = TRUE, \n",
      "                     normalized = FALSE)\n",
      "\n",
      "wunif.bulk = distance(physeq.PS.bulk, \n",
      "                      method = \"unifrac\", \n",
      "                      weighted = TRUE,\n",
      "                      fast = TRUE, \n",
      "                      parallel = TRUE, \n",
      "                      normalized = FALSE)"
     ],
     "language": "python",
     "metadata": {},
     "outputs": [],
     "prompt_number": 8
    },
    {
     "cell_type": "code",
     "collapsed": false,
     "input": [
      "%%R\n",
      "\n",
      "nmds.all = ordinate(physeq.PS, \n",
      "                    method = \"NMDS\", \n",
      "                    distance = wunif.all)\n",
      "\n",
      "nmds.bulk = ordinate(physeq.PS, \n",
      "                     method = \"NMDS\", \n",
      "                     distance = wunif.bulk)"
     ],
     "language": "python",
     "metadata": {},
     "outputs": [
      {
       "metadata": {},
       "output_type": "display_data",
       "text": [
        "Run 0 stress 0.07343905 \n",
        "Run 1 stress 0.07343873 \n",
        "... New best solution\n",
        "... procrustes: rmse 5.268773e-05  max resid 0.0004190238 \n",
        "*** Solution reached\n",
        "\n",
        "Run 0 stress 0.02613262 \n",
        "Run 1 stress 0.02613257 \n",
        "... New best solution\n",
        "... procrustes: rmse 6.056816e-05  max resid 0.0001268669 \n",
        "*** Solution reached\n",
        "\n"
       ]
      }
     ],
     "prompt_number": 9
    },
    {
     "cell_type": "code",
     "collapsed": false,
     "input": [
      "%%R -h 350 -w 900\n",
      "\n",
      "getPalette = colorRampPalette(brewer.pal(5, \"Set1\"))\n",
      "\n",
      "df.all = plot_ordination(physeq.PS, nmds.all, justDF = TRUE)\n",
      "bulk_IDs = grep(\"bulk\", row.names(df.all), value=TRUE)\n",
      "df.bulk.all = df.all[bulk_IDs,]\n",
      "\n",
      "df.bulk = plot_ordination(physeq.PS.bulk, nmds.bulk, justDF = TRUE)\n",
      "\n",
      "p1 = ggplot(df.all, aes(x = NMDS1, y = NMDS2, shape = Treatment)) \n",
      "p1 = p1 + geom_point(alpha = 0.50, size = 2)\n",
      "p1 = p1 + geom_point(data = df.bulk.all, \n",
      "                     aes(color = factor(Day), shape = Treatment),\n",
      "                     size = 4)\n",
      "p1 = p1 + labs(color = \"Day\")\n",
      "p1 = p1 + scale_color_manual(values=getPalette(5))\n",
      "p1 = p1 + theme_bw()\n",
      "\n",
      "p2 = ggplot(df.bulk, aes(x = NMDS1, y = NMDS2, color = factor(Day), shape = Treatment))\n",
      "p2 = p2 + geom_point(size = 6)\n",
      "p2 = p2 + scale_color_manual(values=getPalette(5))\n",
      "p2 = p2 + theme_bw()\n",
      "p2 = p2 + theme(legend.position = \"none\")\n",
      "\n",
      "gp1 = ggplot_gtable(ggplot_build(p1))\n",
      "gp2 = ggplot_gtable(ggplot_build(p2))\n",
      "maxWidth = unit.pmax(gp1$widths[2:5], gp2$widths[2:5])\n",
      "\n",
      "gp1$widths[2:5] <- maxWidth\n",
      "gp2$widths[2:5] <- maxWidth\n",
      "\n",
      "p.combined = grid.arrange(gp1, gp2, ncol = 2)\n",
      "p.combined"
     ],
     "language": "python",
     "metadata": {},
     "outputs": [
      {
       "metadata": {},
       "output_type": "display_data",
       "text": [
        "NULL\n"
       ]
      },
      {
       "metadata": {},
       "output_type": "display_data",
       "png": "[encoded data removed]"
      },
      {
       "metadata": {},
       "output_type": "display_data",
       "png": "[encoded data removed]"
      }
     ],
     "prompt_number": 10
    },
    {
     "cell_type": "code",
     "collapsed": false,
     "input": [
      "%%R\n",
      "pdf(\"figs/bulk_ordination.pdf\", w = 13, h = 5)\n",
      "grid.arrange(gp1, gp2, ncol = 2)\n",
      "dev.off()"
     ],
     "language": "python",
     "metadata": {},
     "outputs": [
      {
       "metadata": {},
       "output_type": "display_data",
       "text": [
        "png \n",
        "  2 \n"
       ]
      }
     ],
     "prompt_number": 13
    },
    {
     "cell_type": "code",
     "collapsed": false,
     "input": [
      "FileLink(\"figs/bulk_ordination.pdf\")"
     ],
     "language": "python",
     "metadata": {},
     "outputs": [
      {
       "html": [
        "<a href='figs/bulk_ordination.pdf' target='_blank'>figs/bulk_ordination.pdf</a><br>"
       ],
       "metadata": {},
       "output_type": "pyout",
       "prompt_number": 14,
       "text": [
        "/home/chuck/working/CSIP_succession_data_analysis/figures_and_stats/figs/bulk_ordination.pdf"
       ]
      }
     ],
     "prompt_number": 14
    }
   ],
   "metadata": {}
  }
 ]
}