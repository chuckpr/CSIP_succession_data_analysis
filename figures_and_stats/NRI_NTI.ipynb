{
 "metadata": {
  "name": "",
  "signature": "sha256:80411af1f2e47a08f04594667185acaf6e4bab9cd030af0c81a9b11cd56cf5de"
 },
 "nbformat": 3,
 "nbformat_minor": 0,
 "worksheets": [
  {
   "cells": [
    {
     "cell_type": "code",
     "collapsed": false,
     "input": [
      "%load_ext rpy2.ipython"
     ],
     "language": "python",
     "metadata": {},
     "outputs": [
      {
       "output_type": "stream",
       "stream": "stderr",
       "text": [
        "/opt/anaconda/lib/python2.7/site-packages/pytz/__init__.py:29: UserWarning: Module argparse was already imported from /opt/anaconda/lib/python2.7/argparse.pyc, but /opt/anaconda/lib/python2.7/site-packages is being added to sys.path\n",
        "  from pkg_resources import resource_stream\n"
       ]
      }
     ],
     "prompt_number": 1
    },
    {
     "cell_type": "code",
     "collapsed": false,
     "input": [
      "%%R\n",
      "library(data.table)\n",
      "library(dplyr); library(tidyr)\n",
      "library(picante)\n",
      "library(ape)"
     ],
     "language": "python",
     "metadata": {},
     "outputs": [],
     "prompt_number": 23
    },
    {
     "cell_type": "code",
     "collapsed": false,
     "input": [
      "%%R\n",
      "df.l2fc = read.csv(\"../data/l2fc_table.csv\")"
     ],
     "language": "python",
     "metadata": {},
     "outputs": [],
     "prompt_number": 10
    },
    {
     "cell_type": "code",
     "collapsed": false,
     "input": [
      "%%R\n",
      "comm = df.l2fc %>%\n",
      "    filter(padj <= 0.10) %>%\n",
      "    group_by(OTU, Treatment) %>%\n",
      "    filter(row_number(OTU) == 1) %>%\n",
      "    mutate(N = 1) %>%\n",
      "    select(Treatment, OTU, N) %>%\n",
      "    group_by() %>%\n",
      "    spread(OTU, N, fill = 0)\n",
      "\n",
      "rownames(comm) = comm$Treatment\n",
      "\n",
      "comm$Treatment = NULL"
     ],
     "language": "python",
     "metadata": {},
     "outputs": [],
     "prompt_number": 29
    },
    {
     "cell_type": "code",
     "collapsed": false,
     "input": [
      "%%R\n",
      "tree = read.tree(\"../data/otusn.tree\")\n",
      "tree = drop.tip(tree,tree$tip.label[-match(unique(colnames(comm)), tree$tip.label)])"
     ],
     "language": "python",
     "metadata": {},
     "outputs": [],
     "prompt_number": 32
    },
    {
     "cell_type": "code",
     "collapsed": false,
     "input": [
      "%%R\n",
      "phy.dist = cophenetic(tree)"
     ],
     "language": "python",
     "metadata": {},
     "outputs": [],
     "prompt_number": 34
    },
    {
     "cell_type": "code",
     "collapsed": false,
     "input": [
      "%%R\n",
      "ses.mpd(comm, phy.dist, null.model = \"independentswap\", abundance.weighted = FALSE, \n",
      "    runs = 999)"
     ],
     "language": "python",
     "metadata": {},
     "outputs": [
      {
       "metadata": {},
       "output_type": "display_data",
       "text": [
        "       ntaxa   mpd.obs mpd.rand.mean mpd.rand.sd mpd.obs.rank mpd.obs.z\n",
        "13CCPS    63 0.8012136     0.9200991  0.02457202            1 -4.838247\n",
        "13CXPS    49 0.9564808     0.9099166  0.03236224          935  1.438842\n",
        "       mpd.obs.p runs\n",
        "13CCPS     0.001  999\n",
        "13CXPS     0.935  999\n"
       ]
      }
     ],
     "prompt_number": 43
    },
    {
     "cell_type": "code",
     "collapsed": false,
     "input": [
      "%%R\n",
      "ses.mntd(comm, phy.dist, null.model = \"independentswap\", abundance.weighted = FALSE, \n",
      "    runs = 999)"
     ],
     "language": "python",
     "metadata": {},
     "outputs": [
      {
       "metadata": {},
       "output_type": "display_data",
       "text": [
        "       ntaxa  mntd.obs mntd.rand.mean mntd.rand.sd mntd.obs.rank mntd.obs.z\n",
        "13CCPS    63 0.1399624      0.1597435   0.01519699           101  -1.301645\n",
        "13CXPS    49 0.1348790      0.1918926   0.02053016             2  -2.777065\n",
        "       mntd.obs.p runs\n",
        "13CCPS      0.101  999\n",
        "13CXPS      0.002  999\n"
       ]
      }
     ],
     "prompt_number": 44
    }
   ],
   "metadata": {}
  }
 ]
}