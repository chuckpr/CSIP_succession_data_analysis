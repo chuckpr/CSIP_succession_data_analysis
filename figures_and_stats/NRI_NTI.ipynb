{
 "cells": [
  {
   "cell_type": "code",
   "execution_count": 1,
   "metadata": {
    "collapsed": false
   },
   "outputs": [],
   "source": [
    "%load_ext rpy2.ipython"
   ]
  },
  {
   "cell_type": "code",
   "execution_count": 2,
   "metadata": {
    "collapsed": false
   },
   "outputs": [
    {
     "data": {
      "text/plain": [
       "data.table 1.9.4  For help type: ?data.table\n",
       "*** NB: by=.EACHI is now explicit. See README to restore previous behaviour.\n",
       "\n",
       "Attaching package: ‘dplyr’\n",
       "\n",
       "The following objects are masked from ‘package:data.table’:\n",
       "\n",
       "    between, last\n",
       "\n",
       "The following object is masked from ‘package:stats’:\n",
       "\n",
       "    filter\n",
       "\n",
       "The following objects are masked from ‘package:base’:\n",
       "\n",
       "    intersect, setdiff, setequal, union\n",
       "\n",
       "\n",
       "Attaching package: ‘magrittr’\n",
       "\n",
       "The following object is masked from ‘package:tidyr’:\n",
       "\n",
       "    extract\n",
       "\n",
       "Loading required package: ape\n",
       "Loading required package: vegan\n",
       "Loading required package: permute\n",
       "Loading required package: lattice\n",
       "This is vegan 2.2-1\n",
       "Loading required package: nlme\n",
       "\n",
       "Attaching package: ‘nlme’\n",
       "\n",
       "The following object is masked from ‘package:dplyr’:\n",
       "\n",
       "    collapse\n",
       "\n"
      ]
     },
     "metadata": {},
     "output_type": "display_data"
    }
   ],
   "source": [
    "%%R\n",
    "library(data.table)\n",
    "library(dplyr); library(tidyr)\n",
    "library(magrittr)\n",
    "library(picante)\n",
    "library(ape)"
   ]
  },
  {
   "cell_type": "code",
   "execution_count": 3,
   "metadata": {
    "collapsed": false
   },
   "outputs": [],
   "source": [
    "%%R\n",
    "df.l2fc = read.csv(\"../data/l2fc_table.csv\")"
   ]
  },
  {
   "cell_type": "code",
   "execution_count": 4,
   "metadata": {
    "collapsed": false
   },
   "outputs": [
    {
     "data": {
      "text/plain": [
       "\n",
       "Phylogenetic tree with 1048 tips and 1047 internal nodes.\n",
       "\n",
       "Tip labels:\n",
       "\tOTU.783, OTU.759, OTU.2638, OTU.79, OTU.696, OTU.1011, ...\n",
       "Node labels:\n",
       "\t0.701.5, 0.959.22, 0.594.2, 0.801.3, 0.708.2, 0.940, ...\n",
       "\n",
       "Rooted; includes branch lengths.\n"
      ]
     },
     "metadata": {},
     "output_type": "display_data"
    }
   ],
   "source": [
    "%%R\n",
    "otus = df.l2fc %>% select(OTU) %>% extract2(1) %>% unique\n",
    "tree = read.tree(\"../data/otusn.tree\") \n",
    "tree = drop.tip(tree, tree$tip.label[-match(otus, tree$tip.label)])\n",
    "write.tree(tree, \"../data/tmp/passed_sparsity.tree\")\n",
    "tree"
   ]
  },
  {
   "cell_type": "code",
   "execution_count": 34,
   "metadata": {
    "collapsed": false
   },
   "outputs": [
    {
     "data": {
      "text/plain": [
       "  Treatment ntaxa mpd.obs.z mpd.obs.p       NRI\n",
       "1    13CCPS    63 -4.626698     0.001  4.626698\n",
       "2    13CXPS    49  1.406115     0.928 -1.406115\n",
       "  Treatment ntaxa mntd.obs.z mntd.obs.p      NTI\n",
       "1    13CCPS    63  -1.338352      0.090 1.338352\n",
       "2    13CXPS    49  -2.780160      0.002 2.780160\n"
      ]
     },
     "metadata": {},
     "output_type": "display_data"
    }
   ],
   "source": [
    "%%R\n",
    "comm = df.l2fc %>%\n",
    "    filter(padj <= 0.10) %>%\n",
    "    group_by(OTU, Treatment) %>%\n",
    "    filter(row_number(OTU) == 1) %>%\n",
    "    mutate(N = 1) %>%\n",
    "    select(Treatment, OTU, N) %>%\n",
    "    group_by() %>%\n",
    "    spread(OTU, N, fill = 0)\n",
    "\n",
    "rownames(comm) = comm$Treatment\n",
    "\n",
    "comm$Treatment = NULL\n",
    "\n",
    "t = drop.tip(tree, tree$tip.label[-match(colnames(comm), tree$tip.label)])\n",
    "\n",
    "phy.dist = cophenetic(t)\n",
    "\n",
    "ses.mpd(comm, phy.dist, null.model = \"independentswap\", abundance.weighted = FALSE, \n",
    "    runs = 999) %>% \n",
    "    add_rownames(\"Treatment\") %>%\n",
    "    select(Treatment, ntaxa, mpd.obs.z, mpd.obs.p) %>%\n",
    "    mutate(NRI = mpd.obs.z * -1) %>% print\n",
    "\n",
    "ses.mntd(comm, phy.dist, null.model = \"independentswap\", abundance.weighted = FALSE, \n",
    "    runs = 999) %>%\n",
    "    add_rownames(\"Treatment\") %>%\n",
    "    select(Treatment, ntaxa, mntd.obs.z, mntd.obs.p) %>%\n",
    "    mutate(NTI = mntd.obs.z * -1) %>% print"
   ]
  },
  {
   "cell_type": "code",
   "execution_count": 88,
   "metadata": {
    "collapsed": false
   },
   "outputs": [
    {
     "data": {
      "text/plain": [
       "[1] \"Analyzing\"               \"2\"                      \n",
       "[3] \"!!!!!!!!!!!!!!!!!!!!!!!\"\n",
       "[1] \"Analyzing\"               \"3\"                      \n",
       "[3] \"!!!!!!!!!!!!!!!!!!!!!!!\"\n",
       "           [,1]\n",
       "[1,] 0.02877491\n",
       "[2,] 0.01213100\n"
      ]
     },
     "metadata": {},
     "output_type": "display_data"
    }
   ],
   "source": [
    "%%R\n",
    "library(adephylo)\n",
    "\n",
    "table = df.l2fc %>%\n",
    "    group_by(OTU, Treatment) %>%\n",
    "    filter(rank(padj, ties.method = \"first\") == 1) %>%\n",
    "    mutate(N = ifelse(padj <= 0.10, 1, 0)) %>%\n",
    "    select(Treatment, OTU, N) %>%\n",
    "    group_by() %>%\n",
    "    spread(Treatment, N, fill = 0)\n",
    "\n",
    "otus = df.l2fc %>% select(OTU) %>% extract2(1) %>% unique\n",
    "tree_all = read.tree(\"../data/otusn.tree\") \n",
    "tree_all = drop.tip(tree_all, tree_all$tip.label[-match(otus, tree_all$tip.label)])\n",
    "m = 1\n",
    "\n",
    "#######################################################################\n",
    "#\n",
    "#   THE FOLLOWING IS FROM CONSENTRAIT WEBSITE!!\n",
    "#\n",
    "#######################################################################\n",
    "\n",
    "#Starting script\n",
    "Mean_all<-matrix(nrow=ncol(table)-1,ncol=1)\n",
    "\n",
    "#for (m in 1:length(tree_all)) {#loop through all trees\n",
    "\n",
    "  tree<-tree_all #[[m]]\n",
    "# testing if table and tree contain the same entries - else drop tips\n",
    "  z<-subset(tree$tip.label,!(tree$tip.label %in% table[,1]))\n",
    "  if (length(z) > 0) {\n",
    "    drop.tip(tree,z)\n",
    "  }\n",
    "\n",
    "#rooting tree with first taxon - change if different root\n",
    "  root_tree<-root(unroot(tree),1,resolve.root=T)\n",
    "#replacing negative branch lengths - e.g., from PHYLIP\n",
    "  root_tree$edge.length[root_tree$edge.length <= 0] =  0.00001\n",
    "  subtree<-subtrees(root_tree, wait=FALSE)\n",
    "\n",
    "  cluster_mean<-numeric(length=0)\n",
    "\n",
    "# loop through all traits\n",
    "  for (j in 2:ncol(table)) {\n",
    "     print(c(\"Analyzing\",j,\"!!!!!!!!!!!!!!!!!!!!!!!\"))\n",
    "     #Loading trait table\n",
    "     table_tmp<-table[,c(1,j)]\n",
    "     colnames(table_tmp)[1]<-\"ID\";\n",
    "     colnames(table_tmp)[2]<-\"Trait\";\n",
    "     \n",
    "# removing all entries not in tree \n",
    "    table_tmp2<-data.table(table_tmp)\n",
    "     setkey(table_tmp2,ID)\n",
    "     table2<-table_tmp2[intersect(table_tmp2$ID,root_tree$tip.label)]\n",
    "     setkey(table2,ID)\n",
    "\n",
    "     #initializing result vectors and file names\n",
    "     positives<-vector(mode=\"list\",length=0)\n",
    "     cluster_size<-numeric(length=0)\n",
    "     cluster_size_file<-paste(\"R_cluster_size_\",j,\".txt\",sep=\"\")\n",
    "\n",
    "     cluster_dist<-numeric(length=0)\n",
    "     cluster_dist_file<-paste(\"R_cluster_dist_\",j,\".txt\",sep=\"\")\n",
    "\n",
    "     #loop through all subtrees and determining if any subtrees have >90% positives\n",
    "     for (i in 1:length(subtree)){\n",
    "       tip_names<-subtree[[i]]$tip.label\n",
    "       if (mean(table2[tip_names][,Trait]) > 0.9 ) {#change this value if you want a new threshold\n",
    "        match_test<-match(tip_names,positives)\n",
    "        if (all(is.na(match_test))) {\n",
    "            positives<-c(positives,tip_names)\n",
    "            cluster_dist<-distRoot(subtree[[i]],tip_names, method=c(\"p\"))\n",
    "            cluster_size<-c(cluster_size,mean(cluster_dist))\n",
    "\n",
    "            # printing to files###\n",
    "            cat(c(j,m,mean(cluster_dist),length(cluster_dist)), file = cluster_size_file, sep = \"\\t\", fill = FALSE, labels = NULL,append = TRUE)\n",
    "            cat(\"\\n\", file = cluster_size_file, fill = FALSE, labels = NULL,append = TRUE)\n",
    "\n",
    "            cat(j,m,cluster_dist, file = cluster_dist_file, sep = \"\\t\", fill = FALSE, labels = NULL,append = TRUE)\n",
    "            cat(\"\\n\", file = cluster_dist_file, fill = FALSE, labels = NULL,append = TRUE)\n",
    "\n",
    "\n",
    "            #print(cluster_dist)\n",
    "        }\n",
    "        else if (any(is.na(match_test))) {\n",
    "            print(\"some NAs - something is weird\")\n",
    "        }\n",
    "        else {\n",
    "            #print(tip_names)\n",
    "            #print(\"found cluster before\")\n",
    "        }\n",
    "      }\n",
    "    }\n",
    "\n",
    "    ##### find singletons ######\n",
    "    a<-table2[table2$Trait == 1,][,ID]\n",
    "    g<-as.character(a)\n",
    "\n",
    "    singletons_names = setdiff(g,positives)\n",
    "    if (length(singletons_names) > 0) {\n",
    "       for (h in 1:length(singletons_names)){\n",
    "           # weigh singletons with half\n",
    "           singleton_edges = 0.5*root_tree$edge.length[which.edge(root_tree,singletons_names[h])] #here we use half the distance for singletons\n",
    "           cluster_size<-c(cluster_size,singleton_edges)\n",
    "\n",
    "           cat(c(j,m,singleton_edges,1), file = cluster_size_file, sep = \"\\t\", fill = FALSE, labels = NULL,append = TRUE)\n",
    "           cat(\"\\n\", file = cluster_size_file, sep = \"\\t\", fill = FALSE, labels = NULL,append = TRUE)\n",
    "       }\n",
    "    \n",
    "    }\n",
    "  Mean_all[j-1,m] = mean(cluster_size)\n",
    "  }\n",
    "  \n",
    "#}\n",
    "#output file\n",
    "#write.table(Mean_all,\"Mean_all_bootstrap2.txt\", sep = \"\\t\")\n",
    "Mean_all"
   ]
  },
  {
   "cell_type": "code",
   "execution_count": 47,
   "metadata": {
    "collapsed": false
   },
   "outputs": [
    {
     "data": {
      "text/plain": [
       "Source: local data frame [605 x 7]\n",
       "\n",
       "        OTU 13CCPS_Planctomycetes 13CCPS_Proteobacteria 13CCPS_Verrucomicrobia\n",
       "1    OTU.10                     0                     0                      0\n",
       "2   OTU.100                     0                     1                      0\n",
       "3  OTU.1001                     0                     0                      0\n",
       "4  OTU.1004                     0                     0                      0\n",
       "5   OTU.101                     0                     0                      0\n",
       "6  OTU.1011                     0                     0                      0\n",
       "7  OTU.1012                     0                     0                      0\n",
       "8  OTU.1016                     0                     0                      0\n",
       "9  OTU.1018                     0                     0                      0\n",
       "10  OTU.102                     0                     0                      0\n",
       "..      ...                   ...                   ...                    ...\n",
       "Variables not shown: 13CXPS_Bacteroidetes (dbl), 13CXPS_Firmicutes (dbl),\n",
       "  13CXPS_Proteobacteria (dbl)\n"
      ]
     },
     "metadata": {},
     "output_type": "display_data"
    }
   ],
   "source": [
    "%%R\n",
    "df.l2fc %>%\n",
    "    group_by(OTU, Treatment, Rank2) %>%\n",
    "    filter(rank(padj, ties.method = \"first\") == 1) %>%\n",
    "    mutate(N = ifelse(padj <= 0.10, 1, 0)) %>%\n",
    "    group_by() %>%\n",
    "    mutate(cmbnd = paste(Treatment, Rank2, sep = \"_\")) %>%\n",
    "    group_by(cmbnd) %>%\n",
    "    mutate(total = sum(N)) %>%\n",
    "    filter(total >= 10) %>%\n",
    "    select(cmbnd, OTU, N) %>%\n",
    "    spread(cmbnd, N, fill = 0)"
   ]
  }
 ],
 "metadata": {
  "kernelspec": {
   "display_name": "Python 2",
   "language": "python",
   "name": "python2"
  },
  "language_info": {
   "codemirror_mode": {
    "name": "ipython",
    "version": 2
   },
   "file_extension": ".py",
   "mimetype": "text/x-python",
   "name": "python",
   "nbconvert_exporter": "python",
   "pygments_lexer": "ipython2",
   "version": "2.7.9"
  }
 },
 "nbformat": 4,
 "nbformat_minor": 0
}
