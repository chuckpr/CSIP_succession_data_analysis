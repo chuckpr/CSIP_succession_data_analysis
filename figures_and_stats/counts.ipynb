{
 "metadata": {
  "name": "",
  "signature": "sha256:c61afa3f7a67ff3f332e5e30168c9cad6a3a76718572c04093e8ed2262d82a1a"
 },
 "nbformat": 3,
 "nbformat_minor": 0,
 "worksheets": [
  {
   "cells": [
    {
     "cell_type": "code",
     "collapsed": false,
     "input": [
      "%load_ext rpy2.ipython"
     ],
     "language": "python",
     "metadata": {},
     "outputs": [
      {
       "output_type": "stream",
       "stream": "stderr",
       "text": [
        "/opt/anaconda/lib/python2.7/site-packages/pytz/__init__.py:29: UserWarning: Module argparse was already imported from /opt/anaconda/lib/python2.7/argparse.pyc, but /opt/anaconda/lib/python2.7/site-packages is being added to sys.path\n",
        "  from pkg_resources import resource_stream\n"
       ]
      }
     ],
     "prompt_number": 1
    },
    {
     "cell_type": "code",
     "collapsed": false,
     "input": [
      "%%R\n",
      "library(dplyr)\n",
      "library(ggplot2)\n",
      "library(tidyr)"
     ],
     "language": "python",
     "metadata": {},
     "outputs": [
      {
       "metadata": {},
       "output_type": "display_data",
       "text": [
        "\n",
        "Attaching package: \u2018dplyr\u2019\n",
        "\n",
        "The following object is masked from \u2018package:stats\u2019:\n",
        "\n",
        "    filter\n",
        "\n",
        "The following objects are masked from \u2018package:base\u2019:\n",
        "\n",
        "    intersect, setdiff, setequal, union\n",
        "\n"
       ]
      }
     ],
     "prompt_number": 2
    },
    {
     "cell_type": "code",
     "collapsed": false,
     "input": [
      "%%R\n",
      "l2fc.df = tbl_df(read.table(\"../data/l2fc_table.csv\",\n",
      "           sep = \",\",\n",
      "           header = TRUE))\n",
      "l2fc.df"
     ],
     "language": "python",
     "metadata": {},
     "outputs": [
      {
       "metadata": {},
       "output_type": "display_data",
       "text": [
        "Source: local data frame [5,690 x 18]\n",
        "\n",
        "   Day Treatment      OTU log2FoldChange     lfcSE    Rank1         Rank2\n",
        "1    3    13CCPS   OTU.79     1.04828817 0.4591118 Bacteria Bacteroidetes\n",
        "2    3    13CCPS   OTU.50     1.24515489 0.4992662 Bacteria Bacteroidetes\n",
        "3    3    13CCPS  OTU.162    -0.22842027 0.6758637 Bacteria Bacteroidetes\n",
        "4    3    13CCPS  OTU.156     0.67260191 0.6979471 Bacteria Bacteroidetes\n",
        "5    3    13CCPS OTU.3267     2.04336859 0.7680860 Bacteria Bacteroidetes\n",
        "6    3    13CCPS   OTU.12     1.34669191 0.4523540 Bacteria Bacteroidetes\n",
        "7    3    13CCPS  OTU.122    -0.02668078 0.6316609 Bacteria Bacteroidetes\n",
        "8    3    13CCPS  OTU.141     0.01110304 0.6964855 Bacteria Bacteroidetes\n",
        "9    3    13CCPS  OTU.121     0.99899269 0.5582008 Bacteria Bacteroidetes\n",
        "10   3    13CCPS  OTU.155     1.11678794 0.5902811 Bacteria Bacteroidetes\n",
        ".. ...       ...      ...            ...       ...      ...           ...\n",
        "Variables not shown: Rank3 (fctr), Rank4 (fctr), Rank5 (fctr), Rank6 (fctr),\n",
        "  Rank7 (fctr), Rank8 (fctr), l2fc.threshold (dbl), p (dbl), Experiment (fctr),\n",
        "  sparsity (dbl), padj (dbl)\n"
       ]
      }
     ],
     "prompt_number": 47
    },
    {
     "cell_type": "code",
     "collapsed": false,
     "input": [
      "%%R -h 600\n",
      "FDR = 0.10\n",
      "\n",
      "d = l2fc.df %>% \n",
      "    group_by(OTU, Rank2, Treatment) %>%\n",
      "    summarize(minP = min(padj)) %>%\n",
      "    group_by(Rank2, Treatment) %>%\n",
      "    summarize(N = sum(minP <= FDR)) %>%\n",
      "    group_by(Treatment) %>%\n",
      "    mutate(N.pct = N / sum(N)) %>%\n",
      "    group_by() %>%\n",
      "    filter(N > 0) %>%\n",
      "    arrange(desc(N))\n",
      "\n",
      "p = ggplot(d, aes(x = Rank2, y = N))\n",
      "\n",
      "p = p + facet_wrap(~Treatment, ncol = 1)\n",
      "\n",
      "p = p + geom_bar(stat = \"identity\")\n",
      "\n",
      "p = p + geom_text(aes(label = N, vjust = -0.25))\n",
      "\n",
      "p = p + theme_bw()\n",
      "\n",
      "p = p + scale_y_continuous(limits = c(0, max(d$N) + 2))\n",
      "\n",
      "p = p + theme(strip.text = element_text(size = 16),\n",
      "              strip.background = element_blank(),\n",
      "              axis.text.y = element_text(size = 16),\n",
      "              axis.text.x = element_text(size = 16, angle = 55, hjust = 1),\n",
      "              axis.title = element_text(size = 16))\n",
      "\n",
      "p"
     ],
     "language": "python",
     "metadata": {},
     "outputs": [
      {
       "metadata": {},
       "output_type": "display_data",
       "png": "[encoded data removed]"
      }
     ],
     "prompt_number": 48
    },
    {
     "cell_type": "code",
     "collapsed": false,
     "input": [
      "%%R\n",
      "d"
     ],
     "language": "python",
     "metadata": {},
     "outputs": [
      {
       "metadata": {},
       "output_type": "display_data",
       "text": [
        "Source: local data frame [13 x 4]\n",
        "\n",
        "             Rank2 Treatment  N      N.pct\n",
        "1   Proteobacteria    13CCPS 29 0.46031746\n",
        "2       Firmicutes    13CXPS 16 0.32653061\n",
        "3    Bacteroidetes    13CXPS 12 0.24489796\n",
        "4   Proteobacteria    13CXPS 11 0.22448980\n",
        "5   Planctomycetes    13CCPS 10 0.15873016\n",
        "6  Verrucomicrobia    13CCPS 10 0.15873016\n",
        "7   Actinobacteria    13CXPS  8 0.16326531\n",
        "8    Bacteroidetes    13CCPS  5 0.07936508\n",
        "9      Chloroflexi    13CCPS  5 0.07936508\n",
        "10  Actinobacteria    13CCPS  3 0.04761905\n",
        "11   Cyanobacteria    13CCPS  1 0.01587302\n",
        "12  Planctomycetes    13CXPS  1 0.02040816\n",
        "13 Verrucomicrobia    13CXPS  1 0.02040816\n"
       ]
      }
     ],
     "prompt_number": 40
    },
    {
     "cell_type": "code",
     "collapsed": false,
     "input": [
      "%%R\n",
      "d %>% select(Rank2, Treatment, N) %>% spread(Treatment, N)"
     ],
     "language": "python",
     "metadata": {},
     "outputs": [
      {
       "metadata": {},
       "output_type": "display_data",
       "text": [
        "Source: local data frame [8 x 3]\n",
        "\n",
        "            Rank2 13CCPS 13CXPS\n",
        "1  Actinobacteria      3      8\n",
        "2   Bacteroidetes      5     12\n",
        "3     Chloroflexi      5     NA\n",
        "4   Cyanobacteria      1     NA\n",
        "5      Firmicutes     NA     16\n",
        "6  Planctomycetes     10      1\n",
        "7  Proteobacteria     29     11\n",
        "8 Verrucomicrobia     10      1\n"
       ]
      }
     ],
     "prompt_number": 41
    },
    {
     "cell_type": "code",
     "collapsed": false,
     "input": [
      "%%R\n",
      "d %>% select(Rank2, Treatment, N.pct) %>% spread(Treatment, N.pct)"
     ],
     "language": "python",
     "metadata": {},
     "outputs": [
      {
       "metadata": {},
       "output_type": "display_data",
       "text": [
        "Source: local data frame [8 x 3]\n",
        "\n",
        "            Rank2     13CCPS     13CXPS\n",
        "1  Actinobacteria 0.04761905 0.16326531\n",
        "2   Bacteroidetes 0.07936508 0.24489796\n",
        "3     Chloroflexi 0.07936508         NA\n",
        "4   Cyanobacteria 0.01587302         NA\n",
        "5      Firmicutes         NA 0.32653061\n",
        "6  Planctomycetes 0.15873016 0.02040816\n",
        "7  Proteobacteria 0.46031746 0.22448980\n",
        "8 Verrucomicrobia 0.15873016 0.02040816\n"
       ]
      }
     ],
     "prompt_number": 42
    },
    {
     "cell_type": "code",
     "collapsed": false,
     "input": [
      "%%R\n",
      "FDR = 0.10\n",
      "\n",
      "l2fc.df %>% \n",
      "    group_by(OTU, Treatment)  %>%\n",
      "    summarize(minP = min(padj)) %>%\n",
      "    group_by(Treatment) %>%\n",
      "    summarize(N = sum(minP <= FDR))              "
     ],
     "language": "python",
     "metadata": {},
     "outputs": [
      {
       "metadata": {},
       "output_type": "display_data",
       "text": [
        "Source: local data frame [2 x 2]\n",
        "\n",
        "  Treatment  N\n",
        "1    13CCPS 63\n",
        "2    13CXPS 49\n"
       ]
      }
     ],
     "prompt_number": 43
    },
    {
     "cell_type": "code",
     "collapsed": false,
     "input": [
      "%%R\n",
      "l2fc.df %>% \n",
      "    group_by(Treatment, Day)  %>%\n",
      "    summarize(N = sum(padj <= FDR))"
     ],
     "language": "python",
     "metadata": {},
     "outputs": [
      {
       "metadata": {},
       "output_type": "display_data",
       "text": [
        "Source: local data frame [9 x 3]\n",
        "Groups: Treatment\n",
        "\n",
        "  Treatment Day  N\n",
        "1    13CCPS   3  2\n",
        "2    13CCPS   7  5\n",
        "3    13CCPS  14 42\n",
        "4    13CCPS  30 39\n",
        "5    13CXPS   1 19\n",
        "6    13CXPS   3 19\n",
        "7    13CXPS   7 15\n",
        "8    13CXPS  14  6\n",
        "9    13CXPS  30  1\n"
       ]
      }
     ],
     "prompt_number": 44
    },
    {
     "cell_type": "code",
     "collapsed": false,
     "input": [
      "%%R\n",
      "l2fc.df %>% \n",
      "    filter(Day == 3) %>%\n",
      "    group_by(Treatment, Day, Rank6, Rank2, OTU)  %>%\n",
      "    summarize(N = sum(padj <= FDR)) %>%\n",
      "    group_by() %>%\n",
      "    spread(Treatment, N) %>%\n",
      "    arrange(desc(`13CCPS`))"
     ],
     "language": "python",
     "metadata": {},
     "outputs": [
      {
       "metadata": {},
       "output_type": "display_data",
       "text": [
        "Source: local data frame [712 x 6]\n",
        "\n",
        "   Day              Rank6          Rank2      OTU 13CCPS 13CXPS\n",
        "1    3         Cellvibrio Proteobacteria    OTU.6      1      1\n",
        "2    3    Sandaracinaceae Proteobacteria   OTU.32      1      1\n",
        "3    3      Acinetobacter Proteobacteria  OTU.203      0     NA\n",
        "4    3      Adhaeribacter  Bacteroidetes   OTU.95      0      0\n",
        "5    3 Altererythrobacter Proteobacteria  OTU.347      0      0\n",
        "6    3         Arenimonas Proteobacteria   OTU.34      0      0\n",
        "7    3         Arenimonas Proteobacteria  OTU.384      0      0\n",
        "8    3         Arenimonas Proteobacteria   OTU.92      0      0\n",
        "9    3           Bacillus     Firmicutes OTU.1623      0      0\n",
        "10   3           Bacillus     Firmicutes OTU.2301      0      0\n",
        ".. ...                ...            ...      ...    ...    ...\n"
       ]
      }
     ],
     "prompt_number": 45
    },
    {
     "cell_type": "code",
     "collapsed": false,
     "input": [
      "%%R\n",
      "l2fc.df %>% \n",
      "    filter(Day == 3) %>%\n",
      "    group_by(Treatment, Day, Rank6, Rank2, OTU)  %>%\n",
      "    summarize(N = sum(padj <= FDR)) %>%\n",
      "    group_by() %>%\n",
      "    spread(Treatment, N) %>%\n",
      "    arrange(desc(`13CXPS`))"
     ],
     "language": "python",
     "metadata": {},
     "outputs": [
      {
       "metadata": {},
       "output_type": "display_data",
       "text": [
        "Source: local data frame [712 x 6]\n",
        "\n",
        "   Day           Rank6           Rank2      OTU 13CCPS 13CXPS\n",
        "1    3      Cellvibrio  Proteobacteria    OTU.6      1      1\n",
        "2    3    Chitinophaga   Bacteroidetes  OTU.183     NA      1\n",
        "3    3  Chthoniobacter Verrucomicrobia  OTU.241     NA      1\n",
        "4    3     Dyadobacter   Bacteroidetes  OTU.760     NA      1\n",
        "5    3 Ferruginibacter   Bacteroidetes OTU.5906     NA      1\n",
        "6    3 Flavisolibacter   Bacteroidetes  OTU.360     NA      1\n",
        "7    3  Flavobacterium   Bacteroidetes  OTU.107      0      1\n",
        "8    3  Flavobacterium   Bacteroidetes  OTU.131      0      1\n",
        "9    3  Flavobacterium   Bacteroidetes   OTU.14      0      1\n",
        "10   3  Flavobacterium   Bacteroidetes  OTU.159      0      1\n",
        ".. ...             ...             ...      ...    ...    ...\n"
       ]
      }
     ],
     "prompt_number": 46
    }
   ],
   "metadata": {}
  }
 ]
}