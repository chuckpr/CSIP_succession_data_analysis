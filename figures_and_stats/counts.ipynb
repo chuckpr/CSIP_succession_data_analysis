{
 "metadata": {
  "name": "",
  "signature": "sha256:c17a9394a87db2480d33b581e1a2438ef66fdc70e0c70b8e59c73a841c71dc9b"
 },
 "nbformat": 3,
 "nbformat_minor": 0,
 "worksheets": [
  {
   "cells": [
    {
     "cell_type": "code",
     "collapsed": false,
     "input": [
      "%load_ext rpy2.ipython\n",
      "from IPython.display import FileLink"
     ],
     "language": "python",
     "metadata": {},
     "outputs": [
      {
       "output_type": "stream",
       "stream": "stdout",
       "text": [
        "The rpy2.ipython extension is already loaded. To reload it, use:\n",
        "  %reload_ext rpy2.ipython\n"
       ]
      }
     ],
     "prompt_number": 189
    },
    {
     "cell_type": "code",
     "collapsed": false,
     "input": [
      "%%R\n",
      "library(dplyr)\n",
      "library(ggplot2)\n",
      "library(tidyr)"
     ],
     "language": "python",
     "metadata": {},
     "outputs": [
      {
       "metadata": {},
       "output_type": "display_data",
       "text": [
        "\n",
        "Attaching package: \u2018dplyr\u2019\n",
        "\n",
        "The following object is masked from \u2018package:stats\u2019:\n",
        "\n",
        "    filter\n",
        "\n",
        "The following objects are masked from \u2018package:base\u2019:\n",
        "\n",
        "    intersect, setdiff, setequal, union\n",
        "\n"
       ]
      }
     ],
     "prompt_number": 2
    },
    {
     "cell_type": "code",
     "collapsed": false,
     "input": [
      "%%R\n",
      "l2fc.df = tbl_df(read.table(\"../data/l2fc_table.csv\",\n",
      "           sep = \",\",\n",
      "           header = TRUE))\n",
      "l2fc.df"
     ],
     "language": "python",
     "metadata": {},
     "outputs": [
      {
       "metadata": {},
       "output_type": "display_data",
       "text": [
        "Source: local data frame [5,690 x 18]\n",
        "\n",
        "   Day Treatment      OTU log2FoldChange     lfcSE    Rank1         Rank2\n",
        "1    3    13CCPS   OTU.79     1.04828817 0.4591118 Bacteria Bacteroidetes\n",
        "2    3    13CCPS   OTU.50     1.24515489 0.4992662 Bacteria Bacteroidetes\n",
        "3    3    13CCPS  OTU.162    -0.22842027 0.6758637 Bacteria Bacteroidetes\n",
        "4    3    13CCPS  OTU.156     0.67260191 0.6979471 Bacteria Bacteroidetes\n",
        "5    3    13CCPS OTU.3267     2.04336859 0.7680860 Bacteria Bacteroidetes\n",
        "6    3    13CCPS   OTU.12     1.34669191 0.4523540 Bacteria Bacteroidetes\n",
        "7    3    13CCPS  OTU.122    -0.02668078 0.6316609 Bacteria Bacteroidetes\n",
        "8    3    13CCPS  OTU.141     0.01110304 0.6964855 Bacteria Bacteroidetes\n",
        "9    3    13CCPS  OTU.121     0.99899269 0.5582008 Bacteria Bacteroidetes\n",
        "10   3    13CCPS  OTU.155     1.11678794 0.5902811 Bacteria Bacteroidetes\n",
        ".. ...       ...      ...            ...       ...      ...           ...\n",
        "Variables not shown: Rank3 (fctr), Rank4 (fctr), Rank5 (fctr), Rank6 (fctr),\n",
        "  Rank7 (fctr), Rank8 (fctr), l2fc.threshold (dbl), p (dbl), Experiment (fctr),\n",
        "  sparsity (dbl), padj (dbl)\n"
       ]
      }
     ],
     "prompt_number": 47
    },
    {
     "cell_type": "code",
     "collapsed": false,
     "input": [
      "%%R -h 600\n",
      "FDR = 0.10\n",
      "\n",
      "d = l2fc.df %>% \n",
      "    group_by(OTU, Rank2, Treatment) %>%\n",
      "    summarize(minP = min(padj)) %>%\n",
      "    group_by(Rank2, Treatment) %>%\n",
      "    summarize(N = sum(minP <= FDR)) %>%\n",
      "    group_by(Treatment) %>%\n",
      "    mutate(N.pct = N / sum(N)) %>%\n",
      "    group_by() %>%\n",
      "    filter(N > 0) %>%\n",
      "    arrange(desc(N))\n",
      "\n",
      "p = ggplot(d, aes(x = Rank2, y = N))\n",
      "\n",
      "p = p + facet_wrap(~Treatment, ncol = 1)\n",
      "\n",
      "p = p + geom_bar(stat = \"identity\")\n",
      "\n",
      "p = p + geom_text(aes(label = N, vjust = -0.25))\n",
      "\n",
      "p = p + theme_bw()\n",
      "\n",
      "p = p + scale_y_continuous(limits = c(0, max(d$N) + 2))\n",
      "\n",
      "p = p + theme(strip.text = element_text(size = 16),\n",
      "              strip.background = element_blank(),\n",
      "              axis.text.y = element_text(size = 16),\n",
      "              axis.text.x = element_text(size = 16, angle = 55, hjust = 1),\n",
      "              axis.title = element_text(size = 16))\n",
      "\n",
      "p"
     ],
     "language": "python",
     "metadata": {},
     "outputs": [
      {
       "metadata": {},
       "output_type": "display_data",
       "png": "[encoded data removed]"
      }
     ],
     "prompt_number": 48
    },
    {
     "cell_type": "code",
     "collapsed": false,
     "input": [
      "%%R -h 600\n",
      "FDR = 0.10\n",
      "\n",
      "d = l2fc.df %>% \n",
      "    group_by(OTU, Rank2, Treatment) %>%\n",
      "    summarize(minP = min(padj)) %>%\n",
      "    group_by(Rank2, Treatment) %>%\n",
      "    summarize(N = sum(minP <= FDR)) %>%\n",
      "    group_by(Treatment) %>%\n",
      "    mutate(N.pct = N / sum(N)) %>%\n",
      "    group_by() %>%\n",
      "    filter(N > 0) %>%\n",
      "    arrange(desc(N))\n",
      "\n",
      "p = ggplot(d, aes(x = Rank2, y = N.pct))\n",
      "\n",
      "p = p + facet_wrap(~Treatment, ncol = 1)\n",
      "\n",
      "p = p + geom_bar(stat = \"identity\")\n",
      "\n",
      "p = p + geom_text(aes(label = round(N.pct, 2) * 100, vjust = -0.25))\n",
      "\n",
      "p = p + theme_bw()\n",
      "\n",
      "p = p + scale_y_continuous(limits = c(0, max(d$N.pct) + 0.1))\n",
      "\n",
      "p = p + theme(strip.text = element_text(size = 16),\n",
      "              strip.background = element_blank(),\n",
      "              axis.text.y = element_text(size = 16),\n",
      "              axis.text.x = element_text(size = 16, angle = 55, hjust = 1),\n",
      "              axis.title = element_text(size = 16))\n",
      "\n",
      "p"
     ],
     "language": "python",
     "metadata": {},
     "outputs": [
      {
       "metadata": {},
       "output_type": "display_data",
       "png": "[encoded data removed]"
      }
     ],
     "prompt_number": 119
    },
    {
     "cell_type": "code",
     "collapsed": false,
     "input": [
      "%%R\n",
      "d %>% select(Rank2, Treatment, N) %>% spread(Treatment, N)"
     ],
     "language": "python",
     "metadata": {},
     "outputs": [
      {
       "metadata": {},
       "output_type": "display_data",
       "text": [
        "Source: local data frame [8 x 3]\n",
        "\n",
        "            Rank2 13CCPS 13CXPS\n",
        "1  Actinobacteria      3      8\n",
        "2   Bacteroidetes      5     12\n",
        "3     Chloroflexi      5     NA\n",
        "4   Cyanobacteria      1     NA\n",
        "5      Firmicutes     NA     16\n",
        "6  Planctomycetes     10      1\n",
        "7  Proteobacteria     29     11\n",
        "8 Verrucomicrobia     10      1\n"
       ]
      }
     ],
     "prompt_number": 41
    },
    {
     "cell_type": "code",
     "collapsed": false,
     "input": [
      "%%R\n",
      "d %>% select(Rank2, Treatment, N.pct) %>% spread(Treatment, N.pct)"
     ],
     "language": "python",
     "metadata": {},
     "outputs": [
      {
       "metadata": {},
       "output_type": "display_data",
       "text": [
        "Source: local data frame [8 x 3]\n",
        "\n",
        "            Rank2     13CCPS     13CXPS\n",
        "1  Actinobacteria 0.04761905 0.16326531\n",
        "2   Bacteroidetes 0.07936508 0.24489796\n",
        "3     Chloroflexi 0.07936508         NA\n",
        "4   Cyanobacteria 0.01587302         NA\n",
        "5      Firmicutes         NA 0.32653061\n",
        "6  Planctomycetes 0.15873016 0.02040816\n",
        "7  Proteobacteria 0.46031746 0.22448980\n",
        "8 Verrucomicrobia 0.15873016 0.02040816\n"
       ]
      }
     ],
     "prompt_number": 42
    },
    {
     "cell_type": "code",
     "collapsed": false,
     "input": [
      "%%R\n",
      "FDR = 0.10\n",
      "\n",
      "l2fc.df %>% \n",
      "    group_by(OTU, Treatment)  %>%\n",
      "    summarize(minP = min(padj)) %>%\n",
      "    group_by(Treatment) %>%\n",
      "    summarize(N = sum(minP <= FDR))              "
     ],
     "language": "python",
     "metadata": {},
     "outputs": [
      {
       "metadata": {},
       "output_type": "display_data",
       "text": [
        "Source: local data frame [2 x 2]\n",
        "\n",
        "  Treatment  N\n",
        "1    13CCPS 63\n",
        "2    13CXPS 49\n"
       ]
      }
     ],
     "prompt_number": 43
    },
    {
     "cell_type": "code",
     "collapsed": false,
     "input": [
      "%%R\n",
      "FDR = 0.10\n",
      "\n",
      "l2fc.df %>% \n",
      "    group_by(OTU, Treatment)  %>%\n",
      "    summarize(minP = min(padj), minD = min(Day)) %>%\n",
      "    filter(minP <= FDR) %>% \n",
      "    group_by(Treatment) %>%\n",
      "    summarize(N = sum(minD %in% c(1, 3, 7)))              "
     ],
     "language": "python",
     "metadata": {},
     "outputs": [
      {
       "metadata": {},
       "output_type": "display_data",
       "text": [
        "Source: local data frame [2 x 2]\n",
        "\n",
        "  Treatment  N\n",
        "1    13CCPS 37\n",
        "2    13CXPS 49\n"
       ]
      }
     ],
     "prompt_number": 138
    },
    {
     "cell_type": "code",
     "collapsed": false,
     "input": [
      "%%R\n",
      "FDR = 0.10\n",
      "\n",
      "l2fc.df %>% \n",
      "    group_by(OTU, Treatment)  %>%\n",
      "    summarize(minP = min(padj), minD = min(Day)) %>%\n",
      "    filter(minP <= FDR) %>% \n",
      "    group_by(Treatment) %>%\n",
      "    summarize(N = sum(minD %in% c(14, 30)))              "
     ],
     "language": "python",
     "metadata": {},
     "outputs": [
      {
       "metadata": {},
       "output_type": "display_data",
       "text": [
        "Source: local data frame [2 x 2]\n",
        "\n",
        "  Treatment  N\n",
        "1    13CCPS 26\n",
        "2    13CXPS  0\n"
       ]
      }
     ],
     "prompt_number": 139
    },
    {
     "cell_type": "code",
     "collapsed": false,
     "input": [
      "%%R\n",
      "FDR = 0.10\n",
      "\n",
      "l2fc.df %>%\n",
      "    filter(padj <= FDR) %>%\n",
      "    group_by(Day, Rank2, Treatment) %>%\n",
      "    summarize(N = n()) %>%\n",
      "    group_by(Day, Treatment) %>%\n",
      "    mutate(N.rel = N / sum(N)) %>%\n",
      "    group_by() %>%\n",
      "    spread(Treatment, N.rel) %>%\n",
      "    arrange(Day, desc(`13CXPS`))"
     ],
     "language": "python",
     "metadata": {},
     "outputs": [
      {
       "metadata": {},
       "output_type": "display_data",
       "text": [
        "Source: local data frame [32 x 5]\n",
        "\n",
        "   Day           Rank2  N     13CCPS     13CXPS\n",
        "1    1      Firmicutes 16         NA 0.84210526\n",
        "2    1  Proteobacteria  2         NA 0.10526316\n",
        "3    1   Bacteroidetes  1         NA 0.05263158\n",
        "4    3   Bacteroidetes 12         NA 0.63157895\n",
        "5    3  Proteobacteria  5         NA 0.26315789\n",
        "6    3      Firmicutes  1         NA 0.05263158\n",
        "7    3 Verrucomicrobia  1         NA 0.05263158\n",
        "8    3  Proteobacteria  2 1.00000000         NA\n",
        "9    7  Actinobacteria  8         NA 0.53333333\n",
        "10   7  Proteobacteria  6         NA 0.40000000\n",
        "11   7      Firmicutes  1         NA 0.06666667\n",
        "12   7     Chloroflexi  3 0.60000000         NA\n",
        "13   7  Proteobacteria  1 0.20000000         NA\n",
        "14   7 Verrucomicrobia  1 0.20000000         NA\n",
        "15  14  Proteobacteria  2         NA 0.33333333\n",
        "16  14  Actinobacteria  1         NA 0.16666667\n",
        "17  14      Firmicutes  1         NA 0.16666667\n",
        "18  14  Planctomycetes  1         NA 0.16666667\n",
        "19  14 Verrucomicrobia  1         NA 0.16666667\n",
        "20  14  Actinobacteria  3 0.07142857         NA\n",
        "21  14     Chloroflexi  4 0.09523810         NA\n",
        "22  14   Cyanobacteria  1 0.02380952         NA\n",
        "23  14  Planctomycetes  7 0.16666667         NA\n",
        "24  14  Proteobacteria 21 0.50000000         NA\n",
        "25  14 Verrucomicrobia  6 0.14285714         NA\n",
        "26  30      Firmicutes  1         NA 1.00000000\n",
        "27  30   Bacteroidetes  5 0.12820513         NA\n",
        "28  30     Chloroflexi  5 0.12820513         NA\n",
        "29  30   Cyanobacteria  1 0.02564103         NA\n",
        "30  30  Planctomycetes  8 0.20512821         NA\n",
        "31  30  Proteobacteria 12 0.30769231         NA\n",
        "32  30 Verrucomicrobia  8 0.20512821         NA\n"
       ]
      }
     ],
     "prompt_number": 149
    },
    {
     "cell_type": "code",
     "collapsed": false,
     "input": [
      "%%R\n",
      "l2fc.df %>% \n",
      "    group_by(Treatment, Day)  %>%\n",
      "    summarize(N = sum(padj <= FDR))"
     ],
     "language": "python",
     "metadata": {},
     "outputs": [
      {
       "metadata": {},
       "output_type": "display_data",
       "text": [
        "Source: local data frame [9 x 3]\n",
        "Groups: Treatment\n",
        "\n",
        "  Treatment Day  N\n",
        "1    13CCPS   3  2\n",
        "2    13CCPS   7  5\n",
        "3    13CCPS  14 42\n",
        "4    13CCPS  30 39\n",
        "5    13CXPS   1 19\n",
        "6    13CXPS   3 19\n",
        "7    13CXPS   7 15\n",
        "8    13CXPS  14  6\n",
        "9    13CXPS  30  1\n"
       ]
      }
     ],
     "prompt_number": 44
    },
    {
     "cell_type": "code",
     "collapsed": false,
     "input": [
      "%%R\n",
      "l2fc.df %>% \n",
      "    filter(Day == 3) %>%\n",
      "    group_by(Treatment, Day, Rank6, Rank2, OTU)  %>%\n",
      "    summarize(N = sum(padj <= FDR)) %>%\n",
      "    group_by() %>%\n",
      "    spread(Treatment, N) %>%\n",
      "    arrange(desc(`13CCPS`))"
     ],
     "language": "python",
     "metadata": {},
     "outputs": [
      {
       "metadata": {},
       "output_type": "display_data",
       "text": [
        "Source: local data frame [712 x 6]\n",
        "\n",
        "   Day              Rank6          Rank2      OTU 13CCPS 13CXPS\n",
        "1    3         Cellvibrio Proteobacteria    OTU.6      1      1\n",
        "2    3    Sandaracinaceae Proteobacteria   OTU.32      1      1\n",
        "3    3      Acinetobacter Proteobacteria  OTU.203      0     NA\n",
        "4    3      Adhaeribacter  Bacteroidetes   OTU.95      0      0\n",
        "5    3 Altererythrobacter Proteobacteria  OTU.347      0      0\n",
        "6    3         Arenimonas Proteobacteria   OTU.34      0      0\n",
        "7    3         Arenimonas Proteobacteria  OTU.384      0      0\n",
        "8    3         Arenimonas Proteobacteria   OTU.92      0      0\n",
        "9    3           Bacillus     Firmicutes OTU.1623      0      0\n",
        "10   3           Bacillus     Firmicutes OTU.2301      0      0\n",
        ".. ...                ...            ...      ...    ...    ...\n"
       ]
      }
     ],
     "prompt_number": 45
    },
    {
     "cell_type": "code",
     "collapsed": false,
     "input": [
      "%%R\n",
      "l2fc.df %>% \n",
      "    filter(Day == 7) %>%\n",
      "    group_by(Treatment, Day, Rank6, Rank2, OTU)  %>%\n",
      "    summarize(N = sum(padj <= FDR)) %>%\n",
      "    group_by() %>%\n",
      "    spread(Treatment, N) %>%\n",
      "    arrange(desc(`13CCPS`))"
     ],
     "language": "python",
     "metadata": {},
     "outputs": [
      {
       "metadata": {},
       "output_type": "display_data",
       "text": [
        "Source: local data frame [775 x 6]\n",
        "\n",
        "   Day                            Rank6           Rank2      OTU 13CCPS 13CXPS\n",
        "1    7                       Cellvibrio  Proteobacteria    OTU.6      1      0\n",
        "2    7                       uncultured Verrucomicrobia   OTU.83      1      0\n",
        "3    7 uncultured_Chloroflexi_bacterium     Chloroflexi OTU.4322      1      0\n",
        "4    7 uncultured_Chloroflexi_bacterium     Chloroflexi   OTU.64      1      0\n",
        "5    7 uncultured_Chloroflexi_bacterium     Chloroflexi   OTU.98      1      0\n",
        "6    7                    Acinetobacter  Proteobacteria  OTU.485      0      0\n",
        "7    7                    Adhaeribacter   Bacteroidetes   OTU.95      0      0\n",
        "8    7                          AKYG587  Planctomycetes  OTU.553      0     NA\n",
        "9    7               Altererythrobacter  Proteobacteria  OTU.347      0      0\n",
        "10   7                      Amaricoccus  Proteobacteria OTU.5263      0      0\n",
        ".. ...                              ...             ...      ...    ...    ...\n"
       ]
      }
     ],
     "prompt_number": 49
    },
    {
     "cell_type": "code",
     "collapsed": false,
     "input": [
      "%%R\n",
      "l2fc.df %>% \n",
      "    filter(Day > 7, Treatment == \"13CCPS\") %>%\n",
      "    group_by(Treatment, Day, Rank2)  %>%\n",
      "    summarize(N = sum(padj <= FDR)) %>%\n",
      "    group_by(Day, Treatment) %>%\n",
      "    mutate(N.rel = N / sum(N)) %>%\n",
      "    group_by() %>%\n",
      "    arrange(Day, desc(N.rel))"
     ],
     "language": "python",
     "metadata": {},
     "outputs": [
      {
       "metadata": {},
       "output_type": "display_data",
       "text": [
        "Source: local data frame [34 x 5]\n",
        "\n",
        "   Treatment Day                  Rank2  N      N.rel\n",
        "1     13CCPS  14         Proteobacteria 21 0.50000000\n",
        "2     13CCPS  14         Planctomycetes  7 0.16666667\n",
        "3     13CCPS  14        Verrucomicrobia  6 0.14285714\n",
        "4     13CCPS  14            Chloroflexi  4 0.09523810\n",
        "5     13CCPS  14         Actinobacteria  3 0.07142857\n",
        "6     13CCPS  14          Cyanobacteria  1 0.02380952\n",
        "7     13CCPS  14          Acidobacteria  0 0.00000000\n",
        "8     13CCPS  14        Armatimonadetes  0 0.00000000\n",
        "9     13CCPS  14          Bacteroidetes  0 0.00000000\n",
        "10    13CCPS  14 Candidate_division_WS3  0 0.00000000\n",
        "11    13CCPS  14             Chlamydiae  0 0.00000000\n",
        "12    13CCPS  14               Chlorobi  0 0.00000000\n",
        "13    13CCPS  14             Firmicutes  0 0.00000000\n",
        "14    13CCPS  14       Gemmatimonadetes  0 0.00000000\n",
        "15    13CCPS  14            JL-ETNP-Z39  0 0.00000000\n",
        "16    13CCPS  14            Nitrospirae  0 0.00000000\n",
        "17    13CCPS  14                     NA  0 0.00000000\n",
        "18    13CCPS  30         Proteobacteria 12 0.30769231\n",
        "19    13CCPS  30         Planctomycetes  8 0.20512821\n",
        "20    13CCPS  30        Verrucomicrobia  8 0.20512821\n",
        "21    13CCPS  30          Bacteroidetes  5 0.12820513\n",
        "22    13CCPS  30            Chloroflexi  5 0.12820513\n",
        "23    13CCPS  30          Cyanobacteria  1 0.02564103\n",
        "24    13CCPS  30          Acidobacteria  0 0.00000000\n",
        "25    13CCPS  30         Actinobacteria  0 0.00000000\n",
        "26    13CCPS  30        Armatimonadetes  0 0.00000000\n",
        "27    13CCPS  30 Candidate_division_WS3  0 0.00000000\n",
        "28    13CCPS  30             Chlamydiae  0 0.00000000\n",
        "29    13CCPS  30               Chlorobi  0 0.00000000\n",
        "30    13CCPS  30             Firmicutes  0 0.00000000\n",
        "31    13CCPS  30       Gemmatimonadetes  0 0.00000000\n",
        "32    13CCPS  30            JL-ETNP-Z39  0 0.00000000\n",
        "33    13CCPS  30            Nitrospirae  0 0.00000000\n",
        "34    13CCPS  30                     NA  0 0.00000000\n"
       ]
      }
     ],
     "prompt_number": 65
    },
    {
     "cell_type": "code",
     "collapsed": false,
     "input": [
      "%%R\n",
      "l2fc.df %>% \n",
      "    filter(Day > 7, Treatment == \"13CCPS\", Rank2 == \"Proteobacteria\") %>%\n",
      "    group_by(Treatment, Day, Rank3)  %>%\n",
      "    summarize(N = sum(padj <= FDR)) %>%\n",
      "    #group_by(Day, Treatment, Rank3) %>%\n",
      "    mutate(N.rel = N / sum(N)) %>%\n",
      "    group_by() %>%\n",
      "    arrange(Day, desc(N.rel))"
     ],
     "language": "python",
     "metadata": {},
     "outputs": [
      {
       "metadata": {},
       "output_type": "display_data",
       "text": [
        "Source: local data frame [8 x 5]\n",
        "\n",
        "  Treatment Day               Rank3  N      N.rel\n",
        "1    13CCPS  14 Alphaproteobacteria 14 0.66666667\n",
        "2    13CCPS  14 Gammaproteobacteria  4 0.19047619\n",
        "3    13CCPS  14  Betaproteobacteria  3 0.14285714\n",
        "4    13CCPS  14 Deltaproteobacteria  0 0.00000000\n",
        "5    13CCPS  30 Alphaproteobacteria  5 0.41666667\n",
        "6    13CCPS  30 Deltaproteobacteria  5 0.41666667\n",
        "7    13CCPS  30  Betaproteobacteria  1 0.08333333\n",
        "8    13CCPS  30 Gammaproteobacteria  1 0.08333333\n"
       ]
      }
     ],
     "prompt_number": 75
    },
    {
     "cell_type": "code",
     "collapsed": false,
     "input": [
      "%%R\n",
      "l2fc.df %>% \n",
      "    filter(Day == 3) %>%\n",
      "    group_by(Treatment, Day, Rank6, Rank2, OTU)  %>%\n",
      "    summarize(N = sum(padj <= FDR)) %>%\n",
      "    group_by() %>%\n",
      "    spread(Treatment, N) %>%\n",
      "    arrange(desc(`13CXPS`))"
     ],
     "language": "python",
     "metadata": {},
     "outputs": [
      {
       "metadata": {},
       "output_type": "display_data",
       "text": [
        "Source: local data frame [712 x 6]\n",
        "\n",
        "   Day           Rank6           Rank2      OTU 13CCPS 13CXPS\n",
        "1    3      Cellvibrio  Proteobacteria    OTU.6      1      1\n",
        "2    3    Chitinophaga   Bacteroidetes  OTU.183     NA      1\n",
        "3    3  Chthoniobacter Verrucomicrobia  OTU.241     NA      1\n",
        "4    3     Dyadobacter   Bacteroidetes  OTU.760     NA      1\n",
        "5    3 Ferruginibacter   Bacteroidetes OTU.5906     NA      1\n",
        "6    3 Flavisolibacter   Bacteroidetes  OTU.360     NA      1\n",
        "7    3  Flavobacterium   Bacteroidetes  OTU.107      0      1\n",
        "8    3  Flavobacterium   Bacteroidetes  OTU.131      0      1\n",
        "9    3  Flavobacterium   Bacteroidetes   OTU.14      0      1\n",
        "10   3  Flavobacterium   Bacteroidetes  OTU.159      0      1\n",
        ".. ...             ...             ...      ...    ...    ...\n"
       ]
      }
     ],
     "prompt_number": 46
    },
    {
     "cell_type": "code",
     "collapsed": false,
     "input": [
      "%%R\n",
      "FDR = 0.10\n",
      "\n",
      "l2fc.df %>%\n",
      "    group_by(OTU, Treatment, Rank2) %>%\n",
      "    summarize(minP = min(padj)) %>%\n",
      "    filter(minP <= FDR) %>%\n",
      "    group_by(Treatment, Rank2) %>%\n",
      "    summarize(N = n()) %>%\n",
      "    mutate(N.rel = N / sum(N)) %>%\n",
      "    group_by() %>%\n",
      "    select(Rank2, N.rel, Treatment) %>%\n",
      "    spread(Treatment, N.rel) %>%\n",
      "    arrange(desc(`13CCPS`))"
     ],
     "language": "python",
     "metadata": {},
     "outputs": [
      {
       "metadata": {},
       "output_type": "display_data",
       "text": [
        "Source: local data frame [8 x 3]\n",
        "\n",
        "            Rank2     13CCPS     13CXPS\n",
        "1  Proteobacteria 0.46031746 0.22448980\n",
        "2  Planctomycetes 0.15873016 0.02040816\n",
        "3 Verrucomicrobia 0.15873016 0.02040816\n",
        "4   Bacteroidetes 0.07936508 0.24489796\n",
        "5     Chloroflexi 0.07936508         NA\n",
        "6  Actinobacteria 0.04761905 0.16326531\n",
        "7   Cyanobacteria 0.01587302         NA\n",
        "8      Firmicutes         NA 0.32653061\n"
       ]
      }
     ],
     "prompt_number": 102
    },
    {
     "cell_type": "code",
     "collapsed": false,
     "input": [
      "%%R\n",
      "FDR = 0.10\n",
      "\n",
      "l2fc.df %>%\n",
      "    group_by(OTU, Treatment, Rank6, Rank2) %>%\n",
      "    summarize(minP = min(padj)) %>%\n",
      "    filter(minP <= FDR, Rank2 == \"Proteobacteria\") %>%\n",
      "    group_by(Treatment, Rank6) %>%\n",
      "    summarize(N = n()) %>%\n",
      "    mutate(N.rel = N / sum(N)) %>%\n",
      "    group_by() %>%\n",
      "    select(Rank6, N.rel, Treatment) %>%\n",
      "    spread(Treatment, N.rel) %>%\n",
      "    arrange(desc(`13CCPS`))"
     ],
     "language": "python",
     "metadata": {},
     "outputs": [
      {
       "metadata": {},
       "output_type": "display_data",
       "text": [
        "Source: local data frame [16 x 3]\n",
        "\n",
        "               Rank6     13CCPS     13CXPS\n",
        "1            Devosia 0.20689655         NA\n",
        "2                 NA 0.13793103 0.54545455\n",
        "3      Asticcacaulis 0.06896552         NA\n",
        "4      Brevundimonas 0.06896552         NA\n",
        "5  Pseudoxanthomonas 0.06896552         NA\n",
        "6          Rhizobium 0.06896552 0.09090909\n",
        "7    Sandaracinaceae 0.06896552 0.09090909\n",
        "8         uncultured 0.06896552         NA\n",
        "9         Cellvibrio 0.03448276 0.09090909\n",
        "10        Dokdonella 0.03448276         NA\n",
        "11    Hydrogenophaga 0.03448276         NA\n",
        "12    Nannocystaceae 0.03448276         NA\n",
        "13     Polyangiaceae 0.03448276         NA\n",
        "14      Sphingopyxis 0.03448276         NA\n",
        "15  Stenotrophomonas 0.03448276 0.09090909\n",
        "16      Enterobacter         NA 0.09090909\n"
       ]
      }
     ],
     "prompt_number": 111
    },
    {
     "cell_type": "code",
     "collapsed": false,
     "input": [
      "%%R\n",
      "FDR = 0.10\n",
      "\n",
      "l2fc.df %>%\n",
      "    group_by(OTU, Treatment, Rank5, Rank2) %>%\n",
      "    summarize(minP = min(padj)) %>%\n",
      "    filter(minP <= FDR, Rank2 == \"Verrucomicrobia\") %>%\n",
      "    group_by(Treatment, Rank5) %>%\n",
      "    summarize(N = n()) %>%\n",
      "    mutate(N.rel = N / sum(N)) %>%\n",
      "    group_by() %>%\n",
      "    select(Rank5, N.rel, Treatment) %>%\n",
      "    spread(Treatment, N.rel) %>%\n",
      "    arrange(desc(`13CCPS`))"
     ],
     "language": "python",
     "metadata": {},
     "outputs": [
      {
       "metadata": {},
       "output_type": "display_data",
       "text": [
        "Source: local data frame [5 x 3]\n",
        "\n",
        "                     Rank5 13CCPS 13CXPS\n",
        "1 FukuN18_freshwater_group    0.4     NA\n",
        "2      Verrucomicrobiaceae    0.3     NA\n",
        "3                  01D2Z36    0.1     NA\n",
        "4      Chthoniobacteraceae    0.1      1\n",
        "5                     LD29    0.1     NA\n"
       ]
      }
     ],
     "prompt_number": 152
    },
    {
     "cell_type": "code",
     "collapsed": false,
     "input": [
      "%%R\n",
      "FDR = 0.10\n",
      "\n",
      "l2fc.df %>%\n",
      "    group_by(OTU, Treatment, Rank3, Rank2) %>%\n",
      "    summarize(minP = min(padj)) %>%\n",
      "    filter(minP <= FDR, Rank2 == \"Actinobacteria\") %>%\n",
      "    group_by(Treatment, Rank3) %>%\n",
      "    summarize(N = n()) %>%\n",
      "    group_by() %>%\n",
      "    spread(Treatment, N)"
     ],
     "language": "python",
     "metadata": {},
     "outputs": [
      {
       "metadata": {},
       "output_type": "display_data",
       "text": [
        "Source: local data frame [4 x 3]\n",
        "\n",
        "              Rank3 13CCPS 13CXPS\n",
        "1        Frankiales     NA      2\n",
        "2     Micrococcales     NA      6\n",
        "3 Pseudonocardiales      2     NA\n",
        "4  Streptomycetales      1     NA\n"
       ]
      }
     ],
     "prompt_number": 166
    },
    {
     "cell_type": "code",
     "collapsed": false,
     "input": [
      "%%R\n",
      "FDR = 0.10\n",
      "\n",
      "l2fc.df %>%\n",
      "    group_by(OTU, Treatment, Rank2, Rank3) %>%\n",
      "    summarize(minP = min(padj)) %>%\n",
      "    filter(minP <= FDR) %>%\n",
      "    group_by(OTU, Rank2, Rank3) %>%\n",
      "    summarize(N = n()) %>%\n",
      "    filter(N == 2)"
     ],
     "language": "python",
     "metadata": {},
     "outputs": [
      {
       "metadata": {},
       "output_type": "display_data",
       "text": [
        "Source: local data frame [8 x 4]\n",
        "Groups: OTU, Rank2\n",
        "\n",
        "      OTU           Rank2               Rank3 N\n",
        "1  OTU.11  Proteobacteria Gammaproteobacteria 2\n",
        "2 OTU.150  Planctomycetes    Planctomycetacia 2\n",
        "3 OTU.165  Proteobacteria Alphaproteobacteria 2\n",
        "4  OTU.19  Proteobacteria Alphaproteobacteria 2\n",
        "5 OTU.241 Verrucomicrobia      Spartobacteria 2\n",
        "6  OTU.32  Proteobacteria Deltaproteobacteria 2\n",
        "7   OTU.5  Proteobacteria  Betaproteobacteria 2\n",
        "8   OTU.6  Proteobacteria Gammaproteobacteria 2\n"
       ]
      }
     ],
     "prompt_number": 171
    },
    {
     "cell_type": "code",
     "collapsed": false,
     "input": [
      "%%R -h 525 -w 350\n",
      "FDR = 0.10\n",
      "\n",
      "d = l2fc.df %>%\n",
      "    filter(Treatment == \"13CXPS\", padj <= FDR) %>%\n",
      "    group_by(Day, Rank2) %>%\n",
      "    summarize(N = n()) %>%\n",
      "    filter(Rank2 %in% c(\"Actinobacteria\", \"Firmicutes\", \"Bacteroidetes\", \"Proteobacteria\"))\n",
      "\n",
      "p = ggplot(d, aes(x = factor(Day), y = N))\n",
      "\n",
      "p = p + facet_wrap(~Rank2, ncol = 1, scales = \"free_y\")\n",
      "\n",
      "p = p + geom_bar(stat = \"identity\")\n",
      "\n",
      "p = p + theme_bw()\n",
      "\n",
      "p = p + theme(axis.text = element_text(size = 14), \n",
      "              axis.title = element_text(size = 16),\n",
      "              strip.text = element_text(size = 16, face = \"italic\"), \n",
      "              strip.background = element_blank())\n",
      "\n",
      "p = p + labs(x = \"Day\")\n",
      "\n",
      "p"
     ],
     "language": "python",
     "metadata": {},
     "outputs": [
      {
       "metadata": {},
       "output_type": "display_data",
       "png": "[encoded data removed]"
      }
     ],
     "prompt_number": 193
    },
    {
     "cell_type": "code",
     "collapsed": false,
     "input": [
      "%%R\n",
      "ggsave(\"figs/xylose_rspndr_bar.pdf\", p, h = 6, w = 4)"
     ],
     "language": "python",
     "metadata": {},
     "outputs": []
    },
    {
     "cell_type": "code",
     "collapsed": false,
     "input": [
      "FileLink(\"figs/xylose_rspndr_bar.pdf\")"
     ],
     "language": "python",
     "metadata": {},
     "outputs": [
      {
       "html": [
        "<a href='figs/xylose_rspndr_bar.pdf' target='_blank'>figs/xylose_rspndr_bar.pdf</a><br>"
       ],
       "metadata": {},
       "output_type": "pyout",
       "prompt_number": 192,
       "text": [
        "/home/chuck/working/CSIP_succession_data_analysis/figures_and_stats/figs/xylose_rspndr_bar.pdf"
       ]
      }
     ],
     "prompt_number": 192
    }
   ],
   "metadata": {}
  }
 ]
}