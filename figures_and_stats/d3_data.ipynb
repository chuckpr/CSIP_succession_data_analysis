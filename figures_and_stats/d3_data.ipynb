{
 "metadata": {
  "name": "",
  "signature": "sha256:280ecb6a6cdba84b795ecb1e34212c8a0209d6abf1a4f2ddccf5ba6d8bd3d02e"
 },
 "nbformat": 3,
 "nbformat_minor": 0,
 "worksheets": [
  {
   "cells": [
    {
     "cell_type": "code",
     "collapsed": false,
     "input": [
      "from IPython.display import FileLink"
     ],
     "language": "python",
     "metadata": {},
     "outputs": [],
     "prompt_number": 2
    },
    {
     "cell_type": "code",
     "collapsed": false,
     "input": [
      "%load_ext rpy2.ipython"
     ],
     "language": "python",
     "metadata": {},
     "outputs": [
      {
       "output_type": "stream",
       "stream": "stderr",
       "text": [
        "/opt/anaconda/lib/python2.7/site-packages/pytz/__init__.py:29: UserWarning: Module argparse was already imported from /opt/anaconda/lib/python2.7/argparse.pyc, but /opt/anaconda/lib/python2.7/site-packages is being added to sys.path\n",
        "  from pkg_resources import resource_stream\n"
       ]
      }
     ],
     "prompt_number": 3
    },
    {
     "cell_type": "code",
     "collapsed": false,
     "input": [
      "%%R\n",
      "library(RJSONIO)\n",
      "library(dplyr)\n",
      "library(tidyr)"
     ],
     "language": "python",
     "metadata": {},
     "outputs": [
      {
       "metadata": {},
       "output_type": "display_data",
       "text": [
        "\n",
        "Attaching package: \u2018dplyr\u2019\n",
        "\n",
        "The following object is masked from \u2018package:stats\u2019:\n",
        "\n",
        "    filter\n",
        "\n",
        "The following objects are masked from \u2018package:base\u2019:\n",
        "\n",
        "    intersect, setdiff, setequal, union\n",
        "\n"
       ]
      }
     ],
     "prompt_number": 4
    },
    {
     "cell_type": "code",
     "collapsed": false,
     "input": [
      "%%R\n",
      "df.l2fc = read.csv(\"../data/l2fc_table.csv\",\n",
      "                   stringsAsFactors = FALSE)"
     ],
     "language": "python",
     "metadata": {},
     "outputs": [],
     "prompt_number": 5
    },
    {
     "cell_type": "code",
     "collapsed": false,
     "input": [
      "%%R\n",
      "makeList<-function(x){\n",
      "  if(ncol(x)>2){\n",
      "    listSplit<-split(x[-1],x[1],drop=T)\n",
      "    lapply(names(listSplit),function(y){list(name=y,children=makeList(listSplit[[y]]))})\n",
      "  }else{\n",
      "    lapply(seq(nrow(x[1])),function(y){list(name=x[,1][y],size=x[,2][y])})\n",
      "  }\n",
      "}"
     ],
     "language": "python",
     "metadata": {},
     "outputs": [],
     "prompt_number": 6
    },
    {
     "cell_type": "code",
     "collapsed": false,
     "input": [
      "%%R\n",
      "FDR = 0.10 \n",
      "\n",
      "d = df.l2fc %>%\n",
      "    filter(padj <= FDR) %>%\n",
      "    group_by(OTU, Treatment) %>%\n",
      "    filter(row_number() == 1) %>%\n",
      "    group_by(Treatment, Rank2, Rank3, Rank4, Rank5, Rank6, OTU) %>%\n",
      "    summarize(size = n()) %>%\n",
      "    group_by()\n",
      "\n",
      "d = data.frame(d)"
     ],
     "language": "python",
     "metadata": {},
     "outputs": [],
     "prompt_number": 7
    },
    {
     "cell_type": "code",
     "collapsed": false,
     "input": [
      "%%R\n",
      "head(d)"
     ],
     "language": "python",
     "metadata": {},
     "outputs": [
      {
       "metadata": {},
       "output_type": "display_data",
       "text": [
        "  Treatment          Rank2             Rank3              Rank4         Rank5\n",
        "1    13CCPS Actinobacteria Pseudonocardiales Pseudonocardiaceae       Lentzea\n",
        "2    13CCPS Actinobacteria Pseudonocardiales Pseudonocardiaceae          <NA>\n",
        "3    13CCPS Actinobacteria  Streptomycetales  Streptomycetaceae  Streptomyces\n",
        "4    13CCPS  Bacteroidetes        Cytophagia       Cytophagales Cytophagaceae\n",
        "5    13CCPS  Bacteroidetes        Cytophagia       Cytophagales Cytophagaceae\n",
        "6    13CCPS  Bacteroidetes        Cytophagia       Cytophagales Cytophagaceae\n",
        "          Rank6     OTU size\n",
        "1          <NA> OTU.257    1\n",
        "2          <NA> OTU.862    1\n",
        "3          <NA> OTU.132    1\n",
        "4 Adhaeribacter OTU.573    1\n",
        "5   Flexibacter OTU.465    1\n",
        "6   Flexibacter OTU.669    1\n"
       ]
      }
     ],
     "prompt_number": 8
    },
    {
     "cell_type": "code",
     "collapsed": false,
     "input": [
      "%%R\n",
      "d[is.na(d)] = \"unassigned\""
     ],
     "language": "python",
     "metadata": {},
     "outputs": [],
     "prompt_number": 9
    },
    {
     "cell_type": "code",
     "collapsed": false,
     "input": [
      "%%R\n",
      "jsonOut = toJSON(list(name=\"test\",children=makeList(data.frame(d))))"
     ],
     "language": "python",
     "metadata": {},
     "outputs": [],
     "prompt_number": 10
    },
    {
     "cell_type": "code",
     "collapsed": false,
     "input": [
      "%%R\n",
      "write(jsonOut, \"../d3/0b537efc6b74be88ccc3/readme.json\")"
     ],
     "language": "python",
     "metadata": {},
     "outputs": [],
     "prompt_number": 11
    },
    {
     "cell_type": "code",
     "collapsed": false,
     "input": [
      "!head ../d3/0b537efc6b74be88ccc3/readme.json"
     ],
     "language": "python",
     "metadata": {},
     "outputs": [
      {
       "output_type": "stream",
       "stream": "stdout",
       "text": [
        "{\r\n",
        " \"name\": \"test\",\r\n",
        "\"children\": [\r\n",
        " {\r\n",
        " \"name\": \"13CCPS\",\r\n",
        "\"children\": [\r\n",
        " {\r\n",
        " \"name\": \"Actinobacteria\",\r\n",
        "\"children\": [\r\n",
        " {\r\n"
       ]
      }
     ],
     "prompt_number": 12
    },
    {
     "cell_type": "code",
     "collapsed": false,
     "input": [
      "%%R\n",
      "d = df.l2fc %>%\n",
      "    filter(padj <= FDR) %>%\n",
      "    group_by(Day, Treatment) %>%\n",
      "    summarize(count = n()) %>%\n",
      "    group_by() %>%\n",
      "    spread(Treatment, count)\n",
      "\n",
      "d = data.frame(d)\n",
      "\n",
      "d[is.na(d)] = 0\n",
      "\n",
      "write.csv(d, \"../d3/rspndr-cnt_bar/readme.csv\", row.names = FALSE)"
     ],
     "language": "python",
     "metadata": {},
     "outputs": [],
     "prompt_number": 13
    },
    {
     "cell_type": "code",
     "collapsed": false,
     "input": [
      "%%R\n",
      "mdf = tbl_df(read.csv(\"../data/mdf.csv\")) %>%\n",
      "    group_by(Sample) %>%\n",
      "    mutate(Abundance = Abundance / sum(Abundance))\n",
      "mdf"
     ],
     "language": "python",
     "metadata": {},
     "outputs": [
      {
       "metadata": {},
       "output_type": "display_data",
       "text": [
        "Source: local data frame [2,195,072 x 18]\n",
        "Groups: Sample\n",
        "\n",
        "     OTU       Sample  Abundance   X.SampleID BarcodeSequence Day Density\n",
        "1  OTU.1  cont.PS.3.6 0.21196162  cont.PS.3.6      TCAGAGACTG   3  1.7515\n",
        "2  OTU.1  cont.PS.3.7 0.21941703  cont.PS.3.7      TCAGAGAGAG   3  1.7450\n",
        "3  OTU.6 13C.PS.14.10 0.33241947 13C.PS.14.10      TCAAGGATGC  14  1.7297\n",
        "4  OTU.1  13X.PS.7.11 0.33987233  13X.PS.7.11      TCACTGGAGA   7  1.7209\n",
        "5  OTU.1  13X.PS.7.12 0.35603080  13X.PS.7.12      TCACTGGTCA   7  1.7177\n",
        "6  OTU.1 cont.PS.30.8 0.15380078 cont.PS.30.8      TCAACGATCC  30  1.7461\n",
        "7  OTU.1  13C.PS.7.18 0.13405933  13C.PS.7.18      TCACACTGAC   7  1.7122\n",
        "8  OTU.2  cont.PS.3.6 0.04141115  cont.PS.3.6      TCAGAGACTG   3  1.7515\n",
        "9  OTU.1  13X.PS.1.12 0.28652988  13X.PS.1.12      TCACTCACAG   1  1.7231\n",
        "10 OTU.1 cont.PS.30.7 0.17144121 cont.PS.30.7      TCAACCATCG  30  1.7526\n",
        "..   ...          ...        ...          ...             ... ...     ...\n",
        "Variables not shown: LinkerPrimerSequence (fctr), Treatment (fctr), Description\n",
        "  (fctr), Rank1 (fctr), Rank2 (fctr), Rank3 (fctr), Rank4 (fctr), Rank5 (fctr),\n",
        "  Rank6 (fctr), Rank7 (fctr), Rank8 (fctr)\n"
       ]
      }
     ],
     "prompt_number": 14
    },
    {
     "cell_type": "code",
     "collapsed": false,
     "input": [
      "%%R\n",
      "t = c(\"13CCPS\", \"12CCPS\")\n",
      "\n",
      "d = df.l2fc %>% \n",
      "    filter(padj <= FDR, Treatment %in% t) %>%\n",
      "    group_by(OTU) %>%\n",
      "    mutate(r = rank(desc(log2FoldChange), ties.method = \"first\")) %>%\n",
      "    filter(r == 1) %>%\n",
      "    select(OTU, Day)\n",
      "\n",
      "d = inner_join(mdf %>% filter(Treatment %in% t), d) %>% \n",
      "    select(OTU, Day, Treatment, Density, Abundance) %>% \n",
      "    filter(!is.na(Density))\n",
      "\n",
      "write.csv(d, \"../d3/density_profile.csv\")"
     ],
     "language": "python",
     "metadata": {},
     "outputs": [
      {
       "metadata": {},
       "output_type": "display_data",
       "text": [
        "Joining by: c(\"OTU\", \"Day\")\n"
       ]
      }
     ],
     "prompt_number": 17
    },
    {
     "cell_type": "code",
     "collapsed": false,
     "input": [
      "!wc -l ../d3/density_profile.csv\n",
      "!head ../d3/density_profile.csv"
     ],
     "language": "python",
     "metadata": {},
     "outputs": [
      {
       "output_type": "stream",
       "stream": "stdout",
       "text": [
        "2521 ../d3/density_profile.csv\r\n"
       ]
      },
      {
       "output_type": "stream",
       "stream": "stdout",
       "text": [
        "\"\",\"Sample\",\"OTU\",\"Day\",\"Treatment\",\"Density\",\"Abundance\"\r\n",
        "\"1\",\"13C.PS.7.12\",\"OTU.6\",7,\"13CCPS\",1.733,0.226813317479191\r\n",
        "\"2\",\"13C.PS.14.23\",\"OTU.5\",14,\"13CCPS\",1.6783,0.0829378531073446\r\n",
        "\"3\",\"13C.PS.14.22\",\"OTU.5\",14,\"13CCPS\",1.6816,0.0966292134831461\r\n",
        "\"4\",\"13C.PS.7.14\",\"OTU.6\",7,\"13CCPS\",1.7242,0.0931174089068826\r\n",
        "\"5\",\"13C.PS.7.13\",\"OTU.6\",7,\"13CCPS\",1.7286,0.172578444747613\r\n",
        "\"6\",\"13C.PS.14.10\",\"OTU.120\",14,\"13CCPS\",1.7297,0.0283299063285355\r\n",
        "\"7\",\"13C.PS.14.10\",\"OTU.114\",14,\"13CCPS\",1.7297,0.0243317340644277\r\n",
        "\"8\",\"13C.PS.14.21\",\"OTU.5\",14,\"13CCPS\",1.686,0.0901360544217687\r\n",
        "\"9\",\"13C.PS.14.23\",\"OTU.11\",14,\"13CCPS\",1.6783,0.0467796610169492\r\n"
       ]
      }
     ],
     "prompt_number": 18
    },
    {
     "cell_type": "code",
     "collapsed": false,
     "input": [
      "FileLink(\"../d3/density_profile.csv\")"
     ],
     "language": "python",
     "metadata": {},
     "outputs": [
      {
       "html": [
        "<a href='../d3/density_profile.csv' target='_blank'>../d3/density_profile.csv</a><br>"
       ],
       "metadata": {},
       "output_type": "pyout",
       "prompt_number": 30,
       "text": [
        "/home/chuck/working/CSIP_succession_data_analysis/d3/density_profile.csv"
       ]
      }
     ],
     "prompt_number": 30
    },
    {
     "cell_type": "code",
     "collapsed": false,
     "input": [
      "%%R\n",
      "d = df.l2fc %>%\n",
      "    filter(Treatment == \"13CCPS\") %>%\n",
      "    group_by(OTU) %>%\n",
      "    filter(rank(desc(log2FoldChange)) == 1) %>%\n",
      "    select(Day, log2FoldChange, OTU, Rank2, Treatment) %>%\n",
      "    group_by() %>%\n",
      "    arrange(desc(log2FoldChange))\n",
      "write.csv(d, \"../d3/maxl2fc_13CCPS.csv\", row.names = FALSE)"
     ],
     "language": "python",
     "metadata": {},
     "outputs": [],
     "prompt_number": 34
    },
    {
     "cell_type": "code",
     "collapsed": false,
     "input": [
      "FileLink(\"../d3/maxl2fc_13CCPS.csv\")"
     ],
     "language": "python",
     "metadata": {},
     "outputs": [
      {
       "html": [
        "<a href='../d3/maxl2fc_13CCPS.csv' target='_blank'>../d3/maxl2fc_13CCPS.csv</a><br>"
       ],
       "metadata": {},
       "output_type": "pyout",
       "prompt_number": 32,
       "text": [
        "/home/chuck/working/CSIP_succession_data_analysis/d3/maxl2fc_13CCPS.csv"
       ]
      }
     ],
     "prompt_number": 32
    },
    {
     "cell_type": "code",
     "collapsed": false,
     "input": [
      "FileLink(\"../data/l2fc_table.csv\")"
     ],
     "language": "python",
     "metadata": {},
     "outputs": [
      {
       "html": [
        "<a href='../data/l2fc_table.csv' target='_blank'>../data/l2fc_table.csv</a><br>"
       ],
       "metadata": {},
       "output_type": "pyout",
       "prompt_number": 35,
       "text": [
        "/home/chuck/working/CSIP_succession_data_analysis/data/l2fc_table.csv"
       ]
      }
     ],
     "prompt_number": 35
    },
    {
     "cell_type": "code",
     "collapsed": false,
     "input": [
      "%%R\n",
      "d = df.l2fc %>%\n",
      "    arrange(desc(log2FoldChange))\n",
      "write.csv(d, \"../d3/l2fc_sorted.csv\", row.names = FALSE)"
     ],
     "language": "python",
     "metadata": {},
     "outputs": [],
     "prompt_number": 38
    },
    {
     "cell_type": "code",
     "collapsed": false,
     "input": [
      "FileLink(\"../d3/l2fc_sorted.csv\")"
     ],
     "language": "python",
     "metadata": {},
     "outputs": [
      {
       "html": [
        "<a href='../d3/l2fc_sorted.csv' target='_blank'>../d3/l2fc_sorted.csv</a><br>"
       ],
       "metadata": {},
       "output_type": "pyout",
       "prompt_number": 39,
       "text": [
        "/home/chuck/working/CSIP_succession_data_analysis/d3/l2fc_sorted.csv"
       ]
      }
     ],
     "prompt_number": 39
    }
   ],
   "metadata": {}
  }
 ]
}