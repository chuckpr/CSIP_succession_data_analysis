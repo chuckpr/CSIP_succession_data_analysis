{
 "metadata": {
  "name": "",
  "signature": "sha256:48b7f0939fd2072e65d8129803b5060ac96ef9bf60a1628274ffdde85c3005d5"
 },
 "nbformat": 3,
 "nbformat_minor": 0,
 "worksheets": [
  {
   "cells": [
    {
     "cell_type": "code",
     "collapsed": false,
     "input": [
      "%load_ext rpy2.ipython"
     ],
     "language": "python",
     "metadata": {},
     "outputs": [
      {
       "output_type": "stream",
       "stream": "stderr",
       "text": [
        "/opt/anaconda/lib/python2.7/site-packages/pytz/__init__.py:29: UserWarning: Module argparse was already imported from /opt/anaconda/lib/python2.7/argparse.pyc, but /opt/anaconda/lib/python2.7/site-packages is being added to sys.path\n",
        "  from pkg_resources import resource_stream\n"
       ]
      }
     ],
     "prompt_number": 1
    },
    {
     "cell_type": "code",
     "collapsed": false,
     "input": [
      "%%R\n",
      "library(dplyr)\n",
      "library(ggplot2)\n",
      "library(tidyr)\n",
      "library(grid)"
     ],
     "language": "python",
     "metadata": {},
     "outputs": [],
     "prompt_number": 66
    },
    {
     "cell_type": "code",
     "collapsed": false,
     "input": [
      "%%R\n",
      "l2fc.df = read.table(\"../data/l2fc_table.csv\", \n",
      "                     sep = \",\", \n",
      "                     header = TRUE)\n",
      "\n",
      "non.rspndr = l2fc.df %>% \n",
      "    select(log2FoldChange, lfcSE, OTU, Day, Treatment) %>%\n",
      "    mutate(p.below = pnorm(log2FoldChange, 0.75, lfcSE, lower.tail = TRUE)) %>%\n",
      "    group_by(Treatment) %>%\n",
      "    mutate(padj.below = p.adjust(p.below, method = \"BH\")) %>%\n",
      "    select(OTU, Day, Treatment, p.below, padj.below)\n",
      "\n",
      "non.rspndr"
     ],
     "language": "python",
     "metadata": {},
     "outputs": [
      {
       "metadata": {},
       "output_type": "display_data",
       "text": [
        "Source: local data frame [4,888 x 5]\n",
        "Groups: Treatment\n",
        "\n",
        "       OTU Day Treatment    p.below padj.below\n",
        "1   OTU.79   3    13CCPS 0.69235605  0.8080852\n",
        "2   OTU.50   3    13CCPS 0.81616423  0.9208914\n",
        "3  OTU.162   3    13CCPS 0.04861547  0.1028849\n",
        "4  OTU.156   3    13CCPS 0.40379962  0.5192327\n",
        "5   OTU.12   3    13CCPS 0.89822274  0.9919935\n",
        "6  OTU.122   3    13CCPS 0.08199794  0.1518574\n",
        "7  OTU.121   3    13CCPS 0.63145076  0.7464295\n",
        "8  OTU.155   3    13CCPS 0.69805913  0.8123731\n",
        "9  OTU.978   3    13CCPS 0.24981594  0.3565406\n",
        "10  OTU.80   3    13CCPS 0.89009370  0.9857100\n",
        "..     ... ...       ...        ...        ...\n"
       ]
      }
     ],
     "prompt_number": 18
    },
    {
     "cell_type": "code",
     "collapsed": false,
     "input": [
      "%%R\n",
      "write.table(non.rspndr, \"../data/non_rspndr.csv\", sep = \",\", row.names = FALSE)"
     ],
     "language": "python",
     "metadata": {},
     "outputs": [],
     "prompt_number": 42
    },
    {
     "cell_type": "code",
     "collapsed": false,
     "input": [
      "!head ../data/non_rspndr.csv"
     ],
     "language": "python",
     "metadata": {},
     "outputs": [
      {
       "output_type": "stream",
       "stream": "stdout",
       "text": [
        "\"OTU\",\"Day\",\"Treatment\",\"p.below\",\"padj.below\"\r\n",
        "\"OTU.79\",3,\"13CCPS\",0.692356054568734,0.808085152125412\r\n",
        "\"OTU.50\",3,\"13CCPS\",0.816164226931878,0.920891410514736\r\n",
        "\"OTU.162\",3,\"13CCPS\",0.0486154657482666,0.102884888746552\r\n",
        "\"OTU.156\",3,\"13CCPS\",0.403799618544459,0.519232700076976\r\n",
        "\"OTU.12\",3,\"13CCPS\",0.898222735383869,0.991993530617261\r\n",
        "\"OTU.122\",3,\"13CCPS\",0.0819979361475726,0.151857396011156\r\n",
        "\"OTU.121\",3,\"13CCPS\",0.631450762574963,0.746429493949341\r\n",
        "\"OTU.155\",3,\"13CCPS\",0.698059129614617,0.812373076227863\r\n",
        "\"OTU.978\",3,\"13CCPS\",0.249815944723367,0.356540641251056\r\n"
       ]
      }
     ],
     "prompt_number": 43
    },
    {
     "cell_type": "code",
     "collapsed": false,
     "input": [
      "%%R -w 900 -h 300\n",
      "FDR = 0.10\n",
      "\n",
      "d = non.rspndr %>%\n",
      "    group_by(Day, Treatment) %>%\n",
      "    summarize(non.rspndr = sum(padj.below <= FDR),\n",
      "              passed.sparsity = n()) %>%\n",
      "    gather(type, count, non.rspndr:passed.sparsity)\n",
      "\n",
      "p = ggplot(d, aes(x = factor(Day), y = count, fill = type))\n",
      "\n",
      "p = p + facet_grid(. ~ Treatment, scales = \"free_x\", space = \"free\")\n",
      "\n",
      "p = p + geom_bar(stat = \"identity\", position = \"dodge\")\n",
      "\n",
      "p = p + theme_bw()\n",
      "\n",
      "p = p + theme(strip.background = element_blank(),\n",
      "              strip.text = element_text(size = 14),\n",
      "              axis.text = element_text(size = 12),\n",
      "              legend.title = element_text(size = 14),\n",
      "              axis.title = element_text(size = 14),\n",
      "              legend.text = element_text(size = 12),\n",
      "              panel.border = element_rect(size = 1.5),\n",
      "              panel.margin = unit(1, \"cm\"))\n",
      "\n",
      "\n",
      "p"
     ],
     "language": "python",
     "metadata": {},
     "outputs": [
      {
       "metadata": {},
       "output_type": "display_data",
       "png": "[encoded data removed]"
      }
     ],
     "prompt_number": 69
    },
    {
     "cell_type": "code",
     "collapsed": false,
     "input": [
      "%%R\n",
      "d.cmbd = left_join(l2fc.df, non.rspndr)"
     ],
     "language": "python",
     "metadata": {},
     "outputs": [
      {
       "metadata": {},
       "output_type": "display_data",
       "text": [
        "Joining by: c(\"Day\", \"Treatment\", \"OTU\")\n"
       ]
      }
     ],
     "prompt_number": 48
    },
    {
     "cell_type": "code",
     "collapsed": false,
     "input": [
      "%%R -w 900 -h 300\n",
      "FDR = 0.10\n",
      "\n",
      "d = d.cmbd %>%\n",
      "    group_by(Day, Treatment) %>%\n",
      "    summarize(non.rspndr = sum(padj.below <= FDR),\n",
      "              rspndr = sum(padj <= FDR),\n",
      "              passed.sparsity = n()) %>%\n",
      "    gather(type, count, non.rspndr:passed.sparsity)\n",
      "\n",
      "p = ggplot(d, aes(x = factor(Day), y = count, fill = type))\n",
      "\n",
      "p = p + facet_grid(. ~ Treatment, scales = \"free_x\", space = \"free\")\n",
      "\n",
      "p = p + geom_bar(stat = \"identity\", position = \"dodge\")\n",
      "\n",
      "p = p + theme_bw()\n",
      "\n",
      "p = p + theme(strip.background = element_blank(),\n",
      "              strip.text = element_text(size = 14),\n",
      "              axis.text = element_text(size = 12),\n",
      "              legend.title = element_text(size = 14),\n",
      "              axis.title = element_text(size = 14),\n",
      "              legend.text = element_text(size = 12),\n",
      "              panel.border = element_rect(size = 1.5),\n",
      "              panel.margin = unit(1, \"cm\"))\n",
      "\n",
      "p = p + scale_y_log10()\n",
      "\n",
      "p"
     ],
     "language": "python",
     "metadata": {},
     "outputs": [
      {
       "metadata": {},
       "output_type": "display_data",
       "png": "[encoded data removed]"
      }
     ],
     "prompt_number": 68
    }
   ],
   "metadata": {}
  }
 ]
}