{
 "metadata": {
  "name": "",
  "signature": "sha256:460a371ec18707d21efdf83575690c7afcb48745b8914d5604daf2177cf9ead0"
 },
 "nbformat": 3,
 "nbformat_minor": 0,
 "worksheets": [
  {
   "cells": [
    {
     "cell_type": "code",
     "collapsed": false,
     "input": [
      "%load_ext rpy2.ipython"
     ],
     "language": "python",
     "metadata": {},
     "outputs": [
      {
       "output_type": "stream",
       "stream": "stderr",
       "text": [
        "/opt/anaconda/lib/python2.7/site-packages/pytz/__init__.py:29: UserWarning: Module argparse was already imported from /opt/anaconda/lib/python2.7/argparse.pyc, but /opt/anaconda/lib/python2.7/site-packages is being added to sys.path\n",
        "  from pkg_resources import resource_stream\n"
       ]
      }
     ],
     "prompt_number": 1
    },
    {
     "cell_type": "code",
     "collapsed": false,
     "input": [
      "%%R\n",
      "library(dplyr)\n",
      "library(ggplot2)\n",
      "library(tidyr)\n",
      "library(grid)"
     ],
     "language": "python",
     "metadata": {},
     "outputs": [
      {
       "metadata": {},
       "output_type": "display_data",
       "text": [
        "\n",
        "Attaching package: \u2018dplyr\u2019\n",
        "\n",
        "The following object is masked from \u2018package:stats\u2019:\n",
        "\n",
        "    filter\n",
        "\n",
        "The following objects are masked from \u2018package:base\u2019:\n",
        "\n",
        "    intersect, setdiff, setequal, union\n",
        "\n"
       ]
      }
     ],
     "prompt_number": 2
    },
    {
     "cell_type": "code",
     "collapsed": false,
     "input": [
      "%%R\n",
      "l2fc.df = read.table(\"../data/l2fc_table.csv\", \n",
      "                     sep = \",\", \n",
      "                     header = TRUE)\n",
      "\n",
      "l2fc.threshold = l2fc.df$l2fc.threshold[1]\n",
      "\n",
      "non.rspndr = l2fc.df %>% \n",
      "    select(log2FoldChange, lfcSE, OTU, Day, Treatment) %>%\n",
      "    mutate(p.below = pnorm(log2FoldChange, l2fc.threshold, lfcSE, lower.tail = TRUE)) %>%\n",
      "    group_by(Treatment) %>%\n",
      "    mutate(padj.below = p.adjust(p.below, method = \"BH\")) %>%\n",
      "    select(OTU, Day, Treatment, p.below, padj.below)\n",
      "\n",
      "non.rspndr"
     ],
     "language": "python",
     "metadata": {},
     "outputs": [
      {
       "metadata": {},
       "output_type": "display_data",
       "text": [
        "Source: local data frame [5,690 x 5]\n",
        "Groups: Treatment\n",
        "\n",
        "        OTU Day Treatment    p.below padj.below\n",
        "1    OTU.79   3    13CCPS 0.58747260 0.68464294\n",
        "2    OTU.50   3    13CCPS 0.72494065 0.81566870\n",
        "3   OTU.162   3    13CCPS 0.04103098 0.08345746\n",
        "4   OTU.156   3    13CCPS 0.34720886 0.44264334\n",
        "5  OTU.3267   3    13CCPS 0.92330524 0.99248145\n",
        "6    OTU.12   3    13CCPS 0.81165707 0.89612377\n",
        "7   OTU.122   3    13CCPS 0.06164037 0.11378812\n",
        "8   OTU.141   3    13CCPS 0.08956182 0.15115872\n",
        "9   OTU.121   3    13CCPS 0.53724586 0.63195998\n",
        "10  OTU.155   3    13CCPS 0.61331670 0.71027769\n",
        "..      ... ...       ...        ...        ...\n"
       ]
      }
     ],
     "prompt_number": 3
    },
    {
     "cell_type": "code",
     "collapsed": false,
     "input": [
      "%%R\n",
      "write.table(non.rspndr, \"../data/non_rspndr.csv\", sep = \",\", row.names = FALSE)"
     ],
     "language": "python",
     "metadata": {},
     "outputs": [],
     "prompt_number": 4
    },
    {
     "cell_type": "code",
     "collapsed": false,
     "input": [
      "!head ../data/non_rspndr.csv"
     ],
     "language": "python",
     "metadata": {},
     "outputs": [
      {
       "output_type": "stream",
       "stream": "stdout",
       "text": [
        "\"OTU\",\"Day\",\"Treatment\",\"p.below\",\"padj.below\"\r\n",
        "\"OTU.79\",3,\"13CCPS\",0.587472599986278,0.684642941650675\r\n",
        "\"OTU.50\",3,\"13CCPS\",0.724940649799058,0.815668695365133\r\n",
        "\"OTU.162\",3,\"13CCPS\",0.0410309766267379,0.0834574601961579\r\n",
        "\"OTU.156\",3,\"13CCPS\",0.347208864202399,0.442643344832617\r\n",
        "\"OTU.3267\",3,\"13CCPS\",0.923305244388923,0.992481452528311\r\n",
        "\"OTU.12\",3,\"13CCPS\",0.81165706980524,0.896123774438082\r\n",
        "\"OTU.122\",3,\"13CCPS\",0.0616403695415454,0.113788122173693\r\n",
        "\"OTU.141\",3,\"13CCPS\",0.0895618238204526,0.151158721043482\r\n",
        "\"OTU.121\",3,\"13CCPS\",0.537245860915909,0.631959978282137\r\n"
       ]
      }
     ],
     "prompt_number": 5
    },
    {
     "cell_type": "code",
     "collapsed": false,
     "input": [
      "%%R -w 900 -h 300\n",
      "FDR = 0.10\n",
      "\n",
      "d = non.rspndr %>%\n",
      "    group_by(Day, Treatment) %>%\n",
      "    summarize(non.rspndr = sum(padj.below <= FDR),\n",
      "              passed.sparsity = n()) %>%\n",
      "    gather(type, count, non.rspndr:passed.sparsity)\n",
      "\n",
      "p = ggplot(d, aes(x = factor(Day), y = count, fill = type))\n",
      "\n",
      "p = p + facet_grid(. ~ Treatment, scales = \"free_x\", space = \"free\")\n",
      "\n",
      "p = p + geom_bar(stat = \"identity\", position = \"dodge\")\n",
      "\n",
      "p = p + theme_bw()\n",
      "\n",
      "p = p + theme(strip.background = element_blank(),\n",
      "              strip.text = element_text(size = 14),\n",
      "              axis.text = element_text(size = 12),\n",
      "              legend.title = element_text(size = 14),\n",
      "              axis.title = element_text(size = 14),\n",
      "              legend.text = element_text(size = 12),\n",
      "              panel.border = element_rect(size = 1.5),\n",
      "              panel.margin = unit(1, \"cm\"))\n",
      "\n",
      "\n",
      "p"
     ],
     "language": "python",
     "metadata": {},
     "outputs": [
      {
       "metadata": {},
       "output_type": "display_data",
       "png": "[encoded data removed]"
      }
     ],
     "prompt_number": 6
    },
    {
     "cell_type": "code",
     "collapsed": false,
     "input": [
      "%%R\n",
      "d.cmbd = left_join(l2fc.df, non.rspndr)"
     ],
     "language": "python",
     "metadata": {},
     "outputs": [
      {
       "metadata": {},
       "output_type": "display_data",
       "text": [
        "Joining by: c(\"Day\", \"Treatment\", \"OTU\")\n"
       ]
      }
     ],
     "prompt_number": 7
    },
    {
     "cell_type": "code",
     "collapsed": false,
     "input": [
      "%%R -w 900 -h 300\n",
      "FDR = 0.10\n",
      "\n",
      "d = d.cmbd %>%\n",
      "    group_by(Day, Treatment) %>%\n",
      "    summarize(non.rspndr = sum(padj.below <= FDR),\n",
      "              rspndr = sum(padj <= FDR),\n",
      "              passed.sparsity = n()) %>%\n",
      "    gather(type, count, non.rspndr:passed.sparsity)\n",
      "\n",
      "p = ggplot(d, aes(x = factor(Day), y = count, fill = type))\n",
      "\n",
      "p = p + facet_grid(. ~ Treatment, scales = \"free_x\", space = \"free\")\n",
      "\n",
      "p = p + geom_bar(stat = \"identity\", position = \"dodge\")\n",
      "\n",
      "p = p + theme_bw()\n",
      "\n",
      "p = p + theme(strip.background = element_blank(),\n",
      "              strip.text = element_text(size = 14),\n",
      "              axis.text = element_text(size = 12),\n",
      "              legend.title = element_text(size = 14),\n",
      "              axis.title = element_text(size = 14),\n",
      "              legend.text = element_text(size = 12),\n",
      "              panel.border = element_rect(size = 1.5),\n",
      "              panel.margin = unit(1, \"cm\"))\n",
      "\n",
      "p = p + scale_y_log10()\n",
      "\n",
      "p"
     ],
     "language": "python",
     "metadata": {},
     "outputs": [
      {
       "metadata": {},
       "output_type": "display_data",
       "png": "[encoded data removed]"
      }
     ],
     "prompt_number": 8
    },
    {
     "cell_type": "code",
     "collapsed": false,
     "input": [
      "%%R\n",
      "d"
     ],
     "language": "python",
     "metadata": {},
     "outputs": [
      {
       "metadata": {},
       "output_type": "display_data",
       "text": [
        "Source: local data frame [27 x 4]\n",
        "\n",
        "   Day Treatment            type count\n",
        "1    1    13CXPS      non.rspndr   440\n",
        "2    3    13CCPS      non.rspndr   315\n",
        "3    3    13CXPS      non.rspndr   390\n",
        "4    7    13CCPS      non.rspndr   391\n",
        "5    7    13CXPS      non.rspndr   420\n",
        "6   14    13CCPS      non.rspndr   420\n",
        "7   14    13CXPS      non.rspndr   424\n",
        "8   30    13CCPS      non.rspndr   298\n",
        "9   30    13CXPS      non.rspndr   261\n",
        "10   1    13CXPS          rspndr    19\n",
        "11   3    13CCPS          rspndr     2\n",
        "12   3    13CXPS          rspndr    19\n",
        "13   7    13CCPS          rspndr     5\n",
        "14   7    13CXPS          rspndr    15\n",
        "15  14    13CCPS          rspndr    42\n",
        "16  14    13CXPS          rspndr     6\n",
        "17  30    13CCPS          rspndr    39\n",
        "18  30    13CXPS          rspndr     1\n",
        "19   1    13CXPS passed.sparsity   618\n",
        "20   3    13CCPS passed.sparsity   531\n",
        "21   3    13CXPS passed.sparsity   692\n",
        "22   7    13CCPS passed.sparsity   737\n",
        "23   7    13CXPS passed.sparsity   628\n",
        "24  14    13CCPS passed.sparsity   739\n",
        "25  14    13CXPS passed.sparsity   593\n",
        "26  30    13CCPS passed.sparsity   762\n",
        "27  30    13CXPS passed.sparsity   390\n"
       ]
      }
     ],
     "prompt_number": 9
    }
   ],
   "metadata": {}
  }
 ]
}