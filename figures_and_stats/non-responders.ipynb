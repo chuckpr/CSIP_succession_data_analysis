{
 "metadata": {
  "name": "",
  "signature": "sha256:4888db1efadc999ee3da03d9e377195fedcab236168f8b866179f65aaec4a64e"
 },
 "nbformat": 3,
 "nbformat_minor": 0,
 "worksheets": [
  {
   "cells": [
    {
     "cell_type": "code",
     "collapsed": false,
     "input": [
      "%load_ext rpy2.ipython"
     ],
     "language": "python",
     "metadata": {},
     "outputs": [
      {
       "output_type": "stream",
       "stream": "stdout",
       "text": [
        "The rpy2.ipython extension is already loaded. To reload it, use:\n",
        "  %reload_ext rpy2.ipython\n"
       ]
      }
     ],
     "prompt_number": 70
    },
    {
     "cell_type": "code",
     "collapsed": false,
     "input": [
      "%%R\n",
      "library(dplyr)\n",
      "library(ggplot2)\n",
      "library(tidyr)\n",
      "library(grid)"
     ],
     "language": "python",
     "metadata": {},
     "outputs": [],
     "prompt_number": 71
    },
    {
     "cell_type": "code",
     "collapsed": false,
     "input": [
      "%%R\n",
      "l2fc.df = read.table(\"../data/l2fc_table.csv\", \n",
      "                     sep = \",\", \n",
      "                     header = TRUE)\n",
      "\n",
      "non.rspndr = l2fc.df %>% \n",
      "    select(log2FoldChange, lfcSE, OTU, Day, Treatment) %>%\n",
      "    mutate(p.below = pnorm(log2FoldChange, 0.75, lfcSE, lower.tail = TRUE)) %>%\n",
      "    group_by(Treatment) %>%\n",
      "    mutate(padj.below = p.adjust(p.below, method = \"BH\")) %>%\n",
      "    select(OTU, Day, Treatment, p.below, padj.below)\n",
      "\n",
      "non.rspndr"
     ],
     "language": "python",
     "metadata": {},
     "outputs": [
      {
       "metadata": {},
       "output_type": "display_data",
       "text": [
        "Source: local data frame [3,341 x 5]\n",
        "Groups: Treatment\n",
        "\n",
        "        OTU Day Treatment   p.below padj.below\n",
        "1    OTU.79   3    13CCPS 0.7420593  0.9397132\n",
        "2    OTU.50   3    13CCPS 0.8393440  1.0000000\n",
        "3   OTU.156   3    13CCPS 0.4558502  0.6572142\n",
        "4  OTU.3267   3    13CCPS 0.9538981  1.0000000\n",
        "5    OTU.12   3    13CCPS 0.9064291  1.0000000\n",
        "6   OTU.122   3    13CCPS 0.1094263  0.2183819\n",
        "7   OTU.141   3    13CCPS 0.1443692  0.2695656\n",
        "8   OTU.121   3    13CCPS 0.6722241  0.8762351\n",
        "9   OTU.155   3    13CCPS 0.7328246  0.9337696\n",
        "10  OTU.978   3    13CCPS 0.2939178  0.4683395\n",
        "..      ... ...       ...       ...        ...\n"
       ]
      }
     ],
     "prompt_number": 72
    },
    {
     "cell_type": "code",
     "collapsed": false,
     "input": [
      "%%R\n",
      "write.table(non.rspndr, \"../data/non_rspndr.csv\", sep = \",\", row.names = FALSE)"
     ],
     "language": "python",
     "metadata": {},
     "outputs": [],
     "prompt_number": 73
    },
    {
     "cell_type": "code",
     "collapsed": false,
     "input": [
      "!head ../data/non_rspndr.csv"
     ],
     "language": "python",
     "metadata": {},
     "outputs": [
      {
       "output_type": "stream",
       "stream": "stdout",
       "text": [
        "\"OTU\",\"Day\",\"Treatment\",\"p.below\",\"padj.below\"\r\n",
        "\"OTU.79\",3,\"13CCPS\",0.742059267065065,0.93971323658355\r\n",
        "\"OTU.50\",3,\"13CCPS\",0.839343992779977,0.999999999988183\r\n",
        "\"OTU.156\",3,\"13CCPS\",0.455850232517348,0.657214227892014\r\n",
        "\"OTU.3267\",3,\"13CCPS\",0.953898059061538,0.999999999988183\r\n",
        "\"OTU.12\",3,\"13CCPS\",0.906429095697651,0.999999999988183\r\n",
        "\"OTU.122\",3,\"13CCPS\",0.109426281087068,0.218381865412833\r\n",
        "\"OTU.141\",3,\"13CCPS\",0.144369162999633,0.26956557677003\r\n",
        "\"OTU.121\",3,\"13CCPS\",0.67222411129394,0.876235073754779\r\n",
        "\"OTU.155\",3,\"13CCPS\",0.732824649158021,0.933769595557665\r\n"
       ]
      }
     ],
     "prompt_number": 74
    },
    {
     "cell_type": "code",
     "collapsed": false,
     "input": [
      "%%R -w 900 -h 300\n",
      "FDR = 0.10\n",
      "\n",
      "d = non.rspndr %>%\n",
      "    group_by(Day, Treatment) %>%\n",
      "    summarize(non.rspndr = sum(padj.below <= FDR),\n",
      "              passed.sparsity = n()) %>%\n",
      "    gather(type, count, non.rspndr:passed.sparsity)\n",
      "\n",
      "p = ggplot(d, aes(x = factor(Day), y = count, fill = type))\n",
      "\n",
      "p = p + facet_grid(. ~ Treatment, scales = \"free_x\", space = \"free\")\n",
      "\n",
      "p = p + geom_bar(stat = \"identity\", position = \"dodge\")\n",
      "\n",
      "p = p + theme_bw()\n",
      "\n",
      "p = p + theme(strip.background = element_blank(),\n",
      "              strip.text = element_text(size = 14),\n",
      "              axis.text = element_text(size = 12),\n",
      "              legend.title = element_text(size = 14),\n",
      "              axis.title = element_text(size = 14),\n",
      "              legend.text = element_text(size = 12),\n",
      "              panel.border = element_rect(size = 1.5),\n",
      "              panel.margin = unit(1, \"cm\"))\n",
      "\n",
      "\n",
      "p"
     ],
     "language": "python",
     "metadata": {},
     "outputs": [
      {
       "metadata": {},
       "output_type": "display_data",
       "png": "[encoded data removed]"
      }
     ],
     "prompt_number": 75
    },
    {
     "cell_type": "code",
     "collapsed": false,
     "input": [
      "%%R\n",
      "d.cmbd = left_join(l2fc.df, non.rspndr)"
     ],
     "language": "python",
     "metadata": {},
     "outputs": [
      {
       "metadata": {},
       "output_type": "display_data",
       "text": [
        "Joining by: c(\"Day\", \"Treatment\", \"OTU\")\n"
       ]
      }
     ],
     "prompt_number": 76
    },
    {
     "cell_type": "code",
     "collapsed": false,
     "input": [
      "%%R -w 900 -h 300\n",
      "FDR = 0.10\n",
      "\n",
      "d = d.cmbd %>%\n",
      "    group_by(Day, Treatment) %>%\n",
      "    summarize(non.rspndr = sum(padj.below <= FDR),\n",
      "              rspndr = sum(padj <= FDR),\n",
      "              passed.sparsity = n()) %>%\n",
      "    gather(type, count, non.rspndr:passed.sparsity)\n",
      "\n",
      "p = ggplot(d, aes(x = factor(Day), y = count, fill = type))\n",
      "\n",
      "p = p + facet_grid(. ~ Treatment, scales = \"free_x\", space = \"free\")\n",
      "\n",
      "p = p + geom_bar(stat = \"identity\", position = \"dodge\")\n",
      "\n",
      "p = p + theme_bw()\n",
      "\n",
      "p = p + theme(strip.background = element_blank(),\n",
      "              strip.text = element_text(size = 14),\n",
      "              axis.text = element_text(size = 12),\n",
      "              legend.title = element_text(size = 14),\n",
      "              axis.title = element_text(size = 14),\n",
      "              legend.text = element_text(size = 12),\n",
      "              panel.border = element_rect(size = 1.5),\n",
      "              panel.margin = unit(1, \"cm\"))\n",
      "\n",
      "p = p + scale_y_log10()\n",
      "\n",
      "p"
     ],
     "language": "python",
     "metadata": {},
     "outputs": [
      {
       "metadata": {},
       "output_type": "display_data",
       "png": "[encoded data removed]"
      }
     ],
     "prompt_number": 77
    }
   ],
   "metadata": {}
  }
 ]
}