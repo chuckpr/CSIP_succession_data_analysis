{
 "cells": [
  {
   "cell_type": "code",
   "execution_count": 2,
   "metadata": {
    "collapsed": false
   },
   "outputs": [
    {
     "name": "stderr",
     "output_type": "stream",
     "text": [
      "\n",
      "Attaching package: ‘dplyr’\n",
      "\n",
      "The following object is masked from ‘package:stats’:\n",
      "\n",
      "    filter\n",
      "\n",
      "The following objects are masked from ‘package:base’:\n",
      "\n",
      "    intersect, setdiff, setequal, union\n",
      "\n"
     ]
    }
   ],
   "source": [
    "library(dplyr)"
   ]
  },
  {
   "cell_type": "code",
   "execution_count": 4,
   "metadata": {
    "collapsed": false
   },
   "outputs": [
    {
     "name": "stderr",
     "output_type": "stream",
     "text": [
      "Warning message:\n",
      "In data.table::fread(\"../data/mdf.csv\"): Bumped column 18 to type character on data row 790, field contains '\"uncultured_bacterium\"'. Coercing previously read values in this column from logical, integer or numeric back to character which may not be lossless; e.g., if '00' and '000' occurred before they will now be just '0', and there may be inconsistencies with treatment of ',,' and ',NA,' too (if they occurred in this column before the bump). If this matters please rerun and set 'colClasses' to 'character' for this column. Please note that column type detection uses the first 5 rows, the middle 5 rows and the last 5 rows, so hopefully this message should be very rare. If reporting to datatable-help, please rerun and include the output from verbose=TRUE."
     ]
    },
    {
     "name": "stdout",
     "output_type": "stream",
     "text": [
      "\r",
      "Read 23.7% of 2195072 rows\r",
      "Read 63.3% of 2195072 rows\r",
      "Read 2195072 rows and 18 (of 18) columns from 0.435 GB file in 00:00:04\n"
     ]
    }
   ],
   "source": [
    "mdf = tbl_df(data.table::fread(\"../data/mdf.csv\"))"
   ]
  },
  {
   "cell_type": "code",
   "execution_count": 18,
   "metadata": {
    "collapsed": false
   },
   "outputs": [
    {
     "data": {
      "text/plain": [
       "Source: local data frame [1 x 3]\n",
       "\n",
       "  N_otu n_sample  n_seqs\n",
       "1  5940      289 1102685"
      ]
     },
     "execution_count": 18,
     "metadata": {},
     "output_type": "execute_result"
    }
   ],
   "source": [
    "mdf %>%\n",
    "    filter(Treatment %in% c(\"13CCPS\", \"13CXPS\", \"12CCPS\")) %>%\n",
    "    filter(Abundance > 0) %>%\n",
    "    summarize(N_otu = length(unique(OTU)), \n",
    "              n_sample = length(unique(X.SampleID)),\n",
    "              n_seqs = sum(Abundance))"
   ]
  },
  {
   "cell_type": "code",
   "execution_count": 19,
   "metadata": {
    "collapsed": false
   },
   "outputs": [
    {
     "data": {
      "text/plain": [
       "Source: local data frame [2 x 4]\n",
       "\n",
       "  bulk N_otu n_sample  n_seqs\n",
       "1   no  5915      277 1055523\n",
       "2  yes  2943       12   47162"
      ]
     },
     "execution_count": 19,
     "metadata": {},
     "output_type": "execute_result"
    }
   ],
   "source": [
    "mdf %>%\n",
    "    filter(Treatment %in% c(\"13CCPS\", \"13CXPS\", \"12CCPS\")) %>%\n",
    "    filter(Abundance > 0) %>%\n",
    "    mutate(bulk = ifelse(grepl(\"bulk\", X.SampleID), \"yes\", \"no\")) %>%\n",
    "    group_by(bulk) %>%\n",
    "    summarize(N_otu = length(unique(OTU)), \n",
    "              n_sample = length(unique(X.SampleID)),\n",
    "              n_seqs = sum(Abundance))"
   ]
  }
 ],
 "metadata": {
  "kernelspec": {
   "display_name": "R",
   "language": "",
   "name": "ir"
  },
  "language_info": {
   "codemirror_mode": "r",
   "file_extension": ".r",
   "mimetype": "text/x-r-source",
   "name": "R",
   "pygments_lexer": "r"
  }
 },
 "nbformat": 4,
 "nbformat_minor": 0
}
