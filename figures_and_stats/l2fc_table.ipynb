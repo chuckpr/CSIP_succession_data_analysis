{
 "metadata": {
  "name": "",
  "signature": "sha256:75b734be3b480a4b68fb6ea63d664284e6856ede03f04638c480bde578d4ed0d"
 },
 "nbformat": 3,
 "nbformat_minor": 0,
 "worksheets": [
  {
   "cells": [
    {
     "cell_type": "code",
     "collapsed": false,
     "input": [
      "%load_ext rpy2.ipython"
     ],
     "language": "python",
     "metadata": {},
     "outputs": [
      {
       "output_type": "stream",
       "stream": "stderr",
       "text": [
        "/opt/anaconda/lib/python2.7/site-packages/pytz/__init__.py:29: UserWarning: Module argparse was already imported from /opt/anaconda/lib/python2.7/argparse.pyc, but /opt/anaconda/lib/python2.7/site-packages is being added to sys.path\n",
        "  from pkg_resources import resource_stream\n"
       ]
      }
     ],
     "prompt_number": 1
    },
    {
     "cell_type": "code",
     "collapsed": false,
     "input": [
      "%%R\n",
      "library(DESeq2)\n",
      "library(phyloseq)\n",
      "library(plyr); library(dplyr)\n",
      "library(ggplot2)\n",
      "library(doParallel)\n",
      "library(foreach)"
     ],
     "language": "python",
     "metadata": {},
     "outputs": [
      {
       "metadata": {},
       "output_type": "display_data",
       "text": [
        "Loading required package: GenomicRanges\n",
        "Loading required package: BiocGenerics\n",
        "Loading required package: parallel\n",
        "\n",
        "Attaching package: \u2018BiocGenerics\u2019\n",
        "\n",
        "The following objects are masked from \u2018package:parallel\u2019:\n",
        "\n",
        "    clusterApply, clusterApplyLB, clusterCall, clusterEvalQ,\n",
        "    clusterExport, clusterMap, parApply, parCapply, parLapply,\n",
        "    parLapplyLB, parRapply, parSapply, parSapplyLB\n",
        "\n",
        "The following object is masked from \u2018package:stats\u2019:\n",
        "\n",
        "    xtabs\n",
        "\n",
        "The following objects are masked from \u2018package:base\u2019:\n",
        "\n",
        "    anyDuplicated, append, as.data.frame, as.vector, cbind, colnames,\n",
        "    duplicated, eval, evalq, Filter, Find, get, intersect, is.unsorted,\n",
        "    lapply, Map, mapply, match, mget, order, paste, pmax, pmax.int,\n",
        "    pmin, pmin.int, Position, rank, rbind, Reduce, rep.int, rownames,\n",
        "    sapply, setdiff, sort, table, tapply, union, unique, unlist\n",
        "\n",
        "Loading required package: IRanges\n",
        "Loading required package: XVector\n",
        "Loading required package: Rcpp\n",
        "Loading required package: RcppArmadillo\n",
        "\n",
        "Attaching package: \u2018phyloseq\u2019\n",
        "\n",
        "The following object is masked from \u2018package:GenomicRanges\u2019:\n",
        "\n",
        "    distance\n",
        "\n",
        "The following object is masked from \u2018package:IRanges\u2019:\n",
        "\n",
        "    distance\n",
        "\n",
        "\n",
        "Attaching package: \u2018plyr\u2019\n",
        "\n",
        "The following object is masked from \u2018package:XVector\u2019:\n",
        "\n",
        "    compact\n",
        "\n",
        "The following objects are masked from \u2018package:IRanges\u2019:\n",
        "\n",
        "    desc, rename\n",
        "\n",
        "\n",
        "Attaching package: \u2018dplyr\u2019\n",
        "\n",
        "The following objects are masked from \u2018package:plyr\u2019:\n",
        "\n",
        "    arrange, desc, failwith, id, mutate, summarise, summarize\n",
        "\n",
        "The following objects are masked from \u2018package:GenomicRanges\u2019:\n",
        "\n",
        "    first, intersect, last, setdiff, union\n",
        "\n",
        "The following objects are masked from \u2018package:IRanges\u2019:\n",
        "\n",
        "    collapse, desc, intersect, setdiff, union\n",
        "\n",
        "The following objects are masked from \u2018package:BiocGenerics\u2019:\n",
        "\n",
        "    intersect, setdiff, union\n",
        "\n",
        "The following objects are masked from \u2018package:stats\u2019:\n",
        "\n",
        "    filter, lag\n",
        "\n",
        "The following objects are masked from \u2018package:base\u2019:\n",
        "\n",
        "    intersect, setdiff, setequal, union\n",
        "\n",
        "Loading required package: foreach\n",
        "foreach: simple, scalable parallel programming from Revolution Analytics\n",
        "Use Revolution R for scalability, fault tolerance and more.\n",
        "http://www.revolutionanalytics.com\n",
        "Loading required package: iterators\n"
       ]
      }
     ],
     "prompt_number": 2
    },
    {
     "cell_type": "code",
     "collapsed": false,
     "input": [
      "%%R\n",
      "\n",
      "asNumeric = function(x) { as.numeric(as.character(x)) }\n",
      "\n",
      "physeq = import_biom(\"../data/otu_table_wtax.biom\", \"../data/otusn.tree\")\n",
      "sample.data = import_qiime_sample_data(\"../data/ABCD_combined_reads_mapper.tsv\")\n",
      "sample.data$Density = asNumeric(sample.data$Density)\n",
      "physeq = merge_phyloseq(physeq,sample.data)"
     ],
     "language": "python",
     "metadata": {},
     "outputs": [],
     "prompt_number": 3
    },
    {
     "cell_type": "code",
     "collapsed": false,
     "input": [
      "%%R\n",
      "l2fc.threshold = 0.75\n",
      "density.min = 1.7125\n",
      "density.max = 1.755\n",
      "                           \n",
      "get_Ps = function(physeq.obj, treatment, day, sparsity_threshold) {\n",
      "    \n",
      "    physeq.md = sample_data(physeq.obj)\n",
      "    p = prune_samples((physeq.md$Treatment %in% c(\"12CCPS\",as.character(treatment)))&\n",
      "                      (physeq.md$Day == day)&\n",
      "                      !(row.names(physeq.md) %in% grep(\"bulk\", row.names(physeq.md), value=TRUE))&\n",
      "                      (physeq.md$Density >= density.min)&\n",
      "                      (physeq.md$Density <= density.max), physeq.obj)\n",
      "    p.thresh = filter_taxa(p, function(x) sum(x > 0) > sparsity_threshold * length(x), TRUE)\n",
      "    \n",
      "    dds = phyloseq_to_deseq2(p.thresh, ~Treatment)\n",
      "    dds = DESeq(dds, quiet = TRUE, fitType = \"local\")\n",
      "    theta = l2fc.threshold\n",
      "    r = results(dds, independentFiltering = FALSE)\n",
      "    r$OTU = rownames(r)\n",
      "    beta = r$log2FoldChange\n",
      "    betaSE = r$lfcSE\n",
      "    p = pnorm(beta, theta, betaSE, lower.tail = FALSE)\n",
      "    r$p = p\n",
      "    d = data.frame(r[, c(\"OTU\",\"log2FoldChange\", \"p\")])\n",
      "    TT = data.frame(tax_table(p.thresh))\n",
      "    TT$OTU = rownames(TT)\n",
      "    d = left_join(d, TT)\n",
      "    d\n",
      "}"
     ],
     "language": "python",
     "metadata": {},
     "outputs": [],
     "prompt_number": 4
    },
    {
     "cell_type": "code",
     "collapsed": false,
     "input": [
      "%%R\n",
      "m = expand.grid(sparsity_threshold = seq(0.05,0.95,0.05), \n",
      "                day = c(1, 3, 7, 14, 30), \n",
      "                treatment = c(\"13CCPS\", \"13CXPS\"))\n",
      "\n",
      "m = m[!((m$day == 1)&(m$treatment == \"13CCPS\")),]\n",
      "\n",
      "registerDoParallel(20)\n",
      "\n",
      "df.l2fc = tbl_df(mdply(m, \n",
      "                       get_Ps, \n",
      "                       .parallel = TRUE, \n",
      "                       physeq.obj = physeq))"
     ],
     "language": "python",
     "metadata": {},
     "outputs": [],
     "prompt_number": 5
    },
    {
     "cell_type": "code",
     "collapsed": false,
     "input": [
      "%%R\n",
      "df.l2fc = df.l2fc %.% \n",
      "    group_by(sparsity_threshold, treatment, day) %.%\n",
      "    mutate(padj = p.adjust(p, method = \"BH\"))\n",
      "\n",
      "df.l2fc"
     ],
     "language": "python",
     "metadata": {},
     "outputs": [
      {
       "metadata": {},
       "output_type": "display_data",
       "text": [
        "Source: local data frame [130,971 x 15]\n",
        "Groups: sparsity_threshold, treatment, day\n",
        "\n",
        "   sparsity_threshold day treatment      OTU log2FoldChange         p    Rank1\n",
        "1                0.05   3    13CCPS  OTU.882    -0.06380251 0.9826320 Bacteria\n",
        "2                0.05   3    13CCPS  OTU.783    -0.11137025 0.9884833 Bacteria\n",
        "3                0.05   3    13CCPS OTU.3455     0.18323747 0.9272820 Bacteria\n",
        "4                0.05   3    13CCPS OTU.2683    -0.06674281 0.9823521 Bacteria\n",
        "5                0.05   3    13CCPS  OTU.759     0.17877080 0.9301580 Bacteria\n",
        "6                0.05   3    13CCPS  OTU.923     0.02134159 0.9694146 Bacteria\n",
        "7                0.05   3    13CCPS OTU.2638    -0.03044482 0.9811120 Bacteria\n",
        "8                0.05   3    13CCPS   OTU.79    -0.39170865 0.9988034 Bacteria\n",
        "9                0.05   3    13CCPS  OTU.696     0.17082438 0.9328785 Bacteria\n",
        "10               0.05   3    13CCPS OTU.1011     0.10241173 0.9524752 Bacteria\n",
        "..                ... ...       ...      ...            ...       ...      ...\n",
        "Variables not shown: Rank2 (fctr), Rank3 (fctr), Rank4 (fctr), Rank5 (fctr),\n",
        "  Rank6 (fctr), Rank7 (fctr), Rank8 (fctr), padj (dbl)\n"
       ]
      }
     ],
     "prompt_number": 6
    },
    {
     "cell_type": "code",
     "collapsed": false,
     "input": [
      "%%R -w 400 -h 350\n",
      "d = df.l2fc %.% \n",
      "    group_by(sparsity_threshold) %.%\n",
      "    summarize(sum_pass_FDR = sum(padj < 0.10))\n",
      "\n",
      "p = ggplot(d, aes(x = sparsity_threshold, y = sum_pass_FDR))\n",
      "\n",
      "p = p + geom_point(size = 4, shape = 21, color = \"blue\")\n",
      "\n",
      "p = p + geom_vline(x = 0.60)\n",
      "\n",
      "p = p + geom_hline(y = max(d$sum_pass_FDR))\n",
      "\n",
      "p = p + theme_bw()\n",
      "    \n",
      "p = p + theme(axis.text = element_text(size = 14),\n",
      "              axis.title = element_text(size = 14))\n",
      "\n",
      "p"
     ],
     "language": "python",
     "metadata": {},
     "outputs": [
      {
       "metadata": {},
       "output_type": "display_data",
       "png": "[encoded data removed]"
      }
     ],
     "prompt_number": 7
    },
    {
     "cell_type": "code",
     "collapsed": false,
     "input": [
      "%%R\n",
      "write.table(df.l2fc[zapsmall(df.l2fc$sparsity_threshold) - 0.60 == 0,], \n",
      "            file = \"../data/l2fc_table.csv\",\n",
      "            row.names = FALSE,\n",
      "            sep = \",\")"
     ],
     "language": "python",
     "metadata": {},
     "outputs": [],
     "prompt_number": 8
    },
    {
     "cell_type": "code",
     "collapsed": false,
     "input": [
      "!head ../data/l2fc_table.csv | cut -c1-100"
     ],
     "language": "python",
     "metadata": {},
     "outputs": [
      {
       "output_type": "stream",
       "stream": "stdout",
       "text": [
        "\"sparsity_threshold\",\"day\",\"treatment\",\"OTU\",\"log2FoldChange\",\"p\",\"Rank1\",\"Rank2\",\"Rank3\",\"Rank4\",\"R\r\n",
        "0.6,3,\"13CCPS\",\"OTU.79\",0.67978568389578,0.599364724578462,\"Bacteria\",\"Bacteroidetes\",\"Cytophagia\",\"\r\n",
        "0.6,3,\"13CCPS\",\"OTU.50\",0.694494378342396,0.57693202057278,\"Bacteria\",\"Bacteroidetes\",\"Cytophagia\",\"\r\n",
        "0.6,3,\"13CCPS\",\"OTU.12\",0.789439496988769,0.444944623706,\"Bacteria\",\"Bacteroidetes\",\"Sphingobacterii\r\n",
        "0.6,3,\"13CCPS\",\"OTU.122\",0.0515818066155194,0.989101861809052,\"Bacteria\",\"Bacteroidetes\",\"Sphingobac\r\n",
        "0.6,3,\"13CCPS\",\"OTU.121\",0.620354406923883,0.669847237169767,\"Bacteria\",\"Bacteroidetes\",\"Sphingobact\r\n",
        "0.6,3,\"13CCPS\",\"OTU.155\",0.684391992636264,0.585387088786293,\"Bacteria\",\"Bacteroidetes\",\"Sphingobact\r\n",
        "0.6,3,\"13CCPS\",\"OTU.80\",0.930283958625784,0.274799990512889,\"Bacteria\",\"Bacteroidetes\",\"Sphingobacte\r\n",
        "0.6,3,\"13CCPS\",\"OTU.69\",0.363763143125279,0.907045869923231,\"Bacteria\",\"Bacteroidetes\",\"Sphingobacte\r\n",
        "0.6,3,\"13CCPS\",\"OTU.60\",0.520873765929253,0.775888534373731,\"Bacteria\",\"Bacteroidetes\",\"Flavobacteri\r\n"
       ]
      }
     ],
     "prompt_number": 9
    }
   ],
   "metadata": {}
  }
 ]
}