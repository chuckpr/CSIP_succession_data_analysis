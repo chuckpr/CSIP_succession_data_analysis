{
 "metadata": {
  "name": "",
  "signature": "sha256:099edf9f2fb43f4accc053792a8b0b4788b578d0db7e97b8a303688b8c2928d6"
 },
 "nbformat": 3,
 "nbformat_minor": 0,
 "worksheets": [
  {
   "cells": [
    {
     "cell_type": "code",
     "collapsed": false,
     "input": [
      "%load_ext rpy2.ipython"
     ],
     "language": "python",
     "metadata": {},
     "outputs": [
      {
       "output_type": "stream",
       "stream": "stderr",
       "text": [
        "/opt/anaconda/lib/python2.7/site-packages/pytz/__init__.py:29: UserWarning: Module argparse was already imported from /opt/anaconda/lib/python2.7/argparse.pyc, but /opt/anaconda/lib/python2.7/site-packages is being added to sys.path\n",
        "  from pkg_resources import resource_stream\n"
       ]
      }
     ],
     "prompt_number": 3
    },
    {
     "cell_type": "code",
     "collapsed": false,
     "input": [
      "%%R\n",
      "library(DESeq2)\n",
      "library(phyloseq)\n",
      "library(plyr); library(dplyr)\n",
      "library(ggplot2)\n",
      "library(doParallel)\n",
      "library(foreach)"
     ],
     "language": "python",
     "metadata": {},
     "outputs": [
      {
       "metadata": {},
       "output_type": "display_data",
       "text": [
        "Loading required package: S4Vectors\n",
        "Loading required package: stats4\n",
        "Loading required package: BiocGenerics\n",
        "Loading required package: parallel\n",
        "\n",
        "Attaching package: \u2018BiocGenerics\u2019\n",
        "\n",
        "The following objects are masked from \u2018package:parallel\u2019:\n",
        "\n",
        "    clusterApply, clusterApplyLB, clusterCall, clusterEvalQ,\n",
        "    clusterExport, clusterMap, parApply, parCapply, parLapply,\n",
        "    parLapplyLB, parRapply, parSapply, parSapplyLB\n",
        "\n",
        "The following object is masked from \u2018package:stats\u2019:\n",
        "\n",
        "    xtabs\n",
        "\n",
        "The following objects are masked from \u2018package:base\u2019:\n",
        "\n",
        "    anyDuplicated, append, as.data.frame, as.vector, cbind, colnames,\n",
        "    do.call, duplicated, eval, evalq, Filter, Find, get, intersect,\n",
        "    is.unsorted, lapply, Map, mapply, match, mget, order, paste, pmax,\n",
        "    pmax.int, pmin, pmin.int, Position, rank, rbind, Reduce, rep.int,\n",
        "    rownames, sapply, setdiff, sort, table, tapply, union, unique,\n",
        "    unlist, unsplit\n",
        "\n",
        "Loading required package: IRanges\n",
        "Loading required package: GenomicRanges\n",
        "Loading required package: GenomeInfoDb\n",
        "Loading required package: Rcpp\n",
        "Loading required package: RcppArmadillo\n",
        "\n",
        "Attaching package: \u2018phyloseq\u2019\n",
        "\n",
        "The following object is masked from \u2018package:GenomicRanges\u2019:\n",
        "\n",
        "    distance\n",
        "\n",
        "The following object is masked from \u2018package:IRanges\u2019:\n",
        "\n",
        "    distance\n",
        "\n",
        "\n",
        "Attaching package: \u2018plyr\u2019\n",
        "\n",
        "The following object is masked from \u2018package:IRanges\u2019:\n",
        "\n",
        "    desc\n",
        "\n",
        "The following object is masked from \u2018package:S4Vectors\u2019:\n",
        "\n",
        "    rename\n",
        "\n",
        "\n",
        "Attaching package: \u2018dplyr\u2019\n",
        "\n",
        "The following objects are masked from \u2018package:plyr\u2019:\n",
        "\n",
        "    arrange, count, desc, failwith, id, mutate, rename, summarise,\n",
        "    summarize\n",
        "\n",
        "The following objects are masked from \u2018package:GenomicRanges\u2019:\n",
        "\n",
        "    intersect, setdiff, union\n",
        "\n",
        "The following object is masked from \u2018package:GenomeInfoDb\u2019:\n",
        "\n",
        "    intersect\n",
        "\n",
        "The following objects are masked from \u2018package:IRanges\u2019:\n",
        "\n",
        "    collapse, desc, intersect, setdiff, slice, union\n",
        "\n",
        "The following object is masked from \u2018package:S4Vectors\u2019:\n",
        "\n",
        "    rename\n",
        "\n",
        "The following objects are masked from \u2018package:BiocGenerics\u2019:\n",
        "\n",
        "    intersect, setdiff, union\n",
        "\n",
        "The following object is masked from \u2018package:stats\u2019:\n",
        "\n",
        "    filter\n",
        "\n",
        "The following objects are masked from \u2018package:base\u2019:\n",
        "\n",
        "    intersect, setdiff, setequal, union\n",
        "\n",
        "Loading required package: foreach\n",
        "foreach: simple, scalable parallel programming from Revolution Analytics\n",
        "Use Revolution R for scalability, fault tolerance and more.\n",
        "http://www.revolutionanalytics.com\n",
        "Loading required package: iterators\n"
       ]
      }
     ],
     "prompt_number": 5
    },
    {
     "cell_type": "code",
     "collapsed": false,
     "input": [
      "%%R\n",
      "\n",
      "asNumeric = function(x) { as.numeric(as.character(x)) }\n",
      "\n",
      "physeq = import_biom(\"../data/otu_table_wtax.biom\", \"../data/otusn.tree\")\n",
      "sample.data = import_qiime_sample_data(\"../data/ABCD_combined_reads_mapper.tsv\")\n",
      "sample.data$Density = asNumeric(sample.data$Density)\n",
      "physeq = merge_phyloseq(physeq,sample.data)"
     ],
     "language": "python",
     "metadata": {},
     "outputs": [],
     "prompt_number": 6
    },
    {
     "cell_type": "code",
     "collapsed": false,
     "input": [
      "%%R\n",
      "density.min = 1.7125\n",
      "density.max = 1.755\n",
      "l2fc.threshold = 0.75\n",
      "\n",
      "md = sample_data(physeq)\n",
      "physeq.heavy = prune_samples((md$Density >= density.min)&\n",
      "                             (md$Density <= density.max), physeq)\n",
      "\n",
      "get_l2fc = function(physeq.obj, Treatment, Day) {\n",
      "    physeq.md = sample_data(physeq.obj)\n",
      "    p = prune_samples((physeq.md$Treatment %in% c(\"12CCPS\",as.character(Treatment)))&\n",
      "                      (physeq.md$Day == Day)&\n",
      "                      !(row.names(physeq.md) %in% grep(\"bulk\", row.names(physeq.md), value=TRUE)), physeq.obj)\n",
      "    dds = phyloseq_to_deseq2(p, ~Treatment)\n",
      "    dds = DESeq(dds, quiet = TRUE, fitType = \"local\")\n",
      "    r = results(dds, independentFiltering = FALSE)\n",
      "    r$OTU = rownames(r)\n",
      "    d = data.frame(r[, c(\"OTU\",\"log2FoldChange\", \"lfcSE\")])\n",
      "    TT = data.frame(tax_table(p))\n",
      "    TT$OTU = rownames(TT)\n",
      "    d = left_join(d, TT)\n",
      "    d\n",
      "}\n",
      "\n",
      "m = expand.grid(Day = c(1, 3, 7, 14, 30), \n",
      "                Treatment = c(\"13CCPS\", \"13CXPS\"))\n",
      "\n",
      "m = m[!((m$Day == 1)&(m$Treatment == \"13CCPS\")),]\n",
      "\n",
      "registerDoParallel(10)\n",
      "\n",
      "df.l2fc = tbl_df(mdply(m, \n",
      "                       get_l2fc, \n",
      "                       .parallel = TRUE,\n",
      "                       physeq.obj = physeq.heavy))\n",
      "\n",
      "df.l2fc$p = with(df.l2fc, pnorm(log2FoldChange, l2fc.threshold, lfcSE, lower.tail = FALSE))\n",
      "\n",
      "df.l2fc"
     ],
     "language": "python",
     "metadata": {},
     "outputs": [
      {
       "metadata": {},
       "output_type": "display_data",
       "text": [
        "Source: local data frame [56,124 x 14]\n",
        "\n",
        "   Day Treatment      OTU log2FoldChange     lfcSE    Rank1          Rank2\n",
        "1    3    13CCPS  OTU.882     0.07970262 0.8035819 Bacteria  Acidobacteria\n",
        "2    3    13CCPS  OTU.783     0.89837852 0.8567472 Bacteria  Acidobacteria\n",
        "3    3    13CCPS OTU.3574             NA        NA Bacteria  Acidobacteria\n",
        "4    3    13CCPS OTU.4663             NA        NA Bacteria  Bacteroidetes\n",
        "5    3    13CCPS OTU.4678             NA        NA Bacteria Planctomycetes\n",
        "6    3    13CCPS OTU.2896             NA        NA Bacteria Planctomycetes\n",
        "7    3    13CCPS OTU.1393             NA        NA Bacteria Planctomycetes\n",
        "8    3    13CCPS OTU.4113             NA        NA Bacteria Planctomycetes\n",
        "9    3    13CCPS OTU.4400             NA        NA Bacteria Planctomycetes\n",
        "10   3    13CCPS OTU.3835             NA        NA Bacteria Planctomycetes\n",
        ".. ...       ...      ...            ...       ...      ...            ...\n",
        "Variables not shown: Rank3 (fctr), Rank4 (fctr), Rank5 (fctr), Rank6 (fctr),\n",
        "  Rank7 (fctr), Rank8 (fctr), p (dbl)\n"
       ]
      }
     ],
     "prompt_number": 60
    },
    {
     "cell_type": "code",
     "collapsed": false,
     "input": [
      "%%R\n",
      "mdf = psmelt(physeq.heavy)\n",
      "\n",
      "sparsity.df = mdf %>%\n",
      "    group_by(OTU, Day, Treatment) %>%\n",
      "    summarize(sparsity = sum(Abundance > 0) / length(Abundance))\n",
      "\n",
      "sparsity.df"
     ],
     "language": "python",
     "metadata": {},
     "outputs": [
      {
       "metadata": {},
       "output_type": "display_data",
       "text": [
        "Source: local data frame [106,012 x 4]\n",
        "Groups: OTU, Day\n",
        "\n",
        "     OTU Day Treatment sparsity\n",
        "1  OTU.1   1    12CCPS        1\n",
        "2  OTU.1   1    13CXPS        1\n",
        "3  OTU.1   3    12CCPS        1\n",
        "4  OTU.1   3    13CCPS        1\n",
        "5  OTU.1   3    13CXPS        1\n",
        "6  OTU.1   7    12CCPS        1\n",
        "7  OTU.1   7    12CCSS        1\n",
        "8  OTU.1   7    13CCPS        1\n",
        "9  OTU.1   7    13CXPS        1\n",
        "10 OTU.1  14    12CCPS        1\n",
        "..   ... ...       ...      ...\n"
       ]
      }
     ],
     "prompt_number": 48
    },
    {
     "cell_type": "code",
     "collapsed": false,
     "input": [
      "%%R\n",
      "df.l2fc = left_join(df.l2fc, sparsity.df)"
     ],
     "language": "python",
     "metadata": {},
     "outputs": [
      {
       "metadata": {},
       "output_type": "display_data",
       "text": [
        "Joining by: c(\"Day\", \"Treatment\", \"OTU\")\n"
       ]
      }
     ],
     "prompt_number": 61
    },
    {
     "cell_type": "code",
     "collapsed": false,
     "input": [
      "%%R\n",
      "FDR = 0.10\n",
      "\n",
      "count_sig = function(df, sparsity.threshold) {\n",
      "    d = df %>%\n",
      "            filter(sparsity >= sparsity.threshold) %>%\n",
      "            group_by(Treatment) %>%\n",
      "            mutate(padj = p.adjust(p, method = \"BH\"))%>% \n",
      "            group_by(add = FALSE) %>%\n",
      "            summarize(sum_pass_FDR = sum(padj <= FDR))\n",
      "    d\n",
      "}\n",
      "\n",
      "thresh = seq(0.05, 0.95, 0.05)\n",
      "names(thresh) = thresh\n",
      "\n",
      "d.sparsity = ldply(thresh, count_sig, .id = \"sparsity.threshold\", df = df.l2fc)\n",
      "d.sparsity$sparsity.threshold = as.numeric(as.character(d.sparsity$sparsity.threshold))\n",
      "\n",
      "p = ggplot(d.sparsity, aes(x = sparsity.threshold, y = sum_pass_FDR))\n",
      "\n",
      "p = p + geom_point(size = 4, shape = 21, color = \"blue\")\n",
      "\n",
      "p = p + geom_vline(x = 0.60)\n",
      "\n",
      "p = p + geom_hline(y = max(d.sparsity$sum_pass_FDR))\n",
      "\n",
      "p = p + theme_bw()\n",
      "    \n",
      "p = p + theme(axis.text = element_text(size = 14),\n",
      "              axis.title = element_text(size = 14))\n",
      "\n",
      "p"
     ],
     "language": "python",
     "metadata": {},
     "outputs": [
      {
       "metadata": {},
       "output_type": "display_data",
       "png": "[encoded data removed]"
      }
     ],
     "prompt_number": 85
    },
    {
     "cell_type": "code",
     "collapsed": false,
     "input": [
      "%%R\n",
      "sparsity.threshold = 0.60\n",
      "df.l2fc = df.l2fc %>% \n",
      "    filter(sparsity >= sparsity.threshold) %>%\n",
      "    group_by(Treatment) %>%\n",
      "    mutate(padj = p.adjust(p, method = \"BH\"))\n",
      "df.l2fc"
     ],
     "language": "python",
     "metadata": {},
     "outputs": [
      {
       "metadata": {},
       "output_type": "display_data",
       "text": [
        "Source: local data frame [3,341 x 16]\n",
        "Groups: Treatment\n",
        "\n",
        "   Day Treatment      OTU log2FoldChange     lfcSE    Rank1         Rank2\n",
        "1    3    13CCPS   OTU.79     1.04828817 0.4591118 Bacteria Bacteroidetes\n",
        "2    3    13CCPS   OTU.50     1.24515489 0.4992662 Bacteria Bacteroidetes\n",
        "3    3    13CCPS  OTU.156     0.67260191 0.6979471 Bacteria Bacteroidetes\n",
        "4    3    13CCPS OTU.3267     2.04336859 0.7680860 Bacteria Bacteroidetes\n",
        "5    3    13CCPS   OTU.12     1.34669191 0.4523540 Bacteria Bacteroidetes\n",
        "6    3    13CCPS  OTU.122    -0.02668078 0.6316609 Bacteria Bacteroidetes\n",
        "7    3    13CCPS  OTU.141     0.01110304 0.6964855 Bacteria Bacteroidetes\n",
        "8    3    13CCPS  OTU.121     0.99899269 0.5582008 Bacteria Bacteroidetes\n",
        "9    3    13CCPS  OTU.155     1.11678794 0.5902811 Bacteria Bacteroidetes\n",
        "10   3    13CCPS  OTU.978     0.40171745 0.6426170 Bacteria Bacteroidetes\n",
        ".. ...       ...      ...            ...       ...      ...           ...\n",
        "Variables not shown: Rank3 (fctr), Rank4 (fctr), Rank5 (fctr), Rank6 (fctr),\n",
        "  Rank7 (fctr), Rank8 (fctr), p (dbl), sparsity (dbl), padj (dbl)\n"
       ]
      }
     ],
     "prompt_number": 86
    },
    {
     "cell_type": "code",
     "collapsed": false,
     "input": [
      "%%R\n",
      "write.table(df.l2fc, \n",
      "            file = \"../data/l2fc_table.csv\",\n",
      "            row.names = FALSE,\n",
      "            sep = \",\")"
     ],
     "language": "python",
     "metadata": {},
     "outputs": [],
     "prompt_number": 87
    },
    {
     "cell_type": "code",
     "collapsed": false,
     "input": [
      "!head ../data/l2fc_table.csv | cut -c1-100"
     ],
     "language": "python",
     "metadata": {},
     "outputs": [
      {
       "output_type": "stream",
       "stream": "stdout",
       "text": [
        "\"Day\",\"Treatment\",\"OTU\",\"log2FoldChange\",\"lfcSE\",\"Rank1\",\"Rank2\",\"Rank3\",\"Rank4\",\"Rank5\",\"Rank6\",\"Ra\r\n",
        "3,\"13CCPS\",\"OTU.79\",1.04828817049365,0.459111792269299,\"Bacteria\",\"Bacteroidetes\",\"Cytophagia\",\"Cyto\r\n",
        "3,\"13CCPS\",\"OTU.50\",1.24515489312187,0.499266186068032,\"Bacteria\",\"Bacteroidetes\",\"Cytophagia\",\"Cyto\r\n",
        "3,\"13CCPS\",\"OTU.156\",0.67260191057702,0.697947080334576,\"Bacteria\",\"Bacteroidetes\",\"Cytophagia\",\"Cyt\r\n",
        "3,\"13CCPS\",\"OTU.3267\",2.04336859272034,0.768086025756951,\"Bacteria\",\"Bacteroidetes\",\"Sphingobacterii\r\n",
        "3,\"13CCPS\",\"OTU.12\",1.34669191296547,0.452354030878511,\"Bacteria\",\"Bacteroidetes\",\"Sphingobacteriia\"\r\n",
        "3,\"13CCPS\",\"OTU.122\",-0.0266807823757636,0.631660928724377,\"Bacteria\",\"Bacteroidetes\",\"Sphingobacter\r\n",
        "3,\"13CCPS\",\"OTU.141\",0.0111030431279297,0.696485548477253,\"Bacteria\",\"Bacteroidetes\",\"Sphingobacteri\r\n",
        "3,\"13CCPS\",\"OTU.121\",0.998992694461359,0.558200802093288,\"Bacteria\",\"Bacteroidetes\",\"Sphingobacterii\r\n",
        "3,\"13CCPS\",\"OTU.155\",1.11678793747051,0.59028114983913,\"Bacteria\",\"Bacteroidetes\",\"Sphingobacteriia\"\r\n"
       ]
      }
     ],
     "prompt_number": 88
    },
    {
     "cell_type": "code",
     "collapsed": false,
     "input": [
      "%%R\n",
      "hist(df.l2fc$sparsity, breaks = 25)"
     ],
     "language": "python",
     "metadata": {},
     "outputs": [
      {
       "metadata": {},
       "output_type": "display_data",
       "png": "[encoded data removed]"
      }
     ],
     "prompt_number": 91
    }
   ],
   "metadata": {}
  }
 ]
}