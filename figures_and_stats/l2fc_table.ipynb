{
 "metadata": {
  "name": "",
  "signature": "sha256:e8ad30836929004920ac2d9ffb19e816a8b3a91f3664031dc5517345525441a9"
 },
 "nbformat": 3,
 "nbformat_minor": 0,
 "worksheets": [
  {
   "cells": [
    {
     "cell_type": "code",
     "collapsed": false,
     "input": [
      "%load_ext rpy2.ipython"
     ],
     "language": "python",
     "metadata": {},
     "outputs": [
      {
       "output_type": "stream",
       "stream": "stderr",
       "text": [
        "/opt/anaconda/lib/python2.7/site-packages/pytz/__init__.py:29: UserWarning: Module argparse was already imported from /opt/anaconda/lib/python2.7/argparse.pyc, but /opt/anaconda/lib/python2.7/site-packages is being added to sys.path\n",
        "  from pkg_resources import resource_stream\n"
       ]
      }
     ],
     "prompt_number": 3
    },
    {
     "cell_type": "code",
     "collapsed": false,
     "input": [
      "%%R\n",
      "library(DESeq2)\n",
      "library(phyloseq)\n",
      "library(plyr); library(dplyr)\n",
      "library(ggplot2)\n",
      "library(doParallel)\n",
      "library(foreach)"
     ],
     "language": "python",
     "metadata": {},
     "outputs": [
      {
       "metadata": {},
       "output_type": "display_data",
       "text": [
        "Loading required package: S4Vectors\n",
        "Loading required package: stats4\n",
        "Loading required package: BiocGenerics\n",
        "Loading required package: parallel\n",
        "\n",
        "Attaching package: \u2018BiocGenerics\u2019\n",
        "\n",
        "The following objects are masked from \u2018package:parallel\u2019:\n",
        "\n",
        "    clusterApply, clusterApplyLB, clusterCall, clusterEvalQ,\n",
        "    clusterExport, clusterMap, parApply, parCapply, parLapply,\n",
        "    parLapplyLB, parRapply, parSapply, parSapplyLB\n",
        "\n",
        "The following object is masked from \u2018package:stats\u2019:\n",
        "\n",
        "    xtabs\n",
        "\n",
        "The following objects are masked from \u2018package:base\u2019:\n",
        "\n",
        "    anyDuplicated, append, as.data.frame, as.vector, cbind, colnames,\n",
        "    do.call, duplicated, eval, evalq, Filter, Find, get, intersect,\n",
        "    is.unsorted, lapply, Map, mapply, match, mget, order, paste, pmax,\n",
        "    pmax.int, pmin, pmin.int, Position, rank, rbind, Reduce, rep.int,\n",
        "    rownames, sapply, setdiff, sort, table, tapply, union, unique,\n",
        "    unlist, unsplit\n",
        "\n",
        "Loading required package: IRanges\n",
        "Loading required package: GenomicRanges\n",
        "Loading required package: GenomeInfoDb\n",
        "Loading required package: Rcpp\n",
        "Loading required package: RcppArmadillo\n",
        "\n",
        "Attaching package: \u2018phyloseq\u2019\n",
        "\n",
        "The following object is masked from \u2018package:GenomicRanges\u2019:\n",
        "\n",
        "    distance\n",
        "\n",
        "The following object is masked from \u2018package:IRanges\u2019:\n",
        "\n",
        "    distance\n",
        "\n",
        "\n",
        "Attaching package: \u2018plyr\u2019\n",
        "\n",
        "The following object is masked from \u2018package:IRanges\u2019:\n",
        "\n",
        "    desc\n",
        "\n",
        "The following object is masked from \u2018package:S4Vectors\u2019:\n",
        "\n",
        "    rename\n",
        "\n",
        "\n",
        "Attaching package: \u2018dplyr\u2019\n",
        "\n",
        "The following objects are masked from \u2018package:plyr\u2019:\n",
        "\n",
        "    arrange, count, desc, failwith, id, mutate, rename, summarise,\n",
        "    summarize\n",
        "\n",
        "The following objects are masked from \u2018package:GenomicRanges\u2019:\n",
        "\n",
        "    intersect, setdiff, union\n",
        "\n",
        "The following object is masked from \u2018package:GenomeInfoDb\u2019:\n",
        "\n",
        "    intersect\n",
        "\n",
        "The following objects are masked from \u2018package:IRanges\u2019:\n",
        "\n",
        "    collapse, desc, intersect, setdiff, slice, union\n",
        "\n",
        "The following object is masked from \u2018package:S4Vectors\u2019:\n",
        "\n",
        "    rename\n",
        "\n",
        "The following objects are masked from \u2018package:BiocGenerics\u2019:\n",
        "\n",
        "    intersect, setdiff, union\n",
        "\n",
        "The following object is masked from \u2018package:stats\u2019:\n",
        "\n",
        "    filter\n",
        "\n",
        "The following objects are masked from \u2018package:base\u2019:\n",
        "\n",
        "    intersect, setdiff, setequal, union\n",
        "\n",
        "Loading required package: foreach\n",
        "foreach: simple, scalable parallel programming from Revolution Analytics\n",
        "Use Revolution R for scalability, fault tolerance and more.\n",
        "http://www.revolutionanalytics.com\n",
        "Loading required package: iterators\n"
       ]
      }
     ],
     "prompt_number": 5
    },
    {
     "cell_type": "code",
     "collapsed": false,
     "input": [
      "%%R\n",
      "\n",
      "asNumeric = function(x) { as.numeric(as.character(x)) }\n",
      "\n",
      "physeq = import_biom(\"../data/otu_table_wtax.biom\", \"../data/otusn.tree\")\n",
      "sample.data = import_qiime_sample_data(\"../data/ABCD_combined_reads_mapper.tsv\")\n",
      "sample.data$Density = asNumeric(sample.data$Density)\n",
      "physeq = merge_phyloseq(physeq,sample.data)"
     ],
     "language": "python",
     "metadata": {},
     "outputs": [],
     "prompt_number": 6
    },
    {
     "cell_type": "code",
     "collapsed": false,
     "input": [
      "%%R\n",
      "l2fc.threshold = 0.75\n",
      "density.min = 1.7125\n",
      "density.max = 1.755\n",
      "                           \n",
      "get_Ps = function(physeq.obj, Treatment, Day, Sparsity_threshold) {\n",
      "    \n",
      "    physeq.md = sample_data(physeq.obj)\n",
      "    p = prune_samples((physeq.md$Treatment %in% c(\"12CCPS\",as.character(Treatment)))&\n",
      "                      (physeq.md$Day == Day)&\n",
      "                      !(row.names(physeq.md) %in% grep(\"bulk\", row.names(physeq.md), value=TRUE))&\n",
      "                      (physeq.md$Density >= density.min)&\n",
      "                      (physeq.md$Density <= density.max), physeq.obj)\n",
      "    p.thresh = filter_taxa(p, function(x) sum(x > 0) > Sparsity_threshold * length(x), TRUE)\n",
      "            \n",
      "    dds = phyloseq_to_deseq2(p.thresh, ~Treatment)\n",
      "    dds = DESeq(dds, quiet = TRUE, fitType = \"local\")\n",
      "    theta = l2fc.threshold\n",
      "    r = results(dds, independentFiltering = FALSE)\n",
      "    r$OTU = rownames(r)\n",
      "    beta = r$log2FoldChange\n",
      "    betaSE = r$lfcSE\n",
      "    p = pnorm(beta, theta, betaSE, lower.tail = FALSE)\n",
      "    r$p = p\n",
      "    d = data.frame(r[, c(\"OTU\",\"log2FoldChange\", \"p\")])\n",
      "    TT = data.frame(tax_table(p.thresh))\n",
      "    TT$OTU = rownames(TT)\n",
      "    d = left_join(d, TT)\n",
      "    d\n",
      "}"
     ],
     "language": "python",
     "metadata": {},
     "outputs": [],
     "prompt_number": 16
    },
    {
     "cell_type": "code",
     "collapsed": false,
     "input": [
      "%%R\n",
      "m = expand.grid(Sparsity_threshold = seq(0.05,0.95,0.05), \n",
      "                Day = c(1, 3, 7, 14, 30), \n",
      "                Treatment = c(\"13CCPS\", \"13CXPS\"))\n",
      "\n",
      "m = m[!((m$Day == 1)&(m$Treatment == \"13CCPS\")),]\n",
      "\n",
      "registerDoParallel(20)\n",
      "\n",
      "df.l2fc = tbl_df(mdply(m, \n",
      "                       get_Ps, \n",
      "                       .parallel = TRUE, \n",
      "                       physeq.obj = physeq))"
     ],
     "language": "python",
     "metadata": {},
     "outputs": [],
     "prompt_number": 18
    },
    {
     "cell_type": "code",
     "collapsed": false,
     "input": [
      "%%R\n",
      "df.l2fc = df.l2fc %>% \n",
      "    group_by(Sparsity_threshold, Treatment) %>%\n",
      "    mutate(padj = p.adjust(p, method = \"BH\"))\n",
      "\n",
      "df.l2fc"
     ],
     "language": "python",
     "metadata": {},
     "outputs": [
      {
       "metadata": {},
       "output_type": "display_data",
       "text": [
        "Source: local data frame [130,971 x 15]\n",
        "Groups: Sparsity_threshold, Treatment\n",
        "\n",
        "   Sparsity_threshold Day Treatment      OTU log2FoldChange         p    Rank1\n",
        "1                0.05   3    13CCPS  OTU.882     0.07970262 0.7978981 Bacteria\n",
        "2                0.05   3    13CCPS  OTU.783     0.89837852 0.4312517 Bacteria\n",
        "3                0.05   3    13CCPS OTU.3455     0.38397229 0.7032926 Bacteria\n",
        "4                0.05   3    13CCPS OTU.2683     0.02877974 0.8539675 Bacteria\n",
        "5                0.05   3    13CCPS  OTU.759     0.93065390 0.4094368 Bacteria\n",
        "6                0.05   3    13CCPS  OTU.923     0.10186768 0.8282542 Bacteria\n",
        "7                0.05   3    13CCPS OTU.2638     0.39831567 0.6646205 Bacteria\n",
        "8                0.05   3    13CCPS   OTU.79     1.04828817 0.2579407 Bacteria\n",
        "9                0.05   3    13CCPS  OTU.696     0.27857883 0.7201799 Bacteria\n",
        "10               0.05   3    13CCPS OTU.1011     0.32749976 0.7310441 Bacteria\n",
        "..                ... ...       ...      ...            ...       ...      ...\n",
        "Variables not shown: Rank2 (fctr), Rank3 (fctr), Rank4 (fctr), Rank5 (fctr),\n",
        "  Rank6 (fctr), Rank7 (fctr), Rank8 (fctr), padj (dbl)\n"
       ]
      }
     ],
     "prompt_number": 19
    },
    {
     "cell_type": "code",
     "collapsed": false,
     "input": [
      "%%R -w 400 -h 350\n",
      "d = df.l2fc %>% \n",
      "    group_by(Sparsity_threshold) %>%\n",
      "    summarize(sum_pass_FDR = sum(padj < 0.10))\n",
      "\n",
      "p = ggplot(d, aes(x = Sparsity_threshold, y = sum_pass_FDR))\n",
      "\n",
      "p = p + geom_point(size = 4, shape = 21, color = \"blue\")\n",
      "\n",
      "p = p + geom_vline(x = 0.50)\n",
      "\n",
      "p = p + geom_hline(y = max(d$sum_pass_FDR))\n",
      "\n",
      "p = p + theme_bw()\n",
      "    \n",
      "p = p + theme(axis.text = element_text(size = 14),\n",
      "              axis.title = element_text(size = 14))\n",
      "\n",
      "p"
     ],
     "language": "python",
     "metadata": {},
     "outputs": [
      {
       "metadata": {},
       "output_type": "display_data",
       "png": "[encoded data removed]"
      }
     ],
     "prompt_number": 30
    },
    {
     "cell_type": "code",
     "collapsed": false,
     "input": [
      "%%R\n",
      "write.table(df.l2fc[zapsmall(df.l2fc$Sparsity_threshold) - 0.50 == 0,], \n",
      "            file = \"../data/l2fc_table.csv\",\n",
      "            row.names = FALSE,\n",
      "            sep = \",\")"
     ],
     "language": "python",
     "metadata": {},
     "outputs": [],
     "prompt_number": 28
    },
    {
     "cell_type": "code",
     "collapsed": false,
     "input": [
      "!head ../data/l2fc_table.csv | cut -c1-100"
     ],
     "language": "python",
     "metadata": {},
     "outputs": [
      {
       "output_type": "stream",
       "stream": "stdout",
       "text": [
        "\"Sparsity_threshold\",\"Day\",\"Treatment\",\"OTU\",\"log2FoldChange\",\"p\",\"Rank1\",\"Rank2\",\"Rank3\",\"Rank4\",\"R\r\n",
        "0.5,3,\"13CCPS\",\"OTU.79\",0.977888810353068,0.307643945431266,\"Bacteria\",\"Bacteroidetes\",\"Cytophagia\",\r\n",
        "0.5,3,\"13CCPS\",\"OTU.50\",1.17798083110754,0.183835773068122,\"Bacteria\",\"Bacteroidetes\",\"Cytophagia\",\"\r\n",
        "0.5,3,\"13CCPS\",\"OTU.162\",-0.226912685574779,0.951384534251734,\"Bacteria\",\"Bacteroidetes\",\"Cytophagia\r\n",
        "0.5,3,\"13CCPS\",\"OTU.156\",0.604553503399256,0.59620038145554,\"Bacteria\",\"Bacteroidetes\",\"Cytophagia\",\r\n",
        "0.5,3,\"13CCPS\",\"OTU.12\",1.28760170888995,0.101777264616133,\"Bacteria\",\"Bacteroidetes\",\"Sphingobacter\r\n",
        "0.5,3,\"13CCPS\",\"OTU.122\",-0.0353379566774534,0.918002063852428,\"Bacteria\",\"Bacteroidetes\",\"Sphingoba\r\n",
        "0.5,3,\"13CCPS\",\"OTU.121\",0.925756449595328,0.368549237425037,\"Bacteria\",\"Bacteroidetes\",\"Sphingobact\r\n",
        "0.5,3,\"13CCPS\",\"OTU.155\",1.03020716522586,0.301940870385386,\"Bacteria\",\"Bacteroidetes\",\"Sphingobacte\r\n",
        "0.5,3,\"13CCPS\",\"OTU.978\",0.358932825272829,0.750184055276633,\"Bacteria\",\"Bacteroidetes\",\"Sphingobact\r\n"
       ]
      }
     ],
     "prompt_number": 29
    }
   ],
   "metadata": {}
  }
 ]
}