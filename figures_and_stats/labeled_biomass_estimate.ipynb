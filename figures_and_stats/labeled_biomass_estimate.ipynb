{
 "cells": [
  {
   "cell_type": "markdown",
   "metadata": {},
   "source": [
    "Set up some constants. The atoms C per cell comes from the bionumbers website [link](http://bionumbers.hms.harvard.edu/bionumber.aspx?&id=103010)."
   ]
  },
  {
   "cell_type": "code",
   "execution_count": 1,
   "metadata": {
    "collapsed": false
   },
   "outputs": [],
   "source": [
    "avogadro = 6.02e23 # atoms per mole\n",
    "mw_C = 12 # grams per mole\n",
    "atoms_C = 7e9 # atoms C per cell\n",
    "femto = 1e15"
   ]
  },
  {
   "cell_type": "markdown",
   "metadata": {},
   "source": [
    "Using the information above calculate fg C per cell."
   ]
  },
  {
   "cell_type": "code",
   "execution_count": 2,
   "metadata": {
    "collapsed": false
   },
   "outputs": [
    {
     "name": "stdout",
     "output_type": "stream",
     "text": [
      "There are about 140 fg C per cell\n"
     ]
    }
   ],
   "source": [
    "C_per_cell = (atoms_C / avogadro) * mw_C * femto # fg C per cell\n",
    "print \"There are about %0.3g fg C per cell\"%C_per_cell"
   ]
  },
  {
   "cell_type": "markdown",
   "metadata": {},
   "source": [
    "The following is how much <sup>13</sup>C we added as xylose and cellulose in the experiment."
   ]
  },
  {
   "cell_type": "code",
   "execution_count": 3,
   "metadata": {
    "collapsed": true
   },
   "outputs": [],
   "source": [
    "C_cellulose = 0.00088 # g C added as cellulose per gram soil\n",
    "C_xylose = 0.00042 # g C added as xylose per gram soil"
   ]
  },
  {
   "cell_type": "markdown",
   "metadata": {},
   "source": [
    "This function calculates the percent labeled biomass given a value for carbon use efficiency (CUE) and the fraction of biomass that was respired."
   ]
  },
  {
   "cell_type": "code",
   "execution_count": 23,
   "metadata": {
    "collapsed": true
   },
   "outputs": [],
   "source": [
    "def pct_labeled(CUE, fraction_resp, C_input):\n",
    "    \n",
    "    total_cells = 1e10 # rough estimate of cells per gram soil \n",
    "    \n",
    "    C_to_biomass = CUE * fraction_resp / (1 - CUE) # fraction of C to biomass given fraction of C respired \n",
    "    \n",
    "    new_cells = C_input * C_to_biomass * CUE * femto / C_per_cell # new biomass (or growth) in # cells\n",
    "    \n",
    "    ratio_new_old = new_cells / (total_cells + new_cells)\n",
    "    \n",
    "    print \"\\nPercent of biomass that is (13)C-labeled is approximately {0:.2f}%\".format(ratio_new_old * 100)    "
   ]
  },
  {
   "cell_type": "markdown",
   "metadata": {},
   "source": [
    "Here is the rough estimate of labeled biomass in the **<sup>13</sup>C-cellulose** treatment when 60% of the added <sup>13</sup>C is respired (as in day 30). We use a CUE of 0.30 as recommended by [Sinsabaugh *et al* 2013](http://onlinelibrary.wiley.com/doi/10.1111/ele.12113/pdf) for terrestrial ecosystems."
   ]
  },
  {
   "cell_type": "code",
   "execution_count": 24,
   "metadata": {
    "collapsed": false
   },
   "outputs": [
    {
     "name": "stdout",
     "output_type": "stream",
     "text": [
      "\n",
      "Percent of biomass that is (13)C-labeled is approximately 4.64%\n"
     ]
    }
   ],
   "source": [
    "pct_labeled(CUE=0.30, fraction_resp=0.60, C_input=C_cellulose)"
   ]
  },
  {
   "cell_type": "markdown",
   "metadata": {},
   "source": [
    "Here is the rough estimate of labeled biomass in the **<sup>13</sup>C-cellulose** treatment when 40% of the added <sup>13</sup>C is respired (as in day 14)."
   ]
  },
  {
   "cell_type": "code",
   "execution_count": 26,
   "metadata": {
    "collapsed": false
   },
   "outputs": [
    {
     "name": "stdout",
     "output_type": "stream",
     "text": [
      "\n",
      "Percent of biomass that is (13)C-labeled is approximately 3.14%\n"
     ]
    }
   ],
   "source": [
    "pct_labeled(CUE=0.30, fraction_resp=0.40, C_input=C_cellulose)"
   ]
  },
  {
   "cell_type": "markdown",
   "metadata": {},
   "source": [
    "Here is the rough estimate of labeled biomass in the **<sup>13</sup>C-xylose** treatment when 70% of the added <sup>13</sup>C is respired (day 1)."
   ]
  },
  {
   "cell_type": "code",
   "execution_count": 27,
   "metadata": {
    "collapsed": false
   },
   "outputs": [
    {
     "name": "stdout",
     "output_type": "stream",
     "text": [
      "\n",
      "Percent of biomass that is (13)C-labeled is approximately 2.64%\n"
     ]
    }
   ],
   "source": [
    "pct_labeled(CUE=0.30, fraction_resp=0.70, C_input=C_xylose)"
   ]
  }
 ],
 "metadata": {
  "kernelspec": {
   "display_name": "Python 2",
   "language": "python",
   "name": "python2"
  },
  "language_info": {
   "codemirror_mode": {
    "name": "ipython",
    "version": 2
   },
   "file_extension": ".py",
   "mimetype": "text/x-python",
   "name": "python",
   "nbconvert_exporter": "python",
   "pygments_lexer": "ipython2",
   "version": "2.7.6"
  }
 },
 "nbformat": 4,
 "nbformat_minor": 0
}
