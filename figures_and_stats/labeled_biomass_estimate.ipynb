{
 "cells": [
  {
   "cell_type": "markdown",
   "metadata": {},
   "source": [
    "Set up some constants. The atoms C per cell comes from the bionumbers website [(link)](http://bionumbers.hms.harvard.edu/bionumber.aspx?&id=103010)."
   ]
  },
  {
   "cell_type": "code",
   "execution_count": 1,
   "metadata": {
    "collapsed": false
   },
   "outputs": [],
   "source": [
    "avogadro = 6.02e23 # atoms per mole\n",
    "mw_C = 12 # grams per mole\n",
    "atoms_C = 7e9 # atoms C per cell bionumber ID 103010\n",
    "femto = 1e15"
   ]
  },
  {
   "cell_type": "markdown",
   "metadata": {},
   "source": [
    "Using the information above calculate fg C per cell."
   ]
  },
  {
   "cell_type": "code",
   "execution_count": 2,
   "metadata": {
    "collapsed": false
   },
   "outputs": [
    {
     "name": "stdout",
     "output_type": "stream",
     "text": [
      "There are about 140 fg C per cell\n"
     ]
    }
   ],
   "source": [
    "C_per_cell = (atoms_C / avogadro) * mw_C * femto # fg C per cell\n",
    "print \"There are about %0.3g fg C per cell\"%C_per_cell"
   ]
  },
  {
   "cell_type": "markdown",
   "metadata": {},
   "source": [
    "The following is how much <sup>13</sup>C we added as xylose and cellulose in the experiment."
   ]
  },
  {
   "cell_type": "code",
   "execution_count": 3,
   "metadata": {
    "collapsed": true
   },
   "outputs": [],
   "source": [
    "C_cellulose = 0.00088 # g C added as cellulose per gram soil\n",
    "C_xylose = 0.00042 # g C added as xylose per gram soil\n",
    "C_total = 0.0029 # g C added total per gram soil"
   ]
  },
  {
   "cell_type": "markdown",
   "metadata": {},
   "source": [
    "This function calculates the percent labeled biomass given a value for carbon use efficiency (CUE) and the fraction of biomass that was respired."
   ]
  },
  {
   "cell_type": "code",
   "execution_count": 4,
   "metadata": {
    "collapsed": true
   },
   "outputs": [],
   "source": [
    "def pct_labeled(CUE, fraction_resp, C_input):\n",
    "    \n",
    "    total_cells = 1e10 # rough estimate of cells per gram soil \n",
    "    \n",
    "    C_to_biomass_labeled = CUE * fraction_resp / (1 - CUE) # fraction of C to biomass \n",
    "                                                           # given fraction of C respired\n",
    "    C_to_biomass_unlabeled = CUE * 0.50 / (1 - CUE) # fraction of C to biomass given \n",
    "                                                    # fraction of C respired \n",
    "    \n",
    "    new_cells_labeled = C_input * C_to_biomass_labeled * femto / C_per_cell # new biomass \n",
    "                                                                            # (or growth) in \n",
    "                                                                            # number of cells\n",
    "    \n",
    "    new_cells_unlabeled = (C_total - C_input) * C_to_biomass_unlabeled * femto / C_per_cell \n",
    "    \n",
    "    new_cells = new_cells_labeled + new_cells_unlabeled\n",
    "    \n",
    "    ratio = new_cells_labeled / (total_cells + new_cells)\n",
    "    \n",
    "    print \"\"\"\\nPercent of biomass that is (13)C-labeled is approximately {0:.0f}%\"\"\".format(ratio * 100)"
   ]
  },
  {
   "cell_type": "markdown",
   "metadata": {},
   "source": [
    "Here is the rough estimate of labeled biomass in the **<sup>13</sup>C-cellulose** treatment when 60% of the added <sup>13</sup>C is respired (as in day 30). We use a CUE of 0.30 as recommended by [Sinsabaugh *et al* 2013](http://onlinelibrary.wiley.com/doi/10.1111/ele.12113/pdf) for terrestrial ecosystems."
   ]
  },
  {
   "cell_type": "code",
   "execution_count": 5,
   "metadata": {
    "collapsed": false
   },
   "outputs": [
    {
     "name": "stdout",
     "output_type": "stream",
     "text": [
      "\n",
      "Percent of biomass that is (13)C-labeled is approximately 11%\n"
     ]
    }
   ],
   "source": [
    "pct_labeled(CUE=0.30, fraction_resp=0.60, C_input=C_cellulose)"
   ]
  },
  {
   "cell_type": "markdown",
   "metadata": {},
   "source": [
    "Here is the rough estimate of labeled biomass in the **<sup>13</sup>C-cellulose** treatment when 40% of the added <sup>13</sup>C is respired (as in day 14)."
   ]
  },
  {
   "cell_type": "code",
   "execution_count": 6,
   "metadata": {
    "collapsed": false
   },
   "outputs": [
    {
     "name": "stdout",
     "output_type": "stream",
     "text": [
      "\n",
      "Percent of biomass that is (13)C-labeled is approximately 8%\n"
     ]
    }
   ],
   "source": [
    "pct_labeled(CUE=0.30, fraction_resp=0.40, C_input=C_cellulose)"
   ]
  },
  {
   "cell_type": "markdown",
   "metadata": {},
   "source": [
    "Here is the rough estimate of labeled biomass in the **<sup>13</sup>C-xylose** treatment when 70% of the added <sup>13</sup>C is respired (day 1)."
   ]
  },
  {
   "cell_type": "code",
   "execution_count": 7,
   "metadata": {
    "collapsed": false
   },
   "outputs": [
    {
     "name": "stdout",
     "output_type": "stream",
     "text": [
      "\n",
      "Percent of biomass that is (13)C-labeled is approximately 6%\n"
     ]
    }
   ],
   "source": [
    "pct_labeled(CUE=0.30, fraction_resp=0.70, C_input=C_xylose)"
   ]
  }
 ],
 "metadata": {
  "kernelspec": {
   "display_name": "Python 2",
   "language": "python",
   "name": "python2"
  },
  "language_info": {
   "codemirror_mode": {
    "name": "ipython",
    "version": 2
   },
   "file_extension": ".py",
   "mimetype": "text/x-python",
   "name": "python",
   "nbconvert_exporter": "python",
   "pygments_lexer": "ipython2",
   "version": "2.7.6"
  }
 },
 "nbformat": 4,
 "nbformat_minor": 0
}
