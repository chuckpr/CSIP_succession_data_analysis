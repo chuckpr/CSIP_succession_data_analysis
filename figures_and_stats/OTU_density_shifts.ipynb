{
 "metadata": {
  "name": "",
  "signature": "sha256:d189925c4d55296e4d4724cc83e261437df4ea44c3ea298e8bea438696ccc53d"
 },
 "nbformat": 3,
 "nbformat_minor": 0,
 "worksheets": [
  {
   "cells": [
    {
     "cell_type": "code",
     "collapsed": false,
     "input": [
      "%load_ext rpy2.ipython"
     ],
     "language": "python",
     "metadata": {},
     "outputs": [],
     "prompt_number": 1
    },
    {
     "cell_type": "code",
     "collapsed": false,
     "input": [
      "import pandas as pd\n",
      "import pandas.rpy.common as com\n",
      "import numpy as np"
     ],
     "language": "python",
     "metadata": {},
     "outputs": [],
     "prompt_number": 3
    },
    {
     "cell_type": "code",
     "collapsed": false,
     "input": [
      "%%R\n",
      "library(phyloseq)\n",
      "library(ggplot2)\n",
      "library(plyr)"
     ],
     "language": "python",
     "metadata": {},
     "outputs": [],
     "prompt_number": 4
    },
    {
     "cell_type": "code",
     "collapsed": false,
     "input": [
      "%%R\n",
      "physeq = import_biom(\"../data/otu_table_wtax.biom\", \"../data/otusn.tree\")\n",
      "sample.data = import_qiime_sample_data(\"../data/ABCD_combined_reads_mapper.tsv\")\n",
      "physeq = merge_phyloseq(physeq,sample.data)\n",
      "physeq.md = sample_data(physeq)\n",
      "#filtering out bulk and normalizing by total sample count\n",
      "physeq.PS = prune_samples((physeq.md$Treatment %in% c(\"12CCPS\",\"13CCPS\",\"13CXPS\"))&\n",
      "                          !(row.names(physeq.md) %in% grep(\"bulk\", row.names(physeq.md), value=TRUE)), physeq)\n",
      "physeq.PS = transform_sample_counts(physeq.PS, function(x) x/sum(x))"
     ],
     "language": "python",
     "metadata": {},
     "outputs": [],
     "prompt_number": 5
    },
    {
     "cell_type": "code",
     "collapsed": false,
     "input": [
      "%%R\n",
      "mdf = psmelt(physeq.PS)"
     ],
     "language": "python",
     "metadata": {},
     "outputs": [],
     "prompt_number": 6
    },
    {
     "cell_type": "code",
     "collapsed": false,
     "input": [
      "%%R\n",
      "sample.data = sample_data(physeq.PS)\n",
      "asNum = function(x) as.numeric(as.character(x))\n",
      "sample.data$Density = asNum(sample.data$Density)\n",
      "sample.data$Day = asNum(sample.data$Day)\n",
      "sample.data$Treatment = as.character(sample.data$Treatment)\n",
      "sample.data = sample.data[,c(\"Day\",\"Treatment\",\"Density\")]\n",
      "aggdata.min = aggregate(sample.data, by = list(sample.data$Treatment, sample.data$Day), FUN = min, na.rm = TRUE)\n",
      "aggdata.max = aggregate(sample.data, by = list(sample.data$Treatment, sample.data$Day), FUN = max, na.rm = TRUE)\n",
      "minmax = max(aggdata.min$Density)\n",
      "maxmin = min(aggdata.max$Density)"
     ],
     "language": "python",
     "metadata": {},
     "outputs": [],
     "prompt_number": 7
    },
    {
     "cell_type": "code",
     "collapsed": false,
     "input": [
      "%%R\n",
      "aggdata.minmax = ddply(sample.data, .(Day, Treatment), summarize, min = min(Density), max = max(Density))\n",
      "#print(aggdata.minmax)\n",
      "p = ggplot(aggdata.minmax) \n",
      "p = p + geom_segment(aes(y = factor(Day), yend = factor(Day), \n",
      "                         x = min, xend = max,\n",
      "                         color = Treatment), size = I(20), alpha = 0.5,\n",
      "                         data = subset(aggdata.minmax, Treatment %in% c(\"12CCPS\", \"13CCPS\")))\n",
      "\n",
      "p = p + ylab(\"Day\") + xlab(\"Density, g/mL\")\n",
      "\n",
      "p"
     ],
     "language": "python",
     "metadata": {},
     "outputs": [
      {
       "metadata": {},
       "output_type": "display_data",
       "png": "[encoded data removed]"
      }
     ],
     "prompt_number": 8
    },
    {
     "cell_type": "code",
     "collapsed": false,
     "input": [
      "maxmin = %Rget maxmin\n",
      "minmax = %Rget minmax\n",
      "maxmin = maxmin[0]\n",
      "minmax = minmax[0]\n",
      "print maxmin, minmax"
     ],
     "language": "python",
     "metadata": {},
     "outputs": [
      {
       "output_type": "stream",
       "stream": "stdout",
       "text": [
        "1.745 1.6892\n"
       ]
      }
     ],
     "prompt_number": 9
    },
    {
     "cell_type": "code",
     "collapsed": false,
     "input": [
      "mdf = com.load_data(\"mdf\")\n",
      "mdf[\"Density\"] = mdf[\"Density\"].astype(float)\n",
      "mdf.reset_index(inplace=True)"
     ],
     "language": "python",
     "metadata": {},
     "outputs": [],
     "prompt_number": 10
    },
    {
     "cell_type": "code",
     "collapsed": false,
     "input": [
      "mdf.head()"
     ],
     "language": "python",
     "metadata": {},
     "outputs": [
      {
       "html": [
        "<div style=\"max-height:1000px;max-width:1500px;overflow:auto;\">\n",
        "<table border=\"1\" class=\"dataframe\">\n",
        "  <thead>\n",
        "    <tr style=\"text-align: right;\">\n",
        "      <th></th>\n",
        "      <th>index</th>\n",
        "      <th>OTU</th>\n",
        "      <th>Sample</th>\n",
        "      <th>Abundance</th>\n",
        "      <th>X.SampleID</th>\n",
        "      <th>BarcodeSequence</th>\n",
        "      <th>Day</th>\n",
        "      <th>Density</th>\n",
        "      <th>LinkerPrimerSequence</th>\n",
        "      <th>Treatment</th>\n",
        "      <th>Description</th>\n",
        "      <th>Rank1</th>\n",
        "      <th>Rank2</th>\n",
        "      <th>Rank3</th>\n",
        "      <th>Rank4</th>\n",
        "      <th>Rank5</th>\n",
        "      <th>Rank6</th>\n",
        "      <th>Rank7</th>\n",
        "      <th>Rank8</th>\n",
        "    </tr>\n",
        "  </thead>\n",
        "  <tbody>\n",
        "    <tr>\n",
        "      <th>0</th>\n",
        "      <td>      30</td>\n",
        "      <td> OTU.1</td>\n",
        "      <td>  13X.PS.7.12</td>\n",
        "      <td> 0.356031</td>\n",
        "      <td>  13X.PS.7.12</td>\n",
        "      <td> TCACTGGTCA</td>\n",
        "      <td>  7</td>\n",
        "      <td> 1.7177</td>\n",
        "      <td> CAGGACTACHVGGGTWTCTAAT</td>\n",
        "      <td> 13CXPS</td>\n",
        "      <td>  13X.PS.7.12</td>\n",
        "      <td> Bacteria</td>\n",
        "      <td> Actinobacteria</td>\n",
        "      <td>       Micrococcales</td>\n",
        "      <td>  Micrococcaceae</td>\n",
        "      <td>     Arthrobacter</td>\n",
        "      <td>        NaN</td>\n",
        "      <td>                  NaN</td>\n",
        "      <td> NaN</td>\n",
        "    </tr>\n",
        "    <tr>\n",
        "      <th>1</th>\n",
        "      <td>     217</td>\n",
        "      <td> OTU.1</td>\n",
        "      <td>  13X.PS.7.11</td>\n",
        "      <td> 0.339872</td>\n",
        "      <td>  13X.PS.7.11</td>\n",
        "      <td> TCACTGGAGA</td>\n",
        "      <td>  7</td>\n",
        "      <td> 1.7209</td>\n",
        "      <td> CAGGACTACHVGGGTWTCTAAT</td>\n",
        "      <td> 13CXPS</td>\n",
        "      <td>  13X.PS.7.11</td>\n",
        "      <td> Bacteria</td>\n",
        "      <td> Actinobacteria</td>\n",
        "      <td>       Micrococcales</td>\n",
        "      <td>  Micrococcaceae</td>\n",
        "      <td>     Arthrobacter</td>\n",
        "      <td>        NaN</td>\n",
        "      <td>                  NaN</td>\n",
        "      <td> NaN</td>\n",
        "    </tr>\n",
        "    <tr>\n",
        "      <th>2</th>\n",
        "      <td> 1538774</td>\n",
        "      <td> OTU.6</td>\n",
        "      <td> 13C.PS.14.10</td>\n",
        "      <td> 0.332419</td>\n",
        "      <td> 13C.PS.14.10</td>\n",
        "      <td> TCAAGGATGC</td>\n",
        "      <td> 14</td>\n",
        "      <td> 1.7297</td>\n",
        "      <td> CAGGACTACHVGGGTWTCTAAT</td>\n",
        "      <td> 13CCPS</td>\n",
        "      <td> 13C.PS.14.10</td>\n",
        "      <td> Bacteria</td>\n",
        "      <td> Proteobacteria</td>\n",
        "      <td> Gammaproteobacteria</td>\n",
        "      <td> Pseudomonadales</td>\n",
        "      <td> Pseudomonadaceae</td>\n",
        "      <td> Cellvibrio</td>\n",
        "      <td> uncultured_bacterium</td>\n",
        "      <td> NaN</td>\n",
        "    </tr>\n",
        "    <tr>\n",
        "      <th>3</th>\n",
        "      <td>     253</td>\n",
        "      <td> OTU.1</td>\n",
        "      <td>  13X.PS.7.13</td>\n",
        "      <td> 0.329265</td>\n",
        "      <td>  13X.PS.7.13</td>\n",
        "      <td> TCACTGGTGT</td>\n",
        "      <td>  7</td>\n",
        "      <td> 1.7144</td>\n",
        "      <td> CAGGACTACHVGGGTWTCTAAT</td>\n",
        "      <td> 13CXPS</td>\n",
        "      <td>  13X.PS.7.13</td>\n",
        "      <td> Bacteria</td>\n",
        "      <td> Actinobacteria</td>\n",
        "      <td>       Micrococcales</td>\n",
        "      <td>  Micrococcaceae</td>\n",
        "      <td>     Arthrobacter</td>\n",
        "      <td>        NaN</td>\n",
        "      <td>                  NaN</td>\n",
        "      <td> NaN</td>\n",
        "    </tr>\n",
        "    <tr>\n",
        "      <th>4</th>\n",
        "      <td>     113</td>\n",
        "      <td> OTU.1</td>\n",
        "      <td>  13X.PS.3.13</td>\n",
        "      <td> 0.319009</td>\n",
        "      <td>  13X.PS.3.13</td>\n",
        "      <td> TCACGTCTAG</td>\n",
        "      <td>  3</td>\n",
        "      <td> 1.7209</td>\n",
        "      <td> CAGGACTACHVGGGTWTCTAAT</td>\n",
        "      <td> 13CXPS</td>\n",
        "      <td>  13X.PS.3.13</td>\n",
        "      <td> Bacteria</td>\n",
        "      <td> Actinobacteria</td>\n",
        "      <td>       Micrococcales</td>\n",
        "      <td>  Micrococcaceae</td>\n",
        "      <td>     Arthrobacter</td>\n",
        "      <td>        NaN</td>\n",
        "      <td>                  NaN</td>\n",
        "      <td> NaN</td>\n",
        "    </tr>\n",
        "  </tbody>\n",
        "</table>\n",
        "</div>"
       ],
       "metadata": {},
       "output_type": "pyout",
       "prompt_number": 11,
       "text": [
        "     index    OTU        Sample  Abundance    X.SampleID BarcodeSequence  Day  \\\n",
        "0       30  OTU.1   13X.PS.7.12   0.356031   13X.PS.7.12      TCACTGGTCA    7   \n",
        "1      217  OTU.1   13X.PS.7.11   0.339872   13X.PS.7.11      TCACTGGAGA    7   \n",
        "2  1538774  OTU.6  13C.PS.14.10   0.332419  13C.PS.14.10      TCAAGGATGC   14   \n",
        "3      253  OTU.1   13X.PS.7.13   0.329265   13X.PS.7.13      TCACTGGTGT    7   \n",
        "4      113  OTU.1   13X.PS.3.13   0.319009   13X.PS.3.13      TCACGTCTAG    3   \n",
        "\n",
        "   Density    LinkerPrimerSequence Treatment   Description     Rank1  \\\n",
        "0   1.7177  CAGGACTACHVGGGTWTCTAAT    13CXPS   13X.PS.7.12  Bacteria   \n",
        "1   1.7209  CAGGACTACHVGGGTWTCTAAT    13CXPS   13X.PS.7.11  Bacteria   \n",
        "2   1.7297  CAGGACTACHVGGGTWTCTAAT    13CCPS  13C.PS.14.10  Bacteria   \n",
        "3   1.7144  CAGGACTACHVGGGTWTCTAAT    13CXPS   13X.PS.7.13  Bacteria   \n",
        "4   1.7209  CAGGACTACHVGGGTWTCTAAT    13CXPS   13X.PS.3.13  Bacteria   \n",
        "\n",
        "            Rank2                Rank3            Rank4             Rank5  \\\n",
        "0  Actinobacteria        Micrococcales   Micrococcaceae      Arthrobacter   \n",
        "1  Actinobacteria        Micrococcales   Micrococcaceae      Arthrobacter   \n",
        "2  Proteobacteria  Gammaproteobacteria  Pseudomonadales  Pseudomonadaceae   \n",
        "3  Actinobacteria        Micrococcales   Micrococcaceae      Arthrobacter   \n",
        "4  Actinobacteria        Micrococcales   Micrococcaceae      Arthrobacter   \n",
        "\n",
        "        Rank6                 Rank7 Rank8  \n",
        "0         NaN                   NaN   NaN  \n",
        "1         NaN                   NaN   NaN  \n",
        "2  Cellvibrio  uncultured_bacterium   NaN  \n",
        "3         NaN                   NaN   NaN  \n",
        "4         NaN                   NaN   NaN  "
       ]
      }
     ],
     "prompt_number": 11
    },
    {
     "cell_type": "code",
     "collapsed": false,
     "input": [
      "def wavg(group, r = (minmax, maxmin), N=20):\n",
      "    day, = set(group.Day) #should only be one day in each group\n",
      "    g_sorted = group.sort(\"Density\", ascending=True)\n",
      "    d = g_sorted[\"Density\"]\n",
      "    w = g_sorted[\"Abundance\"]\n",
      "    x = np.linspace(r[0],r[1],N)\n",
      "    yinterp = np.interp(x, d, w)\n",
      "    return (x*yinterp).sum()/yinterp.sum()"
     ],
     "language": "python",
     "metadata": {},
     "outputs": [],
     "prompt_number": 12
    },
    {
     "cell_type": "code",
     "collapsed": false,
     "input": [
      "mdf_grouped = mdf.groupby((\"Day\",\"Treatment\",\"OTU\"))\n",
      "OTU_wavg = mdf_grouped.apply(wavg)"
     ],
     "language": "python",
     "metadata": {},
     "outputs": [],
     "prompt_number": 13
    },
    {
     "cell_type": "code",
     "collapsed": false,
     "input": [
      "OTU_wavg_df = OTU_wavg.reset_index()\n",
      "OTU_wavg_df.rename(columns={0:\"density_wavg\"}, inplace=True)\n",
      "OTU_wavg_df.head()"
     ],
     "language": "python",
     "metadata": {},
     "outputs": [
      {
       "html": [
        "<div style=\"max-height:1000px;max-width:1500px;overflow:auto;\">\n",
        "<table border=\"1\" class=\"dataframe\">\n",
        "  <thead>\n",
        "    <tr style=\"text-align: right;\">\n",
        "      <th></th>\n",
        "      <th>Day</th>\n",
        "      <th>Treatment</th>\n",
        "      <th>OTU</th>\n",
        "      <th>density_wavg</th>\n",
        "    </tr>\n",
        "  </thead>\n",
        "  <tbody>\n",
        "    <tr>\n",
        "      <th>0</th>\n",
        "      <td> 1</td>\n",
        "      <td> 12CCPS</td>\n",
        "      <td>    OTU.1</td>\n",
        "      <td> 1.718898</td>\n",
        "    </tr>\n",
        "    <tr>\n",
        "      <th>1</th>\n",
        "      <td> 1</td>\n",
        "      <td> 12CCPS</td>\n",
        "      <td>   OTU.10</td>\n",
        "      <td> 1.718608</td>\n",
        "    </tr>\n",
        "    <tr>\n",
        "      <th>2</th>\n",
        "      <td> 1</td>\n",
        "      <td> 12CCPS</td>\n",
        "      <td>  OTU.100</td>\n",
        "      <td> 1.717498</td>\n",
        "    </tr>\n",
        "    <tr>\n",
        "      <th>3</th>\n",
        "      <td> 1</td>\n",
        "      <td> 12CCPS</td>\n",
        "      <td> OTU.1000</td>\n",
        "      <td> 1.711909</td>\n",
        "    </tr>\n",
        "    <tr>\n",
        "      <th>4</th>\n",
        "      <td> 1</td>\n",
        "      <td> 12CCPS</td>\n",
        "      <td> OTU.1001</td>\n",
        "      <td> 1.731253</td>\n",
        "    </tr>\n",
        "  </tbody>\n",
        "</table>\n",
        "</div>"
       ],
       "metadata": {},
       "output_type": "pyout",
       "prompt_number": 14,
       "text": [
        "   Day Treatment       OTU  density_wavg\n",
        "0    1    12CCPS     OTU.1      1.718898\n",
        "1    1    12CCPS    OTU.10      1.718608\n",
        "2    1    12CCPS   OTU.100      1.717498\n",
        "3    1    12CCPS  OTU.1000      1.711909\n",
        "4    1    12CCPS  OTU.1001      1.731253"
       ]
      }
     ],
     "prompt_number": 14
    },
    {
     "cell_type": "code",
     "collapsed": false,
     "input": [
      "l = []\n",
      "for t in [\"13CXPS\", \"13CCPS\"]:\n",
      "    df_t = OTU_wavg_df[(OTU_wavg_df[\"Treatment\"]==t)|(OTU_wavg_df[\"Treatment\"]==\"12CCPS\")]\n",
      "    df_t_pivot = pd.pivot_table(df_t, \n",
      "                           values=\"density_wavg\", \n",
      "                           rows=\"OTU\", \n",
      "                           cols=[\"Day\", \"Treatment\"])\n",
      "    g = df_t_pivot.groupby(level=0, axis=1)\n",
      "    for k in g.groups:\n",
      "        d = g.get_group(k)\n",
      "        try:\n",
      "            d[\"shift\"] = d[(k, t)] - d[(k, \"12CCPS\")]\n",
      "        except KeyError:\n",
      "            continue\n",
      "        df = pd.DataFrame.from_dict(d[\"shift\"].to_dict(), orient=\"index\")\n",
      "        df.rename(columns={0 : \"shift\"}, inplace=True)\n",
      "        df[\"Day\"] = [k for i in df.index]\n",
      "        df[\"Treatment\"] = [t for i in df.index]\n",
      "        l.append(df)\n",
      "df_shift = pd.concat(l)\n",
      "df_shift = df_shift.reset_index()\n",
      "df_shift.rename(columns={\"index\" : \"OTU\"}, inplace=True)\n",
      "df_shift.head()"
     ],
     "language": "python",
     "metadata": {},
     "outputs": [
      {
       "output_type": "stream",
       "stream": "stderr",
       "text": [
        "/usr/local/lib/python2.7/dist-packages/pandas/util/decorators.py:53: FutureWarning: cols is deprecated, use columns instead\n",
        "  warnings.warn(msg, FutureWarning)\n",
        "/usr/local/lib/python2.7/dist-packages/pandas/util/decorators.py:53: FutureWarning: rows is deprecated, use index instead\n",
        "  warnings.warn(msg, FutureWarning)\n"
       ]
      },
      {
       "html": [
        "<div style=\"max-height:1000px;max-width:1500px;overflow:auto;\">\n",
        "<table border=\"1\" class=\"dataframe\">\n",
        "  <thead>\n",
        "    <tr style=\"text-align: right;\">\n",
        "      <th></th>\n",
        "      <th>OTU</th>\n",
        "      <th>shift</th>\n",
        "      <th>Day</th>\n",
        "      <th>Treatment</th>\n",
        "    </tr>\n",
        "  </thead>\n",
        "  <tbody>\n",
        "    <tr>\n",
        "      <th>0</th>\n",
        "      <td>  OTU.759</td>\n",
        "      <td>      NaN</td>\n",
        "      <td> 1</td>\n",
        "      <td> 13CXPS</td>\n",
        "    </tr>\n",
        "    <tr>\n",
        "      <th>1</th>\n",
        "      <td>  OTU.758</td>\n",
        "      <td> 0.017598</td>\n",
        "      <td> 1</td>\n",
        "      <td> 13CXPS</td>\n",
        "    </tr>\n",
        "    <tr>\n",
        "      <th>2</th>\n",
        "      <td>  OTU.757</td>\n",
        "      <td>-0.005009</td>\n",
        "      <td> 1</td>\n",
        "      <td> 13CXPS</td>\n",
        "    </tr>\n",
        "    <tr>\n",
        "      <th>3</th>\n",
        "      <td>  OTU.756</td>\n",
        "      <td> 0.009056</td>\n",
        "      <td> 1</td>\n",
        "      <td> 13CXPS</td>\n",
        "    </tr>\n",
        "    <tr>\n",
        "      <th>4</th>\n",
        "      <td> OTU.5419</td>\n",
        "      <td>-0.003076</td>\n",
        "      <td> 1</td>\n",
        "      <td> 13CXPS</td>\n",
        "    </tr>\n",
        "  </tbody>\n",
        "</table>\n",
        "</div>"
       ],
       "metadata": {},
       "output_type": "pyout",
       "prompt_number": 15,
       "text": [
        "        OTU     shift  Day Treatment\n",
        "0   OTU.759       NaN    1    13CXPS\n",
        "1   OTU.758  0.017598    1    13CXPS\n",
        "2   OTU.757 -0.005009    1    13CXPS\n",
        "3   OTU.756  0.009056    1    13CXPS\n",
        "4  OTU.5419 -0.003076    1    13CXPS"
       ]
      }
     ],
     "prompt_number": 15
    },
    {
     "cell_type": "code",
     "collapsed": false,
     "input": [
      "df_shift.to_csv(\"../data/density_shifts.csv\", sep=\",\", index=False)"
     ],
     "language": "python",
     "metadata": {},
     "outputs": [],
     "prompt_number": 16
    },
    {
     "cell_type": "code",
     "collapsed": false,
     "input": [
      "!head ../data/density_shifts.csv"
     ],
     "language": "python",
     "metadata": {},
     "outputs": [
      {
       "output_type": "stream",
       "stream": "stdout",
       "text": [
        "OTU,shift,Day,Treatment\r\n",
        "OTU.759,,1,13CXPS\r\n",
        "OTU.758,0.01759763532053471,1,13CXPS\r\n",
        "OTU.757,-0.005009262875951048,1,13CXPS\r\n",
        "OTU.756,0.009056018684021838,1,13CXPS\r\n",
        "OTU.5419,-0.0030757744498624007,1,13CXPS\r\n",
        "OTU.839,0.002702782074062826,1,13CXPS\r\n",
        "OTU.1968,-0.004716111440380422,1,13CXPS\r\n",
        "OTU.1969,,1,13CXPS\r\n",
        "OTU.1964,,1,13CXPS\r\n"
       ]
      }
     ],
     "prompt_number": 17
    },
    {
     "cell_type": "code",
     "collapsed": false,
     "input": [
      "df_shiftR = com.convert_to_r_dataframe(df_shift, strings_as_factors=True)\n",
      "%Rpush df_shiftR"
     ],
     "language": "python",
     "metadata": {},
     "outputs": [],
     "prompt_number": 20
    },
    {
     "cell_type": "code",
     "collapsed": false,
     "input": [
      "%%R -w 500 -h 300\n",
      "p = ggplot(df_shiftR, aes(x = shift, color = Treatment, fill = Treatment))\n",
      "\n",
      "p = p + geom_density(alpha = 0.25)\n",
      "\n",
      "p"
     ],
     "language": "python",
     "metadata": {},
     "outputs": [
      {
       "metadata": {},
       "output_type": "display_data",
       "png": "[encoded data removed]"
      }
     ],
     "prompt_number": 28
    }
   ],
   "metadata": {}
  }
 ]
}