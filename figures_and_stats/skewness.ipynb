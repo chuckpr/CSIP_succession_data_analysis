{
 "metadata": {
  "name": "",
  "signature": "sha256:09ec5af5aab69a2e82801f0245e14947da3111661e27fde639061440e56c33a3"
 },
 "nbformat": 3,
 "nbformat_minor": 0,
 "worksheets": [
  {
   "cells": [
    {
     "cell_type": "code",
     "collapsed": false,
     "input": [
      "%load_ext rpy2.ipython"
     ],
     "language": "python",
     "metadata": {},
     "outputs": [
      {
       "output_type": "stream",
       "stream": "stderr",
       "text": [
        "/opt/anaconda/lib/python2.7/site-packages/pytz/__init__.py:29: UserWarning: Module argparse was already imported from /opt/anaconda/lib/python2.7/argparse.pyc, but /opt/anaconda/lib/python2.7/site-packages is being added to sys.path\n",
        "  from pkg_resources import resource_stream\n"
       ]
      }
     ],
     "prompt_number": 1
    },
    {
     "cell_type": "code",
     "collapsed": false,
     "input": [
      "%%R\n",
      "library(dplyr); library(tidyr)\n",
      "library(moments)\n",
      "library(ggplot2)"
     ],
     "language": "python",
     "metadata": {},
     "outputs": [],
     "prompt_number": 31
    },
    {
     "cell_type": "code",
     "collapsed": false,
     "input": [
      "%%R\n",
      "l2fc.df = read.csv(\"../data/l2fc_table.csv\")"
     ],
     "language": "python",
     "metadata": {},
     "outputs": [],
     "prompt_number": 4
    },
    {
     "cell_type": "code",
     "collapsed": false,
     "input": [
      "%%R -h 450 -w 600\n",
      "d = l2fc.df %>%\n",
      "    group_by(Treatment, Day) %>%\n",
      "    summarize(skew = skewness(log2FoldChange),\n",
      "              p = agostino.test(log2FoldChange, alternative = \"less\")$p.value) %>% \n",
      "    group_by() %>%\n",
      "    gather(key, value, skew:p)\n",
      "\n",
      "p = ggplot(d, aes(x = factor(Day)))\n",
      "\n",
      "p = p + facet_grid(key ~ Treatment, scales = \"free\", space = \"free_x\")\n",
      "\n",
      "p = p + geom_bar(data = d %>% filter(key == \"skew\"), \n",
      "                 stat = \"identity\", \n",
      "                 position = \"dodge\",\n",
      "                 aes(y = value))\n",
      "\n",
      "p = p + geom_point(data = d %>% filter(key == \"p\"), \n",
      "                 size = 4, \n",
      "                 position = \"dodge\",\n",
      "                 aes(y = -log(value)))\n",
      "\n",
      "hld = data.frame(Treatment = c(\"13CCPS\", \"13CXPS\"), \n",
      "                 key = \"p\",\n",
      "                 value = -log(0.05 / 9))\n",
      "\n",
      "p = p + geom_hline(data = hld, color = \"red\", aes(yintercept = value))\n",
      "\n",
      "p = p + theme_bw()\n",
      "\n",
      "p = p + theme(strip.text = element_text(size = 16),\n",
      "              strip.background = element_blank(),\n",
      "              axis.text = element_text(size = 14),\n",
      "              axis.title = element_text(size = 16),\n",
      "              legend.title = element_text(size = 16),\n",
      "              legend.text = element_text(size = 14))\n",
      "\n",
      "p"
     ],
     "language": "python",
     "metadata": {},
     "outputs": [
      {
       "metadata": {},
       "output_type": "display_data",
       "text": [
        "ymax not defined: adjusting position using y instead\n",
        "ymax not defined: adjusting position using y instead\n"
       ]
      },
      {
       "metadata": {},
       "output_type": "display_data",
       "png": "[encoded data removed]"
      }
     ],
     "prompt_number": 88
    }
   ],
   "metadata": {}
  }
 ]
}