{
 "metadata": {
  "name": "",
  "signature": "sha256:e9e73899a22c81ef3cd16e23a9bf3ad53d32e2b6f43c793ff52db966f1efd3d1"
 },
 "nbformat": 3,
 "nbformat_minor": 0,
 "worksheets": [
  {
   "cells": [
    {
     "cell_type": "code",
     "collapsed": false,
     "input": [
      "from IPython.display import Image, FileLink\n",
      "import pandas as pd\n",
      "import pandas.rpy.common as com"
     ],
     "language": "python",
     "metadata": {},
     "outputs": [
      {
       "output_type": "stream",
       "stream": "stderr",
       "text": [
        "/opt/anaconda/lib/python2.7/site-packages/pytz/__init__.py:29: UserWarning: Module argparse was already imported from /opt/anaconda/lib/python2.7/argparse.pyc, but /opt/anaconda/lib/python2.7/site-packages is being added to sys.path\n",
        "  from pkg_resources import resource_stream\n"
       ]
      }
     ],
     "prompt_number": 1
    },
    {
     "cell_type": "code",
     "collapsed": false,
     "input": [
      "%load_ext rpy2.ipython"
     ],
     "language": "python",
     "metadata": {},
     "outputs": [],
     "prompt_number": 2
    },
    {
     "cell_type": "code",
     "collapsed": false,
     "input": [
      "%%R\n",
      "library(data.table)\n",
      "library(dplyr)"
     ],
     "language": "python",
     "metadata": {},
     "outputs": [
      {
       "metadata": {},
       "output_type": "display_data",
       "text": [
        "data.table 1.9.4  For help type: ?data.table\n",
        "*** NB: by=.EACHI is now explicit. See README to restore previous behaviour.\n",
        "\n",
        "Attaching package: \u2018dplyr\u2019\n",
        "\n",
        "The following objects are masked from \u2018package:data.table\u2019:\n",
        "\n",
        "    between, last\n",
        "\n",
        "The following object is masked from \u2018package:stats\u2019:\n",
        "\n",
        "    filter\n",
        "\n",
        "The following objects are masked from \u2018package:base\u2019:\n",
        "\n",
        "    intersect, setdiff, setequal, union\n",
        "\n"
       ]
      }
     ],
     "prompt_number": 3
    },
    {
     "cell_type": "code",
     "collapsed": false,
     "input": [
      "%%R\n",
      "df.l2fc = read.csv(\"../data/l2fc_table.csv\")"
     ],
     "language": "python",
     "metadata": {},
     "outputs": [],
     "prompt_number": 4
    },
    {
     "cell_type": "code",
     "collapsed": false,
     "input": [
      "%%R\n",
      "df.blast = tbl_df(read.table(\"../data/tmp/blast_out_otusn_LTP115.m6\",\n",
      "                  sep = \"\\t\"))\n",
      "names(df.blast) = c(\"OTU\", \"acc\", \"pid\", \"alnlen\", \"mismatches\", \"gaps\", \n",
      "                    \"qstart\", \"qend\", \"sstart\", \"send\", \"evalue\", \"bit\")\n",
      "\n",
      "df.blast"
     ],
     "language": "python",
     "metadata": {},
     "outputs": [
      {
       "metadata": {},
       "output_type": "display_data",
       "text": [
        "Source: local data frame [1,919,502 x 12]\n",
        "\n",
        "     OTU      acc pid alnlen mismatches gaps qstart qend sstart send evalue bit\n",
        "1  OTU.1 AF235091 100    219          0    0      1  219    508  726 2e-113 405\n",
        "2  OTU.1 AF330692 100    219          0    0      1  219    502  720 2e-113 405\n",
        "3  OTU.1 AB588633 100    219          0    0      1  219    539  757 2e-113 405\n",
        "4  OTU.1   X80741 100    219          0    0      1  219    532  750 2e-113 405\n",
        "5  OTU.1 AM176541 100    219          0    0      1  219    541  759 2e-113 405\n",
        "6  OTU.1   X80740 100    219          0    0      1  219    533  751 2e-113 405\n",
        "7  OTU.1   X83408 100    219          0    0      1  219    529  747 2e-113 405\n",
        "8  OTU.1 AB279889 100    219          0    0      1  219    538  756 2e-113 405\n",
        "9  OTU.1 GQ406811 100    219          0    0      1  219    492  710 2e-113 405\n",
        "10 OTU.1 AB279890 100    219          0    0      1  219    542  760 2e-113 405\n",
        "..   ...      ... ...    ...        ...  ...    ...  ...    ...  ...    ... ...\n"
       ]
      }
     ],
     "prompt_number": 5
    },
    {
     "cell_type": "code",
     "collapsed": false,
     "input": [
      "%%R\n",
      "df.tax = tbl_df(read.csv(\"/var/seq_data/silva/silva_blastdb/full_names.csv\"))\n",
      "df.tax"
     ],
     "language": "python",
     "metadata": {},
     "outputs": [
      {
       "metadata": {},
       "output_type": "display_data",
       "text": [
        "Source: local data frame [1,426,450 x 2]\n",
        "\n",
        "        acc                           full_name\n",
        "1  AX003092          Enterococcus casseliflavus\n",
        "2  AX044029              Neisseria meningitidis\n",
        "3  EU271959            Myzocytiopsis intermedia\n",
        "4  AX039535            Dehalococcoides mccartyi\n",
        "5  EU273602                   Acorus americanus\n",
        "6  AX175616                Marinomonas communis\n",
        "7  AX044033              Neisseria meningitidis\n",
        "8  AB000389         Pseudoalteromonas elyakovii\n",
        "9  EU271960          Myzocytiopsis sp. venatrix\n",
        "10 AB001439 Pseudomonas syringae pv. actinidiae\n",
        "..      ...                                 ...\n"
       ]
      }
     ],
     "prompt_number": 6
    },
    {
     "cell_type": "code",
     "collapsed": false,
     "input": [
      "%%R\n",
      "df.blast = left_join(df.blast, df.tax)"
     ],
     "language": "python",
     "metadata": {},
     "outputs": [
      {
       "metadata": {},
       "output_type": "display_data",
       "text": [
        "Joining by: \"acc\"\n"
       ]
      }
     ],
     "prompt_number": 7
    },
    {
     "cell_type": "code",
     "collapsed": false,
     "input": [
      "%%R\n",
      "df.blast = left_join(df.blast, df.l2fc %>% select(OTU, padj, log2FoldChange, Treatment, Rank2))"
     ],
     "language": "python",
     "metadata": {},
     "outputs": [
      {
       "metadata": {},
       "output_type": "display_data",
       "text": [
        "Joining by: \"OTU\"\n"
       ]
      }
     ],
     "prompt_number": 8
    },
    {
     "cell_type": "code",
     "collapsed": false,
     "input": [
      "%%R\n",
      "df.top.hits = df.blast %>%\n",
      "    group_by(OTU) %>%\n",
      "    mutate(bit.rank = rank(desc(bit), ties.method = \"min\")) %>%\n",
      "    filter(bit.rank == 1) %>%\n",
      "    group_by()"
     ],
     "language": "python",
     "metadata": {},
     "outputs": [],
     "prompt_number": 9
    },
    {
     "cell_type": "code",
     "collapsed": false,
     "input": [
      "%%R\n",
      "FDR = 0.10\n",
      "\n",
      "df.table = df.top.hits %>%\n",
      "    filter(padj <= FDR) %>%\n",
      "    group_by(OTU) %>%\n",
      "    summarize(hits = paste(full_name, collapse = \"|\"), \n",
      "              pid = first(pid), \n",
      "              log2FoldChange = first(log2FoldChange), \n",
      "              Phylum = first(as.character(Rank2)),\n",
      "              Treatment = first(as.character(Treatment))) %>%\n",
      "    arrange(Phylum, desc(log2FoldChange))"
     ],
     "language": "python",
     "metadata": {},
     "outputs": [],
     "prompt_number": 10
    },
    {
     "cell_type": "code",
     "collapsed": false,
     "input": [
      "df_table = com.load_data(\"df.table\")"
     ],
     "language": "python",
     "metadata": {},
     "outputs": [],
     "prompt_number": 11
    },
    {
     "cell_type": "code",
     "collapsed": false,
     "input": [
      "def list_genera(l):\n",
      "    names = l.split(\"|\")\n",
      "    names_abbr = []\n",
      "    seen = []\n",
      "    for name in names:\n",
      "        genus, species = name.split(\" \", 1)\n",
      "        if genus in seen:\n",
      "            continue\n",
      "        else:\n",
      "            seen.append(genus)\n",
      "        names_abbr.append(genus)\n",
      "    return \", \".join(names_abbr)\n",
      "    \n",
      "def get_latex(row):\n",
      "    latex = \"\"\n",
      "    OTU = row[\"OTU\"]\n",
      "    genera = list_genera(row[\"hits\"])\n",
      "    pid = row[\"pid\"]\n",
      "    phylum = row[\"Phylum\"]\n",
      "    l2fc = pd.Series(row[\"log2FoldChange\"]).round(2).values[0]\n",
      "    #acc = df.acc.iloc[0]\n",
      "    return OTU + \" & \" + str(l2fc) + \" & \" + genera + \" & \" + str(pid) + \" & \" + phylum + r\" \\\\ \" + r\"\\midrule\" + \"\\n\""
     ],
     "language": "python",
     "metadata": {},
     "outputs": [],
     "prompt_number": 12
    },
    {
     "cell_type": "code",
     "collapsed": false,
     "input": [
      "s = df_table[df_table[\"Treatment\"]==\"13CXPS\"].apply(get_latex, axis=1)\n",
      "\n",
      "table_framework = r\"\"\"\n",
      "\\documentclass[11pt]{article}\n",
      "\\usepackage{multirow, array, booktabs}\n",
      "\\begin{document}\n",
      "\n",
      "\\thispagestyle{empty}\n",
      " \n",
      "\\begin{table}[ht]\n",
      "\\caption{$^{13}$C-xylose responders BLAST against Living Tree Project}\n",
      "\\begin{center}\n",
      "\\begin{tabular}{lrp{3cm}rl}\n",
      "    \\toprule \\\\\n",
      "    \\textbf{OTU ID} & \\textbf{$log_{2}$label:control} & \\textbf{Genera of top hits} & \\textbf{BLAST \\%%ID} & \\textbf{Phylum} \\\\\n",
      "    \\midrule\n",
      "    %s\n",
      "    \\bottomrule\n",
      "\\end{tabular}\n",
      "\\end{center}\n",
      "\\label{tab:multicol}\n",
      "\\end{table}\n",
      " \n",
      "\\end{document}\"\"\"%\"\".join(s.values)\n",
      "\n",
      "with open(\"../data/tmp/table_xyl.tex\", \"w\") as out:\n",
      "    out.write(table_framework)"
     ],
     "language": "python",
     "metadata": {},
     "outputs": [],
     "prompt_number": 33
    },
    {
     "cell_type": "code",
     "collapsed": false,
     "input": [
      "!head ../data/tmp/table_xyl.tex"
     ],
     "language": "python",
     "metadata": {},
     "outputs": [
      {
       "output_type": "stream",
       "stream": "stdout",
       "text": [
        "\r\n",
        "\\documentclass[11pt]{article}\r\n",
        "\\usepackage{multirow, array, booktabs}\r\n",
        "\\begin{document}\r\n",
        "\r\n",
        "\\thispagestyle{empty}\r\n",
        " \r\n",
        "\\begin{table}[ht]\r\n",
        "\\caption{$^{13}$C-xylose responders BLAST against Living Tree Project}\r\n",
        "\\begin{center}\r\n"
       ]
      }
     ],
     "prompt_number": 37
    },
    {
     "cell_type": "code",
     "collapsed": false,
     "input": [
      "!latex ../data/tmp/table_xyl.tex >/dev/null\n",
      "!dvipng -o figs/LTP_blast_table_xylose.png table_xyl.dvi"
     ],
     "language": "python",
     "metadata": {},
     "outputs": [
      {
       "output_type": "stream",
       "stream": "stdout",
       "text": [
        "This is dvipng 1.14 Copyright 2002-2010 Jan-Ake Larsson\r\n"
       ]
      },
      {
       "output_type": "stream",
       "stream": "stdout",
       "text": [
        "[1] \r\n"
       ]
      }
     ],
     "prompt_number": 39
    },
    {
     "cell_type": "code",
     "collapsed": false,
     "input": [
      "Image(\"figs/LTP_blast_table_xylose.png\")"
     ],
     "language": "python",
     "metadata": {},
     "outputs": [
      {
       "metadata": {},
       "output_type": "pyout",
       "png": "[encoded data removed]",
       "prompt_number": 38,
       "text": [
        "<IPython.core.display.Image at 0x7f874984f250>"
       ]
      }
     ],
     "prompt_number": 38
    }
   ],
   "metadata": {}
  }
 ]
}