{
 "cells": [
  {
   "cell_type": "code",
   "execution_count": 1,
   "metadata": {
    "collapsed": false
   },
   "outputs": [],
   "source": [
    "from IPython.display import Image, FileLink\n",
    "import pandas as pd\n",
    "import pandas.rpy.common as com"
   ]
  },
  {
   "cell_type": "code",
   "execution_count": 2,
   "metadata": {
    "collapsed": false
   },
   "outputs": [],
   "source": [
    "%load_ext rpy2.ipython"
   ]
  },
  {
   "cell_type": "code",
   "execution_count": 3,
   "metadata": {
    "collapsed": false
   },
   "outputs": [
    {
     "data": {
      "text/plain": [
       "data.table 1.9.4  For help type: ?data.table\n",
       "*** NB: by=.EACHI is now explicit. See README to restore previous behaviour.\n",
       "\n",
       "Attaching package: ‘dplyr’\n",
       "\n",
       "The following objects are masked from ‘package:data.table’:\n",
       "\n",
       "    between, last\n",
       "\n",
       "The following object is masked from ‘package:stats’:\n",
       "\n",
       "    filter\n",
       "\n",
       "The following objects are masked from ‘package:base’:\n",
       "\n",
       "    intersect, setdiff, setequal, union\n",
       "\n"
      ]
     },
     "metadata": {},
     "output_type": "display_data"
    }
   ],
   "source": [
    "%%R\n",
    "library(data.table)\n",
    "library(dplyr)"
   ]
  },
  {
   "cell_type": "code",
   "execution_count": 45,
   "metadata": {
    "collapsed": true
   },
   "outputs": [],
   "source": [
    "%%R\n",
    "FDR = 0.10\n",
    "\n",
    "df.l2fc = read.csv(\"../data/l2fc_table.csv\") %>% \n",
    "    filter(padj <= FDR) %>%\n",
    "    group_by(OTU, Treatment) %>%\n",
    "    slice(which.max(log2FoldChange))"
   ]
  },
  {
   "cell_type": "code",
   "execution_count": 47,
   "metadata": {
    "collapsed": false
   },
   "outputs": [
    {
     "data": {
      "text/plain": [
       "Source: local data frame [1,919,502 x 12]\n",
       "\n",
       "     OTU      acc pid alnlen mismatches gaps qstart qend sstart send evalue bit\n",
       "1  OTU.1 AF235091 100    219          0    0      1  219    508  726 2e-113 405\n",
       "2  OTU.1 AF330692 100    219          0    0      1  219    502  720 2e-113 405\n",
       "3  OTU.1 AB588633 100    219          0    0      1  219    539  757 2e-113 405\n",
       "4  OTU.1   X80741 100    219          0    0      1  219    532  750 2e-113 405\n",
       "5  OTU.1 AM176541 100    219          0    0      1  219    541  759 2e-113 405\n",
       "6  OTU.1   X80740 100    219          0    0      1  219    533  751 2e-113 405\n",
       "7  OTU.1   X83408 100    219          0    0      1  219    529  747 2e-113 405\n",
       "8  OTU.1 AB279889 100    219          0    0      1  219    538  756 2e-113 405\n",
       "9  OTU.1 GQ406811 100    219          0    0      1  219    492  710 2e-113 405\n",
       "10 OTU.1 AB279890 100    219          0    0      1  219    542  760 2e-113 405\n",
       "..   ...      ... ...    ...        ...  ...    ...  ...    ...  ...    ... ...\n"
      ]
     },
     "metadata": {},
     "output_type": "display_data"
    }
   ],
   "source": [
    "%%R\n",
    "df.blast = tbl_df(read.table(\"../data/tmp/blast_out_otusn_LTP115.m6\",\n",
    "                  sep = \"\\t\"))\n",
    "names(df.blast) = c(\"OTU\", \"acc\", \"pid\", \"alnlen\", \"mismatches\", \"gaps\", \n",
    "                    \"qstart\", \"qend\", \"sstart\", \"send\", \"evalue\", \"bit\")\n",
    "\n",
    "df.blast"
   ]
  },
  {
   "cell_type": "code",
   "execution_count": 48,
   "metadata": {
    "collapsed": false
   },
   "outputs": [
    {
     "data": {
      "text/plain": [
       "Source: local data frame [1,426,450 x 2]\n",
       "\n",
       "        acc                           full_name\n",
       "1  AX003092          Enterococcus casseliflavus\n",
       "2  AX044029              Neisseria meningitidis\n",
       "3  EU271959            Myzocytiopsis intermedia\n",
       "4  AX039535            Dehalococcoides mccartyi\n",
       "5  EU273602                   Acorus americanus\n",
       "6  AX175616                Marinomonas communis\n",
       "7  AX044033              Neisseria meningitidis\n",
       "8  AB000389         Pseudoalteromonas elyakovii\n",
       "9  EU271960          Myzocytiopsis sp. venatrix\n",
       "10 AB001439 Pseudomonas syringae pv. actinidiae\n",
       "..      ...                                 ...\n"
      ]
     },
     "metadata": {},
     "output_type": "display_data"
    }
   ],
   "source": [
    "%%R\n",
    "df.tax = tbl_df(read.csv(\"/var/seq_data/silva/silva_blastdb/full_names.csv\"))\n",
    "df.tax"
   ]
  },
  {
   "cell_type": "code",
   "execution_count": 49,
   "metadata": {
    "collapsed": false
   },
   "outputs": [
    {
     "data": {
      "text/plain": [
       "Joining by: \"acc\"\n"
      ]
     },
     "metadata": {},
     "output_type": "display_data"
    }
   ],
   "source": [
    "%%R\n",
    "df.blast = left_join(df.blast, df.tax)"
   ]
  },
  {
   "cell_type": "code",
   "execution_count": 50,
   "metadata": {
    "collapsed": false
   },
   "outputs": [
    {
     "data": {
      "text/plain": [
       "Joining by: \"OTU\"\n"
      ]
     },
     "metadata": {},
     "output_type": "display_data"
    }
   ],
   "source": [
    "%%R\n",
    "df.blast = left_join(df.blast, df.l2fc %>% select(OTU, padj, log2FoldChange, Day, Treatment, Rank2, Rank3, Rank4))"
   ]
  },
  {
   "cell_type": "code",
   "execution_count": 51,
   "metadata": {
    "collapsed": false
   },
   "outputs": [],
   "source": [
    "%%R\n",
    "df.top.hits = df.blast %>%\n",
    "    group_by(OTU, Treatment) %>%\n",
    "    mutate(bit.rank = rank(desc(bit), ties.method = \"min\")) %>%\n",
    "    filter(bit.rank == 1) %>%\n",
    "    group_by()"
   ]
  },
  {
   "cell_type": "code",
   "execution_count": 52,
   "metadata": {
    "collapsed": false
   },
   "outputs": [
    {
     "data": {
      "text/plain": [
       "Source: local data frame [10,543 x 21]\n",
       "Groups: OTU, Treatment\n",
       "\n",
       "     OTU      acc pid alnlen mismatches gaps qstart qend sstart send evalue bit\n",
       "1  OTU.1 AF235091 100    219          0    0      1  219    508  726 2e-113 405\n",
       "2  OTU.1 AF330692 100    219          0    0      1  219    502  720 2e-113 405\n",
       "3  OTU.1 AB588633 100    219          0    0      1  219    539  757 2e-113 405\n",
       "4  OTU.1   X80741 100    219          0    0      1  219    532  750 2e-113 405\n",
       "5  OTU.1 AM176541 100    219          0    0      1  219    541  759 2e-113 405\n",
       "6  OTU.1   X80740 100    219          0    0      1  219    533  751 2e-113 405\n",
       "7  OTU.1   X83408 100    219          0    0      1  219    529  747 2e-113 405\n",
       "8  OTU.1 AB279889 100    219          0    0      1  219    538  756 2e-113 405\n",
       "9  OTU.1 GQ406811 100    219          0    0      1  219    492  710 2e-113 405\n",
       "10 OTU.1 AB279890 100    219          0    0      1  219    542  760 2e-113 405\n",
       "..   ...      ... ...    ...        ...  ...    ...  ...    ...  ...    ... ...\n",
       "Variables not shown: full_name (fctr), padj (dbl), log2FoldChange (dbl), Day\n",
       "  (int), Treatment (fctr), Rank2 (fctr), Rank3 (fctr), Rank4 (fctr), bit.rank\n",
       "  (int)\n"
      ]
     },
     "metadata": {},
     "output_type": "display_data"
    }
   ],
   "source": [
    "%%R\n",
    "df.top.hits %>%\n",
    "    group_by(OTU, Treatment)"
   ]
  },
  {
   "cell_type": "code",
   "execution_count": 53,
   "metadata": {
    "collapsed": false
   },
   "outputs": [],
   "source": [
    "%%R\n",
    "FDR = 0.10\n",
    "\n",
    "df.table = df.top.hits %>%\n",
    "    filter(padj <= FDR) %>%\n",
    "    group_by(OTU, Treatment) %>%\n",
    "    summarize(hits = paste(full_name, collapse = \"|\"), \n",
    "              pid = first(pid), \n",
    "              log2FoldChange = first(log2FoldChange),\n",
    "              Day = first(Day),\n",
    "              Phylum = first(as.character(Rank2)),\n",
    "              Class = first(as.character(Rank3)),\n",
    "              Order = first(as.character(Rank4))) %>%\n",
    "    arrange(Phylum, Class, Order, desc(log2FoldChange))"
   ]
  },
  {
   "cell_type": "code",
   "execution_count": 54,
   "metadata": {
    "collapsed": false
   },
   "outputs": [],
   "source": [
    "df_table = com.load_data(\"df.table\")"
   ]
  },
  {
   "cell_type": "code",
   "execution_count": 55,
   "metadata": {
    "collapsed": false
   },
   "outputs": [
    {
     "data": {
      "text/html": [
       "<div style=\"max-height:1000px;max-width:1500px;overflow:auto;\">\n",
       "<table border=\"1\" class=\"dataframe\">\n",
       "  <thead>\n",
       "    <tr style=\"text-align: right;\">\n",
       "      <th></th>\n",
       "      <th>OTU</th>\n",
       "      <th>Treatment</th>\n",
       "      <th>hits</th>\n",
       "      <th>pid</th>\n",
       "      <th>log2FoldChange</th>\n",
       "      <th>Day</th>\n",
       "      <th>Phylum</th>\n",
       "      <th>Class</th>\n",
       "      <th>Order</th>\n",
       "    </tr>\n",
       "  </thead>\n",
       "  <tbody>\n",
       "    <tr>\n",
       "      <th>1</th>\n",
       "      <td>  OTU.100</td>\n",
       "      <td> 13CCPS</td>\n",
       "      <td> Pseudoxanthomonas sacheonensis|Pseudoxanthomon...</td>\n",
       "      <td> 100.00</td>\n",
       "      <td> 2.662703</td>\n",
       "      <td> 14</td>\n",
       "      <td>  Proteobacteria</td>\n",
       "      <td> Gammaproteobacteria</td>\n",
       "      <td>    Xanthomonadales</td>\n",
       "    </tr>\n",
       "    <tr>\n",
       "      <th>2</th>\n",
       "      <td> OTU.1023</td>\n",
       "      <td> 13CCPS</td>\n",
       "      <td>                        Stenotrophomonas koreensis</td>\n",
       "      <td>  80.54</td>\n",
       "      <td> 4.605162</td>\n",
       "      <td> 30</td>\n",
       "      <td> Verrucomicrobia</td>\n",
       "      <td>      Spartobacteria</td>\n",
       "      <td> Chthoniobacterales</td>\n",
       "    </tr>\n",
       "    <tr>\n",
       "      <th>3</th>\n",
       "      <td> OTU.1040</td>\n",
       "      <td> 13CXPS</td>\n",
       "      <td>                        Paenibacillus daejeonensis</td>\n",
       "      <td> 100.00</td>\n",
       "      <td> 4.779735</td>\n",
       "      <td>  1</td>\n",
       "      <td>      Firmicutes</td>\n",
       "      <td>             Bacilli</td>\n",
       "      <td>         Bacillales</td>\n",
       "    </tr>\n",
       "    <tr>\n",
       "      <th>4</th>\n",
       "      <td> OTU.1065</td>\n",
       "      <td> 13CCPS</td>\n",
       "      <td>                            Blastopirellula marina</td>\n",
       "      <td>  84.55</td>\n",
       "      <td> 5.314210</td>\n",
       "      <td> 14</td>\n",
       "      <td>  Planctomycetes</td>\n",
       "      <td>    Planctomycetacia</td>\n",
       "      <td>   Planctomycetales</td>\n",
       "    </tr>\n",
       "    <tr>\n",
       "      <th>5</th>\n",
       "      <td> OTU.1069</td>\n",
       "      <td> 13CXPS</td>\n",
       "      <td>                           Paenibacillus terrigena</td>\n",
       "      <td> 100.00</td>\n",
       "      <td> 3.853167</td>\n",
       "      <td>  1</td>\n",
       "      <td>      Firmicutes</td>\n",
       "      <td>             Bacilli</td>\n",
       "      <td>         Bacillales</td>\n",
       "    </tr>\n",
       "  </tbody>\n",
       "</table>\n",
       "</div>"
      ],
      "text/plain": [
       "        OTU Treatment                                               hits  \\\n",
       "1   OTU.100    13CCPS  Pseudoxanthomonas sacheonensis|Pseudoxanthomon...   \n",
       "2  OTU.1023    13CCPS                         Stenotrophomonas koreensis   \n",
       "3  OTU.1040    13CXPS                         Paenibacillus daejeonensis   \n",
       "4  OTU.1065    13CCPS                             Blastopirellula marina   \n",
       "5  OTU.1069    13CXPS                            Paenibacillus terrigena   \n",
       "\n",
       "      pid  log2FoldChange  Day           Phylum                Class  \\\n",
       "1  100.00        2.662703   14   Proteobacteria  Gammaproteobacteria   \n",
       "2   80.54        4.605162   30  Verrucomicrobia       Spartobacteria   \n",
       "3  100.00        4.779735    1       Firmicutes              Bacilli   \n",
       "4   84.55        5.314210   14   Planctomycetes     Planctomycetacia   \n",
       "5  100.00        3.853167    1       Firmicutes              Bacilli   \n",
       "\n",
       "                Order  \n",
       "1     Xanthomonadales  \n",
       "2  Chthoniobacterales  \n",
       "3          Bacillales  \n",
       "4    Planctomycetales  \n",
       "5          Bacillales  "
      ]
     },
     "execution_count": 55,
     "metadata": {},
     "output_type": "execute_result"
    }
   ],
   "source": [
    "df_table.head()"
   ]
  },
  {
   "cell_type": "code",
   "execution_count": 56,
   "metadata": {
    "collapsed": false
   },
   "outputs": [
    {
     "data": {
      "text/html": [
       "<div style=\"max-height:1000px;max-width:1500px;overflow:auto;\">\n",
       "<table border=\"1\" class=\"dataframe\">\n",
       "  <thead>\n",
       "    <tr style=\"text-align: right;\">\n",
       "      <th></th>\n",
       "      <th>OTU</th>\n",
       "      <th>Treatment</th>\n",
       "      <th>hits</th>\n",
       "      <th>pid</th>\n",
       "      <th>log2FoldChange</th>\n",
       "      <th>Day</th>\n",
       "      <th>Phylum</th>\n",
       "      <th>Class</th>\n",
       "      <th>Order</th>\n",
       "    </tr>\n",
       "  </thead>\n",
       "  <tbody>\n",
       "    <tr>\n",
       "      <th>19</th>\n",
       "      <td> OTU.150</td>\n",
       "      <td> 13CCPS</td>\n",
       "      <td> Planctomyces limnophilus</td>\n",
       "      <td> 86.76</td>\n",
       "      <td> 4.059991</td>\n",
       "      <td> 14</td>\n",
       "      <td> Planctomycetes</td>\n",
       "      <td> Planctomycetacia</td>\n",
       "      <td> Planctomycetales</td>\n",
       "    </tr>\n",
       "    <tr>\n",
       "      <th>20</th>\n",
       "      <td> OTU.150</td>\n",
       "      <td> 13CXPS</td>\n",
       "      <td> Planctomyces limnophilus</td>\n",
       "      <td> 86.76</td>\n",
       "      <td> 3.083178</td>\n",
       "      <td> 14</td>\n",
       "      <td> Planctomycetes</td>\n",
       "      <td> Planctomycetacia</td>\n",
       "      <td> Planctomycetales</td>\n",
       "    </tr>\n",
       "  </tbody>\n",
       "</table>\n",
       "</div>"
      ],
      "text/plain": [
       "        OTU Treatment                      hits    pid  log2FoldChange  Day  \\\n",
       "19  OTU.150    13CCPS  Planctomyces limnophilus  86.76        4.059991   14   \n",
       "20  OTU.150    13CXPS  Planctomyces limnophilus  86.76        3.083178   14   \n",
       "\n",
       "            Phylum             Class             Order  \n",
       "19  Planctomycetes  Planctomycetacia  Planctomycetales  \n",
       "20  Planctomycetes  Planctomycetacia  Planctomycetales  "
      ]
     },
     "execution_count": 56,
     "metadata": {},
     "output_type": "execute_result"
    }
   ],
   "source": [
    "df_table[df_table[\"OTU\"] == \"OTU.150\"]"
   ]
  },
  {
   "cell_type": "code",
   "execution_count": 57,
   "metadata": {
    "collapsed": true
   },
   "outputs": [],
   "source": [
    "def list_genera(l):\n",
    "    if len(l.split(\"|\")) > 10:\n",
    "        names = l.split(\"|\")\n",
    "        names_abbr = []\n",
    "        seen = []\n",
    "        for name in names:\n",
    "            genus, species = name.split(\" \", 1)\n",
    "            if genus in seen:\n",
    "                continue\n",
    "            else:\n",
    "                seen.append(genus)\n",
    "                names_abbr.append(\"\\mbox{\" + \"\\\\textit{\" + genus + \" spp.\" + \"}\" + \"}\")\n",
    "        return \", \".join(names_abbr) \n",
    "    elif len(l.split(\"|\")) > 1:\n",
    "        return  \", \".join([\"\\mbox{\" + \"\\\\textit{\" + i + \"}\" + \"}\" for i in set(l.split(\"|\"))])\n",
    "    else:\n",
    "        return \"\\mbox{\" + \"\\\\textit{\" + l + \"}\" + \"}\"\n",
    "    \n",
    "def get_latex(row):\n",
    "    latex = \"\"\n",
    "    OTU = row[\"OTU\"]\n",
    "    pid = row[\"pid\"]\n",
    "    Day = row[\"Day\"]\n",
    "    \n",
    "    if pid >= 90:\n",
    "        genera = list_genera(row[\"hits\"])\n",
    "    else:\n",
    "        genera = \"{No hits of at least 90\\% identity}\"\n",
    "\n",
    "    tax = \" \".join([\"\\mbox{\" + \"\\\\textit{\" + i + \"}\" + \"}\" for i in row[[\"Phylum\",\"Class\",\"Order\"]]]).replace(\"_\",\"-\")\n",
    "    \n",
    "    l2fc = pd.Series(row[\"log2FoldChange\"]).round(2).values[0]\n",
    "    #acc = df.acc.iloc[0]\n",
    "    return OTU + \" & \" + str(l2fc) + \" & \" + str(Day) + \" & \" + genera + \" & \" + str(pid) + \" & \" + tax + r\" \\\\ \" + r\"\\midrule\" + \"\\n\""
   ]
  },
  {
   "cell_type": "code",
   "execution_count": 58,
   "metadata": {
    "collapsed": true
   },
   "outputs": [],
   "source": [
    "s = df_table[df_table[\"Treatment\"]==\"13CXPS\"].apply(get_latex, axis=1)\n",
    "\n",
    "table_framework = r\"\"\"\n",
    "\\documentclass[10pt]{article}\n",
    "\\usepackage{multirow, array, booktabs, longtable, threeparttablex}\n",
    "\\usepackage{array}\n",
    "\\newcolumntype{P}[1]{>{\\raggedright\\arraybackslash}p{#1}}\n",
    "\n",
    "\\usepackage{geometry} \n",
    "\\geometry{tmargin=1cm, bmargin=1cm, lmargin=0.25cm, rmargin=0.25cm} \n",
    "\n",
    "\\begin{document}\n",
    "\n",
    "\\thispagestyle{empty}\n",
    "\n",
    "\\begin{ThreePartTable}\n",
    "\\begin{TableNotes}\n",
    "\\item[a] Maximum observed $log_{2}$ of fold change. \n",
    "\\item[b] Day of maximum fold change.\n",
    "\\end{TableNotes}\n",
    "\n",
    "\\begin{longtable}{lrrP{5cm}rP{5cm}}\n",
    "\n",
    "\\caption{$^{13}$C-xylose responders BLAST against Living Tree Project} \\\\\n",
    "\\toprule \n",
    "    \\textbf{OTU ID} & \n",
    "    \\textbf{Fold change} \\tnote{a} & \n",
    "    \\textbf{Day} \\tnote{b} & \n",
    "    \\textbf{Top BLAST hits} & \n",
    "    \\textbf{BLAST \\%%ID} & \n",
    "    \\textbf{Phylum;Class;Order} \\\\\n",
    "\\midrule\n",
    "\\endfirsthead\n",
    "\n",
    "\\multicolumn{3}{c}\n",
    "{{\\tablename\\ \\thetable{} -- continued from previous page}} \\\\\n",
    "\\midrule\n",
    "    \\textbf{OTU ID} & \n",
    "    \\textbf{Fold change} & \n",
    "    \\textbf{Day} & \n",
    "    \\textbf{Top BLAST hits} & \n",
    "    \\textbf{BLAST \\%%ID} & \n",
    "    \\textbf{Phylum;Class;Order} \\\\\n",
    "\\midrule\n",
    "\\endhead\n",
    "    %s\n",
    "\\bottomrule\n",
    "\\insertTableNotes\n",
    "\\end{longtable}\n",
    "\n",
    "\\end{ThreePartTable}\n",
    " \n",
    "\\end{document}\"\"\"%\"\".join(s.values)\n",
    "\n",
    "with open(\"../data/tmp/table_xyl.tex\", \"w\") as out:\n",
    "    out.write(table_framework)"
   ]
  },
  {
   "cell_type": "code",
   "execution_count": 61,
   "metadata": {
    "collapsed": false
   },
   "outputs": [
    {
     "data": {
      "text/plain": [
       "(49,)"
      ]
     },
     "execution_count": 61,
     "metadata": {},
     "output_type": "execute_result"
    }
   ],
   "source": [
    "s.shape"
   ]
  },
  {
   "cell_type": "code",
   "execution_count": 59,
   "metadata": {
    "collapsed": false
   },
   "outputs": [],
   "source": [
    "!latex ../data/tmp/table_xyl.tex >/dev/null\n",
    "!dvipdf table_xyl.dvi figs/LTP_blast_table_xylose.pdf"
   ]
  },
  {
   "cell_type": "code",
   "execution_count": 17,
   "metadata": {
    "collapsed": false
   },
   "outputs": [
    {
     "data": {
      "text/html": [
       "<a href='figs/LTP_blast_table_xylose.pdf' target='_blank'>figs/LTP_blast_table_xylose.pdf</a><br>"
      ],
      "text/plain": [
       "/home/chuck/working/CSIP_succession_data_analysis/figures_and_stats/figs/LTP_blast_table_xylose.pdf"
      ]
     },
     "execution_count": 17,
     "metadata": {},
     "output_type": "execute_result"
    }
   ],
   "source": [
    "FileLink(\"figs/LTP_blast_table_xylose.pdf\")"
   ]
  },
  {
   "cell_type": "code",
   "execution_count": 18,
   "metadata": {
    "collapsed": false
   },
   "outputs": [
    {
     "data": {
      "text/html": [
       "<a href='../data/tmp/table_xyl.tex' target='_blank'>../data/tmp/table_xyl.tex</a><br>"
      ],
      "text/plain": [
       "/home/chuck/working/CSIP_succession_data_analysis/data/tmp/table_xyl.tex"
      ]
     },
     "execution_count": 18,
     "metadata": {},
     "output_type": "execute_result"
    }
   ],
   "source": [
    "FileLink(\"../data/tmp/table_xyl.tex\")"
   ]
  }
 ],
 "metadata": {
  "kernelspec": {
   "display_name": "Python 2",
   "language": "python",
   "name": "python2"
  },
  "language_info": {
   "codemirror_mode": {
    "name": "ipython",
    "version": 2
   },
   "file_extension": ".py",
   "mimetype": "text/x-python",
   "name": "python",
   "nbconvert_exporter": "python",
   "pygments_lexer": "ipython2",
   "version": "2.7.9"
  }
 },
 "nbformat": 4,
 "nbformat_minor": 0
}
