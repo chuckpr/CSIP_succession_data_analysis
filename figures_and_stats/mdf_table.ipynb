{
 "metadata": {
  "name": "",
  "signature": "sha256:be1e8f3671af0a85ba9662a4750a0a0fb3c636b6abad696591c739ea04ad97c5"
 },
 "nbformat": 3,
 "nbformat_minor": 0,
 "worksheets": [
  {
   "cells": [
    {
     "cell_type": "code",
     "collapsed": false,
     "input": [
      "%load_ext rpy2.ipython"
     ],
     "language": "python",
     "metadata": {},
     "outputs": [
      {
       "output_type": "stream",
       "stream": "stderr",
       "text": [
        "/opt/anaconda/lib/python2.7/site-packages/pytz/__init__.py:29: UserWarning: Module argparse was already imported from /opt/anaconda/lib/python2.7/argparse.pyc, but /opt/anaconda/lib/python2.7/site-packages is being added to sys.path\n",
        "  from pkg_resources import resource_stream\n"
       ]
      }
     ],
     "prompt_number": 1
    },
    {
     "cell_type": "code",
     "collapsed": false,
     "input": [
      "%%R\n",
      "library(phyloseq)"
     ],
     "language": "python",
     "metadata": {},
     "outputs": [],
     "prompt_number": 2
    },
    {
     "cell_type": "code",
     "collapsed": false,
     "input": [
      "%%R\n",
      "physeq = import_biom(\"../data/otu_table_wtax.biom\", \"../data/otusn.tree\")"
     ],
     "language": "python",
     "metadata": {},
     "outputs": [],
     "prompt_number": 3
    },
    {
     "cell_type": "code",
     "collapsed": false,
     "input": [
      "%%R\n",
      "md = read.table(\"../data/ABCD_combined_reads_mapper.tsv\",\n",
      "                comment = \"\", \n",
      "                colClasses = c(\"Density\" = \"numeric\"),\n",
      "                header = TRUE, \n",
      "                sep = \"\\t\")\n",
      "rownames(md) = md$X.SampleID\n",
      "md = sample_data(md)"
     ],
     "language": "python",
     "metadata": {},
     "outputs": [],
     "prompt_number": 9
    },
    {
     "cell_type": "code",
     "collapsed": false,
     "input": [
      "%%R\n",
      "sample_data(physeq) = md\n",
      "physeq"
     ],
     "language": "python",
     "metadata": {},
     "outputs": [
      {
       "metadata": {},
       "output_type": "display_data",
       "text": [
        "phyloseq-class experiment-level object\n",
        "otu_table()   OTU Table:         [ 6236 taxa and 352 samples ]\n",
        "sample_data() Sample Data:       [ 352 samples by 7 sample variables ]\n",
        "tax_table()   Taxonomy Table:    [ 6236 taxa by 8 taxonomic ranks ]\n",
        "phy_tree()    Phylogenetic Tree: [ 6236 tips and 6235 internal nodes ]\n"
       ]
      }
     ],
     "prompt_number": 11
    },
    {
     "cell_type": "code",
     "collapsed": false,
     "input": [
      "%%R\n",
      "mdf = psmelt(physeq)"
     ],
     "language": "python",
     "metadata": {},
     "outputs": [],
     "prompt_number": 12
    },
    {
     "cell_type": "code",
     "collapsed": false,
     "input": [
      "%%R\n",
      "write.csv(mdf, \"../data/mdf.csv\", row.names = FALSE)"
     ],
     "language": "python",
     "metadata": {},
     "outputs": [],
     "prompt_number": 15
    },
    {
     "cell_type": "code",
     "collapsed": false,
     "input": [
      "!head ../data/mdf.csv | cut -c1-80"
     ],
     "language": "python",
     "metadata": {},
     "outputs": [
      {
       "output_type": "stream",
       "stream": "stdout",
       "text": [
        "\"OTU\",\"Sample\",\"Abundance\",\"X.SampleID\",\"BarcodeSequence\",\"Day\",\"Density\",\"Linke\r\n",
        "\"OTU.1\",\"cont.PS.3.6\",8814,\"cont.PS.3.6\",\"TCAGAGACTG\",3,1.7515,\"CAGGACTACHVGGGTW\r\n",
        "\"OTU.1\",\"cont.PS.3.7\",8604,\"cont.PS.3.7\",\"TCAGAGAGAG\",3,1.745,\"CAGGACTACHVGGGTWT\r\n",
        "\"OTU.6\",\"13C.PS.14.10\",2910,\"13C.PS.14.10\",\"TCAAGGATGC\",14,1.7297,\"CAGGACTACHVGG\r\n",
        "\"OTU.1\",\"13X.PS.7.11\",2183,\"13X.PS.7.11\",\"TCACTGGAGA\",7,1.7209,\"CAGGACTACHVGGGTW\r\n",
        "\"OTU.1\",\"13X.PS.7.12\",2081,\"13X.PS.7.12\",\"TCACTGGTCA\",7,1.7177,\"CAGGACTACHVGGGTW\r\n",
        "\"OTU.1\",\"cont.PS.30.8\",1825,\"cont.PS.30.8\",\"TCAACGATCC\",30,1.7461,\"CAGGACTACHVGG\r\n",
        "\"OTU.1\",\"13C.PS.7.18\",1785,\"13C.PS.7.18\",\"TCACACTGAC\",7,1.7122,\"CAGGACTACHVGGGTW\r\n",
        "\"OTU.2\",\"cont.PS.3.6\",1722,\"cont.PS.3.6\",\"TCAGAGACTG\",3,1.7515,\"CAGGACTACHVGGGTW\r\n",
        "\"OTU.1\",\"13X.PS.1.12\",1606,\"13X.PS.1.12\",\"TCACTCACAG\",1,1.7231,\"CAGGACTACHVGGGTW\r\n"
       ]
      }
     ],
     "prompt_number": 18
    }
   ],
   "metadata": {}
  }
 ]
}