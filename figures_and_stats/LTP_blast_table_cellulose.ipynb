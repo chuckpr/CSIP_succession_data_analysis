{
 "metadata": {
  "name": "",
  "signature": "sha256:b69d614cc8b9f07c3f8de37b6e452049962c3fde86acf7648bf10c13bde558f0"
 },
 "nbformat": 3,
 "nbformat_minor": 0,
 "worksheets": [
  {
   "cells": [
    {
     "cell_type": "code",
     "collapsed": false,
     "input": [
      "from IPython.display import Image, FileLink\n",
      "import pandas as pd\n",
      "import pandas.rpy.common as com"
     ],
     "language": "python",
     "metadata": {},
     "outputs": [],
     "prompt_number": 120
    },
    {
     "cell_type": "code",
     "collapsed": false,
     "input": [
      "%load_ext rpy2.ipython"
     ],
     "language": "python",
     "metadata": {},
     "outputs": [
      {
       "output_type": "stream",
       "stream": "stdout",
       "text": [
        "The rpy2.ipython extension is already loaded. To reload it, use:\n",
        "  %reload_ext rpy2.ipython\n"
       ]
      }
     ],
     "prompt_number": 65
    },
    {
     "cell_type": "code",
     "collapsed": false,
     "input": [
      "%%R\n",
      "library(data.table)\n",
      "library(dplyr)"
     ],
     "language": "python",
     "metadata": {},
     "outputs": [],
     "prompt_number": 66
    },
    {
     "cell_type": "code",
     "collapsed": false,
     "input": [
      "%%R\n",
      "df.l2fc = read.csv(\"../data/l2fc_table.csv\")"
     ],
     "language": "python",
     "metadata": {},
     "outputs": [],
     "prompt_number": 67
    },
    {
     "cell_type": "code",
     "collapsed": false,
     "input": [
      "%%R\n",
      "df.blast = tbl_df(read.table(\"../data/tmp/blast_out_otusn_LTP115.m6\",\n",
      "                  sep = \"\\t\"))\n",
      "names(df.blast) = c(\"OTU\", \"acc\", \"pid\", \"alnlen\", \"mismatches\", \"gaps\", \n",
      "                    \"qstart\", \"qend\", \"sstart\", \"send\", \"evalue\", \"bit\")\n",
      "\n",
      "df.blast"
     ],
     "language": "python",
     "metadata": {},
     "outputs": [
      {
       "metadata": {},
       "output_type": "display_data",
       "text": [
        "Source: local data frame [1,919,502 x 12]\n",
        "\n",
        "     OTU      acc pid alnlen mismatches gaps qstart qend sstart send evalue bit\n",
        "1  OTU.1 AF235091 100    219          0    0      1  219    508  726 2e-113 405\n",
        "2  OTU.1 AF330692 100    219          0    0      1  219    502  720 2e-113 405\n",
        "3  OTU.1 AB588633 100    219          0    0      1  219    539  757 2e-113 405\n",
        "4  OTU.1   X80741 100    219          0    0      1  219    532  750 2e-113 405\n",
        "5  OTU.1 AM176541 100    219          0    0      1  219    541  759 2e-113 405\n",
        "6  OTU.1   X80740 100    219          0    0      1  219    533  751 2e-113 405\n",
        "7  OTU.1   X83408 100    219          0    0      1  219    529  747 2e-113 405\n",
        "8  OTU.1 AB279889 100    219          0    0      1  219    538  756 2e-113 405\n",
        "9  OTU.1 GQ406811 100    219          0    0      1  219    492  710 2e-113 405\n",
        "10 OTU.1 AB279890 100    219          0    0      1  219    542  760 2e-113 405\n",
        "..   ...      ... ...    ...        ...  ...    ...  ...    ...  ...    ... ...\n"
       ]
      }
     ],
     "prompt_number": 68
    },
    {
     "cell_type": "code",
     "collapsed": false,
     "input": [
      "%%R\n",
      "df.tax = tbl_df(read.csv(\"/var/seq_data/silva/silva_blastdb/full_names.csv\"))\n",
      "df.tax"
     ],
     "language": "python",
     "metadata": {},
     "outputs": [
      {
       "metadata": {},
       "output_type": "display_data",
       "text": [
        "Source: local data frame [1,426,450 x 2]\n",
        "\n",
        "        acc                           full_name\n",
        "1  AX003092          Enterococcus casseliflavus\n",
        "2  AX044029              Neisseria meningitidis\n",
        "3  EU271959            Myzocytiopsis intermedia\n",
        "4  AX039535            Dehalococcoides mccartyi\n",
        "5  EU273602                   Acorus americanus\n",
        "6  AX175616                Marinomonas communis\n",
        "7  AX044033              Neisseria meningitidis\n",
        "8  AB000389         Pseudoalteromonas elyakovii\n",
        "9  EU271960          Myzocytiopsis sp. venatrix\n",
        "10 AB001439 Pseudomonas syringae pv. actinidiae\n",
        "..      ...                                 ...\n"
       ]
      }
     ],
     "prompt_number": 69
    },
    {
     "cell_type": "code",
     "collapsed": false,
     "input": [
      "%%R\n",
      "df.blast = left_join(df.blast, df.tax)"
     ],
     "language": "python",
     "metadata": {},
     "outputs": [
      {
       "metadata": {},
       "output_type": "display_data",
       "text": [
        "Joining by: \"acc\"\n"
       ]
      }
     ],
     "prompt_number": 70
    },
    {
     "cell_type": "code",
     "collapsed": false,
     "input": [
      "%%R\n",
      "df.blast = left_join(df.blast, df.l2fc %>% select(OTU, padj, log2FoldChange, Treatment, Rank2, Rank3, Rank4))"
     ],
     "language": "python",
     "metadata": {},
     "outputs": [
      {
       "metadata": {},
       "output_type": "display_data",
       "text": [
        "Joining by: c(\"OTU\", \"padj\", \"log2FoldChange\", \"Treatment\", \"Rank2\")\n"
       ]
      }
     ],
     "prompt_number": 286
    },
    {
     "cell_type": "code",
     "collapsed": false,
     "input": [
      "%%R\n",
      "df.top.hits = df.blast %>%\n",
      "    group_by(OTU) %>%\n",
      "    mutate(bit.rank = rank(desc(bit), ties.method = \"min\")) %>%\n",
      "    filter(bit.rank == 1) %>%\n",
      "    group_by()"
     ],
     "language": "python",
     "metadata": {},
     "outputs": [],
     "prompt_number": 287
    },
    {
     "cell_type": "code",
     "collapsed": false,
     "input": [
      "%%R\n",
      "FDR = 0.10\n",
      "\n",
      "df.table = df.top.hits %>%\n",
      "    filter(padj <= FDR) %>%\n",
      "    group_by(OTU) %>%\n",
      "    summarize(hits = paste(full_name, collapse = \"|\"), \n",
      "              pid = first(pid), \n",
      "              log2FoldChange = max(log2FoldChange), \n",
      "              Phylum = first(as.character(Rank2)),\n",
      "              Class = first(as.character(Rank3)),\n",
      "              Order = first(as.character(Rank4)),\n",
      "              Treatment = first(as.character(Treatment))) %>%\n",
      "    arrange(Phylum, Class, Order, desc(log2FoldChange))"
     ],
     "language": "python",
     "metadata": {},
     "outputs": [],
     "prompt_number": 312
    },
    {
     "cell_type": "code",
     "collapsed": false,
     "input": [
      "%%R\n",
      "df.top.hits %>% filter(OTU == \"OTU.633\")"
     ],
     "language": "python",
     "metadata": {},
     "outputs": [
      {
       "metadata": {},
       "output_type": "display_data",
       "text": [
        "Source: local data frame [2 x 20]\n",
        "\n",
        "      OTU        padj log2FoldChange Treatment          Rank2    acc  pid\n",
        "1 OTU.633 1.000000000      0.9250328    13CCPS Proteobacteria X71856 89.5\n",
        "2 OTU.633 0.006148879      3.8405598    13CCPS Proteobacteria X71856 89.5\n",
        "Variables not shown: alnlen (int), mismatches (int), gaps (int), qstart (int),\n",
        "  qend (int), sstart (int), send (int), evalue (dbl), bit (dbl), full_name\n",
        "  (fctr), Rank3 (fctr), Rank4 (fctr), bit.rank (int)\n"
       ]
      }
     ],
     "prompt_number": 313
    },
    {
     "cell_type": "code",
     "collapsed": false,
     "input": [
      "df_table = com.load_data(\"df.table\")"
     ],
     "language": "python",
     "metadata": {},
     "outputs": [],
     "prompt_number": 314
    },
    {
     "cell_type": "code",
     "collapsed": false,
     "input": [
      "df_table.head()"
     ],
     "language": "python",
     "metadata": {},
     "outputs": [
      {
       "html": [
        "<div style=\"max-height:1000px;max-width:1500px;overflow:auto;\">\n",
        "<table border=\"1\" class=\"dataframe\">\n",
        "  <thead>\n",
        "    <tr style=\"text-align: right;\">\n",
        "      <th></th>\n",
        "      <th>OTU</th>\n",
        "      <th>hits</th>\n",
        "      <th>pid</th>\n",
        "      <th>log2FoldChange</th>\n",
        "      <th>Phylum</th>\n",
        "      <th>Class</th>\n",
        "      <th>Order</th>\n",
        "      <th>Treatment</th>\n",
        "    </tr>\n",
        "  </thead>\n",
        "  <tbody>\n",
        "    <tr>\n",
        "      <th>1</th>\n",
        "      <td> OTU.4446</td>\n",
        "      <td> Catenuloplanes niger|Catenuloplanes nepalensis...</td>\n",
        "      <td>  97.72</td>\n",
        "      <td> 3.494467</td>\n",
        "      <td> Actinobacteria</td>\n",
        "      <td>    Frankiales</td>\n",
        "      <td>   Nakamurellaceae</td>\n",
        "      <td> 13CXPS</td>\n",
        "    </tr>\n",
        "    <tr>\n",
        "      <th>2</th>\n",
        "      <td>   OTU.62</td>\n",
        "      <td>                               Nakamurella flavida</td>\n",
        "      <td> 100.00</td>\n",
        "      <td> 2.567762</td>\n",
        "      <td> Actinobacteria</td>\n",
        "      <td>    Frankiales</td>\n",
        "      <td>   Nakamurellaceae</td>\n",
        "      <td> 13CXPS</td>\n",
        "    </tr>\n",
        "    <tr>\n",
        "      <th>3</th>\n",
        "      <td>   OTU.24</td>\n",
        "      <td> Cellulomonas xylanilytica|Cellulomonas terrae|...</td>\n",
        "      <td> 100.00</td>\n",
        "      <td> 2.813928</td>\n",
        "      <td> Actinobacteria</td>\n",
        "      <td> Micrococcales</td>\n",
        "      <td> Cellulomonadaceae</td>\n",
        "      <td> 13CXPS</td>\n",
        "    </tr>\n",
        "    <tr>\n",
        "      <th>4</th>\n",
        "      <td>    OTU.4</td>\n",
        "      <td>               Agromyces ramosus|Agromyces ramosus</td>\n",
        "      <td> 100.00</td>\n",
        "      <td> 2.841753</td>\n",
        "      <td> Actinobacteria</td>\n",
        "      <td> Micrococcales</td>\n",
        "      <td> Microbacteriaceae</td>\n",
        "      <td> 13CXPS</td>\n",
        "    </tr>\n",
        "    <tr>\n",
        "      <th>5</th>\n",
        "      <td>   OTU.37</td>\n",
        "      <td> Phycicola gilvus|Microterricola viridarii|Fron...</td>\n",
        "      <td> 100.00</td>\n",
        "      <td> 2.681494</td>\n",
        "      <td> Actinobacteria</td>\n",
        "      <td> Micrococcales</td>\n",
        "      <td> Microbacteriaceae</td>\n",
        "      <td> 13CXPS</td>\n",
        "    </tr>\n",
        "  </tbody>\n",
        "</table>\n",
        "</div>"
       ],
       "metadata": {},
       "output_type": "pyout",
       "prompt_number": 315,
       "text": [
        "        OTU                                               hits     pid  \\\n",
        "1  OTU.4446  Catenuloplanes niger|Catenuloplanes nepalensis...   97.72   \n",
        "2    OTU.62                                Nakamurella flavida  100.00   \n",
        "3    OTU.24  Cellulomonas xylanilytica|Cellulomonas terrae|...  100.00   \n",
        "4     OTU.4                Agromyces ramosus|Agromyces ramosus  100.00   \n",
        "5    OTU.37  Phycicola gilvus|Microterricola viridarii|Fron...  100.00   \n",
        "\n",
        "   log2FoldChange          Phylum          Class              Order Treatment  \n",
        "1        3.494467  Actinobacteria     Frankiales    Nakamurellaceae    13CXPS  \n",
        "2        2.567762  Actinobacteria     Frankiales    Nakamurellaceae    13CXPS  \n",
        "3        2.813928  Actinobacteria  Micrococcales  Cellulomonadaceae    13CXPS  \n",
        "4        2.841753  Actinobacteria  Micrococcales  Microbacteriaceae    13CXPS  \n",
        "5        2.681494  Actinobacteria  Micrococcales  Microbacteriaceae    13CXPS  "
       ]
      }
     ],
     "prompt_number": 315
    },
    {
     "cell_type": "code",
     "collapsed": false,
     "input": [
      "def list_genera(l):\n",
      "    if len(l.split(\"|\")) > 10:\n",
      "        names = l.split(\"|\")\n",
      "        names_abbr = []\n",
      "        seen = []\n",
      "        for name in names:\n",
      "            genus, species = name.split(\" \", 1)\n",
      "            if genus in seen:\n",
      "                continue\n",
      "            else:\n",
      "                seen.append(genus)\n",
      "                names_abbr.append(\"\\mbox{\" + \"\\\\textit{\" + genus + \" spp.\" + \"}\" + \"}\")\n",
      "        return \", \".join(names_abbr) \n",
      "    elif len(l.split(\"|\")) > 1:\n",
      "        return  \", \".join([\"\\mbox{\" + \"\\\\textit{\" + i + \"}\" + \"}\" for i in set(l.split(\"|\"))])\n",
      "    else:\n",
      "        return \"\\mbox{\" + \"\\\\textit{\" + l + \"}\" + \"}\"\n",
      "    \n",
      "def get_latex(row):\n",
      "    latex = \"\"\n",
      "    OTU = row[\"OTU\"]\n",
      "    pid = row[\"pid\"]\n",
      "    \n",
      "    if pid >= 90:\n",
      "        genera = list_genera(row[\"hits\"])\n",
      "    else:\n",
      "        genera = \"{No hits of at least 90\\% identity}\"\n",
      "\n",
      "    tax = \" \".join([\"\\mbox{\" + \"\\\\textit{\" + i + \"}\" + \"}\" for i in row[[\"Phylum\",\"Class\",\"Order\"]]]).replace(\"_\",\"-\")\n",
      "    \n",
      "    l2fc = pd.Series(row[\"log2FoldChange\"]).round(2).values[0]\n",
      "    #acc = df.acc.iloc[0]\n",
      "    return OTU + \" & \" + str(l2fc) + \" & \" + genera + \" & \" + str(pid) + \" & \" + tax + r\" \\\\ \" + r\"\\midrule\" + \"\\n\""
     ],
     "language": "python",
     "metadata": {},
     "outputs": [],
     "prompt_number": 457
    },
    {
     "cell_type": "code",
     "collapsed": false,
     "input": [
      "s = df_table[df_table[\"Treatment\"]==\"13CCPS\"].apply(get_latex, axis=1)\n",
      "\n",
      "table_framework = r\"\"\"\n",
      "\\documentclass[10pt]{article}\n",
      "\\usepackage{multirow, array, booktabs, longtable}\n",
      "\\usepackage{array}\n",
      "\\newcolumntype{P}[1]{>{\\raggedright\\arraybackslash}p{#1}}\n",
      "\n",
      "\\usepackage{geometry} \n",
      "\\geometry{tmargin=1cm, bmargin=1cm, lmargin=1cm, rmargin=1cm} \n",
      "\n",
      "\\begin{document}\n",
      "\n",
      "\\thispagestyle{empty}\n",
      "\n",
      "\\begin{longtable}{lrP{5cm}rP{7cm}}\n",
      "\n",
      "\\caption{$^{13}$C-cellulose responders BLAST against Living Tree Project} \\\\\n",
      "\\toprule \\\\\n",
      "    \\textbf{OTU ID} & \\textbf{Fold change} & \\textbf{Top BLAST hits} & \\textbf{BLAST \\%%ID} & \\textbf{Phylum;Class;Order} \\\\\n",
      "\\midrule\n",
      "\\endfirsthead\n",
      "\n",
      "\\multicolumn{3}{c}\n",
      "{{\\tablename\\ \\thetable{} -- continued from previous page}} \\\\\n",
      "\\midrule\n",
      "    \\textbf{OTU ID} & \\textbf{Fold change} & \\textbf{Top BLAST hits} & \\textbf{BLAST \\%%ID} & \\textbf{Phylum;Class;Order} \\\\\n",
      "\\midrule\n",
      "\\endhead\n",
      "    %s\n",
      "\\bottomrule\n",
      "\\label{tab:cell}\n",
      "\\end{longtable}\n",
      " \n",
      "\\end{document}\"\"\"%\"\".join(s.values)\n",
      "\n",
      "with open(\"../data/tmp/table_cellulose.tex\", \"w\") as out:\n",
      "    out.write(table_framework)"
     ],
     "language": "python",
     "metadata": {},
     "outputs": [],
     "prompt_number": 458
    },
    {
     "cell_type": "code",
     "collapsed": false,
     "input": [
      "!latex ../data/tmp/table_cellulose.tex >/dev/null\n",
      "!dvipdf table_cellulose.dvi figs/LTP_blast_table_cellulose.pdf"
     ],
     "language": "python",
     "metadata": {},
     "outputs": [],
     "prompt_number": 460
    },
    {
     "cell_type": "code",
     "collapsed": false,
     "input": [
      "FileLink(\"figs/LTP_blast_table_cellulose.pdf\")"
     ],
     "language": "python",
     "metadata": {},
     "outputs": [
      {
       "html": [
        "<a href='figs/LTP_blast_table_cellulose.pdf' target='_blank'>figs/LTP_blast_table_cellulose.pdf</a><br>"
       ],
       "metadata": {},
       "output_type": "pyout",
       "prompt_number": 449,
       "text": [
        "/home/chuck/working/CSIP_succession_data_analysis/figures_and_stats/figs/LTP_blast_table_cellulose.pdf"
       ]
      }
     ],
     "prompt_number": 449
    },
    {
     "cell_type": "code",
     "collapsed": false,
     "input": [
      "FileLink(\"../data/tmp/table_cellulose.tex\")"
     ],
     "language": "python",
     "metadata": {},
     "outputs": [
      {
       "html": [
        "<a href='../data/tmp/table_cellulose.tex' target='_blank'>../data/tmp/table_cellulose.tex</a><br>"
       ],
       "metadata": {},
       "output_type": "pyout",
       "prompt_number": 359,
       "text": [
        "/home/chuck/working/CSIP_succession_data_analysis/data/tmp/table_cellulose.tex"
       ]
      }
     ],
     "prompt_number": 359
    }
   ],
   "metadata": {}
  }
 ]
}