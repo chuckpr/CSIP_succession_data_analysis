{
 "cells": [
  {
   "cell_type": "code",
   "execution_count": 2,
   "metadata": {
    "collapsed": false
   },
   "outputs": [
    {
     "name": "stderr",
     "output_type": "stream",
     "text": [
      "/opt/anaconda/lib/python2.7/site-packages/pytz/__init__.py:29: UserWarning: Module argparse was already imported from /opt/anaconda/lib/python2.7/argparse.pyc, but /opt/anaconda/lib/python2.7/site-packages is being added to sys.path\n",
      "  from pkg_resources import resource_stream\n"
     ]
    }
   ],
   "source": [
    "import pandas as pd\n",
    "%load_ext rpy2.ipython"
   ]
  },
  {
   "cell_type": "code",
   "execution_count": 11,
   "metadata": {
    "collapsed": false
   },
   "outputs": [],
   "source": [
    "%%R\n",
    "library(data.table)\n",
    "library(dplyr); library(tidyr)\n",
    "library(ggplot2)"
   ]
  },
  {
   "cell_type": "code",
   "execution_count": 6,
   "metadata": {
    "collapsed": false
   },
   "outputs": [
    {
     "name": "stdout",
     "output_type": "stream",
     "text": [
      "1720480\r\n"
     ]
    }
   ],
   "source": [
    "!expr $(cat ../data/ABCD_combined_reads.fastq | wc -l) / 4"
   ]
  },
  {
   "cell_type": "code",
   "execution_count": 5,
   "metadata": {
    "collapsed": false
   },
   "outputs": [
    {
     "name": "stdout",
     "output_type": "stream",
     "text": [
      "1376008\r\n"
     ]
    }
   ],
   "source": [
    "!grep -c \">\" ../data/finalQC.fasta"
   ]
  },
  {
   "cell_type": "code",
   "execution_count": 44,
   "metadata": {
    "collapsed": false
   },
   "outputs": [
    {
     "data": {
      "text/plain": [
       "\r",
       "Read 62.4% of 2195072 rows\r",
       "Read 2195072 rows and 18 (of 18) columns from 0.435 GB file in 00:00:03\n"
      ]
     },
     "metadata": {},
     "output_type": "display_data"
    }
   ],
   "source": [
    "%%R\n",
    "mdf = tbl_df(fread(\"../data/mdf.csv\"))"
   ]
  },
  {
   "cell_type": "code",
   "execution_count": 17,
   "metadata": {
    "collapsed": false
   },
   "outputs": [
    {
     "data": {
      "text/plain": [
       "Source: local data frame [1 x 6]\n",
       "\n",
       "  mean(N.seqs) sd(N.seqs) min(N.seqs) max(N.seqs) sum(N.seqs >= 1000)   N\n",
       "1     3815.519   3629.896         222       41583                 265 289\n"
      ]
     },
     "metadata": {},
     "output_type": "display_data"
    }
   ],
   "source": [
    "%%R\n",
    "mdf %>%\n",
    "    filter(Treatment %in% c(\"12CCPS\", \"13CCPS\", \"13CXPS\")) %>%\n",
    "    group_by(Sample) %>%\n",
    "    summarize(N.seqs = sum(Abundance)) %>%\n",
    "    group_by() %>%\n",
    "    summarize(mean(N.seqs), sd(N.seqs), min(N.seqs), max(N.seqs), sum(N.seqs >= 1000), N = n())"
   ]
  },
  {
   "cell_type": "code",
   "execution_count": 67,
   "metadata": {
    "collapsed": false
   },
   "outputs": [
    {
     "data": {
      "text/plain": [
       "[1] 12\n"
      ]
     },
     "metadata": {},
     "output_type": "display_data"
    }
   ],
   "source": [
    "%%R\n",
    "d = mdf %>%\n",
    "    filter(Treatment %in% c(\"12CCPS\", \"13CCPS\", \"13CXPS\"))\n",
    "\n",
    "bulkIDs = grep(\"bulk\", unique(d$Sample), value = TRUE)\n",
    "length(bulkIDs)"
   ]
  },
  {
   "cell_type": "code",
   "execution_count": 66,
   "metadata": {
    "collapsed": false
   },
   "outputs": [
    {
     "data": {
      "text/plain": [
       "Source: local data frame [1 x 3]\n",
       "\n",
       "   mean(N)     sd(N) sum(N)\n",
       "1 19.78571 0.5789342    277\n"
      ]
     },
     "metadata": {},
     "output_type": "display_data"
    }
   ],
   "source": [
    "%%R\n",
    "mdf %>%\n",
    "    filter(Treatment %in% c(\"12CCPS\", \"13CCPS\", \"13CXPS\"), !(Sample %in% bulkIDs)) %>%\n",
    "    group_by(Day, Treatment) %>%\n",
    "    summarize(N = length(unique(Sample))) %>%\n",
    "    group_by() %>%\n",
    "    summarize(mean(N), sd(N), sum(N))"
   ]
  },
  {
   "cell_type": "code",
   "execution_count": 50,
   "metadata": {
    "collapsed": false
   },
   "outputs": [
    {
     "data": {
      "text/plain": [
       "[1] 5940\n"
      ]
     },
     "metadata": {},
     "output_type": "display_data"
    }
   ],
   "source": [
    "%%R\n",
    "d = mdf %>%\n",
    "    filter(Treatment %in% c(\"12CCPS\", \"13CCPS\", \"13CXPS\"), Abundance > 0)\n",
    "\n",
    "length(unique(d$OTU))"
   ]
  },
  {
   "cell_type": "code",
   "execution_count": 49,
   "metadata": {
    "collapsed": false
   },
   "outputs": [
    {
     "data": {
      "text/plain": [
       "[1] 2943\n"
      ]
     },
     "metadata": {},
     "output_type": "display_data"
    }
   ],
   "source": [
    "%%R\n",
    "d = mdf %>%\n",
    "    filter(Treatment %in% c(\"12CCPS\", \"13CCPS\", \"13CXPS\"), Abundance > 0, Sample %in% bulkIDs)\n",
    "\n",
    "length(unique(d$OTU))"
   ]
  },
  {
   "cell_type": "code",
   "execution_count": 54,
   "metadata": {
    "collapsed": false
   },
   "outputs": [
    {
     "data": {
      "text/plain": [
       "Source: local data frame [1 x 1]\n",
       "\n",
       "  mean(avg.den)\n",
       "1   0.004027387\n"
      ]
     },
     "metadata": {},
     "output_type": "display_data"
    }
   ],
   "source": [
    "%%R\n",
    "mdf %>%\n",
    "    filter(Treatment %in% c(\"12CCPS\", \"13CCPS\", \"13CXPS\"), !(Sample %in% bulkIDs)) %>%\n",
    "    group_by(Day, Treatment) %>%\n",
    "    summarize(avg.den = (max(Density) - min(Density)) / length(unique(Sample))) %>%\n",
    "    group_by() %>%\n",
    "    summarize(mean(avg.den))"
   ]
  },
  {
   "cell_type": "code",
   "execution_count": 63,
   "metadata": {
    "collapsed": false
   },
   "outputs": [
    {
     "data": {
      "text/plain": [
       "[1] 33\n"
      ]
     },
     "metadata": {},
     "output_type": "display_data"
    }
   ],
   "source": [
    "%%R\n",
    "d = mdf %>%\n",
    "    filter(Treatment %in% c(\"12CCPS\", \"13CCPS\", \"13CXPS\"), Abundance > 0)\n",
    "\n",
    "length(na.omit(unique(d$Rank2)))"
   ]
  },
  {
   "cell_type": "code",
   "execution_count": 64,
   "metadata": {
    "collapsed": false
   },
   "outputs": [
    {
     "data": {
      "text/plain": [
       "[1] 340\n"
      ]
     },
     "metadata": {},
     "output_type": "display_data"
    }
   ],
   "source": [
    "%%R\n",
    "d = mdf %>%\n",
    "    filter(Treatment %in% c(\"12CCPS\", \"13CCPS\", \"13CXPS\"), Abundance > 0)\n",
    "\n",
    "length(na.omit(unique(d$Rank6)))"
   ]
  },
  {
   "cell_type": "code",
   "execution_count": 65,
   "metadata": {
    "collapsed": false
   },
   "outputs": [
    {
     "data": {
      "text/plain": [
       "[1] 14\n"
      ]
     },
     "metadata": {},
     "output_type": "display_data"
    }
   ],
   "source": [
    "%%R\n",
    "d = mdf %>%\n",
    "    filter(Treatment %in% c(\"12CCPS\", \"13CCPS\", \"13CXPS\"), !(Sample %in% bulkIDs)) \n",
    "\n",
    "length(unique(with(d, paste(Day, Treatment))))"
   ]
  }
 ],
 "metadata": {
  "kernelspec": {
   "display_name": "Python 2",
   "language": "python",
   "name": "python2"
  },
  "language_info": {
   "codemirror_mode": {
    "name": "ipython",
    "version": 2
   },
   "file_extension": ".py",
   "mimetype": "text/x-python",
   "name": "python",
   "nbconvert_exporter": "python",
   "pygments_lexer": "ipython2",
   "version": "2.7.9"
  }
 },
 "nbformat": 4,
 "nbformat_minor": 0
}
