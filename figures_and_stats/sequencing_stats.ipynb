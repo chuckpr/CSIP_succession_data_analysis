{
 "metadata": {
  "name": "",
  "signature": "sha256:64370559c85508d2a13744f167ddd6aa44dcd49b07663973261570510be2977d"
 },
 "nbformat": 3,
 "nbformat_minor": 0,
 "worksheets": [
  {
   "cells": [
    {
     "cell_type": "code",
     "collapsed": false,
     "input": [
      "import pandas as pd\n",
      "%load_ext rpy2.ipython"
     ],
     "language": "python",
     "metadata": {},
     "outputs": [
      {
       "output_type": "stream",
       "stream": "stderr",
       "text": [
        "/opt/anaconda/lib/python2.7/site-packages/pytz/__init__.py:29: UserWarning: Module argparse was already imported from /opt/anaconda/lib/python2.7/argparse.pyc, but /opt/anaconda/lib/python2.7/site-packages is being added to sys.path\n",
        "  from pkg_resources import resource_stream\n"
       ]
      }
     ],
     "prompt_number": 2
    },
    {
     "cell_type": "code",
     "collapsed": false,
     "input": [
      "%%R\n",
      "library(data.table)\n",
      "library(dplyr); library(tidyr)\n",
      "library(ggplot2)"
     ],
     "language": "python",
     "metadata": {},
     "outputs": [],
     "prompt_number": 11
    },
    {
     "cell_type": "code",
     "collapsed": false,
     "input": [
      "!grep -c \">\" ../data/finalQC.fasta"
     ],
     "language": "python",
     "metadata": {},
     "outputs": [
      {
       "output_type": "stream",
       "stream": "stdout",
       "text": [
        "1376008\r\n"
       ]
      }
     ],
     "prompt_number": 5
    },
    {
     "cell_type": "code",
     "collapsed": false,
     "input": [
      "%%R\n",
      "mdf = tbl_df(fread(\"../data/mdf.csv\"))"
     ],
     "language": "python",
     "metadata": {},
     "outputs": [
      {
       "metadata": {},
       "output_type": "display_data",
       "text": [
        "\r",
        "Read 62.4% of 2195072 rows\r",
        "Read 2195072 rows and 18 (of 18) columns from 0.435 GB file in 00:00:03\n"
       ]
      }
     ],
     "prompt_number": 44
    },
    {
     "cell_type": "code",
     "collapsed": false,
     "input": [
      "%%R\n",
      "mdf %>%\n",
      "    filter(Treatment %in% c(\"12CCPS\", \"13CCPS\", \"13CXPS\")) %>%\n",
      "    group_by(Sample) %>%\n",
      "    summarize(N.seqs = sum(Abundance)) %>%\n",
      "    group_by() %>%\n",
      "    summarize(mean(N.seqs), sd(N.seqs), min(N.seqs), max(N.seqs), sum(N.seqs >= 1000), N = n())"
     ],
     "language": "python",
     "metadata": {},
     "outputs": [
      {
       "metadata": {},
       "output_type": "display_data",
       "text": [
        "Source: local data frame [1 x 6]\n",
        "\n",
        "  mean(N.seqs) sd(N.seqs) min(N.seqs) max(N.seqs) sum(N.seqs >= 1000)   N\n",
        "1     3815.519   3629.896         222       41583                 265 289\n"
       ]
      }
     ],
     "prompt_number": 17
    },
    {
     "cell_type": "code",
     "collapsed": false,
     "input": [
      "%%R\n",
      "d = mdf %>%\n",
      "    filter(Treatment %in% c(\"12CCPS\", \"13CCPS\", \"13CXPS\"))\n",
      "\n",
      "bulkIDs = grep(\"bulk\", unique(d$Sample), value = TRUE)\n",
      "length(bulkIDs)"
     ],
     "language": "python",
     "metadata": {},
     "outputs": [
      {
       "metadata": {},
       "output_type": "display_data",
       "text": [
        "[1] 12\n"
       ]
      }
     ],
     "prompt_number": 67
    },
    {
     "cell_type": "code",
     "collapsed": false,
     "input": [
      "%%R\n",
      "mdf %>%\n",
      "    filter(Treatment %in% c(\"12CCPS\", \"13CCPS\", \"13CXPS\"), !(Sample %in% bulkIDs)) %>%\n",
      "    group_by(Day, Treatment) %>%\n",
      "    summarize(N = length(unique(Sample))) %>%\n",
      "    group_by() %>%\n",
      "    summarize(mean(N), sd(N), sum(N))"
     ],
     "language": "python",
     "metadata": {},
     "outputs": [
      {
       "metadata": {},
       "output_type": "display_data",
       "text": [
        "Source: local data frame [1 x 3]\n",
        "\n",
        "   mean(N)     sd(N) sum(N)\n",
        "1 19.78571 0.5789342    277\n"
       ]
      }
     ],
     "prompt_number": 66
    },
    {
     "cell_type": "code",
     "collapsed": false,
     "input": [
      "%%R\n",
      "d = mdf %>%\n",
      "    filter(Treatment %in% c(\"12CCPS\", \"13CCPS\", \"13CXPS\"), Abundance > 0)\n",
      "\n",
      "length(unique(d$OTU))"
     ],
     "language": "python",
     "metadata": {},
     "outputs": [
      {
       "metadata": {},
       "output_type": "display_data",
       "text": [
        "[1] 5940\n"
       ]
      }
     ],
     "prompt_number": 50
    },
    {
     "cell_type": "code",
     "collapsed": false,
     "input": [
      "%%R\n",
      "d = mdf %>%\n",
      "    filter(Treatment %in% c(\"12CCPS\", \"13CCPS\", \"13CXPS\"), Abundance > 0, Sample %in% bulkIDs)\n",
      "\n",
      "length(unique(d$OTU))"
     ],
     "language": "python",
     "metadata": {},
     "outputs": [
      {
       "metadata": {},
       "output_type": "display_data",
       "text": [
        "[1] 2943\n"
       ]
      }
     ],
     "prompt_number": 49
    },
    {
     "cell_type": "code",
     "collapsed": false,
     "input": [
      "%%R\n",
      "mdf %>%\n",
      "    filter(Treatment %in% c(\"12CCPS\", \"13CCPS\", \"13CXPS\"), !(Sample %in% bulkIDs)) %>%\n",
      "    group_by(Day, Treatment) %>%\n",
      "    summarize(avg.den = (max(Density) - min(Density)) / length(unique(Sample))) %>%\n",
      "    group_by() %>%\n",
      "    summarize(mean(avg.den))"
     ],
     "language": "python",
     "metadata": {},
     "outputs": [
      {
       "metadata": {},
       "output_type": "display_data",
       "text": [
        "Source: local data frame [1 x 1]\n",
        "\n",
        "  mean(avg.den)\n",
        "1   0.004027387\n"
       ]
      }
     ],
     "prompt_number": 54
    },
    {
     "cell_type": "code",
     "collapsed": false,
     "input": [
      "%%R\n",
      "d = mdf %>%\n",
      "    filter(Treatment %in% c(\"12CCPS\", \"13CCPS\", \"13CXPS\"), Abundance > 0)\n",
      "\n",
      "length(na.omit(unique(d$Rank2)))"
     ],
     "language": "python",
     "metadata": {},
     "outputs": [
      {
       "metadata": {},
       "output_type": "display_data",
       "text": [
        "[1] 33\n"
       ]
      }
     ],
     "prompt_number": 63
    },
    {
     "cell_type": "code",
     "collapsed": false,
     "input": [
      "%%R\n",
      "d = mdf %>%\n",
      "    filter(Treatment %in% c(\"12CCPS\", \"13CCPS\", \"13CXPS\"), Abundance > 0)\n",
      "\n",
      "length(na.omit(unique(d$Rank6)))"
     ],
     "language": "python",
     "metadata": {},
     "outputs": [
      {
       "metadata": {},
       "output_type": "display_data",
       "text": [
        "[1] 340\n"
       ]
      }
     ],
     "prompt_number": 64
    },
    {
     "cell_type": "code",
     "collapsed": false,
     "input": [
      "%%R\n",
      "d = mdf %>%\n",
      "    filter(Treatment %in% c(\"12CCPS\", \"13CCPS\", \"13CXPS\"), !(Sample %in% bulkIDs)) \n",
      "\n",
      "length(unique(with(d, paste(Day, Treatment))))"
     ],
     "language": "python",
     "metadata": {},
     "outputs": [
      {
       "metadata": {},
       "output_type": "display_data",
       "text": [
        "[1] 14\n"
       ]
      }
     ],
     "prompt_number": 65
    }
   ],
   "metadata": {}
  }
 ]
}