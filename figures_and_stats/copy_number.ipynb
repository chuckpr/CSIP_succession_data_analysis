{
 "metadata": {
  "name": "",
  "signature": "sha256:2d64d950471674891974a21c072ceddf9f6fb16c9a170df19e3f30a89f105e25"
 },
 "nbformat": 3,
 "nbformat_minor": 0,
 "worksheets": [
  {
   "cells": [
    {
     "cell_type": "code",
     "collapsed": false,
     "input": [
      "%load_ext rpy2.ipython"
     ],
     "language": "python",
     "metadata": {},
     "outputs": [
      {
       "output_type": "stream",
       "stream": "stderr",
       "text": [
        "/opt/anaconda/lib/python2.7/site-packages/pytz/__init__.py:29: UserWarning: Module argparse was already imported from /opt/anaconda/lib/python2.7/argparse.pyc, but /opt/anaconda/lib/python2.7/site-packages is being added to sys.path\n",
        "  from pkg_resources import resource_stream\n"
       ]
      }
     ],
     "prompt_number": 33
    },
    {
     "cell_type": "code",
     "collapsed": false,
     "input": [
      "%%R\n",
      "library(dplyr)\n",
      "library(ggplot2)\n",
      "library(spearman)"
     ],
     "language": "python",
     "metadata": {},
     "outputs": [
      {
       "output_type": "stream",
       "stream": "stdout",
       "text": [
        "Error in library(spearman) : there is no package called \u2018spearman\u2019\n"
       ]
      }
     ],
     "prompt_number": 95
    },
    {
     "cell_type": "code",
     "collapsed": false,
     "input": [
      "!wget -O ../data/tmp/core_set_aln.fasta \\\n",
      "http://greengenes.lbl.gov/Download/Sequence_Data/Fasta_data_files/core_set_aligned.fasta.imputed"
     ],
     "language": "python",
     "metadata": {},
     "outputs": [
      {
       "output_type": "stream",
       "stream": "stdout",
       "text": [
        "--2014-11-19 15:33:38--  http://greengenes.lbl.gov/Download/Sequence_Data/Fasta_data_files/core_set_aligned.fasta.imputed\r\n",
        "Resolving greengenes.lbl.gov (greengenes.lbl.gov)... 128.32.248.7\r\n",
        "Connecting to greengenes.lbl.gov (greengenes.lbl.gov)|128.32.248.7|:80... "
       ]
      },
      {
       "output_type": "stream",
       "stream": "stdout",
       "text": [
        "connected.\r\n",
        "HTTP request sent, awaiting response... "
       ]
      },
      {
       "output_type": "stream",
       "stream": "stdout",
       "text": [
        "200 OK\r\n",
        "Length: 37975992 (36M) [text/plain]\r\n",
        "Saving to: `../data/tmp/core_set_aln.fasta'\r\n",
        "\r\n",
        "\r",
        " 0% [                                       ] 0           --.-K/s              "
       ]
      },
      {
       "output_type": "stream",
       "stream": "stdout",
       "text": [
        "\r",
        " 0% [                                       ] 18,545      67.6K/s              "
       ]
      },
      {
       "output_type": "stream",
       "stream": "stdout",
       "text": [
        "\r",
        " 0% [                                       ] 61,985       113K/s              "
       ]
      },
      {
       "output_type": "stream",
       "stream": "stdout",
       "text": [
        "\r",
        " 0% [                                       ] 138,729      180K/s              "
       ]
      },
      {
       "output_type": "stream",
       "stream": "stdout",
       "text": [
        "\r",
        " 0% [                                       ] 218,369      217K/s              "
       ]
      },
      {
       "output_type": "stream",
       "stream": "stdout",
       "text": [
        "\r",
        " 1% [                                       ] 389,233      303K/s              "
       ]
      },
      {
       "output_type": "stream",
       "stream": "stdout",
       "text": [
        "\r",
        " 1% [                                       ] 648,425      416K/s              "
       ]
      },
      {
       "output_type": "stream",
       "stream": "stdout",
       "text": [
        "\r",
        " 2% [>                                      ] 980,017      534K/s              "
       ]
      },
      {
       "output_type": "stream",
       "stream": "stdout",
       "text": [
        "\r",
        " 3% [>                                      ] 1,386,905    657K/s              "
       ]
      },
      {
       "output_type": "stream",
       "stream": "stdout",
       "text": [
        "\r",
        " 5% [>                                      ] 1,911,081    801K/s              "
       ]
      },
      {
       "output_type": "stream",
       "stream": "stdout",
       "text": [
        "\r",
        " 6% [=>                                     ] 2,626,393    987K/s              "
       ]
      },
      {
       "output_type": "stream",
       "stream": "stdout",
       "text": [
        "\r",
        " 9% [==>                                    ] 3,541,529   1.18M/s              "
       ]
      },
      {
       "output_type": "stream",
       "stream": "stdout",
       "text": [
        "\r",
        "12% [===>                                   ] 4,776,673   1.45M/s  eta 22s     "
       ]
      },
      {
       "output_type": "stream",
       "stream": "stdout",
       "text": [
        "\r",
        "16% [=====>                                 ] 6,340,513   1.77M/s  eta 22s     "
       ]
      },
      {
       "output_type": "stream",
       "stream": "stdout",
       "text": [
        "\r",
        "21% [=======>                               ] 8,295,313   2.15M/s  eta 22s     "
       ]
      },
      {
       "output_type": "stream",
       "stream": "stdout",
       "text": [
        "\r",
        "28% [==========>                            ] 10,839,449  2.87M/s  eta 22s     "
       ]
      },
      {
       "output_type": "stream",
       "stream": "stdout",
       "text": [
        "\r",
        "36% [=============>                         ] 14,029,393  3.62M/s  eta 7s      "
       ]
      },
      {
       "output_type": "stream",
       "stream": "stdout",
       "text": [
        "\r",
        "47% [=================>                     ] 18,069,313  4.75M/s  eta 7s      "
       ]
      },
      {
       "output_type": "stream",
       "stream": "stdout",
       "text": [
        "\r",
        "60% [======================>                ] 23,151,793  5.93M/s  eta 7s      "
       ]
      },
      {
       "output_type": "stream",
       "stream": "stdout",
       "text": [
        "\r",
        "77% [=============================>         ] 29,528,289  7.50M/s  eta 7s      "
       ]
      },
      {
       "output_type": "stream",
       "stream": "stdout",
       "text": [
        "\r",
        "91% [==================================>    ] 34,686,561  9.01M/s  eta 7s      "
       ]
      },
      {
       "output_type": "stream",
       "stream": "stdout",
       "text": [
        "\r",
        "100%[======================================>] 37,975,992  9.63M/s   in 5.3s    \r\n",
        "\r\n",
        "2014-11-19 15:33:43 (6.83 MB/s) - `../data/tmp/core_set_aln.fasta' saved [37975992/37975992]\r\n",
        "\r\n"
       ]
      }
     ],
     "prompt_number": 2
    },
    {
     "cell_type": "code",
     "collapsed": false,
     "input": [
      "!wget -O ../data/tmp/lanemask.txt http://greengenes.lbl.gov/Download/Sequence_Data/lanemask_in_1s_and_0s"
     ],
     "language": "python",
     "metadata": {},
     "outputs": [
      {
       "output_type": "stream",
       "stream": "stdout",
       "text": [
        "--2014-11-19 15:34:34--  http://greengenes.lbl.gov/Download/Sequence_Data/lanemask_in_1s_and_0s\r\n",
        "Resolving greengenes.lbl.gov (greengenes.lbl.gov)... 128.32.248.7\r\n",
        "Connecting to greengenes.lbl.gov (greengenes.lbl.gov)|128.32.248.7|:80... "
       ]
      },
      {
       "output_type": "stream",
       "stream": "stdout",
       "text": [
        "connected.\r\n",
        "HTTP request sent, awaiting response... "
       ]
      },
      {
       "output_type": "stream",
       "stream": "stdout",
       "text": [
        "200 OK\r\n",
        "Length: 7683 (7.5K) [text/plain]\r\n",
        "Saving to: `../data/tmp/lanemask.txt'\r\n",
        "\r\n",
        "\r",
        " 0% [                                       ] 0           --.-K/s              \r",
        "100%[======================================>] 7,683       --.-K/s   in 0s      \r\n",
        "\r\n",
        "2014-11-19 15:34:34 (47.7 MB/s) - `../data/tmp/lanemask.txt' saved [7683/7683]\r\n",
        "\r\n"
       ]
      }
     ],
     "prompt_number": 3
    },
    {
     "cell_type": "code",
     "collapsed": false,
     "input": [
      "!align_seqs.py -p 0.50 -m pynast -i ../data/otusn.fasta -t ../data/tmp/core_set_aln.fasta -o ../data/tmp/otusn.core_set_aln"
     ],
     "language": "python",
     "metadata": {},
     "outputs": [],
     "prompt_number": 7
    },
    {
     "cell_type": "code",
     "collapsed": false,
     "input": [
      "!filter_alignment.py -i ../data/tmp/otusn.core_set_aln/otusn_aligned.fasta \\\n",
      "-m ../data/tmp/lanemask.txt \\\n",
      "-g 1 \\\n",
      "-o ../data/tmp/aligned"
     ],
     "language": "python",
     "metadata": {},
     "outputs": [],
     "prompt_number": 14
    },
    {
     "cell_type": "code",
     "collapsed": false,
     "input": [
      "!sed 's/[[:space:]][0-9]*\\.\\.[0-9]*//g' ../data/tmp/aligned/otusn_aligned_pfiltered.fasta \\\n",
      "> ../data/tmp/aligned/otusn.aligned.masked.fasta"
     ],
     "language": "python",
     "metadata": {},
     "outputs": [],
     "prompt_number": 15
    },
    {
     "cell_type": "code",
     "collapsed": false,
     "input": [
      "!wget -O ../data/tmp/copy_number_est.zip http://s3-eu-west-1.amazonaws.com/files.figshare.com/295314/Dataset_S1.zip && \\\n",
      "unzip -o ../data/tmp/copy_number_est.zip -d ../data/tmp/ >/dev/null 2>&1"
     ],
     "language": "python",
     "metadata": {},
     "outputs": [
      {
       "output_type": "stream",
       "stream": "stdout",
       "text": [
        "--2014-11-19 15:52:17--  http://s3-eu-west-1.amazonaws.com/files.figshare.com/295314/Dataset_S1.zip\r\n",
        "Resolving s3-eu-west-1.amazonaws.com (s3-eu-west-1.amazonaws.com)... 54.231.132.64\r\n",
        "Connecting to s3-eu-west-1.amazonaws.com (s3-eu-west-1.amazonaws.com)|54.231.132.64|:80... "
       ]
      },
      {
       "output_type": "stream",
       "stream": "stdout",
       "text": [
        "connected.\r\n",
        "HTTP request sent, awaiting response... "
       ]
      },
      {
       "output_type": "stream",
       "stream": "stdout",
       "text": [
        "200 OK\r\n",
        "Length: 223250 (218K) [application/zip]\r\n",
        "Saving to: `../data/tmp/copy_number_est.zip'\r\n",
        "\r\n",
        "\r",
        " 0% [                                       ] 0           --.-K/s              "
       ]
      },
      {
       "output_type": "stream",
       "stream": "stdout",
       "text": [
        "\r",
        "45% [================>                      ] 100,582      355K/s              "
       ]
      },
      {
       "output_type": "stream",
       "stream": "stdout",
       "text": [
        "\r",
        "100%[======================================>] 223,250      590K/s   in 0.4s    \r\n",
        "\r\n",
        "2014-11-19 15:52:18 (590 KB/s) - `../data/tmp/copy_number_est.zip' saved [223250/223250]\r\n",
        "\r\n"
       ]
      }
     ],
     "prompt_number": 13
    },
    {
     "cell_type": "code",
     "collapsed": false,
     "input": [
      "refdir = \"../data/tmp/copynum_estimation_scripts/refdir\"\n",
      "workdir = \"../data/tmp\"\n",
      "!mkdir $workdir/pplacer\n",
      "!pplacer \\\n",
      "-t $refdir/RAxML_result.reftree \\\n",
      "-r $refdir/reftree.alignment.fasta \\\n",
      "-s $refdir/RAxML_info.reftree \\\n",
      "--out-dir $workdir/pplacer \\\n",
      "$workdir/aligned/otusn.aligned.masked.fasta"
     ],
     "language": "python",
     "metadata": {},
     "outputs": [
      {
       "output_type": "stream",
       "stream": "stdout",
       "text": [
        "Running pplacer v1.1.alpha16-2-gb964734 analysis on ../data/tmp/aligned/otusn.aligned.masked.fasta...\r\n",
        "Didn't find any reference sequences in given alignment file. Using supplied reference alignment.\r\n"
       ]
      },
      {
       "output_type": "stream",
       "stream": "stdout",
       "text": [
        "Warning: using a statistics file directly is now deprecated. We suggest using a reference package. If you already are, then please use the latest version of taxtastic.\r\n",
        "WARNING: your stats file is from RAxML 7.2.8; RAxML has been tested with the following versions: 7.0.4; 7.2.3; 7.2.5; 7.2.6; 7.2.7\r\n",
        "I'm going to try parsing as if this was version 7.2.3"
       ]
      },
      {
       "output_type": "stream",
       "stream": "stdout",
       "text": [
        "Pre-masking sequences... "
       ]
      },
      {
       "output_type": "stream",
       "stream": "stdout",
       "text": [
        "sequence length cut from 1287 to 221.\r\n",
        "Determining figs... figs disabled.\r\n",
        "Allocating memory for internal nodes... done.\r\n",
        "Caching likelihood information on reference tree... "
       ]
      },
      {
       "output_type": "stream",
       "stream": "stdout",
       "text": [
        "done.\r\n",
        "Pulling exponents... "
       ]
      },
      {
       "output_type": "stream",
       "stream": "stdout",
       "text": [
        "done.\r\n",
        "Preparing the edges for baseball... done.\r\n"
       ]
      },
      {
       "output_type": "stream",
       "stream": "stdout",
       "text": [
        "working on OTU.787 (1/6236)...\r"
       ]
      },
      {
       "output_type": "stream",
       "stream": "stdout",
       "text": [
        "working on OTU.2593 (12/6236)...\r"
       ]
      },
      {
       "output_type": "stream",
       "stream": "stdout",
       "text": [
        "working on OTU.3287 (24/6236)...\r"
       ]
      },
      {
       "output_type": "stream",
       "stream": "stdout",
       "text": [
        "working on OTU.5289 (35/6236)...\r"
       ]
      },
      {
       "output_type": "stream",
       "stream": "stdout",
       "text": [
        "working on OTU.5374 (47/6236)...\r"
       ]
      },
      {
       "output_type": "stream",
       "stream": "stdout",
       "text": [
        "working on OTU.1489 (59/6236)...\r"
       ]
      },
      {
       "output_type": "stream",
       "stream": "stdout",
       "text": [
        "working on OTU.4966 (69/6236)...\r"
       ]
      },
      {
       "output_type": "stream",
       "stream": "stdout",
       "text": [
        "working on OTU.5526 (80/6236)...\r"
       ]
      },
      {
       "output_type": "stream",
       "stream": "stdout",
       "text": [
        "working on OTU.6211 (92/6236)...\r"
       ]
      },
      {
       "output_type": "stream",
       "stream": "stdout",
       "text": [
        "working on OTU.973 (103/6236)...\r"
       ]
      },
      {
       "output_type": "stream",
       "stream": "stdout",
       "text": [
        "working on OTU.3823 (115/6236)...\r"
       ]
      },
      {
       "output_type": "stream",
       "stream": "stdout",
       "text": [
        "working on OTU.3421 (126/6236)...\r"
       ]
      },
      {
       "output_type": "stream",
       "stream": "stdout",
       "text": [
        "working on OTU.96 (137/6236)...  \r"
       ]
      },
      {
       "output_type": "stream",
       "stream": "stdout",
       "text": [
        "working on OTU.153 (148/6236)...\r"
       ]
      },
      {
       "output_type": "stream",
       "stream": "stdout",
       "text": [
        "working on OTU.1123 (160/6236)...\r"
       ]
      },
      {
       "output_type": "stream",
       "stream": "stdout",
       "text": [
        "working on OTU.4585 (171/6236)...\r"
       ]
      },
      {
       "output_type": "stream",
       "stream": "stdout",
       "text": [
        "working on OTU.156 (182/6236)... \r"
       ]
      },
      {
       "output_type": "stream",
       "stream": "stdout",
       "text": [
        "working on OTU.3773 (191/6236)...\r"
       ]
      },
      {
       "output_type": "stream",
       "stream": "stdout",
       "text": [
        "working on OTU.4215 (203/6236)...\r"
       ]
      },
      {
       "output_type": "stream",
       "stream": "stdout",
       "text": [
        "working on OTU.1732 (214/6236)...\r"
       ]
      },
      {
       "output_type": "stream",
       "stream": "stdout",
       "text": [
        "working on OTU.204 (226/6236)... \r"
       ]
      },
      {
       "output_type": "stream",
       "stream": "stdout",
       "text": [
        "working on OTU.4570 (239/6236)...\r"
       ]
      },
      {
       "output_type": "stream",
       "stream": "stdout",
       "text": [
        "working on OTU.706 (251/6236)... \r"
       ]
      },
      {
       "output_type": "stream",
       "stream": "stdout",
       "text": [
        "working on OTU.861 (262/6236)...\r"
       ]
      },
      {
       "output_type": "stream",
       "stream": "stdout",
       "text": [
        "working on OTU.1067 (274/6236)...\r"
       ]
      },
      {
       "output_type": "stream",
       "stream": "stdout",
       "text": [
        "working on OTU.3509 (286/6236)...\r"
       ]
      },
      {
       "output_type": "stream",
       "stream": "stdout",
       "text": [
        "working on OTU.3628 (297/6236)...\r"
       ]
      },
      {
       "output_type": "stream",
       "stream": "stdout",
       "text": [
        "working on OTU.1923 (307/6236)...\r"
       ]
      },
      {
       "output_type": "stream",
       "stream": "stdout",
       "text": [
        "working on OTU.2729 (318/6236)...\r"
       ]
      },
      {
       "output_type": "stream",
       "stream": "stdout",
       "text": [
        "working on OTU.2060 (329/6236)...\r"
       ]
      },
      {
       "output_type": "stream",
       "stream": "stdout",
       "text": [
        "working on OTU.876 (339/6236)... \r"
       ]
      },
      {
       "output_type": "stream",
       "stream": "stdout",
       "text": [
        "working on OTU.3870 (350/6236)...\r"
       ]
      },
      {
       "output_type": "stream",
       "stream": "stdout",
       "text": [
        "working on OTU.4291 (362/6236)...\r"
       ]
      },
      {
       "output_type": "stream",
       "stream": "stdout",
       "text": [
        "working on OTU.2225 (374/6236)...\r"
       ]
      },
      {
       "output_type": "stream",
       "stream": "stdout",
       "text": [
        "working on OTU.1108 (387/6236)...\r"
       ]
      },
      {
       "output_type": "stream",
       "stream": "stdout",
       "text": [
        "working on OTU.4745 (399/6236)...\r"
       ]
      },
      {
       "output_type": "stream",
       "stream": "stdout",
       "text": [
        "working on OTU.4641 (410/6236)...\r"
       ]
      },
      {
       "output_type": "stream",
       "stream": "stdout",
       "text": [
        "working on OTU.629 (421/6236)... \r"
       ]
      },
      {
       "output_type": "stream",
       "stream": "stdout",
       "text": [
        "working on OTU.3422 (431/6236)...\r"
       ]
      },
      {
       "output_type": "stream",
       "stream": "stdout",
       "text": [
        "working on OTU.2235 (442/6236)...\r"
       ]
      },
      {
       "output_type": "stream",
       "stream": "stdout",
       "text": [
        "working on OTU.639 (453/6236)... \r"
       ]
      },
      {
       "output_type": "stream",
       "stream": "stdout",
       "text": [
        "working on OTU.1805 (465/6236)...\r"
       ]
      },
      {
       "output_type": "stream",
       "stream": "stdout",
       "text": [
        "working on OTU.3405 (476/6236)...\r"
       ]
      },
      {
       "output_type": "stream",
       "stream": "stdout",
       "text": [
        "working on OTU.2624 (487/6236)...\r"
       ]
      },
      {
       "output_type": "stream",
       "stream": "stdout",
       "text": [
        "working on OTU.2901 (499/6236)...\r"
       ]
      },
      {
       "output_type": "stream",
       "stream": "stdout",
       "text": [
        "working on OTU.4549 (510/6236)...\r"
       ]
      },
      {
       "output_type": "stream",
       "stream": "stdout",
       "text": [
        "working on OTU.1443 (520/6236)...\r"
       ]
      },
      {
       "output_type": "stream",
       "stream": "stdout",
       "text": [
        "working on OTU.4859 (531/6236)...\r"
       ]
      },
      {
       "output_type": "stream",
       "stream": "stdout",
       "text": [
        "working on OTU.1391 (541/6236)...\r"
       ]
      },
      {
       "output_type": "stream",
       "stream": "stdout",
       "text": [
        "working on OTU.378 (553/6236)... \r"
       ]
      },
      {
       "output_type": "stream",
       "stream": "stdout",
       "text": [
        "working on OTU.5000 (563/6236)...\r"
       ]
      },
      {
       "output_type": "stream",
       "stream": "stdout",
       "text": [
        "working on OTU.3419 (574/6236)...\r"
       ]
      },
      {
       "output_type": "stream",
       "stream": "stdout",
       "text": [
        "working on OTU.3462 (586/6236)...\r"
       ]
      },
      {
       "output_type": "stream",
       "stream": "stdout",
       "text": [
        "working on OTU.462 (598/6236)... \r"
       ]
      },
      {
       "output_type": "stream",
       "stream": "stdout",
       "text": [
        "working on OTU.5286 (610/6236)...\r"
       ]
      },
      {
       "output_type": "stream",
       "stream": "stdout",
       "text": [
        "working on OTU.1799 (620/6236)...\r"
       ]
      },
      {
       "output_type": "stream",
       "stream": "stdout",
       "text": [
        "working on OTU.3879 (631/6236)...\r"
       ]
      },
      {
       "output_type": "stream",
       "stream": "stdout",
       "text": [
        "working on OTU.4699 (642/6236)...\r"
       ]
      },
      {
       "output_type": "stream",
       "stream": "stdout",
       "text": [
        "working on OTU.1573 (653/6236)...\r"
       ]
      },
      {
       "output_type": "stream",
       "stream": "stdout",
       "text": [
        "working on OTU.5 (661/6236)...   \r"
       ]
      },
      {
       "output_type": "stream",
       "stream": "stdout",
       "text": [
        "working on OTU.3086 (673/6236)...\r"
       ]
      },
      {
       "output_type": "stream",
       "stream": "stdout",
       "text": [
        "working on OTU.2301 (684/6236)...\r"
       ]
      },
      {
       "output_type": "stream",
       "stream": "stdout",
       "text": [
        "working on OTU.280 (695/6236)... \r"
       ]
      },
      {
       "output_type": "stream",
       "stream": "stdout",
       "text": [
        "working on OTU.3800 (706/6236)...\r"
       ]
      },
      {
       "output_type": "stream",
       "stream": "stdout",
       "text": [
        "working on OTU.1541 (717/6236)...\r"
       ]
      },
      {
       "output_type": "stream",
       "stream": "stdout",
       "text": [
        "working on OTU.4147 (730/6236)...\r"
       ]
      },
      {
       "output_type": "stream",
       "stream": "stdout",
       "text": [
        "working on OTU.42 (741/6236)...  \r"
       ]
      },
      {
       "output_type": "stream",
       "stream": "stdout",
       "text": [
        "working on OTU.529 (752/6236)...\r"
       ]
      },
      {
       "output_type": "stream",
       "stream": "stdout",
       "text": [
        "working on OTU.5458 (760/6236)...\r"
       ]
      },
      {
       "output_type": "stream",
       "stream": "stdout",
       "text": [
        "working on OTU.2962 (771/6236)...\r"
       ]
      },
      {
       "output_type": "stream",
       "stream": "stdout",
       "text": [
        "working on OTU.1 (783/6236)...   \r"
       ]
      },
      {
       "output_type": "stream",
       "stream": "stdout",
       "text": [
        "working on OTU.5401 (795/6236)...\r"
       ]
      },
      {
       "output_type": "stream",
       "stream": "stdout",
       "text": [
        "working on OTU.570 (806/6236)... \r"
       ]
      },
      {
       "output_type": "stream",
       "stream": "stdout",
       "text": [
        "working on OTU.545 (816/6236)...\r"
       ]
      },
      {
       "output_type": "stream",
       "stream": "stdout",
       "text": [
        "working on OTU.3942 (828/6236)...\r"
       ]
      },
      {
       "output_type": "stream",
       "stream": "stdout",
       "text": [
        "working on OTU.4073 (840/6236)...\r"
       ]
      },
      {
       "output_type": "stream",
       "stream": "stdout",
       "text": [
        "working on OTU.3703 (850/6236)...\r"
       ]
      },
      {
       "output_type": "stream",
       "stream": "stdout",
       "text": [
        "working on OTU.2518 (862/6236)...\r"
       ]
      },
      {
       "output_type": "stream",
       "stream": "stdout",
       "text": [
        "working on OTU.4909 (874/6236)...\r"
       ]
      },
      {
       "output_type": "stream",
       "stream": "stdout",
       "text": [
        "working on OTU.5404 (887/6236)...\r"
       ]
      },
      {
       "output_type": "stream",
       "stream": "stdout",
       "text": [
        "working on OTU.3783 (898/6236)...\r"
       ]
      },
      {
       "output_type": "stream",
       "stream": "stdout",
       "text": [
        "working on OTU.5830 (909/6236)...\r"
       ]
      },
      {
       "output_type": "stream",
       "stream": "stdout",
       "text": [
        "working on OTU.1026 (920/6236)...\r"
       ]
      },
      {
       "output_type": "stream",
       "stream": "stdout",
       "text": [
        "working on OTU.3205 (931/6236)...\r"
       ]
      },
      {
       "output_type": "stream",
       "stream": "stdout",
       "text": [
        "working on OTU.6199 (941/6236)...\r"
       ]
      },
      {
       "output_type": "stream",
       "stream": "stdout",
       "text": [
        "working on OTU.2546 (953/6236)...\r"
       ]
      },
      {
       "output_type": "stream",
       "stream": "stdout",
       "text": [
        "working on OTU.924 (964/6236)... \r"
       ]
      },
      {
       "output_type": "stream",
       "stream": "stdout",
       "text": [
        "working on OTU.245 (976/6236)...\r"
       ]
      },
      {
       "output_type": "stream",
       "stream": "stdout",
       "text": [
        "working on OTU.2336 (987/6236)...\r"
       ]
      },
      {
       "output_type": "stream",
       "stream": "stdout",
       "text": [
        "working on OTU.331 (998/6236)... \r"
       ]
      },
      {
       "output_type": "stream",
       "stream": "stdout",
       "text": [
        "working on OTU.3222 (1009/6236)...\r"
       ]
      },
      {
       "output_type": "stream",
       "stream": "stdout",
       "text": [
        "working on OTU.2514 (1021/6236)...\r"
       ]
      },
      {
       "output_type": "stream",
       "stream": "stdout",
       "text": [
        "working on OTU.4160 (1033/6236)...\r"
       ]
      },
      {
       "output_type": "stream",
       "stream": "stdout",
       "text": [
        "working on OTU.2362 (1045/6236)...\r"
       ]
      },
      {
       "output_type": "stream",
       "stream": "stdout",
       "text": [
        "working on OTU.4960 (1057/6236)...\r"
       ]
      },
      {
       "output_type": "stream",
       "stream": "stdout",
       "text": [
        "working on OTU.3873 (1068/6236)...\r"
       ]
      },
      {
       "output_type": "stream",
       "stream": "stdout",
       "text": [
        "working on OTU.3502 (1078/6236)...\r"
       ]
      },
      {
       "output_type": "stream",
       "stream": "stdout",
       "text": [
        "working on OTU.4348 (1089/6236)...\r"
       ]
      },
      {
       "output_type": "stream",
       "stream": "stdout",
       "text": [
        "working on OTU.4366 (1100/6236)...\r"
       ]
      },
      {
       "output_type": "stream",
       "stream": "stdout",
       "text": [
        "working on OTU.6051 (1112/6236)...\r"
       ]
      },
      {
       "output_type": "stream",
       "stream": "stdout",
       "text": [
        "working on OTU.1794 (1124/6236)...\r"
       ]
      },
      {
       "output_type": "stream",
       "stream": "stdout",
       "text": [
        "working on OTU.1807 (1134/6236)...\r"
       ]
      },
      {
       "output_type": "stream",
       "stream": "stdout",
       "text": [
        "working on OTU.4316 (1146/6236)...\r"
       ]
      },
      {
       "output_type": "stream",
       "stream": "stdout",
       "text": [
        "working on OTU.1330 (1158/6236)...\r"
       ]
      },
      {
       "output_type": "stream",
       "stream": "stdout",
       "text": [
        "working on OTU.4345 (1168/6236)...\r"
       ]
      },
      {
       "output_type": "stream",
       "stream": "stdout",
       "text": [
        "working on OTU.1214 (1180/6236)...\r"
       ]
      },
      {
       "output_type": "stream",
       "stream": "stdout",
       "text": [
        "working on OTU.5278 (1193/6236)...\r"
       ]
      },
      {
       "output_type": "stream",
       "stream": "stdout",
       "text": [
        "working on OTU.5127 (1204/6236)...\r"
       ]
      },
      {
       "output_type": "stream",
       "stream": "stdout",
       "text": [
        "working on OTU.4280 (1216/6236)...\r"
       ]
      },
      {
       "output_type": "stream",
       "stream": "stdout",
       "text": [
        "working on OTU.107 (1227/6236)... \r"
       ]
      },
      {
       "output_type": "stream",
       "stream": "stdout",
       "text": [
        "working on OTU.16 (1239/6236)... \r"
       ]
      },
      {
       "output_type": "stream",
       "stream": "stdout",
       "text": [
        "working on OTU.3908 (1251/6236)...\r"
       ]
      },
      {
       "output_type": "stream",
       "stream": "stdout",
       "text": [
        "working on OTU.1181 (1262/6236)...\r"
       ]
      },
      {
       "output_type": "stream",
       "stream": "stdout",
       "text": [
        "working on OTU.1301 (1272/6236)...\r"
       ]
      },
      {
       "output_type": "stream",
       "stream": "stdout",
       "text": [
        "working on OTU.5451 (1285/6236)...\r"
       ]
      },
      {
       "output_type": "stream",
       "stream": "stdout",
       "text": [
        "working on OTU.1715 (1296/6236)...\r"
       ]
      },
      {
       "output_type": "stream",
       "stream": "stdout",
       "text": [
        "working on OTU.2419 (1307/6236)...\r"
       ]
      },
      {
       "output_type": "stream",
       "stream": "stdout",
       "text": [
        "working on OTU.242 (1318/6236)... \r"
       ]
      },
      {
       "output_type": "stream",
       "stream": "stdout",
       "text": [
        "working on OTU.6227 (1327/6236)...\r"
       ]
      },
      {
       "output_type": "stream",
       "stream": "stdout",
       "text": [
        "working on OTU.4871 (1338/6236)...\r"
       ]
      },
      {
       "output_type": "stream",
       "stream": "stdout",
       "text": [
        "working on OTU.5995 (1348/6236)...\r"
       ]
      },
      {
       "output_type": "stream",
       "stream": "stdout",
       "text": [
        "working on OTU.5600 (1361/6236)...\r"
       ]
      },
      {
       "output_type": "stream",
       "stream": "stdout",
       "text": [
        "working on OTU.5438 (1372/6236)...\r"
       ]
      },
      {
       "output_type": "stream",
       "stream": "stdout",
       "text": [
        "working on OTU.3316 (1384/6236)...\r"
       ]
      },
      {
       "output_type": "stream",
       "stream": "stdout",
       "text": [
        "working on OTU.1071 (1396/6236)...\r"
       ]
      },
      {
       "output_type": "stream",
       "stream": "stdout",
       "text": [
        "working on OTU.4518 (1408/6236)...\r"
       ]
      },
      {
       "output_type": "stream",
       "stream": "stdout",
       "text": [
        "working on OTU.5181 (1420/6236)...\r"
       ]
      },
      {
       "output_type": "stream",
       "stream": "stdout",
       "text": [
        "working on OTU.5410 (1430/6236)...\r"
       ]
      },
      {
       "output_type": "stream",
       "stream": "stdout",
       "text": [
        "working on OTU.3796 (1441/6236)...\r"
       ]
      },
      {
       "output_type": "stream",
       "stream": "stdout",
       "text": [
        "working on OTU.5311 (1450/6236)...\r"
       ]
      },
      {
       "output_type": "stream",
       "stream": "stdout",
       "text": [
        "working on OTU.4311 (1461/6236)...\r"
       ]
      },
      {
       "output_type": "stream",
       "stream": "stdout",
       "text": [
        "working on OTU.277 (1471/6236)... \r"
       ]
      },
      {
       "output_type": "stream",
       "stream": "stdout",
       "text": [
        "working on OTU.3862 (1483/6236)...\r"
       ]
      },
      {
       "output_type": "stream",
       "stream": "stdout",
       "text": [
        "working on OTU.1015 (1494/6236)...\r"
       ]
      },
      {
       "output_type": "stream",
       "stream": "stdout",
       "text": [
        "working on OTU.3018 (1504/6236)...\r"
       ]
      },
      {
       "output_type": "stream",
       "stream": "stdout",
       "text": [
        "working on OTU.1823 (1516/6236)...\r"
       ]
      },
      {
       "output_type": "stream",
       "stream": "stdout",
       "text": [
        "working on OTU.3977 (1528/6236)...\r"
       ]
      },
      {
       "output_type": "stream",
       "stream": "stdout",
       "text": [
        "working on OTU.2644 (1538/6236)...\r"
       ]
      },
      {
       "output_type": "stream",
       "stream": "stdout",
       "text": [
        "working on OTU.4647 (1549/6236)...\r"
       ]
      },
      {
       "output_type": "stream",
       "stream": "stdout",
       "text": [
        "working on OTU.2766 (1560/6236)...\r"
       ]
      },
      {
       "output_type": "stream",
       "stream": "stdout",
       "text": [
        "working on OTU.86 (1570/6236)...  \r"
       ]
      },
      {
       "output_type": "stream",
       "stream": "stdout",
       "text": [
        "working on OTU.1290 (1582/6236)...\r"
       ]
      },
      {
       "output_type": "stream",
       "stream": "stdout",
       "text": [
        "working on OTU.5316 (1594/6236)...\r"
       ]
      },
      {
       "output_type": "stream",
       "stream": "stdout",
       "text": [
        "working on OTU.860 (1606/6236)... \r"
       ]
      },
      {
       "output_type": "stream",
       "stream": "stdout",
       "text": [
        "working on OTU.4065 (1618/6236)...\r"
       ]
      },
      {
       "output_type": "stream",
       "stream": "stdout",
       "text": [
        "working on OTU.5102 (1630/6236)...\r"
       ]
      },
      {
       "output_type": "stream",
       "stream": "stdout",
       "text": [
        "working on OTU.3504 (1642/6236)...\r"
       ]
      },
      {
       "output_type": "stream",
       "stream": "stdout",
       "text": [
        "working on OTU.1608 (1653/6236)...\r"
       ]
      },
      {
       "output_type": "stream",
       "stream": "stdout",
       "text": [
        "working on OTU.1602 (1665/6236)...\r"
       ]
      },
      {
       "output_type": "stream",
       "stream": "stdout",
       "text": [
        "working on OTU.5376 (1675/6236)...\r"
       ]
      },
      {
       "output_type": "stream",
       "stream": "stdout",
       "text": [
        "working on OTU.926 (1686/6236)... \r"
       ]
      },
      {
       "output_type": "stream",
       "stream": "stdout",
       "text": [
        "working on OTU.5845 (1697/6236)...\r"
       ]
      },
      {
       "output_type": "stream",
       "stream": "stdout",
       "text": [
        "working on OTU.5793 (1708/6236)...\r"
       ]
      },
      {
       "output_type": "stream",
       "stream": "stdout",
       "text": [
        "working on OTU.1750 (1719/6236)...\r"
       ]
      },
      {
       "output_type": "stream",
       "stream": "stdout",
       "text": [
        "working on OTU.5564 (1729/6236)...\r"
       ]
      },
      {
       "output_type": "stream",
       "stream": "stdout",
       "text": [
        "working on OTU.5170 (1741/6236)...\r"
       ]
      },
      {
       "output_type": "stream",
       "stream": "stdout",
       "text": [
        "working on OTU.5806 (1753/6236)...\r"
       ]
      },
      {
       "output_type": "stream",
       "stream": "stdout",
       "text": [
        "working on OTU.5996 (1764/6236)...\r"
       ]
      },
      {
       "output_type": "stream",
       "stream": "stdout",
       "text": [
        "working on OTU.1789 (1777/6236)...\r"
       ]
      },
      {
       "output_type": "stream",
       "stream": "stdout",
       "text": [
        "working on OTU.456 (1788/6236)... \r"
       ]
      },
      {
       "output_type": "stream",
       "stream": "stdout",
       "text": [
        "working on OTU.3726 (1800/6236)...\r"
       ]
      },
      {
       "output_type": "stream",
       "stream": "stdout",
       "text": [
        "working on OTU.3544 (1811/6236)...\r"
       ]
      },
      {
       "output_type": "stream",
       "stream": "stdout",
       "text": [
        "working on OTU.6113 (1822/6236)...\r"
       ]
      },
      {
       "output_type": "stream",
       "stream": "stdout",
       "text": [
        "working on OTU.6027 (1834/6236)...\r"
       ]
      },
      {
       "output_type": "stream",
       "stream": "stdout",
       "text": [
        "working on OTU.5019 (1846/6236)...\r"
       ]
      },
      {
       "output_type": "stream",
       "stream": "stdout",
       "text": [
        "working on OTU.1020 (1856/6236)...\r"
       ]
      },
      {
       "output_type": "stream",
       "stream": "stdout",
       "text": [
        "working on OTU.6233 (1866/6236)...\r"
       ]
      },
      {
       "output_type": "stream",
       "stream": "stdout",
       "text": [
        "working on OTU.5619 (1879/6236)...\r"
       ]
      },
      {
       "output_type": "stream",
       "stream": "stdout",
       "text": [
        "working on OTU.3263 (1890/6236)...\r"
       ]
      },
      {
       "output_type": "stream",
       "stream": "stdout",
       "text": [
        "working on OTU.93 (1901/6236)...  \r"
       ]
      },
      {
       "output_type": "stream",
       "stream": "stdout",
       "text": [
        "working on OTU.2454 (1913/6236)...\r"
       ]
      },
      {
       "output_type": "stream",
       "stream": "stdout",
       "text": [
        "working on OTU.4576 (1924/6236)...\r"
       ]
      },
      {
       "output_type": "stream",
       "stream": "stdout",
       "text": [
        "working on OTU.2602 (1935/6236)...\r"
       ]
      },
      {
       "output_type": "stream",
       "stream": "stdout",
       "text": [
        "working on OTU.1208 (1945/6236)...\r"
       ]
      },
      {
       "output_type": "stream",
       "stream": "stdout",
       "text": [
        "working on OTU.265 (1956/6236)... \r"
       ]
      },
      {
       "output_type": "stream",
       "stream": "stdout",
       "text": [
        "working on OTU.3374 (1968/6236)...\r"
       ]
      },
      {
       "output_type": "stream",
       "stream": "stdout",
       "text": [
        "working on OTU.6216 (1979/6236)...\r"
       ]
      },
      {
       "output_type": "stream",
       "stream": "stdout",
       "text": [
        "working on OTU.2967 (1991/6236)...\r"
       ]
      },
      {
       "output_type": "stream",
       "stream": "stdout",
       "text": [
        "working on OTU.5805 (2002/6236)...\r"
       ]
      },
      {
       "output_type": "stream",
       "stream": "stdout",
       "text": [
        "working on OTU.2065 (2012/6236)...\r"
       ]
      },
      {
       "output_type": "stream",
       "stream": "stdout",
       "text": [
        "working on OTU.3353 (2025/6236)...\r"
       ]
      },
      {
       "output_type": "stream",
       "stream": "stdout",
       "text": [
        "working on OTU.3526 (2036/6236)...\r"
       ]
      },
      {
       "output_type": "stream",
       "stream": "stdout",
       "text": [
        "working on OTU.5861 (2047/6236)...\r"
       ]
      },
      {
       "output_type": "stream",
       "stream": "stdout",
       "text": [
        "working on OTU.5246 (2058/6236)...\r"
       ]
      },
      {
       "output_type": "stream",
       "stream": "stdout",
       "text": [
        "working on OTU.956 (2070/6236)... \r"
       ]
      },
      {
       "output_type": "stream",
       "stream": "stdout",
       "text": [
        "working on OTU.4293 (2081/6236)...\r"
       ]
      },
      {
       "output_type": "stream",
       "stream": "stdout",
       "text": [
        "working on OTU.4943 (2093/6236)...\r"
       ]
      },
      {
       "output_type": "stream",
       "stream": "stdout",
       "text": [
        "working on OTU.5875 (2103/6236)...\r"
       ]
      },
      {
       "output_type": "stream",
       "stream": "stdout",
       "text": [
        "working on OTU.4977 (2114/6236)...\r"
       ]
      },
      {
       "output_type": "stream",
       "stream": "stdout",
       "text": [
        "working on OTU.3108 (2127/6236)...\r"
       ]
      },
      {
       "output_type": "stream",
       "stream": "stdout",
       "text": [
        "working on OTU.6056 (2138/6236)...\r"
       ]
      },
      {
       "output_type": "stream",
       "stream": "stdout",
       "text": [
        "working on OTU.1886 (2150/6236)...\r"
       ]
      },
      {
       "output_type": "stream",
       "stream": "stdout",
       "text": [
        "working on OTU.17 (2162/6236)...  \r"
       ]
      },
      {
       "output_type": "stream",
       "stream": "stdout",
       "text": [
        "working on OTU.3993 (2174/6236)...\r"
       ]
      },
      {
       "output_type": "stream",
       "stream": "stdout",
       "text": [
        "working on OTU.5542 (2185/6236)...\r"
       ]
      },
      {
       "output_type": "stream",
       "stream": "stdout",
       "text": [
        "working on OTU.2537 (2196/6236)...\r"
       ]
      },
      {
       "output_type": "stream",
       "stream": "stdout",
       "text": [
        "working on OTU.2247 (2206/6236)...\r"
       ]
      },
      {
       "output_type": "stream",
       "stream": "stdout",
       "text": [
        "working on OTU.4142 (2217/6236)...\r"
       ]
      },
      {
       "output_type": "stream",
       "stream": "stdout",
       "text": [
        "working on OTU.5946 (2229/6236)...\r"
       ]
      },
      {
       "output_type": "stream",
       "stream": "stdout",
       "text": [
        "working on OTU.2409 (2239/6236)...\r"
       ]
      },
      {
       "output_type": "stream",
       "stream": "stdout",
       "text": [
        "working on OTU.5971 (2250/6236)...\r"
       ]
      },
      {
       "output_type": "stream",
       "stream": "stdout",
       "text": [
        "working on OTU.586 (2260/6236)... \r"
       ]
      },
      {
       "output_type": "stream",
       "stream": "stdout",
       "text": [
        "working on OTU.889 (2271/6236)...\r"
       ]
      },
      {
       "output_type": "stream",
       "stream": "stdout",
       "text": [
        "working on OTU.4038 (2281/6236)...\r"
       ]
      },
      {
       "output_type": "stream",
       "stream": "stdout",
       "text": [
        "working on OTU.3855 (2291/6236)...\r"
       ]
      },
      {
       "output_type": "stream",
       "stream": "stdout",
       "text": [
        "working on OTU.531 (2301/6236)... \r"
       ]
      },
      {
       "output_type": "stream",
       "stream": "stdout",
       "text": [
        "working on OTU.866 (2312/6236)...\r"
       ]
      },
      {
       "output_type": "stream",
       "stream": "stdout",
       "text": [
        "working on OTU.4006 (2323/6236)...\r"
       ]
      },
      {
       "output_type": "stream",
       "stream": "stdout",
       "text": [
        "working on OTU.2844 (2336/6236)...\r"
       ]
      },
      {
       "output_type": "stream",
       "stream": "stdout",
       "text": [
        "working on OTU.3956 (2346/6236)...\r"
       ]
      },
      {
       "output_type": "stream",
       "stream": "stdout",
       "text": [
        "working on OTU.619 (2356/6236)... \r"
       ]
      },
      {
       "output_type": "stream",
       "stream": "stdout",
       "text": [
        "working on OTU.4066 (2369/6236)...\r"
       ]
      },
      {
       "output_type": "stream",
       "stream": "stdout",
       "text": [
        "working on OTU.1247 (2380/6236)...\r"
       ]
      },
      {
       "output_type": "stream",
       "stream": "stdout",
       "text": [
        "working on OTU.5787 (2392/6236)...\r"
       ]
      },
      {
       "output_type": "stream",
       "stream": "stdout",
       "text": [
        "working on OTU.5325 (2403/6236)...\r"
       ]
      },
      {
       "output_type": "stream",
       "stream": "stdout",
       "text": [
        "working on OTU.941 (2415/6236)... \r"
       ]
      },
      {
       "output_type": "stream",
       "stream": "stdout",
       "text": [
        "working on OTU.5807 (2425/6236)...\r"
       ]
      },
      {
       "output_type": "stream",
       "stream": "stdout",
       "text": [
        "working on OTU.4470 (2437/6236)...\r"
       ]
      },
      {
       "output_type": "stream",
       "stream": "stdout",
       "text": [
        "working on OTU.1742 (2446/6236)...\r"
       ]
      },
      {
       "output_type": "stream",
       "stream": "stdout",
       "text": [
        "working on OTU.1354 (2458/6236)...\r"
       ]
      },
      {
       "output_type": "stream",
       "stream": "stdout",
       "text": [
        "working on OTU.1626 (2468/6236)...\r"
       ]
      },
      {
       "output_type": "stream",
       "stream": "stdout",
       "text": [
        "working on OTU.2035 (2479/6236)...\r"
       ]
      },
      {
       "output_type": "stream",
       "stream": "stdout",
       "text": [
        "working on OTU.4939 (2490/6236)...\r"
       ]
      },
      {
       "output_type": "stream",
       "stream": "stdout",
       "text": [
        "working on OTU.3193 (2501/6236)...\r"
       ]
      },
      {
       "output_type": "stream",
       "stream": "stdout",
       "text": [
        "working on OTU.827 (2512/6236)... \r"
       ]
      },
      {
       "output_type": "stream",
       "stream": "stdout",
       "text": [
        "working on OTU.1834 (2522/6236)...\r"
       ]
      },
      {
       "output_type": "stream",
       "stream": "stdout",
       "text": [
        "working on OTU.246 (2531/6236)... \r"
       ]
      },
      {
       "output_type": "stream",
       "stream": "stdout",
       "text": [
        "working on OTU.1064 (2543/6236)...\r"
       ]
      },
      {
       "output_type": "stream",
       "stream": "stdout",
       "text": [
        "working on OTU.1859 (2556/6236)...\r"
       ]
      },
      {
       "output_type": "stream",
       "stream": "stdout",
       "text": [
        "working on OTU.5049 (2567/6236)...\r"
       ]
      },
      {
       "output_type": "stream",
       "stream": "stdout",
       "text": [
        "working on OTU.4211 (2578/6236)...\r"
       ]
      },
      {
       "output_type": "stream",
       "stream": "stdout",
       "text": [
        "working on OTU.4619 (2590/6236)...\r"
       ]
      },
      {
       "output_type": "stream",
       "stream": "stdout",
       "text": [
        "working on OTU.4453 (2601/6236)...\r"
       ]
      },
      {
       "output_type": "stream",
       "stream": "stdout",
       "text": [
        "working on OTU.3224 (2612/6236)...\r"
       ]
      },
      {
       "output_type": "stream",
       "stream": "stdout",
       "text": [
        "working on OTU.3279 (2622/6236)...\r"
       ]
      },
      {
       "output_type": "stream",
       "stream": "stdout",
       "text": [
        "working on OTU.2589 (2632/6236)...\r"
       ]
      },
      {
       "output_type": "stream",
       "stream": "stdout",
       "text": [
        "working on OTU.2470 (2643/6236)...\r"
       ]
      },
      {
       "output_type": "stream",
       "stream": "stdout",
       "text": [
        "working on OTU.448 (2653/6236)... \r"
       ]
      },
      {
       "output_type": "stream",
       "stream": "stdout",
       "text": [
        "working on OTU.3717 (2665/6236)...\r"
       ]
      },
      {
       "output_type": "stream",
       "stream": "stdout",
       "text": [
        "working on OTU.4306 (2676/6236)...\r"
       ]
      },
      {
       "output_type": "stream",
       "stream": "stdout",
       "text": [
        "working on OTU.5649 (2686/6236)...\r"
       ]
      },
      {
       "output_type": "stream",
       "stream": "stdout",
       "text": [
        "working on OTU.4942 (2697/6236)...\r"
       ]
      },
      {
       "output_type": "stream",
       "stream": "stdout",
       "text": [
        "working on OTU.5746 (2707/6236)...\r"
       ]
      },
      {
       "output_type": "stream",
       "stream": "stdout",
       "text": [
        "working on OTU.380 (2720/6236)... \r"
       ]
      },
      {
       "output_type": "stream",
       "stream": "stdout",
       "text": [
        "working on OTU.101 (2732/6236)...\r"
       ]
      },
      {
       "output_type": "stream",
       "stream": "stdout",
       "text": [
        "working on OTU.476 (2743/6236)...\r"
       ]
      },
      {
       "output_type": "stream",
       "stream": "stdout",
       "text": [
        "working on OTU.625 (2755/6236)...\r"
       ]
      },
      {
       "output_type": "stream",
       "stream": "stdout",
       "text": [
        "working on OTU.3327 (2765/6236)...\r"
       ]
      },
      {
       "output_type": "stream",
       "stream": "stdout",
       "text": [
        "working on OTU.906 (2776/6236)... \r"
       ]
      },
      {
       "output_type": "stream",
       "stream": "stdout",
       "text": [
        "working on OTU.1174 (2788/6236)...\r"
       ]
      },
      {
       "output_type": "stream",
       "stream": "stdout",
       "text": [
        "working on OTU.5504 (2799/6236)...\r"
       ]
      },
      {
       "output_type": "stream",
       "stream": "stdout",
       "text": [
        "working on OTU.4242 (2809/6236)...\r"
       ]
      },
      {
       "output_type": "stream",
       "stream": "stdout",
       "text": [
        "working on OTU.5452 (2821/6236)...\r"
       ]
      },
      {
       "output_type": "stream",
       "stream": "stdout",
       "text": [
        "working on OTU.1766 (2833/6236)...\r"
       ]
      },
      {
       "output_type": "stream",
       "stream": "stdout",
       "text": [
        "working on OTU.5673 (2844/6236)...\r"
       ]
      },
      {
       "output_type": "stream",
       "stream": "stdout",
       "text": [
        "working on OTU.2917 (2855/6236)...\r"
       ]
      },
      {
       "output_type": "stream",
       "stream": "stdout",
       "text": [
        "working on OTU.714 (2868/6236)... \r"
       ]
      },
      {
       "output_type": "stream",
       "stream": "stdout",
       "text": [
        "working on OTU.10 (2881/6236)... \r"
       ]
      },
      {
       "output_type": "stream",
       "stream": "stdout",
       "text": [
        "working on OTU.292 (2893/6236)...\r"
       ]
      },
      {
       "output_type": "stream",
       "stream": "stdout",
       "text": [
        "working on OTU.14 (2904/6236)... \r"
       ]
      },
      {
       "output_type": "stream",
       "stream": "stdout",
       "text": [
        "working on OTU.4123 (2915/6236)...\r"
       ]
      },
      {
       "output_type": "stream",
       "stream": "stdout",
       "text": [
        "working on OTU.1249 (2925/6236)...\r"
       ]
      },
      {
       "output_type": "stream",
       "stream": "stdout",
       "text": [
        "working on OTU.6179 (2937/6236)...\r"
       ]
      },
      {
       "output_type": "stream",
       "stream": "stdout",
       "text": [
        "working on OTU.6090 (2948/6236)...\r"
       ]
      },
      {
       "output_type": "stream",
       "stream": "stdout",
       "text": [
        "working on OTU.2162 (2958/6236)...\r"
       ]
      },
      {
       "output_type": "stream",
       "stream": "stdout",
       "text": [
        "working on OTU.3608 (2970/6236)...\r"
       ]
      },
      {
       "output_type": "stream",
       "stream": "stdout",
       "text": [
        "working on OTU.939 (2980/6236)... \r"
       ]
      },
      {
       "output_type": "stream",
       "stream": "stdout",
       "text": [
        "working on OTU.933 (2990/6236)...\r"
       ]
      },
      {
       "output_type": "stream",
       "stream": "stdout",
       "text": [
        "working on OTU.2532 (3001/6236)...\r"
       ]
      },
      {
       "output_type": "stream",
       "stream": "stdout",
       "text": [
        "working on OTU.351 (3013/6236)... \r"
       ]
      },
      {
       "output_type": "stream",
       "stream": "stdout",
       "text": [
        "working on OTU.1993 (3025/6236)...\r"
       ]
      },
      {
       "output_type": "stream",
       "stream": "stdout",
       "text": [
        "working on OTU.424 (3036/6236)... \r"
       ]
      },
      {
       "output_type": "stream",
       "stream": "stdout",
       "text": [
        "working on OTU.1502 (3047/6236)...\r"
       ]
      },
      {
       "output_type": "stream",
       "stream": "stdout",
       "text": [
        "working on OTU.2017 (3059/6236)...\r"
       ]
      },
      {
       "output_type": "stream",
       "stream": "stdout",
       "text": [
        "working on OTU.1138 (3070/6236)...\r"
       ]
      },
      {
       "output_type": "stream",
       "stream": "stdout",
       "text": [
        "working on OTU.5129 (3082/6236)...\r"
       ]
      },
      {
       "output_type": "stream",
       "stream": "stdout",
       "text": [
        "working on OTU.1569 (3094/6236)...\r"
       ]
      },
      {
       "output_type": "stream",
       "stream": "stdout",
       "text": [
        "working on OTU.2633 (3105/6236)...\r"
       ]
      },
      {
       "output_type": "stream",
       "stream": "stdout",
       "text": [
        "working on OTU.6086 (3116/6236)...\r"
       ]
      },
      {
       "output_type": "stream",
       "stream": "stdout",
       "text": [
        "working on OTU.1921 (3128/6236)...\r"
       ]
      },
      {
       "output_type": "stream",
       "stream": "stdout",
       "text": [
        "working on OTU.2025 (3140/6236)...\r"
       ]
      },
      {
       "output_type": "stream",
       "stream": "stdout",
       "text": [
        "working on OTU.4255 (3151/6236)...\r"
       ]
      },
      {
       "output_type": "stream",
       "stream": "stdout",
       "text": [
        "working on OTU.2294 (3162/6236)...\r"
       ]
      },
      {
       "output_type": "stream",
       "stream": "stdout",
       "text": [
        "working on OTU.3451 (3172/6236)...\r"
       ]
      },
      {
       "output_type": "stream",
       "stream": "stdout",
       "text": [
        "working on OTU.73 (3184/6236)...  \r"
       ]
      },
      {
       "output_type": "stream",
       "stream": "stdout",
       "text": [
        "working on OTU.4866 (3196/6236)...\r"
       ]
      },
      {
       "output_type": "stream",
       "stream": "stdout",
       "text": [
        "working on OTU.509 (3208/6236)... \r"
       ]
      },
      {
       "output_type": "stream",
       "stream": "stdout",
       "text": [
        "working on OTU.1115 (3218/6236)...\r"
       ]
      },
      {
       "output_type": "stream",
       "stream": "stdout",
       "text": [
        "working on OTU.2000 (3229/6236)...\r"
       ]
      },
      {
       "output_type": "stream",
       "stream": "stdout",
       "text": [
        "working on OTU.1911 (3240/6236)...\r"
       ]
      },
      {
       "output_type": "stream",
       "stream": "stdout",
       "text": [
        "working on OTU.4683 (3250/6236)...\r"
       ]
      },
      {
       "output_type": "stream",
       "stream": "stdout",
       "text": [
        "working on OTU.2742 (3262/6236)...\r"
       ]
      },
      {
       "output_type": "stream",
       "stream": "stdout",
       "text": [
        "working on OTU.2625 (3273/6236)...\r"
       ]
      },
      {
       "output_type": "stream",
       "stream": "stdout",
       "text": [
        "working on OTU.1719 (3283/6236)...\r"
       ]
      },
      {
       "output_type": "stream",
       "stream": "stdout",
       "text": [
        "working on OTU.2159 (3296/6236)...\r"
       ]
      },
      {
       "output_type": "stream",
       "stream": "stdout",
       "text": [
        "working on OTU.1460 (3307/6236)...\r"
       ]
      },
      {
       "output_type": "stream",
       "stream": "stdout",
       "text": [
        "working on OTU.4738 (3318/6236)...\r"
       ]
      },
      {
       "output_type": "stream",
       "stream": "stdout",
       "text": [
        "working on OTU.5318 (3328/6236)...\r"
       ]
      },
      {
       "output_type": "stream",
       "stream": "stdout",
       "text": [
        "working on OTU.2670 (3338/6236)...\r"
       ]
      },
      {
       "output_type": "stream",
       "stream": "stdout",
       "text": [
        "working on OTU.2836 (3347/6236)...\r"
       ]
      },
      {
       "output_type": "stream",
       "stream": "stdout",
       "text": [
        "working on OTU.879 (3359/6236)... \r"
       ]
      },
      {
       "output_type": "stream",
       "stream": "stdout",
       "text": [
        "working on OTU.1998 (3371/6236)...\r"
       ]
      },
      {
       "output_type": "stream",
       "stream": "stdout",
       "text": [
        "working on OTU.5239 (3382/6236)...\r"
       ]
      },
      {
       "output_type": "stream",
       "stream": "stdout",
       "text": [
        "working on OTU.5208 (3393/6236)...\r"
       ]
      },
      {
       "output_type": "stream",
       "stream": "stdout",
       "text": [
        "working on OTU.3033 (3404/6236)...\r"
       ]
      },
      {
       "output_type": "stream",
       "stream": "stdout",
       "text": [
        "working on OTU.5628 (3415/6236)...\r"
       ]
      },
      {
       "output_type": "stream",
       "stream": "stdout",
       "text": [
        "working on OTU.4328 (3427/6236)...\r"
       ]
      },
      {
       "output_type": "stream",
       "stream": "stdout",
       "text": [
        "working on OTU.1863 (3440/6236)...\r"
       ]
      },
      {
       "output_type": "stream",
       "stream": "stdout",
       "text": [
        "working on OTU.2046 (3450/6236)...\r"
       ]
      },
      {
       "output_type": "stream",
       "stream": "stdout",
       "text": [
        "working on OTU.598 (3461/6236)... \r"
       ]
      },
      {
       "output_type": "stream",
       "stream": "stdout",
       "text": [
        "working on OTU.3274 (3473/6236)...\r"
       ]
      },
      {
       "output_type": "stream",
       "stream": "stdout",
       "text": [
        "working on OTU.4932 (3485/6236)...\r"
       ]
      },
      {
       "output_type": "stream",
       "stream": "stdout",
       "text": [
        "working on OTU.1156 (3496/6236)...\r"
       ]
      },
      {
       "output_type": "stream",
       "stream": "stdout",
       "text": [
        "working on OTU.4879 (3508/6236)...\r"
       ]
      },
      {
       "output_type": "stream",
       "stream": "stdout",
       "text": [
        "working on OTU.4297 (3520/6236)...\r"
       ]
      },
      {
       "output_type": "stream",
       "stream": "stdout",
       "text": [
        "working on OTU.4751 (3532/6236)...\r"
       ]
      },
      {
       "output_type": "stream",
       "stream": "stdout",
       "text": [
        "working on OTU.3852 (3544/6236)...\r"
       ]
      },
      {
       "output_type": "stream",
       "stream": "stdout",
       "text": [
        "working on OTU.4315 (3554/6236)...\r"
       ]
      },
      {
       "output_type": "stream",
       "stream": "stdout",
       "text": [
        "working on OTU.5492 (3566/6236)...\r"
       ]
      },
      {
       "output_type": "stream",
       "stream": "stdout",
       "text": [
        "working on OTU.4725 (3577/6236)...\r"
       ]
      },
      {
       "output_type": "stream",
       "stream": "stdout",
       "text": [
        "working on OTU.5178 (3589/6236)...\r"
       ]
      },
      {
       "output_type": "stream",
       "stream": "stdout",
       "text": [
        "working on OTU.4506 (3599/6236)...\r"
       ]
      },
      {
       "output_type": "stream",
       "stream": "stdout",
       "text": [
        "working on OTU.2906 (3611/6236)...\r"
       ]
      },
      {
       "output_type": "stream",
       "stream": "stdout",
       "text": [
        "working on OTU.5536 (3621/6236)...\r"
       ]
      },
      {
       "output_type": "stream",
       "stream": "stdout",
       "text": [
        "working on OTU.2249 (3632/6236)...\r"
       ]
      },
      {
       "output_type": "stream",
       "stream": "stdout",
       "text": [
        "working on OTU.6184 (3643/6236)...\r"
       ]
      },
      {
       "output_type": "stream",
       "stream": "stdout",
       "text": [
        "working on OTU.1954 (3655/6236)...\r"
       ]
      },
      {
       "output_type": "stream",
       "stream": "stdout",
       "text": [
        "working on OTU.1979 (3667/6236)...\r"
       ]
      },
      {
       "output_type": "stream",
       "stream": "stdout",
       "text": [
        "working on OTU.2849 (3678/6236)...\r"
       ]
      },
      {
       "output_type": "stream",
       "stream": "stdout",
       "text": [
        "working on OTU.5141 (3690/6236)...\r"
       ]
      },
      {
       "output_type": "stream",
       "stream": "stdout",
       "text": [
        "working on OTU.2431 (3702/6236)...\r"
       ]
      },
      {
       "output_type": "stream",
       "stream": "stdout",
       "text": [
        "working on OTU.5383 (3713/6236)...\r"
       ]
      },
      {
       "output_type": "stream",
       "stream": "stdout",
       "text": [
        "working on OTU.5209 (3725/6236)...\r"
       ]
      },
      {
       "output_type": "stream",
       "stream": "stdout",
       "text": [
        "working on OTU.1473 (3736/6236)...\r"
       ]
      },
      {
       "output_type": "stream",
       "stream": "stdout",
       "text": [
        "working on OTU.2887 (3747/6236)...\r"
       ]
      },
      {
       "output_type": "stream",
       "stream": "stdout",
       "text": [
        "working on OTU.3604 (3758/6236)...\r"
       ]
      },
      {
       "output_type": "stream",
       "stream": "stdout",
       "text": [
        "working on OTU.767 (3769/6236)... \r"
       ]
      },
      {
       "output_type": "stream",
       "stream": "stdout",
       "text": [
        "working on OTU.3048 (3780/6236)...\r"
       ]
      },
      {
       "output_type": "stream",
       "stream": "stdout",
       "text": [
        "working on OTU.5789 (3792/6236)...\r"
       ]
      },
      {
       "output_type": "stream",
       "stream": "stdout",
       "text": [
        "working on OTU.5353 (3803/6236)...\r"
       ]
      },
      {
       "output_type": "stream",
       "stream": "stdout",
       "text": [
        "working on OTU.4493 (3813/6236)...\r"
       ]
      },
      {
       "output_type": "stream",
       "stream": "stdout",
       "text": [
        "working on OTU.6114 (3826/6236)...\r"
       ]
      },
      {
       "output_type": "stream",
       "stream": "stdout",
       "text": [
        "working on OTU.1662 (3837/6236)...\r"
       ]
      },
      {
       "output_type": "stream",
       "stream": "stdout",
       "text": [
        "working on OTU.610 (3849/6236)... \r"
       ]
      },
      {
       "output_type": "stream",
       "stream": "stdout",
       "text": [
        "working on OTU.4130 (3860/6236)...\r"
       ]
      },
      {
       "output_type": "stream",
       "stream": "stdout",
       "text": [
        "working on OTU.4398 (3872/6236)...\r"
       ]
      },
      {
       "output_type": "stream",
       "stream": "stdout",
       "text": [
        "working on OTU.1841 (3884/6236)...\r"
       ]
      },
      {
       "output_type": "stream",
       "stream": "stdout",
       "text": [
        "working on OTU.4133 (3897/6236)...\r"
       ]
      },
      {
       "output_type": "stream",
       "stream": "stdout",
       "text": [
        "working on OTU.6048 (3908/6236)...\r"
       ]
      },
      {
       "output_type": "stream",
       "stream": "stdout",
       "text": [
        "working on OTU.2165 (3918/6236)...\r"
       ]
      },
      {
       "output_type": "stream",
       "stream": "stdout",
       "text": [
        "working on OTU.4224 (3929/6236)...\r"
       ]
      },
      {
       "output_type": "stream",
       "stream": "stdout",
       "text": [
        "working on OTU.4535 (3940/6236)...\r"
       ]
      },
      {
       "output_type": "stream",
       "stream": "stdout",
       "text": [
        "working on OTU.5436 (3951/6236)...\r"
       ]
      },
      {
       "output_type": "stream",
       "stream": "stdout",
       "text": [
        "working on OTU.3006 (3962/6236)...\r"
       ]
      },
      {
       "output_type": "stream",
       "stream": "stdout",
       "text": [
        "working on OTU.19 (3973/6236)...  \r"
       ]
      },
      {
       "output_type": "stream",
       "stream": "stdout",
       "text": [
        "working on OTU.5201 (3985/6236)...\r"
       ]
      },
      {
       "output_type": "stream",
       "stream": "stdout",
       "text": [
        "working on OTU.4884 (3997/6236)...\r"
       ]
      },
      {
       "output_type": "stream",
       "stream": "stdout",
       "text": [
        "working on OTU.2890 (4009/6236)...\r"
       ]
      },
      {
       "output_type": "stream",
       "stream": "stdout",
       "text": [
        "working on OTU.4526 (4021/6236)...\r"
       ]
      },
      {
       "output_type": "stream",
       "stream": "stdout",
       "text": [
        "working on OTU.5715 (4033/6236)...\r"
       ]
      },
      {
       "output_type": "stream",
       "stream": "stdout",
       "text": [
        "working on OTU.1227 (4045/6236)...\r"
       ]
      },
      {
       "output_type": "stream",
       "stream": "stdout",
       "text": [
        "working on OTU.4240 (4055/6236)...\r"
       ]
      },
      {
       "output_type": "stream",
       "stream": "stdout",
       "text": [
        "working on OTU.2124 (4067/6236)...\r"
       ]
      },
      {
       "output_type": "stream",
       "stream": "stdout",
       "text": [
        "working on OTU.4572 (4079/6236)...\r"
       ]
      },
      {
       "output_type": "stream",
       "stream": "stdout",
       "text": [
        "working on OTU.2457 (4090/6236)...\r"
       ]
      },
      {
       "output_type": "stream",
       "stream": "stdout",
       "text": [
        "working on OTU.3354 (4100/6236)...\r"
       ]
      },
      {
       "output_type": "stream",
       "stream": "stdout",
       "text": [
        "working on OTU.1511 (4113/6236)...\r"
       ]
      },
      {
       "output_type": "stream",
       "stream": "stdout",
       "text": [
        "working on OTU.994 (4125/6236)... \r"
       ]
      },
      {
       "output_type": "stream",
       "stream": "stdout",
       "text": [
        "working on OTU.4910 (4137/6236)...\r"
       ]
      },
      {
       "output_type": "stream",
       "stream": "stdout",
       "text": [
        "working on OTU.3098 (4146/6236)...\r"
       ]
      },
      {
       "output_type": "stream",
       "stream": "stdout",
       "text": [
        "working on OTU.1762 (4157/6236)...\r"
       ]
      },
      {
       "output_type": "stream",
       "stream": "stdout",
       "text": [
        "working on OTU.2282 (4168/6236)...\r"
       ]
      },
      {
       "output_type": "stream",
       "stream": "stdout",
       "text": [
        "working on OTU.4326 (4179/6236)...\r"
       ]
      },
      {
       "output_type": "stream",
       "stream": "stdout",
       "text": [
        "working on OTU.5983 (4191/6236)...\r"
       ]
      },
      {
       "output_type": "stream",
       "stream": "stdout",
       "text": [
        "working on OTU.2304 (4202/6236)...\r"
       ]
      },
      {
       "output_type": "stream",
       "stream": "stdout",
       "text": [
        "working on OTU.4930 (4213/6236)...\r"
       ]
      },
      {
       "output_type": "stream",
       "stream": "stdout",
       "text": [
        "working on OTU.4662 (4224/6236)...\r"
       ]
      },
      {
       "output_type": "stream",
       "stream": "stdout",
       "text": [
        "working on OTU.715 (4236/6236)... \r"
       ]
      },
      {
       "output_type": "stream",
       "stream": "stdout",
       "text": [
        "working on OTU.46 (4249/6236)... \r"
       ]
      },
      {
       "output_type": "stream",
       "stream": "stdout",
       "text": [
        "working on OTU.5693 (4261/6236)...\r"
       ]
      },
      {
       "output_type": "stream",
       "stream": "stdout",
       "text": [
        "working on OTU.2302 (4272/6236)...\r"
       ]
      },
      {
       "output_type": "stream",
       "stream": "stdout",
       "text": [
        "working on OTU.257 (4283/6236)... \r"
       ]
      },
      {
       "output_type": "stream",
       "stream": "stdout",
       "text": [
        "working on OTU.332 (4292/6236)...\r"
       ]
      },
      {
       "output_type": "stream",
       "stream": "stdout",
       "text": [
        "working on OTU.407 (4303/6236)...\r"
       ]
      },
      {
       "output_type": "stream",
       "stream": "stdout",
       "text": [
        "working on OTU.1298 (4314/6236)...\r"
       ]
      },
      {
       "output_type": "stream",
       "stream": "stdout",
       "text": [
        "working on OTU.588 (4324/6236)... \r"
       ]
      },
      {
       "output_type": "stream",
       "stream": "stdout",
       "text": [
        "working on OTU.5796 (4335/6236)...\r"
       ]
      },
      {
       "output_type": "stream",
       "stream": "stdout",
       "text": [
        "working on OTU.6128 (4348/6236)...\r"
       ]
      },
      {
       "output_type": "stream",
       "stream": "stdout",
       "text": [
        "working on OTU.3953 (4359/6236)...\r"
       ]
      },
      {
       "output_type": "stream",
       "stream": "stdout",
       "text": [
        "working on OTU.4371 (4372/6236)...\r"
       ]
      },
      {
       "output_type": "stream",
       "stream": "stdout",
       "text": [
        "working on OTU.6022 (4384/6236)...\r"
       ]
      },
      {
       "output_type": "stream",
       "stream": "stdout",
       "text": [
        "working on OTU.3896 (4395/6236)...\r"
       ]
      },
      {
       "output_type": "stream",
       "stream": "stdout",
       "text": [
        "working on OTU.5698 (4406/6236)...\r"
       ]
      },
      {
       "output_type": "stream",
       "stream": "stdout",
       "text": [
        "working on OTU.1610 (4416/6236)...\r"
       ]
      },
      {
       "output_type": "stream",
       "stream": "stdout",
       "text": [
        "working on OTU.3292 (4427/6236)...\r"
       ]
      },
      {
       "output_type": "stream",
       "stream": "stdout",
       "text": [
        "working on OTU.184 (4437/6236)... \r"
       ]
      },
      {
       "output_type": "stream",
       "stream": "stdout",
       "text": [
        "working on OTU.5071 (4450/6236)...\r"
       ]
      },
      {
       "output_type": "stream",
       "stream": "stdout",
       "text": [
        "working on OTU.3817 (4463/6236)...\r"
       ]
      },
      {
       "output_type": "stream",
       "stream": "stdout",
       "text": [
        "working on OTU.1655 (4474/6236)...\r"
       ]
      },
      {
       "output_type": "stream",
       "stream": "stdout",
       "text": [
        "working on OTU.1673 (4485/6236)...\r"
       ]
      },
      {
       "output_type": "stream",
       "stream": "stdout",
       "text": [
        "working on OTU.1771 (4497/6236)...\r"
       ]
      },
      {
       "output_type": "stream",
       "stream": "stdout",
       "text": [
        "working on OTU.422 (4507/6236)... \r"
       ]
      },
      {
       "output_type": "stream",
       "stream": "stdout",
       "text": [
        "working on OTU.4488 (4518/6236)...\r"
       ]
      },
      {
       "output_type": "stream",
       "stream": "stdout",
       "text": [
        "working on OTU.4831 (4528/6236)...\r"
       ]
      },
      {
       "output_type": "stream",
       "stream": "stdout",
       "text": [
        "working on OTU.5792 (4540/6236)...\r"
       ]
      },
      {
       "output_type": "stream",
       "stream": "stdout",
       "text": [
        "working on OTU.5835 (4552/6236)...\r"
       ]
      },
      {
       "output_type": "stream",
       "stream": "stdout",
       "text": [
        "working on OTU.4174 (4564/6236)...\r"
       ]
      },
      {
       "output_type": "stream",
       "stream": "stdout",
       "text": [
        "working on OTU.2583 (4576/6236)...\r"
       ]
      },
      {
       "output_type": "stream",
       "stream": "stdout",
       "text": [
        "working on OTU.5978 (4587/6236)...\r"
       ]
      },
      {
       "output_type": "stream",
       "stream": "stdout",
       "text": [
        "working on OTU.802 (4598/6236)... \r"
       ]
      },
      {
       "output_type": "stream",
       "stream": "stdout",
       "text": [
        "working on OTU.5704 (4609/6236)...\r"
       ]
      },
      {
       "output_type": "stream",
       "stream": "stdout",
       "text": [
        "working on OTU.5762 (4620/6236)...\r"
       ]
      },
      {
       "output_type": "stream",
       "stream": "stdout",
       "text": [
        "working on OTU.5399 (4630/6236)...\r"
       ]
      },
      {
       "output_type": "stream",
       "stream": "stdout",
       "text": [
        "working on OTU.2228 (4642/6236)...\r"
       ]
      },
      {
       "output_type": "stream",
       "stream": "stdout",
       "text": [
        "working on OTU.3801 (4653/6236)...\r"
       ]
      },
      {
       "output_type": "stream",
       "stream": "stdout",
       "text": [
        "working on OTU.4521 (4665/6236)...\r"
       ]
      },
      {
       "output_type": "stream",
       "stream": "stdout",
       "text": [
        "working on OTU.1116 (4677/6236)...\r"
       ]
      },
      {
       "output_type": "stream",
       "stream": "stdout",
       "text": [
        "working on OTU.4964 (4688/6236)...\r"
       ]
      },
      {
       "output_type": "stream",
       "stream": "stdout",
       "text": [
        "working on OTU.2869 (4698/6236)...\r"
       ]
      },
      {
       "output_type": "stream",
       "stream": "stdout",
       "text": [
        "working on OTU.1528 (4707/6236)...\r"
       ]
      },
      {
       "output_type": "stream",
       "stream": "stdout",
       "text": [
        "working on OTU.5214 (4718/6236)...\r"
       ]
      },
      {
       "output_type": "stream",
       "stream": "stdout",
       "text": [
        "working on OTU.5297 (4729/6236)...\r"
       ]
      },
      {
       "output_type": "stream",
       "stream": "stdout",
       "text": [
        "working on OTU.2951 (4740/6236)...\r"
       ]
      },
      {
       "output_type": "stream",
       "stream": "stdout",
       "text": [
        "working on OTU.3340 (4751/6236)...\r"
       ]
      },
      {
       "output_type": "stream",
       "stream": "stdout",
       "text": [
        "working on OTU.2974 (4763/6236)...\r"
       ]
      },
      {
       "output_type": "stream",
       "stream": "stdout",
       "text": [
        "working on OTU.1364 (4774/6236)...\r"
       ]
      },
      {
       "output_type": "stream",
       "stream": "stdout",
       "text": [
        "working on OTU.774 (4786/6236)... \r"
       ]
      },
      {
       "output_type": "stream",
       "stream": "stdout",
       "text": [
        "working on OTU.3856 (4797/6236)...\r"
       ]
      },
      {
       "output_type": "stream",
       "stream": "stdout",
       "text": [
        "working on OTU.4075 (4808/6236)...\r"
       ]
      },
      {
       "output_type": "stream",
       "stream": "stdout",
       "text": [
        "working on OTU.3674 (4819/6236)...\r"
       ]
      },
      {
       "output_type": "stream",
       "stream": "stdout",
       "text": [
        "working on OTU.5809 (4830/6236)...\r"
       ]
      },
      {
       "output_type": "stream",
       "stream": "stdout",
       "text": [
        "working on OTU.1225 (4842/6236)...\r"
       ]
      },
      {
       "output_type": "stream",
       "stream": "stdout",
       "text": [
        "working on OTU.4119 (4854/6236)...\r"
       ]
      },
      {
       "output_type": "stream",
       "stream": "stdout",
       "text": [
        "working on OTU.3666 (4866/6236)...\r"
       ]
      },
      {
       "output_type": "stream",
       "stream": "stdout",
       "text": [
        "working on OTU.2219 (4877/6236)...\r"
       ]
      },
      {
       "output_type": "stream",
       "stream": "stdout",
       "text": [
        "working on OTU.910 (4888/6236)... \r"
       ]
      },
      {
       "output_type": "stream",
       "stream": "stdout",
       "text": [
        "working on OTU.3905 (4900/6236)...\r"
       ]
      },
      {
       "output_type": "stream",
       "stream": "stdout",
       "text": [
        "working on OTU.2616 (4911/6236)...\r"
       ]
      },
      {
       "output_type": "stream",
       "stream": "stdout",
       "text": [
        "working on OTU.6147 (4922/6236)...\r"
       ]
      },
      {
       "output_type": "stream",
       "stream": "stdout",
       "text": [
        "working on OTU.3554 (4935/6236)...\r"
       ]
      },
      {
       "output_type": "stream",
       "stream": "stdout",
       "text": [
        "working on OTU.1280 (4948/6236)...\r"
       ]
      },
      {
       "output_type": "stream",
       "stream": "stdout",
       "text": [
        "working on OTU.234 (4959/6236)... \r"
       ]
      },
      {
       "output_type": "stream",
       "stream": "stdout",
       "text": [
        "working on OTU.2975 (4970/6236)...\r"
       ]
      },
      {
       "output_type": "stream",
       "stream": "stdout",
       "text": [
        "working on OTU.1980 (4981/6236)...\r"
       ]
      },
      {
       "output_type": "stream",
       "stream": "stdout",
       "text": [
        "working on OTU.4996 (4993/6236)...\r"
       ]
      },
      {
       "output_type": "stream",
       "stream": "stdout",
       "text": [
        "working on OTU.1519 (5004/6236)...\r"
       ]
      },
      {
       "output_type": "stream",
       "stream": "stdout",
       "text": [
        "working on OTU.5250 (5016/6236)...\r"
       ]
      },
      {
       "output_type": "stream",
       "stream": "stdout",
       "text": [
        "working on OTU.628 (5026/6236)... \r"
       ]
      },
      {
       "output_type": "stream",
       "stream": "stdout",
       "text": [
        "working on OTU.5669 (5038/6236)...\r"
       ]
      },
      {
       "output_type": "stream",
       "stream": "stdout",
       "text": [
        "working on OTU.537 (5049/6236)... \r"
       ]
      },
      {
       "output_type": "stream",
       "stream": "stdout",
       "text": [
        "working on OTU.5078 (5061/6236)...\r"
       ]
      },
      {
       "output_type": "stream",
       "stream": "stdout",
       "text": [
        "working on OTU.2575 (5073/6236)...\r"
       ]
      },
      {
       "output_type": "stream",
       "stream": "stdout",
       "text": [
        "working on OTU.1563 (5085/6236)...\r"
       ]
      },
      {
       "output_type": "stream",
       "stream": "stdout",
       "text": [
        "working on OTU.5906 (5094/6236)...\r"
       ]
      },
      {
       "output_type": "stream",
       "stream": "stdout",
       "text": [
        "working on OTU.5159 (5106/6236)...\r"
       ]
      },
      {
       "output_type": "stream",
       "stream": "stdout",
       "text": [
        "working on OTU.1077 (5116/6236)...\r"
       ]
      },
      {
       "output_type": "stream",
       "stream": "stdout",
       "text": [
        "working on OTU.3576 (5127/6236)...\r"
       ]
      },
      {
       "output_type": "stream",
       "stream": "stdout",
       "text": [
        "working on OTU.6004 (5137/6236)...\r"
       ]
      },
      {
       "output_type": "stream",
       "stream": "stdout",
       "text": [
        "working on OTU.406 (5147/6236)... \r"
       ]
      },
      {
       "output_type": "stream",
       "stream": "stdout",
       "text": [
        "working on OTU.4151 (5159/6236)...\r"
       ]
      },
      {
       "output_type": "stream",
       "stream": "stdout",
       "text": [
        "working on OTU.5364 (5169/6236)...\r"
       ]
      },
      {
       "output_type": "stream",
       "stream": "stdout",
       "text": [
        "working on OTU.4108 (5180/6236)...\r"
       ]
      },
      {
       "output_type": "stream",
       "stream": "stdout",
       "text": [
        "working on OTU.2160 (5192/6236)...\r"
       ]
      },
      {
       "output_type": "stream",
       "stream": "stdout",
       "text": [
        "working on OTU.450 (5203/6236)... \r"
       ]
      },
      {
       "output_type": "stream",
       "stream": "stdout",
       "text": [
        "working on OTU.708 (5213/6236)...\r"
       ]
      },
      {
       "output_type": "stream",
       "stream": "stdout",
       "text": [
        "working on OTU.901 (5226/6236)...\r"
       ]
      },
      {
       "output_type": "stream",
       "stream": "stdout",
       "text": [
        "working on OTU.2631 (5238/6236)...\r"
       ]
      },
      {
       "output_type": "stream",
       "stream": "stdout",
       "text": [
        "working on OTU.4435 (5248/6236)...\r"
       ]
      },
      {
       "output_type": "stream",
       "stream": "stdout",
       "text": [
        "working on OTU.6210 (5260/6236)...\r"
       ]
      },
      {
       "output_type": "stream",
       "stream": "stdout",
       "text": [
        "working on OTU.4190 (5271/6236)...\r"
       ]
      },
      {
       "output_type": "stream",
       "stream": "stdout",
       "text": [
        "working on OTU.5277 (5282/6236)...\r"
       ]
      },
      {
       "output_type": "stream",
       "stream": "stdout",
       "text": [
        "working on OTU.85 (5293/6236)...  \r"
       ]
      },
      {
       "output_type": "stream",
       "stream": "stdout",
       "text": [
        "working on OTU.6013 (5304/6236)...\r"
       ]
      },
      {
       "output_type": "stream",
       "stream": "stdout",
       "text": [
        "working on OTU.5772 (5313/6236)...\r"
       ]
      },
      {
       "output_type": "stream",
       "stream": "stdout",
       "text": [
        "working on OTU.4775 (5324/6236)...\r"
       ]
      },
      {
       "output_type": "stream",
       "stream": "stdout",
       "text": [
        "working on OTU.5618 (5335/6236)...\r"
       ]
      },
      {
       "output_type": "stream",
       "stream": "stdout",
       "text": [
        "working on OTU.2462 (5347/6236)...\r"
       ]
      },
      {
       "output_type": "stream",
       "stream": "stdout",
       "text": [
        "working on OTU.4496 (5357/6236)...\r"
       ]
      },
      {
       "output_type": "stream",
       "stream": "stdout",
       "text": [
        "working on OTU.3940 (5367/6236)...\r"
       ]
      },
      {
       "output_type": "stream",
       "stream": "stdout",
       "text": [
        "working on OTU.1642 (5377/6236)...\r"
       ]
      },
      {
       "output_type": "stream",
       "stream": "stdout",
       "text": [
        "working on OTU.3949 (5389/6236)...\r"
       ]
      },
      {
       "output_type": "stream",
       "stream": "stdout",
       "text": [
        "working on OTU.4891 (5400/6236)...\r"
       ]
      },
      {
       "output_type": "stream",
       "stream": "stdout",
       "text": [
        "working on OTU.1046 (5411/6236)...\r"
       ]
      },
      {
       "output_type": "stream",
       "stream": "stdout",
       "text": [
        "working on OTU.5416 (5421/6236)...\r"
       ]
      },
      {
       "output_type": "stream",
       "stream": "stdout",
       "text": [
        "working on OTU.47 (5432/6236)...  \r"
       ]
      },
      {
       "output_type": "stream",
       "stream": "stdout",
       "text": [
        "working on OTU.5385 (5444/6236)...\r"
       ]
      },
      {
       "output_type": "stream",
       "stream": "stdout",
       "text": [
        "working on OTU.5035 (5454/6236)...\r"
       ]
      },
      {
       "output_type": "stream",
       "stream": "stdout",
       "text": [
        "working on OTU.5512 (5466/6236)...\r"
       ]
      },
      {
       "output_type": "stream",
       "stream": "stdout",
       "text": [
        "working on OTU.2700 (5477/6236)...\r"
       ]
      },
      {
       "output_type": "stream",
       "stream": "stdout",
       "text": [
        "working on OTU.600 (5487/6236)... \r"
       ]
      },
      {
       "output_type": "stream",
       "stream": "stdout",
       "text": [
        "working on OTU.4651 (5498/6236)...\r"
       ]
      },
      {
       "output_type": "stream",
       "stream": "stdout",
       "text": [
        "working on OTU.2122 (5510/6236)...\r"
       ]
      },
      {
       "output_type": "stream",
       "stream": "stdout",
       "text": [
        "working on OTU.1178 (5522/6236)...\r"
       ]
      },
      {
       "output_type": "stream",
       "stream": "stdout",
       "text": [
        "working on OTU.1991 (5534/6236)...\r"
       ]
      },
      {
       "output_type": "stream",
       "stream": "stdout",
       "text": [
        "working on OTU.3746 (5546/6236)...\r"
       ]
      },
      {
       "output_type": "stream",
       "stream": "stdout",
       "text": [
        "working on OTU.2564 (5557/6236)...\r"
       ]
      },
      {
       "output_type": "stream",
       "stream": "stdout",
       "text": [
        "working on OTU.3886 (5568/6236)...\r"
       ]
      },
      {
       "output_type": "stream",
       "stream": "stdout",
       "text": [
        "working on OTU.3331 (5579/6236)...\r"
       ]
      },
      {
       "output_type": "stream",
       "stream": "stdout",
       "text": [
        "working on OTU.5860 (5590/6236)...\r"
       ]
      },
      {
       "output_type": "stream",
       "stream": "stdout",
       "text": [
        "working on OTU.1009 (5601/6236)...\r"
       ]
      },
      {
       "output_type": "stream",
       "stream": "stdout",
       "text": [
        "working on OTU.1891 (5613/6236)...\r"
       ]
      },
      {
       "output_type": "stream",
       "stream": "stdout",
       "text": [
        "working on OTU.754 (5624/6236)... \r"
       ]
      },
      {
       "output_type": "stream",
       "stream": "stdout",
       "text": [
        "working on OTU.4090 (5636/6236)...\r"
       ]
      },
      {
       "output_type": "stream",
       "stream": "stdout",
       "text": [
        "working on OTU.136 (5648/6236)... \r"
       ]
      },
      {
       "output_type": "stream",
       "stream": "stdout",
       "text": [
        "working on OTU.4780 (5659/6236)...\r"
       ]
      },
      {
       "output_type": "stream",
       "stream": "stdout",
       "text": [
        "working on OTU.2755 (5669/6236)...\r"
       ]
      },
      {
       "output_type": "stream",
       "stream": "stdout",
       "text": [
        "working on OTU.2639 (5681/6236)...\r"
       ]
      },
      {
       "output_type": "stream",
       "stream": "stdout",
       "text": [
        "working on OTU.2270 (5693/6236)...\r"
       ]
      },
      {
       "output_type": "stream",
       "stream": "stdout",
       "text": [
        "working on OTU.1381 (5704/6236)...\r"
       ]
      },
      {
       "output_type": "stream",
       "stream": "stdout",
       "text": [
        "working on OTU.3453 (5715/6236)...\r"
       ]
      },
      {
       "output_type": "stream",
       "stream": "stdout",
       "text": [
        "working on OTU.1457 (5728/6236)...\r"
       ]
      },
      {
       "output_type": "stream",
       "stream": "stdout",
       "text": [
        "working on OTU.3969 (5740/6236)...\r"
       ]
      },
      {
       "output_type": "stream",
       "stream": "stdout",
       "text": [
        "working on OTU.658 (5750/6236)... \r"
       ]
      },
      {
       "output_type": "stream",
       "stream": "stdout",
       "text": [
        "working on OTU.1604 (5761/6236)...\r"
       ]
      },
      {
       "output_type": "stream",
       "stream": "stdout",
       "text": [
        "working on OTU.4072 (5772/6236)...\r"
       ]
      },
      {
       "output_type": "stream",
       "stream": "stdout",
       "text": [
        "working on OTU.3346 (5783/6236)...\r"
       ]
      },
      {
       "output_type": "stream",
       "stream": "stdout",
       "text": [
        "working on OTU.2642 (5795/6236)...\r"
       ]
      },
      {
       "output_type": "stream",
       "stream": "stdout",
       "text": [
        "working on OTU.1631 (5807/6236)...\r"
       ]
      },
      {
       "output_type": "stream",
       "stream": "stdout",
       "text": [
        "working on OTU.283 (5821/6236)... \r"
       ]
      },
      {
       "output_type": "stream",
       "stream": "stdout",
       "text": [
        "working on OTU.76 (5833/6236)... \r"
       ]
      },
      {
       "output_type": "stream",
       "stream": "stdout",
       "text": [
        "working on OTU.3943 (5843/6236)...\r"
       ]
      },
      {
       "output_type": "stream",
       "stream": "stdout",
       "text": [
        "working on OTU.3639 (5855/6236)...\r"
       ]
      },
      {
       "output_type": "stream",
       "stream": "stdout",
       "text": [
        "working on OTU.596 (5867/6236)... \r"
       ]
      },
      {
       "output_type": "stream",
       "stream": "stdout",
       "text": [
        "working on OTU.3132 (5880/6236)...\r"
       ]
      },
      {
       "output_type": "stream",
       "stream": "stdout",
       "text": [
        "working on OTU.2697 (5891/6236)...\r"
       ]
      },
      {
       "output_type": "stream",
       "stream": "stdout",
       "text": [
        "working on OTU.582 (5903/6236)... \r"
       ]
      },
      {
       "output_type": "stream",
       "stream": "stdout",
       "text": [
        "working on OTU.5400 (5915/6236)...\r"
       ]
      },
      {
       "output_type": "stream",
       "stream": "stdout",
       "text": [
        "working on OTU.5823 (5927/6236)...\r"
       ]
      },
      {
       "output_type": "stream",
       "stream": "stdout",
       "text": [
        "working on OTU.1529 (5939/6236)...\r"
       ]
      },
      {
       "output_type": "stream",
       "stream": "stdout",
       "text": [
        "working on OTU.5779 (5951/6236)...\r"
       ]
      },
      {
       "output_type": "stream",
       "stream": "stdout",
       "text": [
        "working on OTU.2937 (5962/6236)...\r"
       ]
      },
      {
       "output_type": "stream",
       "stream": "stdout",
       "text": [
        "working on OTU.461 (5974/6236)... \r"
       ]
      },
      {
       "output_type": "stream",
       "stream": "stdout",
       "text": [
        "working on OTU.1586 (5985/6236)...\r"
       ]
      },
      {
       "output_type": "stream",
       "stream": "stdout",
       "text": [
        "working on OTU.3030 (5996/6236)...\r"
       ]
      },
      {
       "output_type": "stream",
       "stream": "stdout",
       "text": [
        "working on OTU.5810 (6007/6236)...\r"
       ]
      },
      {
       "output_type": "stream",
       "stream": "stdout",
       "text": [
        "working on OTU.3798 (6018/6236)...\r"
       ]
      },
      {
       "output_type": "stream",
       "stream": "stdout",
       "text": [
        "working on OTU.2550 (6029/6236)...\r"
       ]
      },
      {
       "output_type": "stream",
       "stream": "stdout",
       "text": [
        "working on OTU.5949 (6039/6236)...\r"
       ]
      },
      {
       "output_type": "stream",
       "stream": "stdout",
       "text": [
        "working on OTU.2620 (6050/6236)...\r"
       ]
      },
      {
       "output_type": "stream",
       "stream": "stdout",
       "text": [
        "working on OTU.2455 (6062/6236)...\r"
       ]
      },
      {
       "output_type": "stream",
       "stream": "stdout",
       "text": [
        "working on OTU.5662 (6074/6236)...\r"
       ]
      },
      {
       "output_type": "stream",
       "stream": "stdout",
       "text": [
        "working on OTU.5717 (6086/6236)...\r"
       ]
      },
      {
       "output_type": "stream",
       "stream": "stdout",
       "text": [
        "working on OTU.1846 (6098/6236)...\r"
       ]
      },
      {
       "output_type": "stream",
       "stream": "stdout",
       "text": [
        "working on OTU.5098 (6108/6236)...\r"
       ]
      },
      {
       "output_type": "stream",
       "stream": "stdout",
       "text": [
        "working on OTU.5695 (6120/6236)...\r"
       ]
      },
      {
       "output_type": "stream",
       "stream": "stdout",
       "text": [
        "working on OTU.1557 (6130/6236)...\r"
       ]
      },
      {
       "output_type": "stream",
       "stream": "stdout",
       "text": [
        "working on OTU.1599 (6140/6236)...\r"
       ]
      },
      {
       "output_type": "stream",
       "stream": "stdout",
       "text": [
        "working on OTU.401 (6152/6236)... \r"
       ]
      },
      {
       "output_type": "stream",
       "stream": "stdout",
       "text": [
        "working on OTU.40 (6162/6236)... \r"
       ]
      },
      {
       "output_type": "stream",
       "stream": "stdout",
       "text": [
        "working on OTU.3573 (6174/6236)...\r"
       ]
      },
      {
       "output_type": "stream",
       "stream": "stdout",
       "text": [
        "working on OTU.4660 (6186/6236)...\r"
       ]
      },
      {
       "output_type": "stream",
       "stream": "stdout",
       "text": [
        "working on OTU.4757 (6198/6236)...\r"
       ]
      },
      {
       "output_type": "stream",
       "stream": "stdout",
       "text": [
        "working on OTU.1202 (6209/6236)...\r"
       ]
      },
      {
       "output_type": "stream",
       "stream": "stdout",
       "text": [
        "working on OTU.5409 (6219/6236)...\r"
       ]
      },
      {
       "output_type": "stream",
       "stream": "stdout",
       "text": [
        "working on OTU.1245 (6231/6236)...\r",
        "working on OTU.3877 (6236/6236)...\r",
        "\r\n"
       ]
      }
     ],
     "prompt_number": 22
    },
    {
     "cell_type": "code",
     "collapsed": false,
     "input": [
      "!guppy tog --out-dir $workdir/pplacer $workdir/pplacer/otusn.aligned.masked.jplace"
     ],
     "language": "python",
     "metadata": {},
     "outputs": [],
     "prompt_number": 25
    },
    {
     "cell_type": "code",
     "collapsed": false,
     "input": [
      "!Rscript ../data/tmp/copynum_estimation_scripts/copynum_estimation.R $workdir $refdir otusn > $workdir/log.txt 2>&1"
     ],
     "language": "python",
     "metadata": {},
     "outputs": [],
     "prompt_number": 30
    },
    {
     "cell_type": "code",
     "collapsed": false,
     "input": [
      "%%R\n",
      "copynum.df = read.table(\"../data/tmp/copynum.est.csv\", \n",
      "                        sep = \",\", \n",
      "                        header = TRUE,\n",
      "                        row.names = 1)\n",
      "copynum.df$OTU = rownames(copynum.df)"
     ],
     "language": "python",
     "metadata": {},
     "outputs": [],
     "prompt_number": 42
    },
    {
     "cell_type": "code",
     "collapsed": false,
     "input": [
      "%%R\n",
      "l2fc.df = read.table(\"../data/l2fc_table.csv\", \n",
      "                     sep = \",\", \n",
      "                     header = TRUE)"
     ],
     "language": "python",
     "metadata": {},
     "outputs": [],
     "prompt_number": 44
    },
    {
     "cell_type": "code",
     "collapsed": false,
     "input": [
      "%%R\n",
      "colnames(copynum.df)"
     ],
     "language": "python",
     "metadata": {},
     "outputs": [
      {
       "metadata": {},
       "output_type": "display_data",
       "text": [
        "[1] \"copynumber\" \"OTU\"       \n"
       ]
      }
     ],
     "prompt_number": 46
    },
    {
     "cell_type": "code",
     "collapsed": false,
     "input": [
      "%%R\n",
      "FDR = 0.10\n",
      "\n",
      "d = left_join(l2fc.df, copynum.df)\n",
      "\n",
      "d %>%\n",
      "    filter(padj <= FDR, Treatment == \"13CXPS\", Day %in% c(1, 3, 7)) %>%\n",
      "    group_by(Day) %>%\n",
      "    summarize(copynum.med = median(copynumber),\n",
      "              copynum.mean = mean(copynumber),\n",
      "              copynum.sd = sd(copynumber))"
     ],
     "language": "python",
     "metadata": {},
     "outputs": [
      {
       "metadata": {},
       "output_type": "display_data",
       "text": [
        "Joining by: \"OTU\"\n",
        "Source: local data frame [3 x 4]\n",
        "\n",
        "  Day copynum.med copynum.mean copynum.sd\n",
        "1   1    9.477252     9.606896   1.735063\n",
        "2   3    5.213950     5.179625   2.143690\n",
        "3   7    3.014205     3.734230   2.449944\n"
       ]
      }
     ],
     "prompt_number": 51
    },
    {
     "cell_type": "code",
     "collapsed": false,
     "input": [
      "%%R -w 600 -h 350\n",
      "FDR = 0.10\n",
      "\n",
      "d = left_join(l2fc.df, copynum.df) %>% filter(padj <= FDR, Treatment == \"13CXPS\", Day %in% c(1, 3, 7, 14))\n",
      "\n",
      "p = ggplot(d, aes(x = factor(Day), y = copynumber, color = Rank2))\n",
      "\n",
      "p = p + stat_smooth(aes(group = 1), method = \"loess\")\n",
      "\n",
      "p = p + geom_point(size = 5, alpha = 0.60, position = position_jitter(w = 0.15))\n",
      "\n",
      "p = p + theme_bw()\n",
      "\n",
      "p = p + theme(axis.text = element_text(size = 14), \n",
      "              axis.title = element_text(size = 16),\n",
      "              legend.title = element_text(size = 16), \n",
      "              legend.text = element_text(size = 14, face = \"italic\"))\n",
      "\n",
      "p = p + labs(x = \"Day\")\n",
      "\n",
      "print(summary(aov(copynumber ~ factor(Day), d)))\n",
      "p"
     ],
     "language": "python",
     "metadata": {},
     "outputs": [
      {
       "metadata": {},
       "output_type": "display_data",
       "text": [
        "Joining by: \"OTU\"\n",
        "            Df Sum Sq Mean Sq F value   Pr(>F)    \n",
        "factor(Day)  3  370.8   123.6    23.3 7.29e-10 ***\n",
        "Residuals   55  291.7     5.3                     \n",
        "---\n",
        "Signif. codes:  0 \u2018***\u2019 0.001 \u2018**\u2019 0.01 \u2018*\u2019 0.05 \u2018.\u2019 0.1 \u2018 \u2019 1\n"
       ]
      },
      {
       "metadata": {},
       "output_type": "display_data",
       "png": "[encoded data removed]"
      }
     ],
     "prompt_number": 113
    }
   ],
   "metadata": {}
  }
 ]
}