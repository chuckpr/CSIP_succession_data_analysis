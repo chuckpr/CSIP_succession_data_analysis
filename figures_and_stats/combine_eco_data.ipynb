{
 "metadata": {
  "name": "",
  "signature": "sha256:017e9c6da1fabfd9bdf51246c0ea759e8580dd46aaf2b1e5a073bb717a06fc03"
 },
 "nbformat": 3,
 "nbformat_minor": 0,
 "worksheets": [
  {
   "cells": [
    {
     "cell_type": "code",
     "collapsed": false,
     "input": [
      "import pandas as pd\n",
      "import numpy as np"
     ],
     "language": "python",
     "metadata": {},
     "outputs": [],
     "prompt_number": 152
    },
    {
     "cell_type": "code",
     "collapsed": false,
     "input": [
      "!head ../data/copynum.df"
     ],
     "language": "python",
     "metadata": {},
     "outputs": [
      {
       "output_type": "stream",
       "stream": "stdout",
       "text": [
        "\"copynumber\",\"OTU\"\r\n",
        "6.99914373694972,\"OTU.3363\"\r\n",
        "3.00008474039554,\"OTU.1625\"\r\n",
        "3.23162691063393,\"OTU.6\"\r\n",
        "3.3375246264646,\"OTU.6120\"\r\n",
        "2.00011918513427,\"OTU.2782\"\r\n",
        "2.78313939713377,\"OTU.5988\"\r\n",
        "2.81479912564016,\"OTU.2445\"\r\n",
        "3.15214658200467,\"OTU.3871\"\r\n",
        "3.72369573217076,\"OTU.312\"\r\n"
       ]
      }
     ],
     "prompt_number": 2
    },
    {
     "cell_type": "code",
     "collapsed": false,
     "input": [
      "!head ../data/l2fcWtime_table.csv | cut -c 1-60"
     ],
     "language": "python",
     "metadata": {},
     "outputs": [
      {
       "output_type": "stream",
       "stream": "stdout",
       "text": [
        "\"OTU\",\"baseMean\",\"log2FoldChange\",\"lfcSE\",\"stat\",\"pvalue\",\"p\r\n",
        "\"OTU.1968\",0.195219016871707,-0.482227622299288,0.8510638610\r\n",
        "\"OTU.1965\",0.059103174511118,-0.182065142523598,0.8054150766\r\n",
        "\"OTU.1966\",0.0912009375825274,-0.299538063590862,0.804337615\r\n",
        "\"OTU.1961\",0.1342113474502,-0.319013960935569,0.808068551662\r\n",
        "\"OTU.1963\",0.288185551430552,0.00607298899630715,0.952552678\r\n",
        "\"OTU.5065\",7.11436654577397,-1.53583741003357,0.655068017750\r\n",
        "\"OTU.5060\",0.767261817679292,1.16992876463179,0.972017805211\r\n",
        "\"OTU.832\",0.763016131305235,-0.384591127502355,0.99994496651\r\n",
        "\"OTU.4337\",0.0676479141219701,-0.203842411277988,0.805202266\r\n"
       ]
      }
     ],
     "prompt_number": 5
    },
    {
     "cell_type": "code",
     "collapsed": false,
     "input": [
      "!head ../data/density_shifts.csv"
     ],
     "language": "python",
     "metadata": {},
     "outputs": [
      {
       "output_type": "stream",
       "stream": "stdout",
       "text": [
        "OTU,shift,Day,Treatment\r\n",
        "OTU.759,,1,13CXPS\r\n",
        "OTU.758,0.01759763532053471,1,13CXPS\r\n",
        "OTU.757,-0.005009262875951048,1,13CXPS\r\n",
        "OTU.756,0.009056018684021838,1,13CXPS\r\n",
        "OTU.5419,-0.0030757744498624007,1,13CXPS\r\n",
        "OTU.839,0.002702782074062826,1,13CXPS\r\n",
        "OTU.1968,-0.004716111440380422,1,13CXPS\r\n",
        "OTU.1969,,1,13CXPS\r\n",
        "OTU.1964,,1,13CXPS\r\n"
       ]
      }
     ],
     "prompt_number": 1
    },
    {
     "cell_type": "code",
     "collapsed": false,
     "input": [
      "!head ../data/l2fc_table.csv | cut -c1-60"
     ],
     "language": "python",
     "metadata": {},
     "outputs": [
      {
       "output_type": "stream",
       "stream": "stdout",
       "text": [
        "\"Day\",\"Treatment\",\"OTU\",\"log2FoldChange\",\"lfcSE\",\"Rank1\",\"Ra\r\n",
        "3,\"13CCPS\",\"OTU.79\",1.04828817049365,0.459111792269299,\"Bact\r\n",
        "3,\"13CCPS\",\"OTU.50\",1.24515489312187,0.499266186068032,\"Bact\r\n",
        "3,\"13CCPS\",\"OTU.162\",-0.228420273574063,0.675863720092701,\"B\r\n",
        "3,\"13CCPS\",\"OTU.156\",0.67260191057702,0.697947080334576,\"Bac\r\n",
        "3,\"13CCPS\",\"OTU.3267\",2.04336859272034,0.768086025756951,\"Ba\r\n",
        "3,\"13CCPS\",\"OTU.12\",1.34669191296547,0.452354030878511,\"Bact\r\n",
        "3,\"13CCPS\",\"OTU.122\",-0.0266807823757636,0.631660928724377,\"\r\n",
        "3,\"13CCPS\",\"OTU.141\",0.0111030431279297,0.696485548477253,\"B\r\n",
        "3,\"13CCPS\",\"OTU.121\",0.998992694461359,0.558200802093288,\"Ba\r\n"
       ]
      }
     ],
     "prompt_number": 3
    },
    {
     "cell_type": "code",
     "collapsed": false,
     "input": [
      "shift_df = pd.read_csv(\"../data/density_shifts.csv\")\n",
      "\n",
      "l2fc_df_orig = pd.read_csv(\"../data/l2fc_table.csv\")\n",
      "l2fc_df = l2fc_df_orig[l2fc_df_orig[\"padj\"]<=0.10]\n",
      "\n",
      "l2fc_df = l2fc_df.merge(shift_df)\n",
      "\n",
      "l2fcWtime_df = pd.read_csv(\"../data/l2fcWtime_table.csv\")\n",
      "l2fcWtime_df.rename(columns = {\"log2FoldChange\" : \"log2FoldChangeWtime\",\n",
      "                               \"pvalue\" : \"pvalueWtime\"}, inplace = True)\n",
      "l2fcWtime_df = l2fcWtime_df[[\"OTU\", \"log2FoldChangeWtime\", \"pvalueWtime\"]]\n",
      "\n",
      "l2fc_df = l2fc_df.merge(l2fcWtime_df)\n",
      "\n",
      "rrn_df = pd.read_csv(\"../data/copynum.df\")\n",
      "\n",
      "l2fc_df = l2fc_df.merge(rrn_df)\n",
      "\n",
      "mdf = pd.read_csv(\"../data/mdf.csv\")\n",
      "mdf = mdf[mdf[\"Treatment\"].isin([\"13CCPS\",\"12CCPS\",\"13CXPS\"])]\n",
      "mdf[\"Relative_abundance\"] = mdf[[\"Sample\",\"Abundance\"]].groupby(\"Sample\").transform(lambda x: x / sum(x))\n",
      "mdf[\"Rank\"] = mdf[[\"Sample\",\"Abundance\"]].groupby(\"Sample\").transform(lambda x: x.rank(method=\"average\", ascending=False))\n",
      "abund_df = mdf[[\"OTU\",\"Day\",\"Treatment\", \"Rank\", \"Relative_abundance\"]].groupby([\"OTU\",\"Day\"]).mean().reset_index()\n",
      "\n",
      "l2fc_df = l2fc_df.merge(abund_df)\n",
      "\n",
      "d = l2fc_df_orig[l2fc_df_orig[\"padj\"]<=0.10]\n",
      "df_rspnse = d[[\"OTU\",\"padj\", \"Treatment\"]].groupby([\"OTU\",\"Treatment\"]).min().reset_index()\n",
      "df_rspnse = df_rspnse.pivot(index=\"OTU\", columns=\"Treatment\", values=\"padj\").reset_index()\n",
      "\n",
      "def rspnse(row):\n",
      "    x = row[\"13CXPS\"]\n",
      "    c = row[\"13CCPS\"]\n",
      "    if sum([pd.notnull(i) for i in [x, c]]) == 2:\n",
      "        return \"both\"\n",
      "    if pd.notnull(c):\n",
      "        return \"cellulose\"\n",
      "    else:\n",
      "        return \"xylose\"\n",
      "        \n",
      "\n",
      "df_rspnse[\"rspnse\"] = df_rspnse.apply(rspnse, axis=1)\n",
      "\n",
      "df_rspnse = df_rspnse[[\"OTU\",\"rspnse\"]]\n",
      "\n",
      "l2fc_df = l2fc_df.merge(df_rspnse)\n",
      "\n",
      "l2fc_df.columns.values"
     ],
     "language": "python",
     "metadata": {},
     "outputs": [
      {
       "metadata": {},
       "output_type": "pyout",
       "prompt_number": 171,
       "text": [
        "array(['Day', 'Treatment', 'OTU', 'log2FoldChange', 'lfcSE', 'Rank1',\n",
        "       'Rank2', 'Rank3', 'Rank4', 'Rank5', 'Rank6', 'Rank7', 'Rank8',\n",
        "       'l2fc.threshold', 'p', 'Experiment', 'sparsity', 'padj', 'shift',\n",
        "       'log2FoldChangeWtime', 'pvalueWtime', 'copynumber', 'Rank',\n",
        "       'Relative_abundance', 'rspnse'], dtype=object)"
       ]
      }
     ],
     "prompt_number": 171
    },
    {
     "cell_type": "code",
     "collapsed": false,
     "input": [
      "l2fc_df.to_csv(\"../data/eco_metrics.csv\", index=False)\n",
      "!head ../data/eco_metrics.csv | cut -c1-60"
     ],
     "language": "python",
     "metadata": {},
     "outputs": [
      {
       "output_type": "stream",
       "stream": "stdout",
       "text": [
        "Day,Treatment,OTU,log2FoldChange,lfcSE,Rank1,Rank2,Rank3,Ran\r\n",
        "3,13CCPS,OTU.32,2.33834743342122,0.369972236262525,Bacteria,\r\n",
        "3,13CXPS,OTU.32,3.00154091763466,0.418530833838659,Bacteria,\r\n",
        "7,13CXPS,OTU.32,2.11715722881459,0.37367550599467203,Bacteri\r\n",
        "14,13CXPS,OTU.32,1.9578602932029099,0.23247768180772402,Bact\r\n",
        "3,13CCPS,OTU.6,3.4208278928494305,0.571672856564682,Bacteria\r\n",
        "3,13CXPS,OTU.6,3.23595351584119,0.433129853014948,Bacteria,P\r\n",
        "7,13CCPS,OTU.6,3.6176068516725897,0.5631231680267851,Bacteri\r\n",
        "14,13CCPS,OTU.6,3.42356130728567,0.500204877721055,Bacteria,\r\n",
        "7,13CCPS,OTU.83,3.1788514055872703,0.5909472102710601,Bacter\r\n"
       ]
      }
     ],
     "prompt_number": 172
    }
   ],
   "metadata": {}
  }
 ]
}