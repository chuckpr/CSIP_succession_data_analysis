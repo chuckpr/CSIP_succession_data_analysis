{
 "metadata": {
  "name": ""
 },
 "nbformat": 3,
 "nbformat_minor": 0,
 "worksheets": [
  {
   "cells": [
    {
     "cell_type": "code",
     "collapsed": false,
     "input": [
      "from IPython.display import FileLink"
     ],
     "language": "python",
     "metadata": {},
     "outputs": [],
     "prompt_number": 3
    },
    {
     "cell_type": "code",
     "collapsed": false,
     "input": [
      "%pylab inline"
     ],
     "language": "python",
     "metadata": {},
     "outputs": [
      {
       "output_type": "stream",
       "stream": "stdout",
       "text": [
        "Populating the interactive namespace from numpy and matplotlib\n"
       ]
      }
     ],
     "prompt_number": 1
    },
    {
     "cell_type": "markdown",
     "metadata": {},
     "source": [
      "###First we need to demultiplex the sequences from each 454 run."
     ]
    },
    {
     "cell_type": "code",
     "collapsed": false,
     "input": [
      "mapper_files = !find . -name \"barcodes*.tsv\"\n",
      "fq_files = !find raw/ -name \"*.fastq\" ! -name \"*seqs.fastq\"\n",
      "for pair in zip(mapper_files, fq_files):\n",
      "    print pair"
     ],
     "language": "python",
     "metadata": {},
     "outputs": [
      {
       "output_type": "stream",
       "stream": "stdout",
       "text": [
        "('./raw/454PlateB/barcodes_plateB.tsv', 'raw/454PlateB/fastq/plateB.fastq')\n",
        "('./raw/454PlateD/barcodes_plateD.tsv', 'raw/454PlateD/fastq/plateD.fastq')\n",
        "('./raw/454PlateC/barcodes_plateC.tsv', 'raw/454PlateC/fastq/plateC.fastq')\n",
        "('./raw/454PlateA/barcodes_plateA.tsv', 'raw/454PlateA/fastq/plateA.fastq')\n"
       ]
      }
     ],
     "prompt_number": 2
    },
    {
     "cell_type": "code",
     "collapsed": false,
     "input": [
      "s = 0\n",
      "for mapper, fastq in zip(mapper_files, fq_files):\n",
      "    print s\n",
      "    !split_libraries_fastq.py \\\n",
      "    -b $fastq \\\n",
      "    --store_demultiplexed_fastq \\\n",
      "    -r 500 \\\n",
      "    -p 0 \\\n",
      "    -n 500 \\\n",
      "    -q 0 \\\n",
      "    --barcode_type 10 \\\n",
      "    --max_barcode_errors 0 \\\n",
      "    -i $fastq \\\n",
      "    -m $mapper \\\n",
      "    -o `dirname $mapper` \\\n",
      "    -s $s\n",
      "    c = !grep -c \"^+\" $fastq\n",
      "    c = int(c[0])\n",
      "    s = s + c"
     ],
     "language": "python",
     "metadata": {},
     "outputs": [
      {
       "output_type": "stream",
       "stream": "stdout",
       "text": [
        "0\n"
       ]
      },
      {
       "output_type": "stream",
       "stream": "stdout",
       "text": [
        "308032\n",
        "308032\n"
       ]
      },
      {
       "output_type": "stream",
       "stream": "stdout",
       "text": [
        "710464\n",
        "1018496\n"
       ]
      },
      {
       "output_type": "stream",
       "stream": "stdout",
       "text": [
        "307548\n",
        "1326044\n"
       ]
      },
      {
       "output_type": "stream",
       "stream": "stdout",
       "text": [
        "1035009\n"
       ]
      }
     ],
     "prompt_number": 22
    },
    {
     "cell_type": "markdown",
     "metadata": {},
     "source": [
      "###Let's look at the read distribution for the latest plate."
     ]
    },
    {
     "cell_type": "code",
     "collapsed": false,
     "input": [
      "sample_counts = []\n",
      "for line in open(\"raw/454PlateD/split_library_log.txt\").readlines()[15:-4]:\n",
      "    sample_id, count = line.strip().split()\n",
      "    count = int(count)\n",
      "    sample_counts.append((sample_id, count))\n",
      "sample_counts_sorted = sorted(sample_counts, reverse=True, key = lambda tup: tup[1])\n",
      "fig = figure()\n",
      "ax = fig.add_subplot(111)\n",
      "b = ax.plot(arange(len(sample_counts_sorted)), [c for s_id, c in sample_counts_sorted])\n",
      "fig.set_figwidth(16)\n",
      "xl = ax.set_xlim((0,len(sample_counts_sorted)))\n",
      "ylab = ax.set_ylabel(\"Number of seqs\")\n",
      "xlab = ax.set_xlabel(\"Sample Rank\")"
     ],
     "language": "python",
     "metadata": {},
     "outputs": [
      {
       "metadata": {},
       "output_type": "display_data",
       "png": "[encoded data removed]",
       "text": [
        "<matplotlib.figure.Figure at 0x323c790>"
       ]
      }
     ],
     "prompt_number": 3
    },
    {
     "cell_type": "markdown",
     "metadata": {},
     "source": [
      "###Now we need to combine the reads for each plate. There are three gradients in the latest plate (plateD) that supercede corresponding gradients in the first three plates."
     ]
    },
    {
     "cell_type": "markdown",
     "metadata": {},
     "source": [
      "####The three re-run gradients that will replace libraries from Plates A, B, and C are 13CCPS.Day7, 12CCPS.Day7 and 12CCPS.Day14."
     ]
    },
    {
     "cell_type": "code",
     "collapsed": false,
     "input": [
      "from cogent.parse.fastq import MinimalFastqParser as parse"
     ],
     "language": "python",
     "metadata": {},
     "outputs": [],
     "prompt_number": 4
    },
    {
     "cell_type": "code",
     "collapsed": false,
     "input": [
      "overlaps = [\"cont.PS.14\", \"cont.PS.7\", \"13C.PS.7\"]\n",
      "out = open(\"data/ABCD_combined_reads.fastq\",\"w\")\n",
      "read_files = [\"raw/454PlateA/seqs.fastq\",\n",
      "         \"raw/454PlateB/seqs.fastq\",\n",
      "         \"raw/454PlateC/seqs.fastq\",\n",
      "         \"raw/454PlateD/seqs.fastq\",]\n",
      "for file in read_files[:3]:\n",
      "    for n, s, q in parse(file, strict=False):\n",
      "        sid = n.split()[0]\n",
      "        if sid.rsplit(\".\",1)[0] in overlaps:\n",
      "            continue\n",
      "        else:\n",
      "            out.write(\"@%s\\n%s\\n+\\n%s\\n\"%(n,s,q))\n",
      "for n, s, q in parse(read_files[-1], strict=False):\n",
      "    out.write(\"@%s\\n%s\\n+\\n%s\\n\"%(n,s,q))\n",
      "out.close()"
     ],
     "language": "python",
     "metadata": {},
     "outputs": [],
     "prompt_number": 5
    },
    {
     "cell_type": "markdown",
     "metadata": {},
     "source": [
      "####Total number of raw reads..."
     ]
    },
    {
     "cell_type": "code",
     "collapsed": false,
     "input": [
      "!grep -c \"^+\" data/ABCD_combined_reads.fastq"
     ],
     "language": "python",
     "metadata": {},
     "outputs": [
      {
       "output_type": "stream",
       "stream": "stdout",
       "text": [
        "1720480\r\n"
       ]
      }
     ],
     "prompt_number": 6
    },
    {
     "cell_type": "markdown",
     "metadata": {},
     "source": [
      "###Now we need to make a meta-data mapping file for the combined collection of reads."
     ]
    },
    {
     "cell_type": "code",
     "collapsed": false,
     "input": [
      "from pandas import read_csv, concat\n",
      "df1 = read_csv(\"raw/454PlateA/barcodes_plateA.tsv\", delimiter=\"\\t\", usecols=[0,1,2,3,4,5])\n",
      "df2 = read_csv(\"raw/454PlateB/barcodes_plateB.tsv\", delimiter=\"\\t\", usecols=[0,1,2,3,4,5])\n",
      "df3 = read_csv(\"raw/454PlateC/barcodes_plateC.tsv\", delimiter=\"\\t\", usecols=[0,1,2,3,4,5])\n",
      "df_tot1 = concat([df1, df2, df3], axis=0).drop_duplicates(cols=\"#SampleID\")\n",
      "\n",
      "#\"cont.PS.14\", \"cont.PS.7\", \"13C.PS.7\"\n",
      "criterion =  df_tot1[\"#SampleID\"].map(lambda x: not x.startswith((\"cont.PS.14\", \"cont.PS.7\", \"13C.PS.7\")))\n",
      "df_tot1_nonoverlap = df_tot1[criterion]\n",
      "\n",
      "df4 = read_csv(\"raw/454PlateD/barcodes_plateD.tsv\", delimiter=\"\\t\", usecols=[0,1,2,3,4,6])\n",
      "df_tot2 = concat([df_tot1_nonoverlap, df4], axis=0).drop_duplicates(cols=\"#SampleID\")\n",
      "print df_tot2.shape"
     ],
     "language": "python",
     "metadata": {},
     "outputs": [
      {
       "output_type": "stream",
       "stream": "stdout",
       "text": [
        "(357, 6)\n"
       ]
      }
     ],
     "prompt_number": 7
    },
    {
     "cell_type": "markdown",
     "metadata": {},
     "source": [
      "####This finds which reads are in the mapper but not in the final QCed sequences (zero count libraries won't be in our final OTU table). It's sort of out of order here because the sequences need to be QCed and binned before running this cell..."
     ]
    },
    {
     "cell_type": "code",
     "collapsed": false,
     "input": [
      "from biom.parse import parse_biom_table\n",
      "table = parse_biom_table(open(\"data/otu_table.biom\"))\n",
      "t_ids = set(table.SampleIds)\n",
      "m_ids = set(df_tot2[\"#SampleID\"])\n",
      "m_ids.difference(t_ids)"
     ],
     "language": "python",
     "metadata": {},
     "outputs": [
      {
       "metadata": {},
       "output_type": "pyout",
       "prompt_number": 167,
       "text": [
        "{'13C.PS.3.15',\n",
        " '13X.PS.3.13',\n",
        " '13X.PS.3.20',\n",
        " '13X.PS.30.27',\n",
        " '13X.PS.7.17',\n",
        " '13X.PS.7.19',\n",
        " '13X.PS.7.4',\n",
        " 'cont.PS.14.bulk',\n",
        " 'cont.PS.7.19',\n",
        " 'cont.PS.7.bulk'}"
       ]
      }
     ],
     "prompt_number": 167
    },
    {
     "cell_type": "code",
     "collapsed": false,
     "input": [
      "df_all = df_tot2.set_index(\"#SampleID\")\n",
      "df_all[\"Description\"] = df_tot2[\"#SampleID\"].tolist()\n",
      "df_all.to_csv(\"data/ABCD_combined_reads_mapper.tsv\", sep=\"\\t\", index_label=\"#SampleID\")\n",
      "!head data/ABCD_combined_reads_mapper.tsv"
     ],
     "language": "python",
     "metadata": {},
     "outputs": [
      {
       "output_type": "stream",
       "stream": "stdout",
       "text": [
        "#SampleID\tBarcodeSequence\tDay\tDensity\tLinkerPrimerSequence\tTreatment\tDescription\r\n",
        "cont.PS.1.11\tTCAACCAACC\t1\t1.7548\tCAGGACTACHVGGGTWTCTAAT\t12CCPS\tcont.PS.1.11\r\n",
        "cont.PS.1.13\tTCAACGAACG\t1\t1.7494\tCAGGACTACHVGGGTWTCTAAT\t12CCPS\tcont.PS.1.13\r\n",
        "cont.PS.1.14\tTCAACGTTCG\t1\t1.7417\tCAGGACTACHVGGGTWTCTAAT\t12CCPS\tcont.PS.1.14\r\n",
        "cont.PS.1.15\tTCAAGCTACC\t1\t1.7373\tCAGGACTACHVGGGTWTCTAAT\t12CCPS\tcont.PS.1.15\r\n",
        "cont.PS.1.16\tTCAAGGTACG\t1\t1.733\tCAGGACTACHVGGGTWTCTAAT\t12CCPS\tcont.PS.1.16\r\n",
        "cont.PS.1.17\tTCAATTGCGC\t1\t1.7286\tCAGGACTACHVGGGTWTCTAAT\t12CCPS\tcont.PS.1.17\r\n",
        "cont.PS.1.18\tTCACACGTCA\t1\t1.7231\tCAGGACTACHVGGGTWTCTAAT\t12CCPS\tcont.PS.1.18\r\n",
        "cont.PS.1.19\tTCACAGCTCA\t1\t1.7188\tCAGGACTACHVGGGTWTCTAAT\t12CCPS\tcont.PS.1.19\r\n",
        "cont.PS.1.20\tTCAACCAAGG\t1\t1.7177\tCAGGACTACHVGGGTWTCTAAT\t12CCPS\tcont.PS.1.20\r\n"
       ]
      }
     ],
     "prompt_number": 23
    },
    {
     "cell_type": "code",
     "collapsed": false,
     "input": [
      "FileLink(\"data/ABCD_combined_reads_mapper.tsv\")"
     ],
     "language": "python",
     "metadata": {},
     "outputs": [
      {
       "html": [
        "<a href='files/data/ABCD_combined_reads_mapper.tsv' target='_blank'>data/ABCD_combined_reads_mapper.tsv</a><br>"
       ],
       "metadata": {},
       "output_type": "pyout",
       "prompt_number": 4,
       "text": [
        "/home/chuck/working/succ-C-DNASIP/data/ABCD_combined_reads_mapper.tsv"
       ]
      }
     ],
     "prompt_number": 4
    }
   ],
   "metadata": {}
  }
 ]
}