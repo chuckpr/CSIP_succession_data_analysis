{
 "metadata": {
  "name": "",
  "signature": "sha256:cc0c07d725db326135b51cb44672c843bffa6f9ee7876112fb920ceba5517bb8"
 },
 "nbformat": 3,
 "nbformat_minor": 0,
 "worksheets": [
  {
   "cells": [
    {
     "cell_type": "markdown",
     "metadata": {},
     "source": [
      "###Just assign to centroids for now. Could do consensus OTU taxonomy with Mothur..."
     ]
    },
    {
     "cell_type": "code",
     "collapsed": false,
     "input": [
      "!parallel_assign_taxonomy_uclust.py \\\n",
      "-r data/tmp/db/Silva_111_post/no_ambiguous_bases_files/97_Silva_111_rep_set_no_ambig.fasta \\\n",
      "-t data/tmp/db/Silva_111_post/taxonomy/Silva_111_taxa_map_full.txt \\\n",
      "-O 10 \\\n",
      "-i data/otusn.fasta \\\n",
      "-o data/otusn_tax"
     ],
     "language": "python",
     "metadata": {},
     "outputs": [],
     "prompt_number": 2
    },
    {
     "cell_type": "code",
     "collapsed": false,
     "input": [
      "!head -n 1 data/otusn_tax/otusn_tax_assignments.txt"
     ],
     "language": "python",
     "metadata": {},
     "outputs": [
      {
       "output_type": "stream",
       "stream": "stdout",
       "text": [
        "OTU.268\tBacteria; __Verrucomicrobia; __Spartobacteria; __Chthoniobacterales; __Chthoniobacteraceae; __Chthoniobacter\t0.67\t3\r\n"
       ]
      }
     ],
     "prompt_number": 4
    },
    {
     "cell_type": "code",
     "collapsed": false,
     "input": [
      "!sed -i \"s/ __//g\" data/otusn_tax/otusn_tax_assignments.txt"
     ],
     "language": "python",
     "metadata": {},
     "outputs": [],
     "prompt_number": 2
    },
    {
     "cell_type": "code",
     "collapsed": false,
     "input": [
      "!head -n 1 data/otusn_tax/otusn_tax_assignments.txt"
     ],
     "language": "python",
     "metadata": {},
     "outputs": [
      {
       "output_type": "stream",
       "stream": "stdout",
       "text": [
        "OTU.268\tBacteria;Verrucomicrobia;Spartobacteria;Chthoniobacterales;Chthoniobacteraceae;Chthoniobacter\t0.67\t3\r\n"
       ]
      }
     ],
     "prompt_number": 3
    },
    {
     "cell_type": "code",
     "collapsed": false,
     "input": [
      "!biom add-metadata -i data/otu_table.biom \\\n",
      "-o data/otu_table_wtax.biom \\\n",
      "--observation-metadata-fp data/otusn_tax/otusn_tax_assignments.txt \\\n",
      "--sc-separated taxonomy \\\n",
      "--float-fields consensus \\\n",
      "--int-fields numhits \\\n",
      "--observation-header OTUID,taxonomy,consensus,numhits"
     ],
     "language": "python",
     "metadata": {},
     "outputs": [],
     "prompt_number": 6
    }
   ],
   "metadata": {}
  }
 ]
}