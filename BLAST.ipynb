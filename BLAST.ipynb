{
 "metadata": {
  "name": "",
  "signature": "sha256:2ed6d0786c92a90e26e39f7a9e6981aa14a4a12b61cd09f9512e2a2376b6b459"
 },
 "nbformat": 3,
 "nbformat_minor": 0,
 "worksheets": [
  {
   "cells": [
    {
     "cell_type": "code",
     "collapsed": false,
     "input": [
      "from Bio.Blast.Applications import NcbiblastnCommandline as blast"
     ],
     "language": "python",
     "metadata": {},
     "outputs": [],
     "prompt_number": 1
    },
    {
     "cell_type": "code",
     "collapsed": false,
     "input": [
      "cline = blast(query = \"data/otusn.fasta\",\n",
      "              db = \"/var/seq_data/LTP115_db/LTP115\",\n",
      "              outfmt = 6,\n",
      "              out = \"data/tmp/blast_out_otusn_LTP115.m6\",\n",
      "              num_threads = 20,\n",
      "              evalue = 10)\n",
      "print cline\n",
      "cline()"
     ],
     "language": "python",
     "metadata": {},
     "outputs": [
      {
       "output_type": "stream",
       "stream": "stdout",
       "text": [
        "blastn -out data/tmp/blast_out_otusn_LTP115.m6 -outfmt 6 -query data/otusn.fasta -db /var/seq_data/LTP115_db/LTP115 -evalue 10 -num_threads 20\n"
       ]
      },
      {
       "metadata": {},
       "output_type": "pyout",
       "prompt_number": 2,
       "text": [
        "('', '')"
       ]
      }
     ],
     "prompt_number": 2
    },
    {
     "cell_type": "code",
     "collapsed": false,
     "input": [
      "!head -n1 data/tmp/blast_out_otusn_LTP115.m6\n",
      "!wc -l data/tmp/blast_out_otusn_LTP115.m6"
     ],
     "language": "python",
     "metadata": {},
     "outputs": [
      {
       "output_type": "stream",
       "stream": "stdout",
       "text": [
        "OTU.1\tAF235091\t100.00\t219\t0\t0\t1\t219\t508\t726\t2e-113\t  405\r\n"
       ]
      },
      {
       "output_type": "stream",
       "stream": "stdout",
       "text": [
        "1919502 data/tmp/blast_out_otusn_LTP115.m6\r\n"
       ]
      }
     ],
     "prompt_number": 3
    },
    {
     "cell_type": "code",
     "collapsed": false,
     "input": [
      "cline = blast(query = \"data/otusn.fasta\",\n",
      "              db = \"/var/seq_data/silva/silva_blastdb/silva_RefNR_115\",\n",
      "              outfmt = 6,\n",
      "              out = \"data/tmp/blast_out_otusn_silvaRefNR115.m6\",\n",
      "              num_threads = 30)\n",
      "print cline\n",
      "cline()"
     ],
     "language": "python",
     "metadata": {},
     "outputs": [
      {
       "output_type": "stream",
       "stream": "stdout",
       "text": [
        "blastn -out data/tmp/blast_out_otusn_silvaRefNR115.m6 -outfmt 6 -query data/otusn.fasta -db /var/seq_data/silva/silva_blastdb/silva_RefNR_115 -num_threads 30\n"
       ]
      },
      {
       "metadata": {},
       "output_type": "pyout",
       "prompt_number": 4,
       "text": [
        "('', '')"
       ]
      }
     ],
     "prompt_number": 4
    },
    {
     "cell_type": "code",
     "collapsed": false,
     "input": [
      "!head -n1 data/tmp/blast_out_otusn_silvaRefNR115.m6\n",
      "!wc -l data/tmp/blast_out_otusn_silvaRefNR115.m6"
     ],
     "language": "python",
     "metadata": {},
     "outputs": [
      {
       "output_type": "stream",
       "stream": "stdout",
       "text": [
        "OTU.1\tX83408\t100.00\t219\t0\t0\t1\t219\t529\t747\t1e-111\t  405\r\n"
       ]
      },
      {
       "output_type": "stream",
       "stream": "stdout",
       "text": [
        "3074488 data/tmp/blast_out_otusn_silvaRefNR115.m6\r\n"
       ]
      }
     ],
     "prompt_number": 5
    }
   ],
   "metadata": {}
  }
 ]
}