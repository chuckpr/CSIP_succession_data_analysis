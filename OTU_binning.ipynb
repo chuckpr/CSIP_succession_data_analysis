{
 "metadata": {
  "name": ""
 },
 "nbformat": 3,
 "nbformat_minor": 0,
 "worksheets": [
  {
   "cells": [
    {
     "cell_type": "code",
     "collapsed": false,
     "input": [
      "from cogent.app.usearch import clusters_from_blast_uc_file\n",
      "from cogent.parse.fasta import MinimalFastaParser as parse"
     ],
     "language": "python",
     "metadata": {},
     "outputs": [],
     "prompt_number": 18
    },
    {
     "cell_type": "markdown",
     "metadata": {},
     "source": [
      "##Number of processors for dereplication."
     ]
    },
    {
     "cell_type": "code",
     "collapsed": false,
     "input": [
      "nprocs = 4"
     ],
     "language": "python",
     "metadata": {},
     "outputs": [],
     "prompt_number": 13
    },
    {
     "cell_type": "markdown",
     "metadata": {},
     "source": [
      "###This is the file from the [QC notebook](./QC.ipynb)."
     ]
    },
    {
     "cell_type": "code",
     "collapsed": false,
     "input": [
      "!head data/finalQC.fasta"
     ],
     "language": "python",
     "metadata": {},
     "outputs": [
      {
       "output_type": "stream",
       "stream": "stdout",
       "text": [
        ">cont.PS.3.7_308047\r\n",
        "TTAAAGGGTCCGTAGGCGGTTTAGTAAGTCAGTGGTGAAAGCCCATCGCTCAACGGTGGAACGGCCATTGATACTGCTAGACTTGAATTATTAGGAAGTAACTAGAATATGTAGTGTAGCGGTGAAATGCTTAGAGATTACATGGAATACCAATTGCGAAGGCAGGTTACTACTAATGGATTGACGCTGATGGACGAAAGCGTGGGTAGCGAACAGGAT\r\n",
        ">cont.PS.3.7_164590\r\n",
        "TTAAAGGGTCCGTAGGCGGTTTAGTAAGTCAGTGGTGAAAGCCCATCGCTCAACGGTGGAACGGCCATTGATACTGCTAGACTTGAATTATTAGGAAGTAACTAGAATATGTAGTGTAGCGGTGAAATGCTTAGAGATTACATGGAATACCAATTGCGAAGGCAGGTTACTACTAATGGATTGACGCTGATGGACGAAAGCGTGGGTAGCGAACAGGAT\r\n",
        ">13X.PS.3.3_1050707\r\n",
        "TTAAAGGGTCCGTAGGCGGTTTAGTAAGTCAGTGGTGAAAGCCCATCGCTCAACGGTGGAACGGCCATTGATACTGCTAGACTTGAATTATTAGGAAGTAACTAGAATATGTAGTGTAGCGGTGAAATGCTTAGAGATTACATGGAATACCAATTGCGAAGGCAGGTTACTACTAATGGATTGACGCTGATGGACGAAAGCGTGGGTAGCGAACAGGAT\r\n",
        ">13X.PS.3.4_1066131\r\n",
        "TTAAAGGGTCCGTAGGCGGTTTAGTAAGTCAGTGGTGAAAGCCCATCGCTCAACGGTGGAACGGCCATTGATACTGCTAGACTTGAATTATTAGGAAGTAACTAGAATATGTAGTGTAGCGGTGAAATGCTTAGAGATTACATGGAATACCAATTGCGAAGGCAGGTTACTACTAATGGATTGACGCTGATGGACGAAAGCGTGGGTAGCGAACAGGAT\r\n",
        ">13X.PS.3.4_1075150\r\n",
        "TTAAAGGGTCCGTAGGCGGTTTAGTAAGTCAGTGGTGAAAGCCCATCGCTCAACGGTGGAACGGCCATTGATACTGCTAGACTTGAATTATTAGGAAGTAACTAGAATATGTAGTGTAGCGGTGAAATGCTTAGAGATTACATGGAATACCAATTGCGAAGGCAGGTTACTACTAATGGATTGACGCTGATGGACGAAAGCGTGGGTAGCGAACAGGAT\r\n"
       ]
      }
     ],
     "prompt_number": 2
    },
    {
     "cell_type": "markdown",
     "metadata": {},
     "source": [
      "###First we'll get a non-redudant set of our QCed sequences."
     ]
    },
    {
     "cell_type": "code",
     "collapsed": false,
     "input": [
      "!usearch -derep_fulllength data/finalQC.fasta -output data/finalQC_uniques.fasta -sizeout -threads $nprocs"
     ],
     "language": "python",
     "metadata": {},
     "outputs": [
      {
       "output_type": "stream",
       "stream": "stdout",
       "text": [
        "usearch v7.0.1090_i86linux32, 4.0Gb RAM (132Gb total), 40 cores\r\n",
        "(C) Copyright 2013 Robert C. Edgar, all rights reserved.\r\n",
        "http://drive5.com/usearch\r\n",
        "\r\n",
        "Licensed to: chuck.peperanney@gmail.com\r\n",
        "\r\n",
        "00:00 2.1Mb Reading data/finalQC.fasta"
       ]
      },
      {
       "output_type": "stream",
       "stream": "stdout",
       "text": [
        ", 332Mb\r\n"
       ]
      },
      {
       "output_type": "stream",
       "stream": "stdout",
       "text": [
        "00:00 334Mb 1376008 (1.4M) seqs"
       ]
      },
      {
       "output_type": "stream",
       "stream": "stdout",
       "text": [
        ", min 203, avg 219, max 220nt\r\n"
       ]
      },
      {
       "output_type": "stream",
       "stream": "stdout",
       "text": [
        "00:02 571Mb 207491 (207.5k) uniques, avg cluster 6.6, median 1, max 113258\r\n",
        "00:02 571Mb    0.0% Writing data/finalQC_uniques.fasta\r"
       ]
      },
      {
       "output_type": "stream",
       "stream": "stdout",
       "text": [
        "00:03 571Mb   66."
       ]
      },
      {
       "output_type": "stream",
       "stream": "stdout",
       "text": [
        "3% Writing data/finalQC_uniques.fasta\r"
       ]
      },
      {
       "output_type": "stream",
       "stream": "stdout",
       "text": [
        "00:03 571Mb  100.0% Writing data/finalQC_uniques.fasta\r",
        "\r\n"
       ]
      }
     ],
     "prompt_number": 3
    },
    {
     "cell_type": "code",
     "collapsed": false,
     "input": [
      "%%bash\n",
      "mothur \"#unique.seqs(fasta=data/finalQC.fasta)\" > /dev/null"
     ],
     "language": "python",
     "metadata": {},
     "outputs": [],
     "prompt_number": 2
    },
    {
     "cell_type": "code",
     "collapsed": false,
     "input": [
      "!head data/finalQC.unique.fasta"
     ],
     "language": "python",
     "metadata": {},
     "outputs": [
      {
       "output_type": "stream",
       "stream": "stdout",
       "text": [
        ">cont.PS.3.7_308047\r\n",
        "TTAAAGGGTCCGTAGGCGGTTTAGTAAGTCAGTGGTGAAAGCCCATCGCTCAACGGTGGAACGGCCATTGATACTGCTAGACTTGAATTATTAGGAAGTAACTAGAATATGTAGTGTAGCGGTGAAATGCTTAGAGATTACATGGAATACCAATTGCGAAGGCAGGTTACTACTAATGGATTGACGCTGATGGACGAAAGCGTGGGTAGCGAACAGGAT\r\n",
        ">13C.PS.14.16_308048\r\n",
        "GTAAAGCGCACGTAGGCGGCGATCTAAGTCGGATGTGAAATCCCTCGGCTCAACCGAGGACGTGCATCCGAAACTGGATTGCTCGAGTATGGAAGAGGGTCGCGGAATTCTCGGTGTAGAGGTGAAATTCGTAGATATCGGGAGGAACACCAGTGGCGAAGGCGGCGACCTGGGCCAATACTGACGCTGAGGTGCGAAAGCGTGGGGAGCAAACAGGAT\r\n",
        ">13C.PS.14.22_341763\r\n",
        "GTAAAGGGCGCGTAGGCGGCCTGTCAAGTCAGATGTGAAATCCCCGGGCTTAACCCGGGAACTGCATTTGAAACTGGCGGGCTTGAGGGCAGGAGAGGAAAGCGGAACTCCCAGTGTAGCGGTGAAATGCGTAGATATTGGGAGGAACACCAGTGGCGAAGGCGGCTTTCTGGACTGTCACTGACGCTGAGGCGCGAAAGCCAGGGGAGCGAACGGGAT\r\n",
        ">cont.PS.3.25_308051\r\n",
        "GTAAAGAGTTCGTAGGCGGTTTCTCAAGTCTGGTGTTAAATACTGGCGCTCAACGCCAGCATGGCATTGGAAACTGGGAGACTAGAGTGCGGTAGAGGTCACGGGAATTCCTGGTGTAGCGGTGAAATGCGTAGATATCAGGAGGAACACCGGTGGCGAAAGCGCGTGACTGGGCCGTAACTGACGCTGAGGAACGAAAGCCAGGGTAGCAAAGGGAT\r\n",
        ">13C.PS.14.23_308052\r\n",
        "GTAAAGCGCGCGCAGGTGGTTCCTTAAGTCTGATGTGAAAGCCCACGGCTCAACCGTGGAGGGTCATTGGAAACTGGGGAACTTGAGTGCAGAAGAGGAAAGTGGAATTCCAAGTGTAGCGGTGAAATGCGTAGAGATTTGGAGGAACACCAGTGGCGAAGGCGACTTTCTGGTCTGTAACTGACACTGAGGCGCGAAAGCGTGGGGAGCAAACAGGAT\r\n"
       ]
      }
     ],
     "prompt_number": 4
    },
    {
     "cell_type": "code",
     "collapsed": false,
     "input": [
      "counts = {}\n",
      "\n",
      "with open(\"data/finalQC.names\") as f:\n",
      "    for line in f:\n",
      "        seedID, seqIDs = line.split(\"\\t\")\n",
      "        count = len(seqIDs.split(\",\"))\n",
      "        counts[seedID] = count        "
     ],
     "language": "python",
     "metadata": {},
     "outputs": [],
     "prompt_number": 7
    },
    {
     "cell_type": "code",
     "collapsed": false,
     "input": [
      "with open(\"data/finalQC.unique.usearch_names.fasta\", \"w\") as f:\n",
      "    for n, s in parse(open(\"data/finalQC.unique.fasta\")):\n",
      "        f.write(\">%s;size=%s;\\n%s\\n\"%(n,counts[n],s))    "
     ],
     "language": "python",
     "metadata": {},
     "outputs": [],
     "prompt_number": 21
    },
    {
     "cell_type": "code",
     "collapsed": false,
     "input": [
      "!head data/finalQC.unique.usearch_names.fasta"
     ],
     "language": "python",
     "metadata": {},
     "outputs": [
      {
       "output_type": "stream",
       "stream": "stdout",
       "text": [
        ">cont.PS.3.7_308047;size=2749;\r\n",
        "TTAAAGGGTCCGTAGGCGGTTTAGTAAGTCAGTGGTGAAAGCCCATCGCTCAACGGTGGAACGGCCATTGATACTGCTAGACTTGAATTATTAGGAAGTAACTAGAATATGTAGTGTAGCGGTGAAATGCTTAGAGATTACATGGAATACCAATTGCGAAGGCAGGTTACTACTAATGGATTGACGCTGATGGACGAAAGCGTGGGTAGCGAACAGGAT\r\n",
        ">13C.PS.14.16_308048;size=16;\r\n",
        "GTAAAGCGCACGTAGGCGGCGATCTAAGTCGGATGTGAAATCCCTCGGCTCAACCGAGGACGTGCATCCGAAACTGGATTGCTCGAGTATGGAAGAGGGTCGCGGAATTCTCGGTGTAGAGGTGAAATTCGTAGATATCGGGAGGAACACCAGTGGCGAAGGCGGCGACCTGGGCCAATACTGACGCTGAGGTGCGAAAGCGTGGGGAGCAAACAGGAT\r\n",
        ">13C.PS.14.22_341763;size=5;\r\n",
        "GTAAAGGGCGCGTAGGCGGCCTGTCAAGTCAGATGTGAAATCCCCGGGCTTAACCCGGGAACTGCATTTGAAACTGGCGGGCTTGAGGGCAGGAGAGGAAAGCGGAACTCCCAGTGTAGCGGTGAAATGCGTAGATATTGGGAGGAACACCAGTGGCGAAGGCGGCTTTCTGGACTGTCACTGACGCTGAGGCGCGAAAGCCAGGGGAGCGAACGGGAT\r\n",
        ">cont.PS.3.25_308051;size=2;\r\n",
        "GTAAAGAGTTCGTAGGCGGTTTCTCAAGTCTGGTGTTAAATACTGGCGCTCAACGCCAGCATGGCATTGGAAACTGGGAGACTAGAGTGCGGTAGAGGTCACGGGAATTCCTGGTGTAGCGGTGAAATGCGTAGATATCAGGAGGAACACCGGTGGCGAAAGCGCGTGACTGGGCCGTAACTGACGCTGAGGAACGAAAGCCAGGGTAGCAAAGGGAT\r\n",
        ">13C.PS.14.23_308052;size=10185;\r\n",
        "GTAAAGCGCGCGCAGGTGGTTCCTTAAGTCTGATGTGAAAGCCCACGGCTCAACCGTGGAGGGTCATTGGAAACTGGGGAACTTGAGTGCAGAAGAGGAAAGTGGAATTCCAAGTGTAGCGGTGAAATGCGTAGAGATTTGGAGGAACACCAGTGGCGAAGGCGACTTTCTGGTCTGTAACTGACACTGAGGCGCGAAAGCGTGGGGAGCAAACAGGAT\r\n"
       ]
      }
     ],
     "prompt_number": 22
    },
    {
     "cell_type": "markdown",
     "metadata": {},
     "source": [
      "###Sort the non-redundant set by count. Most abundant sequence first."
     ]
    },
    {
     "cell_type": "code",
     "collapsed": false,
     "input": [
      "!grep $k data/finalQC_uniques.fasta"
     ],
     "language": "python",
     "metadata": {},
     "outputs": [
      {
       "output_type": "stream",
       "stream": "stdout",
       "text": [
        ">cont.PS.1.13_21887;size=2;\r\n"
       ]
      }
     ],
     "prompt_number": 17
    },
    {
     "cell_type": "code",
     "collapsed": false,
     "input": [
      "!head data/finalQC_uniques.fasta"
     ],
     "language": "python",
     "metadata": {},
     "outputs": [
      {
       "output_type": "stream",
       "stream": "stdout",
       "text": [
        ">cont.PS.30.6_308146;size=113258;\r\n",
        "GTAAAGAGCTCGTAGGCGGTTTGTCGCGTCTGCCGTGAAAGTCCGGGGCTCAACTCCGGATCTGCGGTGGGTACGGGCAG\r\n",
        "ACTAGAGTGATGTAGGGGAGACTGGAATTCCTGGTGTAGCGGTGAAATGCGCAGATATCAGGAGGAACACCGATGGCGAA\r\n",
        "GGCAGGTCTCTGGGCATTAACTGACGCTGAGGAGCGAAAGCATGGGGAGCGAACAGGAT\r\n",
        ">cont.PS.3.6_308167;size=10238;\r\n",
        "GTAAAGCGCGCGTAGGTGGTTTGTTAAGTTGGATGTGAAATCCCCGGGCTCAACCTGGGAACTGCATTCAAAACTGACAA\r\n",
        "GCTAGAGTATGGTAGAGGGTGGTGGAATTTCCTGTGTAGCGGTGAAATGCGTAGATATAGGAAGGAACACCAGTGGCGAA\r\n",
        "GGCGACCACCTGGACTGATACTGACACTGAGGTGCGAAAGCGTGGGGAGCAAACAGGAT\r\n",
        ">13C.PS.14.23_308052;size=10185;\r\n",
        "GTAAAGCGCGCGCAGGTGGTTCCTTAAGTCTGATGTGAAAGCCCACGGCTCAACCGTGGAGGGTCATTGGAAACTGGGGA\r\n"
       ]
      }
     ],
     "prompt_number": 1
    },
    {
     "cell_type": "code",
     "collapsed": false,
     "input": [
      "!usearch -sortbysize data/finalQC_uniques.fasta -output data/finalQC_uniques_sorted.fasta -minsize 2"
     ],
     "language": "python",
     "metadata": {},
     "outputs": [
      {
       "output_type": "stream",
       "stream": "stdout",
       "text": [
        "usearch v7.0.1090_i86linux32, 4.0Gb RAM (132Gb total), 40 cores\r\n",
        "(C) Copyright 2013 Robert C. Edgar, all rights reserved.\r\n",
        "http://drive5.com/usearch\r\n",
        "\r\n",
        "Licensed to: chuck.peperanney@gmail.com\r\n",
        "\r\n",
        "00:00 2.1Mb Reading data/finalQC_uniques.fasta"
       ]
      },
      {
       "output_type": "stream",
       "stream": "stdout",
       "text": [
        ", 52Mb\r\n",
        "00:00  54Mb 207491 (207.5k) seqs"
       ]
      },
      {
       "output_type": "stream",
       "stream": "stdout",
       "text": [
        ", min 203, avg 219, max 220nt\r\n",
        "00:00  57Mb Getting sizes\r\n"
       ]
      },
      {
       "output_type": "stream",
       "stream": "stdout",
       "text": [
        "00:00  58Mb Sorting 46657 sequences\r\n",
        "00:00  59Mb    0.0% Writing data/finalQC_uniques_sorted.fasta\r"
       ]
      },
      {
       "output_type": "stream",
       "stream": "stdout",
       "text": [
        "00:01  59Mb   40.6% Writing data/finalQC_uniques_sorted.fasta\r"
       ]
      },
      {
       "output_type": "stream",
       "stream": "stdout",
       "text": [
        "00:01  59Mb  100.0% Writing data/finalQC_uniques_sorted.fasta\r",
        "\r\n"
       ]
      }
     ],
     "prompt_number": 4
    },
    {
     "cell_type": "code",
     "collapsed": false,
     "input": [
      "!head data/finalQC_uniques_sorted.fasta"
     ],
     "language": "python",
     "metadata": {},
     "outputs": [
      {
       "output_type": "stream",
       "stream": "stdout",
       "text": [
        ">cont.PS.30.6_308146;size=113258;\r\n",
        "GTAAAGAGCTCGTAGGCGGTTTGTCGCGTCTGCCGTGAAAGTCCGGGGCTCAACTCCGGATCTGCGGTGGGTACGGGCAG\r\n",
        "ACTAGAGTGATGTAGGGGAGACTGGAATTCCTGGTGTAGCGGTGAAATGCGCAGATATCAGGAGGAACACCGATGGCGAA\r\n",
        "GGCAGGTCTCTGGGCATTAACTGACGCTGAGGAGCGAAAGCATGGGGAGCGAACAGGAT\r\n",
        ">cont.PS.3.6_308167;size=10238;\r\n",
        "GTAAAGCGCGCGTAGGTGGTTTGTTAAGTTGGATGTGAAATCCCCGGGCTCAACCTGGGAACTGCATTCAAAACTGACAA\r\n",
        "GCTAGAGTATGGTAGAGGGTGGTGGAATTTCCTGTGTAGCGGTGAAATGCGTAGATATAGGAAGGAACACCAGTGGCGAA\r\n",
        "GGCGACCACCTGGACTGATACTGACACTGAGGTGCGAAAGCGTGGGGAGCAAACAGGAT\r\n",
        ">13C.PS.14.23_308052;size=10185;\r\n",
        "GTAAAGCGCGCGCAGGTGGTTCCTTAAGTCTGATGTGAAAGCCCACGGCTCAACCGTGGAGGGTCATTGGAAACTGGGGA\r\n"
       ]
      }
     ],
     "prompt_number": 5
    },
    {
     "cell_type": "markdown",
     "metadata": {},
     "source": [
      "###Establish seeds for clusters at 97% sequence identity threshold (default)."
     ]
    },
    {
     "cell_type": "code",
     "collapsed": false,
     "input": [
      "!usearch -cluster_otus data/finalQC_uniques_sorted.fasta -otus data/otus.fasta"
     ],
     "language": "python",
     "metadata": {},
     "outputs": [
      {
       "output_type": "stream",
       "stream": "stdout",
       "text": [
        "usearch v7.0.1090_i86linux32, 4.0Gb RAM (132Gb total), 40 cores\r\n",
        "(C) Copyright 2013 Robert C. Edgar, all rights reserved.\r\n",
        "http://drive5.com/usearch\r\n",
        "\r\n",
        "Licensed to: chuck.peperanney@gmail.com\r\n",
        "\r\n",
        "00:00  21Mb    0.1% 0 OTUs\r"
       ]
      },
      {
       "output_type": "stream",
       "stream": "stdout",
       "text": [
        "00:01  32Mb    1.8% 366 OTUs\r"
       ]
      },
      {
       "output_type": "stream",
       "stream": "stdout",
       "text": [
        "00:02  34Mb    4.4% 783 OTUs\r"
       ]
      },
      {
       "output_type": "stream",
       "stream": "stdout",
       "text": [
        "00:03  37Mb    6.7% 1138 OTUs\r"
       ]
      },
      {
       "output_type": "stream",
       "stream": "stdout",
       "text": [
        "00:04  39Mb    9.0% 1460 OTUs\r"
       ]
      },
      {
       "output_type": "stream",
       "stream": "stdout",
       "text": [
        "00:05  41Mb   11.2% 1736 OTUs\r"
       ]
      },
      {
       "output_type": "stream",
       "stream": "stdout",
       "text": [
        "00:06  42Mb   13.3% 2002 OTUs\r"
       ]
      },
      {
       "output_type": "stream",
       "stream": "stdout",
       "text": [
        "00:07  44Mb   15.4% 2239 OTUs\r"
       ]
      },
      {
       "output_type": "stream",
       "stream": "stdout",
       "text": [
        "00:08  46Mb   17.4% 2472 OTUs\r"
       ]
      },
      {
       "output_type": "stream",
       "stream": "stdout",
       "text": [
        "00:09  48Mb   19.5% 2669 OTUs\r"
       ]
      },
      {
       "output_type": "stream",
       "stream": "stdout",
       "text": [
        "00:10  49Mb   21.6% 2825 OTUs\r"
       ]
      },
      {
       "output_type": "stream",
       "stream": "stdout",
       "text": [
        "00:11  51Mb   23.6% 2997 OTUs\r"
       ]
      },
      {
       "output_type": "stream",
       "stream": "stdout",
       "text": [
        "00:12  53Mb   25.6% 3166 OTUs\r"
       ]
      },
      {
       "output_type": "stream",
       "stream": "stdout",
       "text": [
        "00:13  54Mb   27.7% 3312 OTUs\r"
       ]
      },
      {
       "output_type": "stream",
       "stream": "stdout",
       "text": [
        "00:14  56Mb   29.7% 3448 OTUs\r"
       ]
      },
      {
       "output_type": "stream",
       "stream": "stdout",
       "text": [
        "00:15  57Mb   31.7% 3593 OTUs\r"
       ]
      },
      {
       "output_type": "stream",
       "stream": "stdout",
       "text": [
        "00:16  59Mb   33.7% 3719 OTUs\r"
       ]
      },
      {
       "output_type": "stream",
       "stream": "stdout",
       "text": [
        "00:17  60Mb   35.8% 3838 OTUs\r"
       ]
      },
      {
       "output_type": "stream",
       "stream": "stdout",
       "text": [
        "00:18  61Mb   37.8% 3947 OTUs\r"
       ]
      },
      {
       "output_type": "stream",
       "stream": "stdout",
       "text": [
        "00:19  63Mb   39.8% 4078 OTUs\r"
       ]
      },
      {
       "output_type": "stream",
       "stream": "stdout",
       "text": [
        "00:20  64Mb   41.7% 4206 OTUs\r"
       ]
      },
      {
       "output_type": "stream",
       "stream": "stdout",
       "text": [
        "00:21  66Mb   43.7% 4294 OTUs\r"
       ]
      },
      {
       "output_type": "stream",
       "stream": "stdout",
       "text": [
        "00:22  67Mb   45.7% 4406 OTUs\r"
       ]
      },
      {
       "output_type": "stream",
       "stream": "stdout",
       "text": [
        "00:23  68Mb   47.7% 4506 OTUs\r"
       ]
      },
      {
       "output_type": "stream",
       "stream": "stdout",
       "text": [
        "00:24  70Mb   49.7% 4598 OTUs\r"
       ]
      },
      {
       "output_type": "stream",
       "stream": "stdout",
       "text": [
        "00:25  71Mb   51.6% 4671 OTUs\r"
       ]
      },
      {
       "output_type": "stream",
       "stream": "stdout",
       "text": [
        "00:26  73Mb   53.5% 4761 OTUs\r"
       ]
      },
      {
       "output_type": "stream",
       "stream": "stdout",
       "text": [
        "00:27  74Mb   55.4% 4838 OTUs\r"
       ]
      },
      {
       "output_type": "stream",
       "stream": "stdout",
       "text": [
        "00:28  75Mb   57.4% 4918 OTUs\r"
       ]
      },
      {
       "output_type": "stream",
       "stream": "stdout",
       "text": [
        "00:29  77Mb   59.4% 4985 OTUs\r"
       ]
      },
      {
       "output_type": "stream",
       "stream": "stdout",
       "text": [
        "00:30  78Mb   61.3% 5057 OTUs\r"
       ]
      },
      {
       "output_type": "stream",
       "stream": "stdout",
       "text": [
        "00:31  79Mb   63.2% 5114 OTUs\r"
       ]
      },
      {
       "output_type": "stream",
       "stream": "stdout",
       "text": [
        "00:32  81Mb   65.1% 5187 OTUs\r"
       ]
      },
      {
       "output_type": "stream",
       "stream": "stdout",
       "text": [
        "00:33  82Mb   67.0% 5257 OTUs\r"
       ]
      },
      {
       "output_type": "stream",
       "stream": "stdout",
       "text": [
        "00:34  83Mb   69.0% 5306 OTUs\r"
       ]
      },
      {
       "output_type": "stream",
       "stream": "stdout",
       "text": [
        "00:35  85Mb   71.0% 5374 OTUs\r"
       ]
      },
      {
       "output_type": "stream",
       "stream": "stdout",
       "text": [
        "00:36  86Mb   72.9% 5429 OTUs\r"
       ]
      },
      {
       "output_type": "stream",
       "stream": "stdout",
       "text": [
        "00:37  87Mb   74.9% 5496 OTUs\r"
       ]
      },
      {
       "output_type": "stream",
       "stream": "stdout",
       "text": [
        "00:38  88Mb   76.9% 5549 OTUs\r"
       ]
      },
      {
       "output_type": "stream",
       "stream": "stdout",
       "text": [
        "00:39  90Mb   78.8% 5593 OTUs\r"
       ]
      },
      {
       "output_type": "stream",
       "stream": "stdout",
       "text": [
        "00:40  91Mb   80.8% 5658 OTUs\r"
       ]
      },
      {
       "output_type": "stream",
       "stream": "stdout",
       "text": [
        "00:41  92Mb   82.7% 5707 OTUs\r"
       ]
      },
      {
       "output_type": "stream",
       "stream": "stdout",
       "text": [
        "00:42  93Mb   84.5% 5776 OTUs\r"
       ]
      },
      {
       "output_type": "stream",
       "stream": "stdout",
       "text": [
        "00:43  95Mb   86.5% 5835 OTUs\r"
       ]
      },
      {
       "output_type": "stream",
       "stream": "stdout",
       "text": [
        "00:44  96Mb   88.4% 5884 OTUs\r"
       ]
      },
      {
       "output_type": "stream",
       "stream": "stdout",
       "text": [
        "00:45  97Mb   90.3% 5936 OTUs\r"
       ]
      },
      {
       "output_type": "stream",
       "stream": "stdout",
       "text": [
        "00:46  99Mb   92.2% 5998 OTUs\r"
       ]
      },
      {
       "output_type": "stream",
       "stream": "stdout",
       "text": [
        "00:47 100Mb   94.1% 6072 OTUs\r"
       ]
      },
      {
       "output_type": "stream",
       "stream": "stdout",
       "text": [
        "00:48 101Mb   96.0% 6122 OTUs\r"
       ]
      },
      {
       "output_type": "stream",
       "stream": "stdout",
       "text": [
        "00:49 102Mb   97.9% 6172 OTUs\r"
       ]
      },
      {
       "output_type": "stream",
       "stream": "stdout",
       "text": [
        "00:50 104Mb   99.7% 6235 OTUs\r",
        "00:50 104Mb  100.0% 6236 OTUs\r",
        "\r\n",
        "                             \r\n",
        "Input seqs  46657 (46.7k)\r\n",
        "      OTUs  6236\r\n",
        "   Members  38319 (38.3k)\r\n",
        "  Chimeras  2102\r\n",
        "   Max mem  104Mb\r\n",
        "      Time  50.0s\r\n",
        "Throughput  933.1 seqs/sec.\r\n",
        "\r\n"
       ]
      }
     ],
     "prompt_number": 6
    },
    {
     "cell_type": "markdown",
     "metadata": {},
     "source": [
      "####Rename the OTU seeds."
     ]
    },
    {
     "cell_type": "code",
     "collapsed": false,
     "input": [
      "!bioawk -c fastx '{print \">\" \"OTU\" \".\" NR \"\\n\" $seq}' data/otus.fasta > data/otusn.fasta"
     ],
     "language": "python",
     "metadata": {},
     "outputs": [],
     "prompt_number": 11
    },
    {
     "cell_type": "code",
     "collapsed": false,
     "input": [
      "!head data/otusn.fasta"
     ],
     "language": "python",
     "metadata": {},
     "outputs": [
      {
       "output_type": "stream",
       "stream": "stdout",
       "text": [
        ">OTU.1\r\n",
        "GTAAAGAGCTCGTAGGCGGTTTGTCGCGTCTGCCGTGAAAGTCCGGGGCTCAACTCCGGATCTGCGGTGGGTACGGGCAGACTAGAGTGATGTAGGGGAGACTGGAATTCCTGGTGTAGCGGTGAAATGCGCAGATATCAGGAGGAACACCGATGGCGAAGGCAGGTCTCTGGGCATTAACTGACGCTGAGGAGCGAAAGCATGGGGAGCGAACAGGAT\r\n",
        ">OTU.2\r\n",
        "GTAAAGCgcgcgTAGGTGGTTTGTTAAGTTGGATGTGAAATCCCCGGGCTCAACCTGGGAACTGCATTCAAAACTGACAAGCTAGAGTATGGTAGAGGGTGGTGGAATTTCCTGTGTAGCGGTGAAATGCGTAGATATAGGAAGGAACACCAGTGGCGAAGGCGACCACCTGGACTGATACTGACACTGAGGTGCGAAAGCGTGGGGAGCAAACAGGAT\r\n",
        ">OTU.3\r\n",
        "GTAAAGCgcgcgcAGGTGGTTCCTTAAGTCTGATGTGAAAGCCCACGGCTCAACCGTGGAGGGTCATTGGAAACTGGGGAACTTGAGTGCAGAAGAGGAAAGTGGAATTCCAAGTGTAGCGGTGAAATGCGTAGAGATTTGGAGGAACACCAGTGGCGAAGGCGACTTTCTGGTCTGTAACTGACACTGAGGCGCGAAAGCGTGGGGAGCAAACAGGAT\r\n",
        ">OTU.4\r\n",
        "GTAAAGAGCTCGTAGGCGGTTTGTCACGTCTGCTGTGAAATCCCGAGGCTCAACCTCGGGCCTGCAGTGGGTACGGGCAGACTGGAGTGCGGTAGGGGAGAATGGAATTCCTGGTGTAGCGGTGGAATGCGCAGATATCAGGAGGAACACCGATGGCGAAGGCAGTTCTCTGGGCCGTAACTGACGCTGAGGAGCGAAAGCGTGGGGAGCGAACAGGAT\r\n",
        ">OTU.5\r\n",
        "GTAAAGCGTGCGCAGGCGGTTATGTAAGACAGATGTGAAATCCCCGGGCTCAACCTGGGAACTGCATTTGTGACTGCATGGCTAGAGTACGGTAGAGGgggATGGAATTCCGCGTGTAGCAGTGAAATGCGTAGATATGCGGAGGAACACCGATGGCGAAGGCAATCCCCTGGACCTGTACTGACGCTCATGCACGAAAGCGTGGGGAGCAAACAGGAT\r\n"
       ]
      }
     ],
     "prompt_number": 12
    },
    {
     "cell_type": "markdown",
     "metadata": {},
     "source": [
      "###Map reads to cluster seeds."
     ]
    },
    {
     "cell_type": "code",
     "collapsed": false,
     "input": [
      "!usearch -usearch_global data/finalQC.fasta \\\n",
      "-db data/otusn.fasta \\\n",
      "-strand plus -id 0.97 \\\n",
      "-uc data/readmap.uc \\\n",
      "-threads $nprocs"
     ],
     "language": "python",
     "metadata": {},
     "outputs": [
      {
       "output_type": "stream",
       "stream": "stdout",
       "text": [
        "usearch v7.0.1001_i86linux32, 4.0Gb RAM (16.4Gb total), 8 cores\r\n",
        "(C) Copyright 2013 Robert C. Edgar, all rights reserved.\r\n",
        "http://drive5.com\r\n",
        "\r\n",
        "Licensed to: chuck.peperanney@gmail.com\r\n",
        "\r\n"
       ]
      },
      {
       "output_type": "stream",
       "stream": "stdout",
       "text": [
        "00:00  19Mb Reading data/otusn.fasta, 1.4Mb\r\n",
        "00:00  20Mb 6236 seqs, min 218, avg 219, max 220nt\r\n",
        "00:00  20Mb    0.0% Masking\r"
       ]
      },
      {
       "output_type": "stream",
       "stream": "stdout",
       "text": [
        "00:00  20Mb  100.0% Masking\r",
        "\r\n",
        "00:00  21Mb    0.0% Word stats\r"
       ]
      },
      {
       "output_type": "stream",
       "stream": "stdout",
       "text": [
        "00:00  21Mb  100.0% Word stats\r",
        "\r\n",
        "00:00  22Mb    0.0% Building slots\r",
        "00:00  27Mb  100.0% Building slots\r",
        "\r\n",
        "00:00  27Mb    0.0% Build index   \r",
        "00:01  27Mb    4.8% Build index\r"
       ]
      },
      {
       "output_type": "stream",
       "stream": "stdout",
       "text": [
        "00:01  27Mb  100.0% Build index\r",
        "\r\n",
        "00:01  54Mb    0.1% Searching, 0.0% matched\r"
       ]
      },
      {
       "output_type": "stream",
       "stream": "stdout",
       "text": [
        "00:02  60Mb    4.7% Searching, 100.0% matched\r"
       ]
      },
      {
       "output_type": "stream",
       "stream": "stdout",
       "text": [
        "00:03  60Mb    8.6% Searching, 100.0% matched\r"
       ]
      },
      {
       "output_type": "stream",
       "stream": "stdout",
       "text": [
        "00:04  60Mb   12.7% Searching, 100.0% matched\r"
       ]
      },
      {
       "output_type": "stream",
       "stream": "stdout",
       "text": [
        "00:05  60Mb   16.8% Searching, 100.0% matched\r"
       ]
      },
      {
       "output_type": "stream",
       "stream": "stdout",
       "text": [
        "00:06  61Mb   21.1% Searching, 100.0% matched\r"
       ]
      },
      {
       "output_type": "stream",
       "stream": "stdout",
       "text": [
        "00:07  61Mb   25.9% Searching, 99.9% matched \r"
       ]
      },
      {
       "output_type": "stream",
       "stream": "stdout",
       "text": [
        "00:08  61Mb   30.7% Searching, 99.9% matched\r"
       ]
      },
      {
       "output_type": "stream",
       "stream": "stdout",
       "text": [
        "00:09  61Mb   35.4% Searching, 99.8% matched\r"
       ]
      },
      {
       "output_type": "stream",
       "stream": "stdout",
       "text": [
        "00:10  61Mb   40.3% Searching, 99.7% matched\r"
       ]
      },
      {
       "output_type": "stream",
       "stream": "stdout",
       "text": [
        "00:11  61Mb   44.5% Searching, 99.7% matched\r"
       ]
      },
      {
       "output_type": "stream",
       "stream": "stdout",
       "text": [
        "00:12  61Mb   48.5% Searching, 99.6% matched\r"
       ]
      },
      {
       "output_type": "stream",
       "stream": "stdout",
       "text": [
        "00:13  61Mb   53.3% Searching, 99.6% matched\r"
       ]
      },
      {
       "output_type": "stream",
       "stream": "stdout",
       "text": [
        "00:14  61Mb   57.8% Searching, 99.5% matched\r"
       ]
      },
      {
       "output_type": "stream",
       "stream": "stdout",
       "text": [
        "00:15  61Mb   62.0% Searching, 99.4% matched\r"
       ]
      },
      {
       "output_type": "stream",
       "stream": "stdout",
       "text": [
        "00:16  61Mb   66.3% Searching, 99.3% matched\r"
       ]
      },
      {
       "output_type": "stream",
       "stream": "stdout",
       "text": [
        "00:17  61Mb   70.8% Searching, 99.2% matched\r"
       ]
      },
      {
       "output_type": "stream",
       "stream": "stdout",
       "text": [
        "00:18  61Mb   75.7% Searching, 99.1% matched\r"
       ]
      },
      {
       "output_type": "stream",
       "stream": "stdout",
       "text": [
        "00:19  61Mb   79.7% Searching, 98.9% matched\r"
       ]
      },
      {
       "output_type": "stream",
       "stream": "stdout",
       "text": [
        "00:20  61Mb   83.3% Searching, 98.7% matched\r"
       ]
      },
      {
       "output_type": "stream",
       "stream": "stdout",
       "text": [
        "00:21  61Mb   86.9% Searching, 98.3% matched\r"
       ]
      },
      {
       "output_type": "stream",
       "stream": "stdout",
       "text": [
        "00:22  61Mb   90.9% Searching, 97.9% matched\r"
       ]
      },
      {
       "output_type": "stream",
       "stream": "stdout",
       "text": [
        "00:23  61Mb   92.4% Searching, 97.8% matched\r"
       ]
      },
      {
       "output_type": "stream",
       "stream": "stdout",
       "text": [
        "00:24  61Mb   96.0% Searching, 97.5% matched\r"
       ]
      },
      {
       "output_type": "stream",
       "stream": "stdout",
       "text": [
        "00:25  61Mb   99.8% Searching, 97.1% matched\r",
        "00:25  61Mb  100.0% Searching, 97.1% matched\r",
        "\r\n"
       ]
      }
     ],
     "prompt_number": 14
    },
    {
     "cell_type": "markdown",
     "metadata": {},
     "source": [
      "###Convert the readmap to a QIIME formated OTU map."
     ]
    },
    {
     "cell_type": "code",
     "collapsed": false,
     "input": [
      "OTU_dict, unassigned_reads = clusters_from_blast_uc_file(open(\"data/readmap.uc\"), otu_id_field=9)"
     ],
     "language": "python",
     "metadata": {},
     "outputs": [],
     "prompt_number": 16
    },
    {
     "cell_type": "code",
     "collapsed": false,
     "input": [
      "with open(\"data/otu_map.txt\", \"w\") as out:\n",
      "    for otu in OTU_dict:\n",
      "        line = \"%s\\t%s\\n\"%(otu, \"\\t\".join(OTU_dict[otu]))\n",
      "        out.write(line)"
     ],
     "language": "python",
     "metadata": {},
     "outputs": [],
     "prompt_number": 31
    },
    {
     "cell_type": "code",
     "collapsed": false,
     "input": [
      "!make_otu_table.py -i data/otu_map.txt -o data/otu_table.biom"
     ],
     "language": "python",
     "metadata": {},
     "outputs": [],
     "prompt_number": 32
    },
    {
     "cell_type": "markdown",
     "metadata": {},
     "source": [
      "###Get a summary of the OTU table stats."
     ]
    },
    {
     "cell_type": "code",
     "collapsed": false,
     "input": [
      "!if [ -f data/otu_table_summary.txt ]; then rm data/otu_table_summary.txt; fi #This is to mitigate a biom bug\n",
      "!biom summarize-table -i data/otu_table.biom -o data/otu_table_summary.txt"
     ],
     "language": "python",
     "metadata": {},
     "outputs": [],
     "prompt_number": 33
    },
    {
     "cell_type": "code",
     "collapsed": false,
     "input": [
      "!cat data/tmp/otu_table_summary.txt"
     ],
     "language": "python",
     "metadata": {},
     "outputs": [
      {
       "output_type": "stream",
       "stream": "stdout",
       "text": [
        "Num samples: 352\r\n",
        "Num observations: 6236\r\n",
        "Total count: 1336632\r\n",
        "Table density (fraction of non-zero values): 0.132\r\n",
        "Table md5 (unzipped): 59a91657d76d3a76eb36328822fb2302\r\n",
        "\r\n",
        "Counts/sample summary:\r\n",
        " Min: 222.0\r\n",
        " Max: 41583.0\r\n",
        " Median: 3515.000\r\n",
        " Mean: 3797.250\r\n",
        " Std. dev.: 3342.117\r\n",
        " Sample Metadata Categories: None provided\r\n",
        " Observation Metadata Categories: None provided\r\n",
        "\r\n",
        "Counts/sample detail:\r\n",
        " 13C.PS.3.12: 222.0\r\n",
        " 13X.PS.30.28: 231.0\r\n",
        " 13X.PS.14.27: 241.0\r\n",
        " 13X.PS.30.14: 244.0\r\n",
        " 13X.PS.14.20: 553.0\r\n",
        " 13X.PS.30.12: 576.0\r\n",
        " 13X.PS.30.19: 680.0\r\n",
        " 13X.PS.14.10: 694.0\r\n",
        " 13X.PS.14.28: 698.0\r\n",
        " 13X.PS.30.26: 721.0\r\n",
        " 13X.PS.30.10: 728.0\r\n",
        " 13X.PS.30.15: 748.0\r\n",
        " 13X.PS.30.17: 787.0\r\n",
        " 13X.PS.14.26: 800.0\r\n",
        " cont.SS.7.22: 808.0\r\n",
        " 13X.PS.30.16: 809.0\r\n",
        " 13X.PS.14.18: 819.0\r\n",
        " 13X.PS.14.25: 841.0\r\n",
        " cont.SS.7.26: 864.0\r\n",
        " 13X.PS.14.24: 880.0\r\n",
        " 13X.PS.14.11: 892.0\r\n",
        " 13X.PS.30.13: 900.0\r\n",
        " 13X.PS.30.23: 916.0\r\n",
        " 13C.PS.7.7: 917.0\r\n",
        " 13X.PS.14.23: 948.0\r\n",
        " 13X.PS.14.22: 955.0\r\n",
        " 13X.PS.30.18: 1001.0\r\n",
        " 13C.PS.14.24: 1076.0\r\n",
        " 13X.PS.30.24: 1078.0\r\n",
        " 13X.PS.14.29: 1087.0\r\n",
        " 13X.PS.30.21: 1123.0\r\n",
        " 13X.PS.14.14: 1183.0\r\n",
        " 13C.PS.7.11: 1235.0\r\n",
        " 13X.PS.14.16: 1244.0\r\n",
        " 13X.PS.14.12: 1258.0\r\n",
        " 13C.PS.7.8: 1373.0\r\n",
        " 13C.PS.3.15: 1395.0\r\n",
        " 13X.PS.14.21: 1449.0\r\n",
        " 13C.PS.7.13: 1466.0\r\n",
        " 13X.PS.30.22: 1472.0\r\n",
        " 13X.PS.30.9: 1472.0\r\n",
        " cont.SS.7.25: 1480.0\r\n",
        " cont.SS.7.23: 1480.0\r\n",
        " 13C.PS.3.20: 1494.0\r\n",
        " 13C.PS.3.29: 1494.0\r\n",
        " cont.PS.3.25: 1510.0\r\n",
        " 13C.PS.14.19: 1536.0\r\n",
        " 13X.PS.30.25: 1545.0\r\n",
        " 13C.PS.30.5: 1598.0\r\n",
        " 13C.PS.7.10: 1602.0\r\n",
        " 13X.PS.14.15: 1619.0\r\n",
        " 13C.PS.3.26: 1626.0\r\n",
        " 13C.PS.30.21: 1642.0\r\n",
        " 13X.PS.30.11: 1680.0\r\n",
        " 13C.PS.3.28: 1684.0\r\n",
        " cont.PS.1.30: 1697.0\r\n",
        " cont.PS.1.31: 1783.0\r\n",
        " 13C.PS.3.19: 1785.0\r\n",
        " 13C.PS.30.22: 1811.0\r\n",
        " 13C.PS.14.20: 1813.0\r\n",
        " 13C.PS.30.23: 1868.0\r\n",
        " 13C.PS.3.13: 1868.0\r\n",
        " 13C.PS.3.21: 1919.0\r\n",
        " cont.PS.30.25: 1923.0\r\n",
        " cont.SS.30.29: 1950.0\r\n",
        " 13C.PS.3.17: 1969.0\r\n",
        " 13X.PS.3.13: 1978.0\r\n",
        " 13X.PS.3.3: 1986.0\r\n",
        " 13X.PS.7.4: 2002.0\r\n",
        " 13C.PS.3.33: 2013.0\r\n",
        " cont.PS.3.11: 2038.0\r\n",
        " cont.SS.30.27: 2064.0\r\n",
        " 13C.PS.30.14: 2068.0\r\n",
        " 13C.PS.3.31: 2097.0\r\n",
        " 13C.PS.3.34: 2115.0\r\n",
        " cont.SS.30.6: 2136.0\r\n",
        " cont.PS.30.11: 2142.0\r\n",
        " 13C.PS.3.14: 2147.0\r\n",
        " 13X.PS.7.8: 2158.0\r\n",
        " cont.PS.3.24: 2160.0\r\n",
        " cont.SS.30.13: 2199.0\r\n",
        " cont.SS.30.bulk: 2211.0\r\n",
        " 13C.PS.14.18: 2232.0\r\n",
        " 13C.PS.3.32: 2283.0\r\n",
        " cont.SS.7.21: 2288.0\r\n",
        " 13C.SS.30.bulk: 2300.0\r\n",
        " cont.PS.3.10: 2308.0\r\n",
        " 13C.PS.14.5: 2324.0\r\n",
        " cont.PS.3.12: 2333.0\r\n",
        " 13C.PS.14.21: 2352.0\r\n",
        " cont.PS.30.18: 2361.0\r\n",
        " cont.PS.30.15: 2385.0\r\n",
        " 13C.PS.14.13: 2397.0\r\n",
        " cont.PS.1.14: 2428.0\r\n",
        " 13C.PS.3.27: 2428.0\r\n",
        " cont.SS.30.17: 2449.0\r\n",
        " cont.SS.7.18: 2452.0\r\n",
        " cont.PS.30.12: 2463.0\r\n",
        " 13C.PS.30.bulk: 2464.0\r\n",
        " 13C.PS.14.14: 2468.0\r\n",
        " 13C.PS.14.9: 2478.0\r\n",
        " 13C.PS.30.18: 2490.0\r\n",
        " 13C.PS.30.20: 2503.0\r\n",
        " cont.PS.30.24: 2512.0\r\n",
        " cont.PS.30.16: 2545.0\r\n",
        " 13C.PS.3.22: 2545.0\r\n",
        " cont.PS.3.23: 2554.0\r\n",
        " cont.SS.30.24: 2557.0\r\n",
        " 13C.PS.30.12: 2559.0\r\n",
        " cont.PS.1.18: 2566.0\r\n",
        " cont.SS.30.14: 2577.0\r\n",
        " 13C.PS.3.24: 2578.0\r\n",
        " 13C.PS.30.17: 2588.0\r\n",
        " cont.PS.30.22: 2600.0\r\n",
        " cont.SS.7.19: 2604.0\r\n",
        " cont.SS.30.28: 2624.0\r\n",
        " 13X.PS.14.13: 2641.0\r\n",
        " cont.PS.3.20: 2653.0\r\n",
        " cont.SS.30.10: 2658.0\r\n",
        " 13C.PS.14.22: 2670.0\r\n",
        " cont.PS.3.22: 2681.0\r\n",
        " 13X.PS.7.19: 2692.0\r\n",
        " 13C.PS.30.15: 2702.0\r\n",
        " cont.PS.3.17: 2702.0\r\n",
        " cont.SS.7.13: 2705.0\r\n",
        " 13C.PS.7.14: 2717.0\r\n",
        " cont.PS.3.8: 2735.0\r\n",
        " cont.SS.30.23: 2756.0\r\n",
        " cont.PS.1.24: 2762.0\r\n",
        " cont.SS.7.24: 2764.0\r\n",
        " 13X.PS.3.20: 2772.0\r\n",
        " 13C.PS.30.10: 2773.0\r\n",
        " 13C.PS.14.17: 2796.0\r\n",
        " 13C.PS.14.15: 2820.0\r\n",
        " 13C.PS.30.19: 2828.0\r\n",
        " cont.PS.1.bulk: 2865.0\r\n",
        " cont.PS.30.14: 2897.0\r\n",
        " cont.SS.30.15: 2906.0\r\n",
        " cont.PS.14.20: 2910.0\r\n",
        " cont.PS.30.19: 2914.0\r\n",
        " 13X.PS.14.17: 2917.0\r\n",
        " 13C.PS.14.8: 2988.0\r\n",
        " 13C.PS.3.25: 3001.0\r\n",
        " cont.PS.3.14: 3002.0\r\n",
        " cont.PS.1.23: 3002.0\r\n",
        " cont.PS.14.12: 3010.0\r\n",
        " 13C.SS.30.14: 3099.0\r\n",
        " 13C.SS.30.22: 3115.0\r\n",
        " 13C.PS.7.20: 3139.0\r\n",
        " cont.SS.30.25: 3154.0\r\n",
        " cont.PS.14.22: 3157.0\r\n",
        " cont.PS.3.bulk: 3179.0\r\n",
        " 13C.PS.3.23: 3181.0\r\n",
        " cont.PS.3.21: 3214.0\r\n",
        " 13C.SS.30.25: 3216.0\r\n",
        " cont.PS.1.26: 3223.0\r\n",
        " 13C.PS.14.12: 3229.0\r\n",
        " 13X.PS.3.16: 3237.0\r\n",
        " 13C.SS.30.11: 3242.0\r\n",
        " cont.SS.7.20: 3265.0\r\n",
        " 13C.PS.30.24: 3266.0\r\n",
        " 13C.SS.30.21: 3293.0\r\n",
        " cont.SS.7.15: 3337.0\r\n",
        " 13C.PS.7.26: 3355.0\r\n",
        " 13C.PS.7.12: 3364.0\r\n",
        " cont.PS.30.6: 3367.0\r\n",
        " 13C.PS.7.27: 3409.0\r\n",
        " 13X.PS.7.7: 3410.0\r\n",
        " 13C.SS.30.13: 3426.0\r\n",
        " 13X.PS.1.bulk: 3427.0\r\n",
        " 13C.PS.7.19: 3441.0\r\n",
        " cont.PS.7.25: 3444.0\r\n",
        " cont.PS.14.24: 3457.0\r\n",
        " cont.PS.14.21: 3473.0\r\n",
        " cont.PS.30.20: 3507.0\r\n",
        " cont.PS.3.9: 3513.0\r\n",
        " 13C.PS.7.21: 3517.0\r\n",
        " cont.SS.30.26: 3529.0\r\n",
        " 13C.PS.7.25: 3538.0\r\n",
        " 13C.PS.30.16: 3539.0\r\n",
        " cont.SS.7.14: 3558.0\r\n",
        " cont.PS.14.23: 3569.0\r\n",
        " cont.PS.7.15: 3584.0\r\n",
        " 13C.PS.7.16: 3611.0\r\n",
        " 13X.PS.1.15: 3636.0\r\n",
        " cont.SS.30.16: 3642.0\r\n",
        " 13X.PS.7.15: 3643.0\r\n",
        " 13C.PS.7.bulk: 3670.0\r\n",
        " cont.SS.7.bulk: 3705.0\r\n",
        " cont.SS.7.12: 3735.0\r\n",
        " 13C.PS.7.22: 3742.0\r\n",
        " cont.PS.1.13: 3760.0\r\n",
        " 13C.PS.30.11: 3763.0\r\n",
        " 13C.PS.7.24: 3774.0\r\n",
        " 13X.PS.1.5: 3809.0\r\n",
        " cont.PS.30.17: 3818.0\r\n",
        " cont.PS.14.10: 3819.0\r\n",
        " cont.PS.1.25: 3838.0\r\n",
        " cont.SS.7.10: 3853.0\r\n",
        " 13X.PS.1.13: 3866.0\r\n",
        " cont.PS.14.19: 3888.0\r\n",
        " cont.PS.7.17: 3904.0\r\n",
        " cont.PS.7.13: 3918.0\r\n",
        " 13X.PS.1.16: 3964.0\r\n",
        " cont.PS.14.25: 3965.0\r\n",
        " cont.PS.7.23: 3978.0\r\n",
        " cont.PS.30.bulk: 3993.0\r\n",
        " 13X.PS.3.17: 3995.0\r\n",
        " 13C.PS.7.15: 4001.0\r\n",
        " cont.PS.1.11: 4008.0\r\n",
        " 13X.PS.7.14: 4012.0\r\n",
        " cont.PS.7.14: 4024.0\r\n",
        " cont.PS.14.9: 4029.0\r\n",
        " cont.PS.7.26: 4067.0\r\n",
        " 13C.SS.30.15: 4080.0\r\n",
        " 13X.PS.30.20: 4081.0\r\n",
        " 13X.PS.3.5: 4103.0\r\n",
        " cont.PS.7.22: 4115.0\r\n",
        " cont.PS.1.15: 4121.0\r\n",
        " cont.SS.7.8: 4122.0\r\n",
        " cont.PS.14.13: 4126.0\r\n",
        " cont.PS.14.11: 4126.0\r\n",
        " 13C.PS.7.23: 4157.0\r\n",
        " 13X.PS.7.13: 4179.0\r\n",
        " 13C.SS.30.16: 4254.0\r\n",
        " 13X.PS.1.3: 4259.0\r\n",
        " cont.PS.14.7: 4274.0\r\n",
        " cont.PS.3.13: 4281.0\r\n",
        " 13X.PS.1.9: 4298.0\r\n",
        " cont.SS.7.9: 4298.0\r\n",
        " cont.PS.30.9: 4312.0\r\n",
        " 13X.PS.3.19: 4327.0\r\n",
        " 13X.PS.1.6: 4328.0\r\n",
        " 13C.PS.14.bulk: 4346.0\r\n",
        " 13X.PS.3.4: 4356.0\r\n",
        " 13X.PS.1.4: 4368.0\r\n",
        " 13X.PS.7.18: 4373.0\r\n",
        " cont.PS.7.27: 4414.0\r\n",
        " 13X.PS.1.10: 4421.0\r\n",
        " 13C.PS.14.23: 4425.0\r\n",
        " cont.PS.7.16: 4429.0\r\n",
        " cont.SS.7.11: 4432.0\r\n",
        " 13X.PS.3.bulk: 4440.0\r\n",
        " 13C.SS.30.6: 4451.0\r\n",
        " cont.PS.3.19: 4472.0\r\n",
        " cont.PS.14.15: 4473.0\r\n",
        " 13X.PS.7.10: 4486.0\r\n",
        " cont.PS.14.14: 4504.0\r\n",
        " cont.SS.7.7: 4508.0\r\n",
        " 13C.SS.30.8: 4534.0\r\n",
        " cont.SS.30.9: 4540.0\r\n",
        " 13X.PS.30.bulk: 4567.0\r\n",
        " cont.SS.30.8: 4583.0\r\n",
        " 13X.PS.1.11: 4585.0\r\n",
        " cont.PS.30.21: 4593.0\r\n",
        " cont.PS.7.20: 4597.0\r\n",
        " 13X.PS.14.bulk: 4613.0\r\n",
        " 13C.PS.30.13: 4636.0\r\n",
        " cont.PS.7.24: 4639.0\r\n",
        " 13X.PS.3.2: 4642.0\r\n",
        " 13C.PS.3.16: 4650.0\r\n",
        " 13X.PS.3.18: 4664.0\r\n",
        " 13X.PS.3.9: 4683.0\r\n",
        " cont.SS.30.20: 4699.0\r\n",
        " 13X.PS.7.23: 4700.0\r\n",
        " 13X.PS.7.6: 4718.0\r\n",
        " cont.PS.7.12: 4726.0\r\n",
        " 13C.SS.30.7: 4733.0\r\n",
        " 13C.PS.3.bulk: 4733.0\r\n",
        " cont.PS.14.8: 4742.0\r\n",
        " 13C.PS.14.16: 4743.0\r\n",
        " 13X.PS.7.22: 4750.0\r\n",
        " 13X.PS.7.9: 4777.0\r\n",
        " cont.PS.14.6: 4787.0\r\n",
        " 13X.PS.3.11: 4796.0\r\n",
        " 13C.PS.14.7: 4796.0\r\n",
        " 13X.PS.3.8: 4838.0\r\n",
        " cont.PS.7.7: 4860.0\r\n",
        " 13X.PS.7.bulk: 4865.0\r\n",
        " 13X.PS.3.21: 4898.0\r\n",
        " 13C.SS.30.9: 4920.0\r\n",
        " cont.PS.3.16: 4928.0\r\n",
        " 13C.PS.14.11: 4953.0\r\n",
        " 13X.PS.7.5: 4969.0\r\n",
        " 13X.PS.7.21: 4987.0\r\n",
        " 13X.PS.1.8: 5015.0\r\n",
        " 13C.SS.30.17: 5023.0\r\n",
        " 13X.PS.1.14: 5030.0\r\n",
        " 13C.SS.30.10: 5034.0\r\n",
        " 13X.PS.1.19: 5043.0\r\n",
        " 13X.PS.3.10: 5081.0\r\n",
        " 13X.PS.3.15: 5101.0\r\n",
        " cont.PS.7.18: 5102.0\r\n",
        " 13C.PS.30.9: 5105.0\r\n",
        " cont.SS.30.21: 5113.0\r\n",
        " 13X.PS.3.12: 5132.0\r\n",
        " cont.PS.14.18: 5176.0\r\n",
        " cont.PS.14.17: 5180.0\r\n",
        " 13C.PS.30.8: 5215.0\r\n",
        " 13X.PS.1.17: 5223.0\r\n",
        " 13C.SS.30.23: 5258.0\r\n",
        " cont.PS.1.16: 5258.0\r\n",
        " 13X.PS.3.14: 5293.0\r\n",
        " 13X.PS.1.18: 5295.0\r\n",
        " cont.PS.7.21: 5297.0\r\n",
        " 13X.PS.7.20: 5304.0\r\n",
        " 13C.SS.30.18: 5306.0\r\n",
        " cont.PS.30.13: 5396.0\r\n",
        " 13C.SS.30.5: 5403.0\r\n",
        " 13X.PS.1.20: 5413.0\r\n",
        " cont.SS.30.22: 5427.0\r\n",
        " 13C.SS.30.19: 5449.0\r\n",
        " 13X.PS.1.7: 5486.0\r\n",
        " cont.PS.1.17: 5501.0\r\n",
        " 13C.PS.14.6: 5503.0\r\n",
        " 13X.PS.1.12: 5605.0\r\n",
        " 13X.PS.1.2: 5704.0\r\n",
        " cont.SS.30.18: 5720.0\r\n",
        " cont.PS.1.20: 5780.0\r\n",
        " 13X.PS.7.12: 5845.0\r\n",
        " cont.PS.14.16: 5908.0\r\n",
        " cont.PS.7.10: 5938.0\r\n",
        " 13C.PS.7.17: 5973.0\r\n",
        " cont.PS.30.10: 6003.0\r\n",
        " 13X.PS.7.16: 6044.0\r\n",
        " cont.PS.7.9: 6092.0\r\n",
        " 13C.PS.30.6: 6108.0\r\n",
        " cont.PS.1.28: 6203.0\r\n",
        " 13C.SS.30.24: 6231.0\r\n",
        " 13X.PS.3.7: 6302.0\r\n",
        " cont.PS.1.19: 6368.0\r\n",
        " 13X.PS.7.11: 6423.0\r\n",
        " 13X.PS.3.6: 6472.0\r\n",
        " cont.SS.7.17: 6480.0\r\n",
        " 13X.PS.1.21: 6553.0\r\n",
        " cont.PS.1.27: 6664.0\r\n",
        " cont.PS.3.18: 6851.0\r\n",
        " cont.SS.7.16: 6879.0\r\n",
        " cont.PS.30.23: 6913.0\r\n",
        " cont.PS.1.29: 6924.0\r\n",
        " cont.PS.3.15: 7316.0\r\n",
        " 13C.PS.30.7: 7366.0\r\n",
        " 13C.SS.30.20: 8469.0\r\n",
        " 13C.PS.14.10: 8754.0\r\n",
        " cont.PS.1.22: 8763.0\r\n",
        " cont.PS.30.7: 9041.0\r\n",
        " cont.PS.1.21: 9713.0\r\n",
        " cont.PS.30.8: 11866.0\r\n",
        " cont.PS.7.28: 12394.0\r\n",
        " 13C.PS.7.18: 13315.0\r\n",
        " cont.PS.3.7: 39213.0\r\n",
        " cont.PS.3.6: 41583.0\r\n"
       ]
      }
     ],
     "prompt_number": 34
    },
    {
     "cell_type": "code",
     "collapsed": false,
     "input": [],
     "language": "python",
     "metadata": {},
     "outputs": [],
     "prompt_number": 14
    }
   ],
   "metadata": {}
  }
 ]
}